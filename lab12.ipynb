{
 "cells": [
  {
   "cell_type": "markdown",
   "metadata": {},
   "source": [
    "# Lab 12 – Hyperparameter tuning\n",
    "\n",
    "Name 1: Anh Kieu  \n",
    "Class: CSCI 349 - Intro to Data Mining  \n",
    "Semester: Spring 2021  \n",
    "Instructor: Brian King  "
   ]
  },
  {
   "cell_type": "markdown",
   "metadata": {},
   "source": [
    "# Objectives\n",
    "\n",
    "This lab will introduce the student to understanding hyperparameters, and getting a sense of how to tune them. Specifically, the objectives are as follows:\n",
    "\n",
    "- Understand the impact of hyperparameters with model induction and performance\n",
    "- Learn to use the GridSearchCV class to find good parameters for your model\n",
    "\n",
    "--- \n",
    "# Background\n",
    "You were introduced to Keras deep learning framework in the last lab. You also learned how to use the Keras wrapper class, KerasClassifier, so that you could continue to use the wonderful scikit-learn framework for data mining and machine learning, leveraging Keras within the environment you know. You also learned that there are an enormous number of parameters to consider to get a good result! Yeah, you could do it manually by creating multiple loops to evaluate different model parameters, or you could use the scikit-learn's framework to do this.\n",
    "\n",
    "## What is hyperparameter tuning\n",
    "The real focus of this lab is to learn how to use the `scikit-learn` framework to assist you with hyperparameter tuning.  Every machine learning model has parameters that control model induction. They are generally referred to hyperparamters, and you need to optimize them for your given problem. The parameters usually come down to figuring out how to control the complexity of your model such that it is able to learn from your data, but not overfit. (Recall our bias vs. variance tradeoff discussion!) Understanding this is critical. Understanding how to address it is even better, and is an important skill to learn. You will in this lab.\n",
    "\n",
    "Generally, there are two approaches you can take to hyperparameter tuning. You could write an enormous number of loops yourself to track the model parameters you are experimenting with and keep track of the model performances coming from each parameter set. Or, you can use a grid search framework to search for the parameters. That's the purpose of `scikit-learn`'s `GridSearchCV` class.\n",
    "\n",
    ">WARNING: Hyperparameter tuning can use a LOT of computational resources, both CPU and memory! Depending on how you set up your test, and the complexity of the model being evaluated, you could be waiting days for a result! So, ALWAYS start with a simple setup (small data sample, limited number of parameters to test) before you run an exhaustive grid search for your optimal parameters!\n",
    "\n",
    "## Preparing for this lab\n",
    "\n",
    "Some of this lab is modeled after some code given in a few different web sites, and you might get more out of the lab by taking a few minutes to skim through these pages, just to understand the framework you are going to be using to perform a grid-search for optimal hyperparameters. You might even want to just keep these pages open in your browser.\n",
    "\n",
    "- First, the most important page you'll need is the reference to GridSearchCV: \n",
    "    - https://scikit-learn.org/stable/modules/generated/sklearn.model_selection.GridSearchCV.html\n",
    "- The best example code can be found right on the scikit-learn site:\n",
    "    - https://scikit-learn.org/stable/auto_examples/model_selection/plot_grid_search_digits.html  \n",
    "- The user guide has an exhaustive writeup covering the topic of hyper-parameter tuning. This has a *lot* of good information, some of which is far more advanced than anything you need at this time:\n",
    "    - https://scikit-learn.org/stable/modules/grid_search.html\n",
    "- The following page illustrates a bit simpler code to get you started, however, note that it uses the `Sequential` model, vs. using the *Functional API*:\n",
    "    - https://machinelearningmastery.com/use-keras-deep-learning-models-scikit-learn-python/. \n",
    "\n",
    "That's it!"
   ]
  },
  {
   "cell_type": "code",
   "execution_count": 1,
   "metadata": {},
   "outputs": [],
   "source": [
    "# This magic command just allows the autocomplete <TAB> \n",
    "# feature to work properly.\n",
    "%config Completer.use_jedi = False"
   ]
  },
  {
   "cell_type": "code",
   "execution_count": 2,
   "metadata": {},
   "outputs": [],
   "source": [
    "import numpy as np\n",
    "import pandas as pd\n",
    "import seaborn as sns\n",
    "import matplotlib.pyplot as plt\n",
    "from sklearn.model_selection import train_test_split, KFold\n",
    "from sklearn.utils import shuffle\n",
    "from sklearn.metrics import classification_report, confusion_matrix\n",
    "from sklearn.model_selection import cross_validate, cross_val_predict\n",
    "from sklearn.model_selection import GridSearchCV\n",
    "\n",
    "from sklearn.preprocessing import StandardScaler\n",
    "from sklearn.tree import DecisionTreeClassifier\n",
    "\n",
    "#import tensorflow as tf\n",
    "#from tensorflow import keras\n",
    "import keras\n",
    "# from keras.wrappers.scikit_learn import KerasClassifier\n",
    "from scikeras.wrappers import KerasClassifier\n",
    "from keras.models import Input, Model\n",
    "from keras.layers.core import Dense, Activation\n",
    "from keras.optimizers import Adam"
   ]
  },
  {
   "cell_type": "code",
   "execution_count": 3,
   "metadata": {},
   "outputs": [],
   "source": [
    "# print(tf.__version__)"
   ]
  },
  {
   "cell_type": "code",
   "execution_count": 4,
   "metadata": {},
   "outputs": [
    {
     "name": "stdout",
     "output_type": "stream",
     "text": [
      "2.4.3\n"
     ]
    }
   ],
   "source": [
    "print(keras.__version__)"
   ]
  },
  {
   "cell_type": "markdown",
   "metadata": {},
   "source": [
    "***\n",
    "# The classic Wine dataset\n",
    "There have been *many* datasets appearing over the past 15 years or so that attempt to try and capture numerous objective measures to characterize wine. An often-used dataset for classification exercises is the infamous wine dataset from the early 1990s. Not quite as popular as iris, but pretty close. It's a bit more complex than iris, with 13 variables and 1 target multi-class variable, an no model has obtained near 100% accuracy on validation. However, we can usually get in the mid 90s on the best models.\n",
    "\n",
    "### Reading in the wine data\n",
    "\n",
    "Open the following page:\n",
    "* https://archive.ics.uci.edu/ml/datasets/wine \n",
    "\n",
    "This page will give you the data and the information you need to start this lab.  (If you prefer, it is also one of the built-in datasets available in `sklearn.datasets` package (see https://scikit-learn.org/stable/modules/generated/sklearn.datasets.load_wine.html ). Either way, you need to first convert this to a pandas data frame. \n",
    "\n",
    "The following code will read in the data from the UCI machine learning site, as a data frame in its raw form:\n",
    "\n",
    "```\n",
    "names = [\"target\",\"alcohol\",\"malic_acid\",\"ash\",\"alcalinity\",\"Mg\",\"tot_phenols\",\"flavanoids\",\n",
    "         \"non_flav_phenols\",\"proanthocyanins\",\"color_intensity\",\n",
    "         \"hue\",\"OD\",\"proline\"]\n",
    "\n",
    "df_wine = pd.read_csv('https://archive.ics.uci.edu/ml/machine-learning-databases/wine/wine.data',header=None,names=names)\n",
    "```\n",
    "\n",
    "This is the first lab that is provided as an unanswered .ipynb file to help you focus on the work and not get caught up in dealing with formatting. You've got the formatting down, so focus on really absorbing this material. This lab is a culminating experience that represents the type of analyses you will do if you do this in \"the real world.\" And likewise, this is a bit more \"hands off\" than the previous lab was. On the bright side, I chose a dataset that has  many, many published examples already that demonstrate reading and modeling these exact data.\n",
    "\n",
    ">NOTE: As usual, with all of the popular datasets, there are many examples available online that can help you understand the data, clean the data, generate EDA plots to understand the distributions, etc. I encourage you to search for code to generate some reasonable plots with these data! (And, include all URLs that you use!)"
   ]
  },
  {
   "cell_type": "markdown",
   "metadata": {},
   "source": [
    "***\n",
    "**1)** Read in the wine data frame using the code given above. It also gives you the names of the variables, which should be the same as the data information given on the UCI web page. Store your result as `df_wine`."
   ]
  },
  {
   "cell_type": "code",
   "execution_count": 5,
   "metadata": {},
   "outputs": [],
   "source": [
    "names = [\"target\",\"alcohol\",\"malic_acid\",\"ash\",\"alcalinity\",\"Mg\",\"tot_phenols\",\"flavanoids\",\n",
    "         \"non_flav_phenols\",\"proanthocyanins\",\"color_intensity\",\n",
    "         \"hue\",\"OD\",\"proline\"]\n",
    "df_wine = pd.read_csv('https://archive.ics.uci.edu/ml/machine-learning-databases/wine/wine.data',header=None,names=names)"
   ]
  },
  {
   "cell_type": "markdown",
   "metadata": {},
   "source": [
    "***\n",
    "**2)** Prepare your data. Over multiple code cells, minimally, you should be reporting:\n",
    "-\t`shape`, `info()`, etc\n",
    "-\tCast the type of each variables into its most correct type, paying special attention to the target class (which for these data sis called `target`, and should be a categorical variable). Fortunately, these are already going to read in mostly correct.\n",
    "-\tReport on any missing data. (There shouldn't be any.)\n",
    "-\tShow the `head()` of the data frame\n",
    "\n"
   ]
  },
  {
   "cell_type": "markdown",
   "metadata": {},
   "source": [
    "##### Basic report:"
   ]
  },
  {
   "cell_type": "code",
   "execution_count": 6,
   "metadata": {},
   "outputs": [
    {
     "data": {
      "text/plain": [
       "(178, 14)"
      ]
     },
     "execution_count": 6,
     "metadata": {},
     "output_type": "execute_result"
    }
   ],
   "source": [
    "df_wine.shape"
   ]
  },
  {
   "cell_type": "code",
   "execution_count": 7,
   "metadata": {},
   "outputs": [
    {
     "name": "stdout",
     "output_type": "stream",
     "text": [
      "<class 'pandas.core.frame.DataFrame'>\n",
      "RangeIndex: 178 entries, 0 to 177\n",
      "Data columns (total 14 columns):\n",
      " #   Column            Non-Null Count  Dtype  \n",
      "---  ------            --------------  -----  \n",
      " 0   target            178 non-null    int64  \n",
      " 1   alcohol           178 non-null    float64\n",
      " 2   malic_acid        178 non-null    float64\n",
      " 3   ash               178 non-null    float64\n",
      " 4   alcalinity        178 non-null    float64\n",
      " 5   Mg                178 non-null    int64  \n",
      " 6   tot_phenols       178 non-null    float64\n",
      " 7   flavanoids        178 non-null    float64\n",
      " 8   non_flav_phenols  178 non-null    float64\n",
      " 9   proanthocyanins   178 non-null    float64\n",
      " 10  color_intensity   178 non-null    float64\n",
      " 11  hue               178 non-null    float64\n",
      " 12  OD                178 non-null    float64\n",
      " 13  proline           178 non-null    int64  \n",
      "dtypes: float64(11), int64(3)\n",
      "memory usage: 19.6 KB\n"
     ]
    }
   ],
   "source": [
    "df_wine.info()"
   ]
  },
  {
   "cell_type": "markdown",
   "metadata": {},
   "source": [
    "##### Casting variables:"
   ]
  },
  {
   "cell_type": "code",
   "execution_count": 8,
   "metadata": {},
   "outputs": [],
   "source": [
    "# turn target into categorical\n",
    "df_wine.target = pd.Categorical(df_wine.target)"
   ]
  },
  {
   "cell_type": "code",
   "execution_count": 9,
   "metadata": {},
   "outputs": [],
   "source": [
    "# down cast if possible\n",
    "for column in df_wine.columns[1:]:\n",
    "    if column == 'Mg' or column =='proline':\n",
    "        df_wine[column] = pd.to_numeric(df_wine[column], downcast = 'unsigned') # from describe I know that it is unsigned\n",
    "    else:\n",
    "        df_wine[column] = pd.to_numeric(df_wine[column], downcast = 'float')"
   ]
  },
  {
   "cell_type": "markdown",
   "metadata": {},
   "source": [
    "##### After casting"
   ]
  },
  {
   "cell_type": "code",
   "execution_count": 10,
   "metadata": {},
   "outputs": [
    {
     "name": "stdout",
     "output_type": "stream",
     "text": [
      "<class 'pandas.core.frame.DataFrame'>\n",
      "RangeIndex: 178 entries, 0 to 177\n",
      "Data columns (total 14 columns):\n",
      " #   Column            Non-Null Count  Dtype   \n",
      "---  ------            --------------  -----   \n",
      " 0   target            178 non-null    category\n",
      " 1   alcohol           178 non-null    float32 \n",
      " 2   malic_acid        178 non-null    float32 \n",
      " 3   ash               178 non-null    float32 \n",
      " 4   alcalinity        178 non-null    float32 \n",
      " 5   Mg                178 non-null    uint8   \n",
      " 6   tot_phenols       178 non-null    float32 \n",
      " 7   flavanoids        178 non-null    float32 \n",
      " 8   non_flav_phenols  178 non-null    float32 \n",
      " 9   proanthocyanins   178 non-null    float32 \n",
      " 10  color_intensity   178 non-null    float32 \n",
      " 11  hue               178 non-null    float32 \n",
      " 12  OD                178 non-null    float32 \n",
      " 13  proline           178 non-null    uint16  \n",
      "dtypes: category(1), float32(11), uint16(1), uint8(1)\n",
      "memory usage: 8.6 KB\n"
     ]
    }
   ],
   "source": [
    "df_wine.info()"
   ]
  },
  {
   "cell_type": "markdown",
   "metadata": {},
   "source": [
    "##### Report N/A values"
   ]
  },
  {
   "cell_type": "code",
   "execution_count": 11,
   "metadata": {},
   "outputs": [
    {
     "data": {
      "text/plain": [
       "target              0\n",
       "alcohol             0\n",
       "malic_acid          0\n",
       "ash                 0\n",
       "alcalinity          0\n",
       "Mg                  0\n",
       "tot_phenols         0\n",
       "flavanoids          0\n",
       "non_flav_phenols    0\n",
       "proanthocyanins     0\n",
       "color_intensity     0\n",
       "hue                 0\n",
       "OD                  0\n",
       "proline             0\n",
       "dtype: int64"
      ]
     },
     "execution_count": 11,
     "metadata": {},
     "output_type": "execute_result"
    }
   ],
   "source": [
    "df_wine.isna().sum()"
   ]
  },
  {
   "cell_type": "markdown",
   "metadata": {},
   "source": [
    "Thus, there is no observation with missing attribute values."
   ]
  },
  {
   "cell_type": "markdown",
   "metadata": {},
   "source": [
    "##### Some values in dataset"
   ]
  },
  {
   "cell_type": "code",
   "execution_count": 12,
   "metadata": {},
   "outputs": [
    {
     "data": {
      "text/html": [
       "<div>\n",
       "<style scoped>\n",
       "    .dataframe tbody tr th:only-of-type {\n",
       "        vertical-align: middle;\n",
       "    }\n",
       "\n",
       "    .dataframe tbody tr th {\n",
       "        vertical-align: top;\n",
       "    }\n",
       "\n",
       "    .dataframe thead th {\n",
       "        text-align: right;\n",
       "    }\n",
       "</style>\n",
       "<table border=\"1\" class=\"dataframe\">\n",
       "  <thead>\n",
       "    <tr style=\"text-align: right;\">\n",
       "      <th></th>\n",
       "      <th>target</th>\n",
       "      <th>alcohol</th>\n",
       "      <th>malic_acid</th>\n",
       "      <th>ash</th>\n",
       "      <th>alcalinity</th>\n",
       "      <th>Mg</th>\n",
       "      <th>tot_phenols</th>\n",
       "      <th>flavanoids</th>\n",
       "      <th>non_flav_phenols</th>\n",
       "      <th>proanthocyanins</th>\n",
       "      <th>color_intensity</th>\n",
       "      <th>hue</th>\n",
       "      <th>OD</th>\n",
       "      <th>proline</th>\n",
       "    </tr>\n",
       "  </thead>\n",
       "  <tbody>\n",
       "    <tr>\n",
       "      <th>0</th>\n",
       "      <td>1</td>\n",
       "      <td>14.23</td>\n",
       "      <td>1.71</td>\n",
       "      <td>2.43</td>\n",
       "      <td>15.600000</td>\n",
       "      <td>127</td>\n",
       "      <td>2.80</td>\n",
       "      <td>3.06</td>\n",
       "      <td>0.28</td>\n",
       "      <td>2.29</td>\n",
       "      <td>5.64</td>\n",
       "      <td>1.04</td>\n",
       "      <td>3.92</td>\n",
       "      <td>1065</td>\n",
       "    </tr>\n",
       "    <tr>\n",
       "      <th>1</th>\n",
       "      <td>1</td>\n",
       "      <td>13.20</td>\n",
       "      <td>1.78</td>\n",
       "      <td>2.14</td>\n",
       "      <td>11.200000</td>\n",
       "      <td>100</td>\n",
       "      <td>2.65</td>\n",
       "      <td>2.76</td>\n",
       "      <td>0.26</td>\n",
       "      <td>1.28</td>\n",
       "      <td>4.38</td>\n",
       "      <td>1.05</td>\n",
       "      <td>3.40</td>\n",
       "      <td>1050</td>\n",
       "    </tr>\n",
       "    <tr>\n",
       "      <th>2</th>\n",
       "      <td>1</td>\n",
       "      <td>13.16</td>\n",
       "      <td>2.36</td>\n",
       "      <td>2.67</td>\n",
       "      <td>18.600000</td>\n",
       "      <td>101</td>\n",
       "      <td>2.80</td>\n",
       "      <td>3.24</td>\n",
       "      <td>0.30</td>\n",
       "      <td>2.81</td>\n",
       "      <td>5.68</td>\n",
       "      <td>1.03</td>\n",
       "      <td>3.17</td>\n",
       "      <td>1185</td>\n",
       "    </tr>\n",
       "    <tr>\n",
       "      <th>3</th>\n",
       "      <td>1</td>\n",
       "      <td>14.37</td>\n",
       "      <td>1.95</td>\n",
       "      <td>2.50</td>\n",
       "      <td>16.799999</td>\n",
       "      <td>113</td>\n",
       "      <td>3.85</td>\n",
       "      <td>3.49</td>\n",
       "      <td>0.24</td>\n",
       "      <td>2.18</td>\n",
       "      <td>7.80</td>\n",
       "      <td>0.86</td>\n",
       "      <td>3.45</td>\n",
       "      <td>1480</td>\n",
       "    </tr>\n",
       "    <tr>\n",
       "      <th>4</th>\n",
       "      <td>1</td>\n",
       "      <td>13.24</td>\n",
       "      <td>2.59</td>\n",
       "      <td>2.87</td>\n",
       "      <td>21.000000</td>\n",
       "      <td>118</td>\n",
       "      <td>2.80</td>\n",
       "      <td>2.69</td>\n",
       "      <td>0.39</td>\n",
       "      <td>1.82</td>\n",
       "      <td>4.32</td>\n",
       "      <td>1.04</td>\n",
       "      <td>2.93</td>\n",
       "      <td>735</td>\n",
       "    </tr>\n",
       "  </tbody>\n",
       "</table>\n",
       "</div>"
      ],
      "text/plain": [
       "  target  alcohol  malic_acid   ash  alcalinity   Mg  tot_phenols  flavanoids  \\\n",
       "0      1    14.23        1.71  2.43   15.600000  127         2.80        3.06   \n",
       "1      1    13.20        1.78  2.14   11.200000  100         2.65        2.76   \n",
       "2      1    13.16        2.36  2.67   18.600000  101         2.80        3.24   \n",
       "3      1    14.37        1.95  2.50   16.799999  113         3.85        3.49   \n",
       "4      1    13.24        2.59  2.87   21.000000  118         2.80        2.69   \n",
       "\n",
       "   non_flav_phenols  proanthocyanins  color_intensity   hue    OD  proline  \n",
       "0              0.28             2.29             5.64  1.04  3.92     1065  \n",
       "1              0.26             1.28             4.38  1.05  3.40     1050  \n",
       "2              0.30             2.81             5.68  1.03  3.17     1185  \n",
       "3              0.24             2.18             7.80  0.86  3.45     1480  \n",
       "4              0.39             1.82             4.32  1.04  2.93      735  "
      ]
     },
     "execution_count": 12,
     "metadata": {},
     "output_type": "execute_result"
    }
   ],
   "source": [
    "df_wine.head()"
   ]
  },
  {
   "cell_type": "markdown",
   "metadata": {},
   "source": [
    "***\n",
    "**3)**\n",
    "We're going to perform the essential task of EDA. First, *numerically* (not visually or graphically) summarize your data. Minimally, you at least want to:\n",
    "* Output `describe()`\n",
    "* Report the table of counts of the target variable\n",
    "* Show the means of each variable, grouped by target value"
   ]
  },
  {
   "cell_type": "code",
   "execution_count": 13,
   "metadata": {},
   "outputs": [
    {
     "data": {
      "text/html": [
       "<div>\n",
       "<style scoped>\n",
       "    .dataframe tbody tr th:only-of-type {\n",
       "        vertical-align: middle;\n",
       "    }\n",
       "\n",
       "    .dataframe tbody tr th {\n",
       "        vertical-align: top;\n",
       "    }\n",
       "\n",
       "    .dataframe thead th {\n",
       "        text-align: right;\n",
       "    }\n",
       "</style>\n",
       "<table border=\"1\" class=\"dataframe\">\n",
       "  <thead>\n",
       "    <tr style=\"text-align: right;\">\n",
       "      <th></th>\n",
       "      <th>alcohol</th>\n",
       "      <th>malic_acid</th>\n",
       "      <th>ash</th>\n",
       "      <th>alcalinity</th>\n",
       "      <th>Mg</th>\n",
       "      <th>tot_phenols</th>\n",
       "      <th>flavanoids</th>\n",
       "      <th>non_flav_phenols</th>\n",
       "      <th>proanthocyanins</th>\n",
       "      <th>color_intensity</th>\n",
       "      <th>hue</th>\n",
       "      <th>OD</th>\n",
       "      <th>proline</th>\n",
       "    </tr>\n",
       "  </thead>\n",
       "  <tbody>\n",
       "    <tr>\n",
       "      <th>count</th>\n",
       "      <td>178.000000</td>\n",
       "      <td>178.000000</td>\n",
       "      <td>178.000000</td>\n",
       "      <td>178.000000</td>\n",
       "      <td>178.000000</td>\n",
       "      <td>178.000000</td>\n",
       "      <td>178.000000</td>\n",
       "      <td>178.000000</td>\n",
       "      <td>178.000000</td>\n",
       "      <td>178.000000</td>\n",
       "      <td>178.000000</td>\n",
       "      <td>178.000000</td>\n",
       "      <td>178.000000</td>\n",
       "    </tr>\n",
       "    <tr>\n",
       "      <th>mean</th>\n",
       "      <td>13.000619</td>\n",
       "      <td>2.336349</td>\n",
       "      <td>2.366517</td>\n",
       "      <td>19.494944</td>\n",
       "      <td>99.741573</td>\n",
       "      <td>2.295112</td>\n",
       "      <td>2.029269</td>\n",
       "      <td>0.361854</td>\n",
       "      <td>1.590899</td>\n",
       "      <td>5.058090</td>\n",
       "      <td>0.957449</td>\n",
       "      <td>2.611685</td>\n",
       "      <td>746.893258</td>\n",
       "    </tr>\n",
       "    <tr>\n",
       "      <th>std</th>\n",
       "      <td>0.811827</td>\n",
       "      <td>1.117146</td>\n",
       "      <td>0.274344</td>\n",
       "      <td>3.339564</td>\n",
       "      <td>14.282484</td>\n",
       "      <td>0.625851</td>\n",
       "      <td>0.998859</td>\n",
       "      <td>0.124453</td>\n",
       "      <td>0.572359</td>\n",
       "      <td>2.318286</td>\n",
       "      <td>0.228572</td>\n",
       "      <td>0.709990</td>\n",
       "      <td>314.907474</td>\n",
       "    </tr>\n",
       "    <tr>\n",
       "      <th>min</th>\n",
       "      <td>11.030000</td>\n",
       "      <td>0.740000</td>\n",
       "      <td>1.360000</td>\n",
       "      <td>10.600000</td>\n",
       "      <td>70.000000</td>\n",
       "      <td>0.980000</td>\n",
       "      <td>0.340000</td>\n",
       "      <td>0.130000</td>\n",
       "      <td>0.410000</td>\n",
       "      <td>1.280000</td>\n",
       "      <td>0.480000</td>\n",
       "      <td>1.270000</td>\n",
       "      <td>278.000000</td>\n",
       "    </tr>\n",
       "    <tr>\n",
       "      <th>25%</th>\n",
       "      <td>12.362500</td>\n",
       "      <td>1.602500</td>\n",
       "      <td>2.210000</td>\n",
       "      <td>17.200001</td>\n",
       "      <td>88.000000</td>\n",
       "      <td>1.742500</td>\n",
       "      <td>1.205000</td>\n",
       "      <td>0.270000</td>\n",
       "      <td>1.250000</td>\n",
       "      <td>3.220000</td>\n",
       "      <td>0.782500</td>\n",
       "      <td>1.937500</td>\n",
       "      <td>500.500000</td>\n",
       "    </tr>\n",
       "    <tr>\n",
       "      <th>50%</th>\n",
       "      <td>13.050000</td>\n",
       "      <td>1.865000</td>\n",
       "      <td>2.360000</td>\n",
       "      <td>19.500000</td>\n",
       "      <td>98.000000</td>\n",
       "      <td>2.355000</td>\n",
       "      <td>2.135000</td>\n",
       "      <td>0.340000</td>\n",
       "      <td>1.555000</td>\n",
       "      <td>4.690000</td>\n",
       "      <td>0.965000</td>\n",
       "      <td>2.780000</td>\n",
       "      <td>673.500000</td>\n",
       "    </tr>\n",
       "    <tr>\n",
       "      <th>75%</th>\n",
       "      <td>13.677500</td>\n",
       "      <td>3.082500</td>\n",
       "      <td>2.557500</td>\n",
       "      <td>21.500000</td>\n",
       "      <td>107.000000</td>\n",
       "      <td>2.800000</td>\n",
       "      <td>2.875000</td>\n",
       "      <td>0.437500</td>\n",
       "      <td>1.950000</td>\n",
       "      <td>6.200000</td>\n",
       "      <td>1.120000</td>\n",
       "      <td>3.170000</td>\n",
       "      <td>985.000000</td>\n",
       "    </tr>\n",
       "    <tr>\n",
       "      <th>max</th>\n",
       "      <td>14.830000</td>\n",
       "      <td>5.800000</td>\n",
       "      <td>3.230000</td>\n",
       "      <td>30.000000</td>\n",
       "      <td>162.000000</td>\n",
       "      <td>3.880000</td>\n",
       "      <td>5.080000</td>\n",
       "      <td>0.660000</td>\n",
       "      <td>3.580000</td>\n",
       "      <td>13.000000</td>\n",
       "      <td>1.710000</td>\n",
       "      <td>4.000000</td>\n",
       "      <td>1680.000000</td>\n",
       "    </tr>\n",
       "  </tbody>\n",
       "</table>\n",
       "</div>"
      ],
      "text/plain": [
       "          alcohol  malic_acid         ash  alcalinity          Mg  \\\n",
       "count  178.000000  178.000000  178.000000  178.000000  178.000000   \n",
       "mean    13.000619    2.336349    2.366517   19.494944   99.741573   \n",
       "std      0.811827    1.117146    0.274344    3.339564   14.282484   \n",
       "min     11.030000    0.740000    1.360000   10.600000   70.000000   \n",
       "25%     12.362500    1.602500    2.210000   17.200001   88.000000   \n",
       "50%     13.050000    1.865000    2.360000   19.500000   98.000000   \n",
       "75%     13.677500    3.082500    2.557500   21.500000  107.000000   \n",
       "max     14.830000    5.800000    3.230000   30.000000  162.000000   \n",
       "\n",
       "       tot_phenols  flavanoids  non_flav_phenols  proanthocyanins  \\\n",
       "count   178.000000  178.000000        178.000000       178.000000   \n",
       "mean      2.295112    2.029269          0.361854         1.590899   \n",
       "std       0.625851    0.998859          0.124453         0.572359   \n",
       "min       0.980000    0.340000          0.130000         0.410000   \n",
       "25%       1.742500    1.205000          0.270000         1.250000   \n",
       "50%       2.355000    2.135000          0.340000         1.555000   \n",
       "75%       2.800000    2.875000          0.437500         1.950000   \n",
       "max       3.880000    5.080000          0.660000         3.580000   \n",
       "\n",
       "       color_intensity         hue          OD      proline  \n",
       "count       178.000000  178.000000  178.000000   178.000000  \n",
       "mean          5.058090    0.957449    2.611685   746.893258  \n",
       "std           2.318286    0.228572    0.709990   314.907474  \n",
       "min           1.280000    0.480000    1.270000   278.000000  \n",
       "25%           3.220000    0.782500    1.937500   500.500000  \n",
       "50%           4.690000    0.965000    2.780000   673.500000  \n",
       "75%           6.200000    1.120000    3.170000   985.000000  \n",
       "max          13.000000    1.710000    4.000000  1680.000000  "
      ]
     },
     "execution_count": 13,
     "metadata": {},
     "output_type": "execute_result"
    }
   ],
   "source": [
    "df_wine.describe()"
   ]
  },
  {
   "cell_type": "markdown",
   "metadata": {},
   "source": [
    "##### Counts for each category of target variable"
   ]
  },
  {
   "cell_type": "code",
   "execution_count": 14,
   "metadata": {},
   "outputs": [
    {
     "data": {
      "text/plain": [
       "2    71\n",
       "1    59\n",
       "3    48\n",
       "Name: target, dtype: int64"
      ]
     },
     "execution_count": 14,
     "metadata": {},
     "output_type": "execute_result"
    }
   ],
   "source": [
    "df_wine.target.value_counts()"
   ]
  },
  {
   "cell_type": "markdown",
   "metadata": {},
   "source": [
    "##### Mean of each variable, grouped by target value"
   ]
  },
  {
   "cell_type": "code",
   "execution_count": 15,
   "metadata": {},
   "outputs": [
    {
     "data": {
      "text/html": [
       "<div>\n",
       "<style scoped>\n",
       "    .dataframe tbody tr th:only-of-type {\n",
       "        vertical-align: middle;\n",
       "    }\n",
       "\n",
       "    .dataframe tbody tr th {\n",
       "        vertical-align: top;\n",
       "    }\n",
       "\n",
       "    .dataframe thead th {\n",
       "        text-align: right;\n",
       "    }\n",
       "</style>\n",
       "<table border=\"1\" class=\"dataframe\">\n",
       "  <thead>\n",
       "    <tr style=\"text-align: right;\">\n",
       "      <th></th>\n",
       "      <th>alcohol</th>\n",
       "      <th>malic_acid</th>\n",
       "      <th>ash</th>\n",
       "      <th>alcalinity</th>\n",
       "      <th>Mg</th>\n",
       "      <th>tot_phenols</th>\n",
       "      <th>flavanoids</th>\n",
       "      <th>non_flav_phenols</th>\n",
       "      <th>proanthocyanins</th>\n",
       "      <th>color_intensity</th>\n",
       "      <th>hue</th>\n",
       "      <th>OD</th>\n",
       "      <th>proline</th>\n",
       "    </tr>\n",
       "    <tr>\n",
       "      <th>target</th>\n",
       "      <th></th>\n",
       "      <th></th>\n",
       "      <th></th>\n",
       "      <th></th>\n",
       "      <th></th>\n",
       "      <th></th>\n",
       "      <th></th>\n",
       "      <th></th>\n",
       "      <th></th>\n",
       "      <th></th>\n",
       "      <th></th>\n",
       "      <th></th>\n",
       "      <th></th>\n",
       "    </tr>\n",
       "  </thead>\n",
       "  <tbody>\n",
       "    <tr>\n",
       "      <th>1</th>\n",
       "      <td>13.744746</td>\n",
       "      <td>2.010678</td>\n",
       "      <td>2.455593</td>\n",
       "      <td>17.037289</td>\n",
       "      <td>106.338983</td>\n",
       "      <td>2.840169</td>\n",
       "      <td>2.982373</td>\n",
       "      <td>0.290000</td>\n",
       "      <td>1.899322</td>\n",
       "      <td>5.528305</td>\n",
       "      <td>1.062034</td>\n",
       "      <td>3.157797</td>\n",
       "      <td>1115.711864</td>\n",
       "    </tr>\n",
       "    <tr>\n",
       "      <th>2</th>\n",
       "      <td>12.278732</td>\n",
       "      <td>1.932676</td>\n",
       "      <td>2.244789</td>\n",
       "      <td>20.238028</td>\n",
       "      <td>94.549296</td>\n",
       "      <td>2.258873</td>\n",
       "      <td>2.080845</td>\n",
       "      <td>0.363662</td>\n",
       "      <td>1.630282</td>\n",
       "      <td>3.086620</td>\n",
       "      <td>1.056282</td>\n",
       "      <td>2.785352</td>\n",
       "      <td>519.507042</td>\n",
       "    </tr>\n",
       "    <tr>\n",
       "      <th>3</th>\n",
       "      <td>13.153749</td>\n",
       "      <td>3.333750</td>\n",
       "      <td>2.437083</td>\n",
       "      <td>21.416666</td>\n",
       "      <td>99.312500</td>\n",
       "      <td>1.678750</td>\n",
       "      <td>0.781458</td>\n",
       "      <td>0.447500</td>\n",
       "      <td>1.153542</td>\n",
       "      <td>7.396250</td>\n",
       "      <td>0.682708</td>\n",
       "      <td>1.683542</td>\n",
       "      <td>629.895833</td>\n",
       "    </tr>\n",
       "  </tbody>\n",
       "</table>\n",
       "</div>"
      ],
      "text/plain": [
       "          alcohol  malic_acid       ash  alcalinity          Mg  tot_phenols  \\\n",
       "target                                                                         \n",
       "1       13.744746    2.010678  2.455593   17.037289  106.338983     2.840169   \n",
       "2       12.278732    1.932676  2.244789   20.238028   94.549296     2.258873   \n",
       "3       13.153749    3.333750  2.437083   21.416666   99.312500     1.678750   \n",
       "\n",
       "        flavanoids  non_flav_phenols  proanthocyanins  color_intensity  \\\n",
       "target                                                                   \n",
       "1         2.982373          0.290000         1.899322         5.528305   \n",
       "2         2.080845          0.363662         1.630282         3.086620   \n",
       "3         0.781458          0.447500         1.153542         7.396250   \n",
       "\n",
       "             hue        OD      proline  \n",
       "target                                   \n",
       "1       1.062034  3.157797  1115.711864  \n",
       "2       1.056282  2.785352   519.507042  \n",
       "3       0.682708  1.683542   629.895833  "
      ]
     },
     "execution_count": 15,
     "metadata": {},
     "output_type": "execute_result"
    }
   ],
   "source": [
    "df_wine.groupby('target').mean()"
   ]
  },
  {
   "cell_type": "markdown",
   "metadata": {},
   "source": [
    "***\n",
    "**4)** Now, provide at least 3 plots of your own choosing to help visually and graphically understand the distributions of your variables. It's entirely up to you to choose and design the plots to convey important information about your data. Some ideas I always start with:\n",
    "* A barchart of the target variable counts\n",
    "* A boxplot of each numeric variable. Even better is a boxplot that uses a color (hue) for each target value\n",
    "* Density or histogram (e.g. seaborn `kdeplot`) plots of each variable, colored by target. (HINT - `sns.FacetPlot` is ideal for this.)\n",
    "* A pairwise correlation heatmap visualizing the variable correlations\n",
    "* A Seaborn `pairplot`. (However, with 13 predictor variables and one target, this can get unweldy, not to mention it can take some time to generate it. Try it, and then determine if it'd be better to just select a subset of variables."
   ]
  },
  {
   "cell_type": "code",
   "execution_count": 16,
   "metadata": {},
   "outputs": [
    {
     "data": {
      "text/html": [
       "<div>\n",
       "<style scoped>\n",
       "    .dataframe tbody tr th:only-of-type {\n",
       "        vertical-align: middle;\n",
       "    }\n",
       "\n",
       "    .dataframe tbody tr th {\n",
       "        vertical-align: top;\n",
       "    }\n",
       "\n",
       "    .dataframe thead th {\n",
       "        text-align: right;\n",
       "    }\n",
       "</style>\n",
       "<table border=\"1\" class=\"dataframe\">\n",
       "  <thead>\n",
       "    <tr style=\"text-align: right;\">\n",
       "      <th></th>\n",
       "      <th>target</th>\n",
       "      <th>variable</th>\n",
       "      <th>value</th>\n",
       "    </tr>\n",
       "  </thead>\n",
       "  <tbody>\n",
       "    <tr>\n",
       "      <th>0</th>\n",
       "      <td>1</td>\n",
       "      <td>alcohol</td>\n",
       "      <td>14.23</td>\n",
       "    </tr>\n",
       "    <tr>\n",
       "      <th>1</th>\n",
       "      <td>1</td>\n",
       "      <td>alcohol</td>\n",
       "      <td>13.20</td>\n",
       "    </tr>\n",
       "    <tr>\n",
       "      <th>2</th>\n",
       "      <td>1</td>\n",
       "      <td>alcohol</td>\n",
       "      <td>13.16</td>\n",
       "    </tr>\n",
       "    <tr>\n",
       "      <th>3</th>\n",
       "      <td>1</td>\n",
       "      <td>alcohol</td>\n",
       "      <td>14.37</td>\n",
       "    </tr>\n",
       "    <tr>\n",
       "      <th>4</th>\n",
       "      <td>1</td>\n",
       "      <td>alcohol</td>\n",
       "      <td>13.24</td>\n",
       "    </tr>\n",
       "  </tbody>\n",
       "</table>\n",
       "</div>"
      ],
      "text/plain": [
       "  target variable  value\n",
       "0      1  alcohol  14.23\n",
       "1      1  alcohol  13.20\n",
       "2      1  alcohol  13.16\n",
       "3      1  alcohol  14.37\n",
       "4      1  alcohol  13.24"
      ]
     },
     "execution_count": 16,
     "metadata": {},
     "output_type": "execute_result"
    }
   ],
   "source": [
    "# This might be helpful?\n",
    "df_wine_melt = df_wine.melt(id_vars=['target'])\n",
    "df_wine_melt.head()"
   ]
  },
  {
   "cell_type": "code",
   "execution_count": 17,
   "metadata": {},
   "outputs": [
    {
     "data": {
      "text/plain": [
       "Text(0.5, 1.0, 'Counts of different categories for target variable')"
      ]
     },
     "execution_count": 17,
     "metadata": {},
     "output_type": "execute_result"
    },
    {
     "data": {
      "image/png": "[encoded data removed]",
      "text/plain": [
       "<Figure size 432x288 with 1 Axes>"
      ]
     },
     "metadata": {
      "needs_background": "light"
     },
     "output_type": "display_data"
    }
   ],
   "source": [
    "ax = sns.countplot(data = df_wine, x = 'target')\n",
    "ax.set_title(\"Counts of different categories for target variable\")"
   ]
  },
  {
   "cell_type": "code",
   "execution_count": 18,
   "metadata": {},
   "outputs": [
    {
     "data": {
      "text/plain": [
       "Text(0.5, 1.0, 'Distribution of alcohol variable with regard to different target classes')"
      ]
     },
     "execution_count": 18,
     "metadata": {},
     "output_type": "execute_result"
    },
    {
     "data": {
      "image/png": "[encoded data removed]",
      "text/plain": [
       "<Figure size 432x288 with 1 Axes>"
      ]
     },
     "metadata": {
      "needs_background": "light"
     },
     "output_type": "display_data"
    }
   ],
   "source": [
    "ax = sns.boxplot(data = df_wine, x = 'target', y = 'alcohol')\n",
    "ax.set_title(\"Distribution of alcohol variable with regard to different target classes\")"
   ]
  },
  {
   "cell_type": "code",
   "execution_count": 19,
   "metadata": {},
   "outputs": [
    {
     "data": {
      "text/plain": [
       "Text(0.5, 1.0, 'Distribution of malic acid variable with regard to different target classes')"
      ]
     },
     "execution_count": 19,
     "metadata": {},
     "output_type": "execute_result"
    },
    {
     "data": {
      "image/png": "[encoded data removed]",
      "text/plain": [
       "<Figure size 432x288 with 1 Axes>"
      ]
     },
     "metadata": {
      "needs_background": "light"
     },
     "output_type": "display_data"
    }
   ],
   "source": [
    "ax = sns.boxplot(data = df_wine, x = 'target', y = 'malic_acid')\n",
    "ax.set_title(\"Distribution of malic acid variable with regard to different target classes\")"
   ]
  },
  {
   "cell_type": "code",
   "execution_count": 20,
   "metadata": {},
   "outputs": [
    {
     "data": {
      "text/plain": [
       "Text(0.5, 1.0, 'Distribution of ash with regard to different target classes')"
      ]
     },
     "execution_count": 20,
     "metadata": {},
     "output_type": "execute_result"
    },
    {
     "data": {
      "image/png": "[encoded data removed]",
      "text/plain": [
       "<Figure size 432x288 with 1 Axes>"
      ]
     },
     "metadata": {
      "needs_background": "light"
     },
     "output_type": "display_data"
    }
   ],
   "source": [
    "ax = sns.boxplot(data = df_wine, x = 'target', y = 'ash')\n",
    "ax.set_title(\"Distribution of ash with regard to different target classes\")"
   ]
  },
  {
   "cell_type": "code",
   "execution_count": 21,
   "metadata": {},
   "outputs": [
    {
     "data": {
      "text/plain": [
       "Text(0.5, 1.0, 'Distribution of alcalinity variable with regard to different target classes')"
      ]
     },
     "execution_count": 21,
     "metadata": {},
     "output_type": "execute_result"
    },
    {
     "data": {
      "image/png": "[encoded data removed]",
      "text/plain": [
       "<Figure size 432x288 with 1 Axes>"
      ]
     },
     "metadata": {
      "needs_background": "light"
     },
     "output_type": "display_data"
    }
   ],
   "source": [
    "ax = sns.boxplot(data = df_wine, x = 'target', y = 'alcalinity')\n",
    "ax.set_title(\"Distribution of alcalinity variable with regard to different target classes\")"
   ]
  },
  {
   "cell_type": "code",
   "execution_count": 22,
   "metadata": {},
   "outputs": [
    {
     "data": {
      "text/plain": [
       "Text(0.5, 1.0, 'Distribution of Mg with regard to different target classes')"
      ]
     },
     "execution_count": 22,
     "metadata": {},
     "output_type": "execute_result"
    },
    {
     "data": {
      "image/png": "[encoded data removed]",
      "text/plain": [
       "<Figure size 432x288 with 1 Axes>"
      ]
     },
     "metadata": {
      "needs_background": "light"
     },
     "output_type": "display_data"
    }
   ],
   "source": [
    "ax = sns.boxplot(data = df_wine, x = 'target', y = 'Mg')\n",
    "ax.set_title(\"Distribution of Mg with regard to different target classes\")"
   ]
  },
  {
   "cell_type": "code",
   "execution_count": 23,
   "metadata": {},
   "outputs": [
    {
     "data": {
      "text/plain": [
       "Text(0.5, 1.0, 'Distribution of total phenols with regard to different target classes')"
      ]
     },
     "execution_count": 23,
     "metadata": {},
     "output_type": "execute_result"
    },
    {
     "data": {
      "image/png": "[encoded data removed]",
      "text/plain": [
       "<Figure size 432x288 with 1 Axes>"
      ]
     },
     "metadata": {
      "needs_background": "light"
     },
     "output_type": "display_data"
    }
   ],
   "source": [
    "ax = sns.boxplot(data = df_wine, x = 'target', y = 'tot_phenols')\n",
    "ax.set_title(\"Distribution of total phenols with regard to different target classes\")"
   ]
  },
  {
   "cell_type": "code",
   "execution_count": 24,
   "metadata": {},
   "outputs": [
    {
     "data": {
      "text/plain": [
       "Text(0.5, 1.0, 'Distribution of flavanoids with regard to different target classes')"
      ]
     },
     "execution_count": 24,
     "metadata": {},
     "output_type": "execute_result"
    },
    {
     "data": {
      "image/png": "[encoded data removed]",
      "text/plain": [
       "<Figure size 432x288 with 1 Axes>"
      ]
     },
     "metadata": {
      "needs_background": "light"
     },
     "output_type": "display_data"
    }
   ],
   "source": [
    "ax = sns.boxplot(data = df_wine, x = 'target', y = 'flavanoids')\n",
    "ax.set_title(\"Distribution of flavanoids with regard to different target classes\")"
   ]
  },
  {
   "cell_type": "code",
   "execution_count": 25,
   "metadata": {},
   "outputs": [
    {
     "data": {
      "text/plain": [
       "Text(0.5, 1.0, 'Distribution of non flavanoids phenols with regard to different target classes')"
      ]
     },
     "execution_count": 25,
     "metadata": {},
     "output_type": "execute_result"
    },
    {
     "data": {
      "image/png": "[encoded data removed]",
      "text/plain": [
       "<Figure size 432x288 with 1 Axes>"
      ]
     },
     "metadata": {
      "needs_background": "light"
     },
     "output_type": "display_data"
    }
   ],
   "source": [
    "ax = sns.boxplot(data = df_wine, x = 'target', y = 'non_flav_phenols')\n",
    "ax.set_title(\"Distribution of non flavanoids phenols with regard to different target classes\")"
   ]
  },
  {
   "cell_type": "code",
   "execution_count": 26,
   "metadata": {},
   "outputs": [
    {
     "data": {
      "text/plain": [
       "Text(0.5, 1.0, 'Distribution of proanthocyanins with regard to different target classes')"
      ]
     },
     "execution_count": 26,
     "metadata": {},
     "output_type": "execute_result"
    },
    {
     "data": {
      "image/png": "[encoded data removed]",
      "text/plain": [
       "<Figure size 432x288 with 1 Axes>"
      ]
     },
     "metadata": {
      "needs_background": "light"
     },
     "output_type": "display_data"
    }
   ],
   "source": [
    "ax = sns.boxplot(data = df_wine, x = 'target', y = 'proanthocyanins')\n",
    "ax.set_title(\"Distribution of proanthocyanins with regard to different target classes\")"
   ]
  },
  {
   "cell_type": "code",
   "execution_count": 27,
   "metadata": {},
   "outputs": [
    {
     "data": {
      "text/plain": [
       "Text(0.5, 1.0, 'Distribution of color intensity with regard to different target classes')"
      ]
     },
     "execution_count": 27,
     "metadata": {},
     "output_type": "execute_result"
    },
    {
     "data": {
      "image/png": "[encoded data removed]",
      "text/plain": [
       "<Figure size 432x288 with 1 Axes>"
      ]
     },
     "metadata": {
      "needs_background": "light"
     },
     "output_type": "display_data"
    }
   ],
   "source": [
    "ax = sns.boxplot(data = df_wine, x = 'target', y = 'color_intensity')\n",
    "ax.set_title(\"Distribution of color intensity with regard to different target classes\")"
   ]
  },
  {
   "cell_type": "code",
   "execution_count": 28,
   "metadata": {},
   "outputs": [
    {
     "data": {
      "text/plain": [
       "Text(0.5, 1.0, 'Distribution of hue with regard to different target classes')"
      ]
     },
     "execution_count": 28,
     "metadata": {},
     "output_type": "execute_result"
    },
    {
     "data": {
      "image/png": "[encoded data removed]",
      "text/plain": [
       "<Figure size 432x288 with 1 Axes>"
      ]
     },
     "metadata": {
      "needs_background": "light"
     },
     "output_type": "display_data"
    }
   ],
   "source": [
    "ax = sns.boxplot(data = df_wine, x = 'target', y = 'hue')\n",
    "ax.set_title(\"Distribution of hue with regard to different target classes\")"
   ]
  },
  {
   "cell_type": "code",
   "execution_count": 29,
   "metadata": {},
   "outputs": [
    {
     "data": {
      "text/plain": [
       "Text(0.5, 1.0, 'Distribution of OD with regard to different target classes')"
      ]
     },
     "execution_count": 29,
     "metadata": {},
     "output_type": "execute_result"
    },
    {
     "data": {
      "image/png": "[encoded data removed]",
      "text/plain": [
       "<Figure size 432x288 with 1 Axes>"
      ]
     },
     "metadata": {
      "needs_background": "light"
     },
     "output_type": "display_data"
    }
   ],
   "source": [
    "ax = sns.boxplot(data = df_wine, x = 'target', y = 'OD')\n",
    "ax.set_title(\"Distribution of OD with regard to different target classes\")"
   ]
  },
  {
   "cell_type": "code",
   "execution_count": 30,
   "metadata": {},
   "outputs": [
    {
     "data": {
      "text/plain": [
       "Text(0.5, 1.0, 'Distribution of proline with regard to different target classes')"
      ]
     },
     "execution_count": 30,
     "metadata": {},
     "output_type": "execute_result"
    },
    {
     "data": {
      "image/png": "[encoded data removed]",
      "text/plain": [
       "<Figure size 432x288 with 1 Axes>"
      ]
     },
     "metadata": {
      "needs_background": "light"
     },
     "output_type": "display_data"
    }
   ],
   "source": [
    "ax = sns.boxplot(data = df_wine, x = 'target', y = 'proline')\n",
    "ax.set_title(\"Distribution of proline with regard to different target classes\")"
   ]
  },
  {
   "cell_type": "code",
   "execution_count": 31,
   "metadata": {},
   "outputs": [
    {
     "data": {
      "text/plain": [
       "<seaborn.axisgrid.FacetGrid at 0x14ba53eec08>"
      ]
     },
     "execution_count": 31,
     "metadata": {},
     "output_type": "execute_result"
    },
    {
     "data": {
      "image/png": "[encoded data removed]",
      "text/plain": [
       "<Figure size 648x2808 with 39 Axes>"
      ]
     },
     "metadata": {
      "needs_background": "light"
     },
     "output_type": "display_data"
    }
   ],
   "source": [
    "g = sns.FacetGrid(df_wine_melt, col= 'target',  row= 'variable', sharex = False)\n",
    "g.map(sns.histplot, 'value')"
   ]
  },
  {
   "cell_type": "markdown",
   "metadata": {},
   "source": [
    "**4b) [M] What is this heatmap conveying?**"
   ]
  },
  {
   "cell_type": "markdown",
   "metadata": {},
   "source": [
    "Here is one I want you to include. I'll give it to you, and you need to study and interpret what it's conveying. The cell is provided."
   ]
  },
  {
   "cell_type": "code",
   "execution_count": 32,
   "metadata": {},
   "outputs": [
    {
     "data": {
      "text/plain": [
       "<AxesSubplot:>"
      ]
     },
     "execution_count": 32,
     "metadata": {},
     "output_type": "execute_result"
    },
    {
     "data": {
      "image/png": "[encoded data removed]",
      "text/plain": [
       "<Figure size 720x576 with 2 Axes>"
      ]
     },
     "metadata": {
      "needs_background": "light"
     },
     "output_type": "display_data"
    }
   ],
   "source": [
    "plt.figure(figsize=(10,8))\n",
    "sns.heatmap(df_wine.corr(),\n",
    "            center=0, vmin=-1, vmax=1, cmap=\"coolwarm\",\n",
    "            annot=True, fmt=\".2f\")"
   ]
  },
  {
   "cell_type": "markdown",
   "metadata": {},
   "source": [
    "ANSWER:  \n",
    "The heatmap shows the correlation among pairs of numerical variables (i.e color_intensity vs Mg). The heatmap is symmetric because of the symmetric property in comparisons, so practically we only need to look at either the lower half or the upper half of the matrix. The redder it is, the more positively correlated the pair of numerical variables is; the bluer it is, the more negatively correlated the pair of numerical variable is. If the color is light, almost white, then there should be no correlation between the two variables.  \n",
    "In the heatmap, it is obvious that the diagonal should be all 1 because it is the correlation between a variable and itself. We also observe some good postive correlations. For example, flavanoids and total phenoids are positively correlated with a scale of 0.86. OD and flavanoids are positively correlated with a scale of 0.79  \n",
    "We also observe some negative correlations. For example, hue and malic acidity are negatively correlated with a scale of -0.56; non-flavaphenols and flavanoids are negatively correlated with a scale of -0.54 (make sense)."
   ]
  },
  {
   "cell_type": "markdown",
   "metadata": {},
   "source": [
    "**4c)** [M] Look up Seaborn's clustermap function. What is this conveying? Are there similarities to the previous heatmap? (This is a bit of a taste of our last topic we will cover on clustering data.) https://seaborn.pydata.org/generated/seaborn.clustermap.html#seaborn.clustermap"
   ]
  },
  {
   "cell_type": "code",
   "execution_count": 33,
   "metadata": {},
   "outputs": [
    {
     "data": {
      "text/plain": [
       "<seaborn.matrix.ClusterGrid at 0x14ba7bad1c8>"
      ]
     },
     "execution_count": 33,
     "metadata": {},
     "output_type": "execute_result"
    },
    {
     "data": {
      "image/png": "[encoded data removed]",
      "text/plain": [
       "<Figure size 648x1080 with 4 Axes>"
      ]
     },
     "metadata": {
      "needs_background": "light"
     },
     "output_type": "display_data"
    }
   ],
   "source": [
    "sns.clustermap(df_wine.iloc[:,1:],row_cluster=True,col_cluster=True,\n",
    "               z_score=1,metric=\"correlation\",\n",
    "               figsize=(9,15))"
   ]
  },
  {
   "cell_type": "markdown",
   "metadata": {},
   "source": [
    "ANSWER:  \n",
    "The dendrograms show clustering of data. With the clustering, we can see that which observations should belong to a clustering. For example, observation 80 and observation 66 are close to each other, should be in a clustering, while 80 and 61 are far away, thus, should belong to different clustering. We can also see features clustering, features that have close correlations with each other. For example, flavanoids and total phenoids are two close features with the small height (reflecting small distance).  \n",
    "The heat map reflects the values of each observation."
   ]
  },
  {
   "cell_type": "markdown",
   "metadata": {},
   "source": [
    "***\n",
    "**5)**\tSet up your `X` and `y` data frames to prepare for your modeling steps. Be sure to normalize your `X` variables. (Use z-score transform. Any approach will do, but `StandardScaler()` keeps in you the scikit-learn world.) Be sure to create a binarized version of `y` as well, called `y_bin` or `y_ohe`. Just don't delete the original `y`. Be sure you shuffle your data.\n",
    "\n",
    "NOTE: You'll need both types of y. Some classifiers work great on single target variables that are multi-class such as these data. However, others do not. You'll needed the binarized variable for neural nets! Remember, binarization is important for classifiers such as neural nets when you are working with a target variable that is multi-class (i.e. more than two labels). "
   ]
  },
  {
   "cell_type": "code",
   "execution_count": 34,
   "metadata": {},
   "outputs": [],
   "source": [
    "# X: attributes y: target\n",
    "X = df_wine.iloc[:, 1:]\n",
    "y = df_wine.iloc[:, 0:1]"
   ]
  },
  {
   "cell_type": "code",
   "execution_count": 35,
   "metadata": {},
   "outputs": [],
   "source": [
    "# z-score normalization\n",
    "scaler = StandardScaler()\n",
    "scaler.fit(X)\n",
    "X = pd.DataFrame(scaler.transform(X), columns = X.columns)"
   ]
  },
  {
   "cell_type": "code",
   "execution_count": 36,
   "metadata": {},
   "outputs": [],
   "source": [
    "# shuffle\n",
    "X, y = shuffle(X, y, random_state = 0)"
   ]
  },
  {
   "cell_type": "code",
   "execution_count": 37,
   "metadata": {},
   "outputs": [],
   "source": [
    "# binarize\n",
    "y_bin = pd.get_dummies(y)"
   ]
  },
  {
   "cell_type": "markdown",
   "metadata": {},
   "source": [
    "***\n",
    "**6a)** Let's induce a basic Decision Tree Classifier (i.e. `DecisionTreeClassifier()`). Don't set any initial parameters. Let the default tree induction parameters be used. Evaluate the tree using a 5-fold cross validation. Perform a standard report of your class-wide performance metrics (i.e. using classification report, but specify 3 significant digits instead of the default of 2). You should have all of this code completed from a previous lab.\n",
    "\n",
    "What is the overall accuracy? Which class performs the best? The worst?"
   ]
  },
  {
   "cell_type": "code",
   "execution_count": 38,
   "metadata": {},
   "outputs": [
    {
     "name": "stdout",
     "output_type": "stream",
     "text": [
      "              precision    recall  f1-score   support\n",
      "\n",
      "           1      0.932     0.932     0.932        59\n",
      "           2      0.924     0.859     0.891        71\n",
      "           3      0.868     0.958     0.911        48\n",
      "\n",
      "    accuracy                          0.910       178\n",
      "   macro avg      0.908     0.917     0.911       178\n",
      "weighted avg      0.912     0.910     0.910       178\n",
      "\n"
     ]
    }
   ],
   "source": [
    "clf = DecisionTreeClassifier()\n",
    "y_pred = cross_val_predict(clf, X, y, cv = 5)\n",
    "print(classification_report(y, y_pred, digits = 3))"
   ]
  },
  {
   "cell_type": "markdown",
   "metadata": {},
   "source": [
    "The overall accuracy is 91%. Class 2 has the worst recall while class 3 has the worst precision. Overall, if we look at the f1-score, which \"averages\" the performance of the class based on precision and recall, class 2 performes the worst with f1-score of 0.891, while class 1 performs the best with f1-score of 0.932"
   ]
  },
  {
   "cell_type": "markdown",
   "metadata": {},
   "source": [
    "**6b)**\tTry to run your code above a few different times. Your performance results should fluctuate a bit. Why?"
   ]
  },
  {
   "cell_type": "markdown",
   "metadata": {},
   "source": [
    "ANSWER:  \n",
    "Decision Tree has a tendency to overfit according to the training data, and in this case we have different fold of training sets are being used to build the Decision Tree model. Thus the results vary as the training data are different every run."
   ]
  },
  {
   "cell_type": "markdown",
   "metadata": {},
   "source": [
    "**6c)** For comparisons purposes, clearly print out what the value of your f1 score is using the function `f1_score` from `sklearn.metrics`. Do not copy and paste the values, but compute it using sklearn. "
   ]
  },
  {
   "cell_type": "code",
   "execution_count": 39,
   "metadata": {},
   "outputs": [
    {
     "name": "stdout",
     "output_type": "stream",
     "text": [
      "f1_score = [0.93220339 0.89051095 0.91089109]\n",
      "Macro f1_score = 0.9112018092815096\n",
      "Weighted f1_score = 0.9098261216263512\n"
     ]
    }
   ],
   "source": [
    "from sklearn.metrics import f1_score\n",
    "print(f\"f1_score = {f1_score(y, y_pred, average = None)}\")\n",
    "print(f\"Macro f1_score = {f1_score(y, y_pred, average = 'macro')}\")\n",
    "print(f\"Weighted f1_score = {f1_score(y, y_pred, average = 'weighted')}\")"
   ]
  },
  {
   "cell_type": "markdown",
   "metadata": {},
   "source": [
    "***\n",
    "## Our first hyperparameter search using decision trees\n",
    "\n",
    "**7)**\tAs we learned, a decision tree has a lot of parameters. Likewise, the `DecisionTreeClassifier` class offers those parameters for you to affect your tree induction.\n",
    "\n",
    "Let's introduce `GridSearchCV`, a fantastic framework to find good hyperparameters for your models. There are TWO important parameters to `GridSearchCV`:\n",
    "\n",
    "- `estimator` – this is the model that you will evaluate, that implements the scikit-learn estimator interface (which is pretty much every model implemented in scikit-learn!)\n",
    "- `param_grid` – this is a dictionary with parameters of your model as keys, and a list of values to test as the value of each key. Look at the page for DecisionTreeClassifier. \n",
    "- `scoring` - this one is pretty important. This specifies the score(s) you want to use to use to evaluate the performance the cross-validation model. So\n",
    "\n",
    "For example: suppose we wanted to compare both measures of purity: `\"gini\"` and `\"entropy\"`. And, suppose we wanted to compare different `max_depth` values. We could set up a param_grid parameter:\n",
    "\n",
    "```\n",
    "param_grid = { \n",
    "  'criterion' : ['gini', 'entropy'], \n",
    "  'max_depth' : [3,4,5,6,7] \n",
    "}\n",
    "```\n",
    "\n",
    "This represents 10 different runs (2 different `criterion` * 5 `max_depth` values), times the size of your cross-validation. So, if we use a `cv` of 5, then `GridSearchCV` will be training, evaluating and validating 50 different decision trees!\n",
    "\n",
    "Add the above `param_grid` dictionary, then copy the following into your code, paying close attention to the parameters (i.e. just don't copy code without understanding it!):\n",
    "\n",
    "```\n",
    "grid = GridSearchCV(DecisionTreeClassifier(), param_grid, \n",
    "                    return_train_score=True, cv=5)\n",
    "grid_result = grid.fit(X,y)\n",
    "```\n",
    "\n",
    "(If you did not use X and y, then you need to specify the variables you used here.) \n",
    "\n",
    "Execute your code. It should go ahead and evaluate all combinations of parameters you set up in your param_grid! Decision trees are pretty quick to learn, especially on small data sets such as this."
   ]
  },
  {
   "cell_type": "code",
   "execution_count": 40,
   "metadata": {},
   "outputs": [],
   "source": [
    "param_grid = { \n",
    "  'criterion' : ['gini', 'entropy'], \n",
    "  'max_depth' : [3,4,5,6,7] \n",
    "}\n",
    "grid = GridSearchCV(DecisionTreeClassifier(), param_grid, \n",
    "                    return_train_score=True, cv=5)\n",
    "grid_result = grid.fit(X,y)"
   ]
  },
  {
   "cell_type": "code",
   "execution_count": 41,
   "metadata": {},
   "outputs": [
    {
     "data": {
      "text/plain": [
       "GridSearchCV(cv=5, error_score=nan,\n",
       "             estimator=DecisionTreeClassifier(ccp_alpha=0.0, class_weight=None,\n",
       "                                              criterion='gini', max_depth=None,\n",
       "                                              max_features=None,\n",
       "                                              max_leaf_nodes=None,\n",
       "                                              min_impurity_decrease=0.0,\n",
       "                                              min_impurity_split=None,\n",
       "                                              min_samples_leaf=1,\n",
       "                                              min_samples_split=2,\n",
       "                                              min_weight_fraction_leaf=0.0,\n",
       "                                              presort='deprecated',\n",
       "                                              random_state=None,\n",
       "                                              splitter='best'),\n",
       "             iid='deprecated', n_jobs=None,\n",
       "             param_grid={'criterion': ['gini', 'entropy'],\n",
       "                         'max_depth': [3, 4, 5, 6, 7]},\n",
       "             pre_dispatch='2*n_jobs', refit=True, return_train_score=True,\n",
       "             scoring=None, verbose=0)"
      ]
     },
     "execution_count": 41,
     "metadata": {},
     "output_type": "execute_result"
    }
   ],
   "source": [
    "grid_result"
   ]
  },
  {
   "cell_type": "markdown",
   "metadata": {},
   "source": [
    "***\n",
    "**8)** Cool! Now, you need to explore the internal attributes of `grid_result`. It contains a LOT of information. Look closely at the description of the return value on the documentation page for `GridSearchCV`. \n",
    "\n",
    "https://scikit-learn.org/stable/modules/generated/sklearn.model_selection.GridSearchCV.html\n",
    "\n",
    "Then, show the best score, along with the best parameters for that score. (HINT: check out the attributes `best_score_` and `best_params_`)"
   ]
  },
  {
   "cell_type": "code",
   "execution_count": 42,
   "metadata": {},
   "outputs": [
    {
     "name": "stdout",
     "output_type": "stream",
     "text": [
      "Best score for grid search: 0.9274603174603175\n"
     ]
    }
   ],
   "source": [
    "# best score: Mean cross-validated score of the best_estimator\n",
    "# best_estimator: Estimator that was chosen by the search\n",
    "print(f\"Best score for grid search: {grid_result.best_score_}\")"
   ]
  },
  {
   "cell_type": "code",
   "execution_count": 43,
   "metadata": {},
   "outputs": [
    {
     "name": "stdout",
     "output_type": "stream",
     "text": [
      "Best params for grid search: {'criterion': 'entropy', 'max_depth': 3}\n"
     ]
    }
   ],
   "source": [
    "# best_params_: return the best parameters for the decision tree\n",
    "print(f\"Best params for grid search: {grid_result.best_params_}\")"
   ]
  },
  {
   "cell_type": "markdown",
   "metadata": {},
   "source": [
    "**9)** [M] What does the best \"score\" represent? What performance metric? How do you override it, if, for example, you want to use `f1_macro`?"
   ]
  },
  {
   "cell_type": "markdown",
   "metadata": {},
   "source": [
    "Best score represents the mean score of the cross-validation process of the best estimator - model with best performance. By default, parameters search for the score function of the estimators to evaluate parameter settings (ref: https://scikit-learn.org/stable/modules/grid_search.html). For classification, it is <code>sklearn.metrics.accuracy_score</code>, which is an accuracy based scoring. If we want to override the performance metric, we can specify the parameter <code>scoring</code> in the GridSearchCV. "
   ]
  },
  {
   "cell_type": "markdown",
   "metadata": {},
   "source": [
    "ANSWER: \n",
    "\n"
   ]
  },
  {
   "cell_type": "markdown",
   "metadata": {},
   "source": [
    "***\n",
    "**10)** Copy your `GridSearchCV` code above, but this time specify a `scoring` parameter of `\"f1_macro\"`. Be sure to store the results of fit again as `grid_result`, and print the best score and best parameters again"
   ]
  },
  {
   "cell_type": "code",
   "execution_count": 44,
   "metadata": {},
   "outputs": [],
   "source": [
    "param_grid = { \n",
    "  'criterion' : ['gini', 'entropy'], \n",
    "  'max_depth' : [3,4,5,6,7] \n",
    "}\n",
    "grid = GridSearchCV(DecisionTreeClassifier(), param_grid, \n",
    "                    return_train_score=True, scoring = 'f1_macro', cv=5)\n",
    "grid_result = grid.fit(X,y)"
   ]
  },
  {
   "cell_type": "code",
   "execution_count": 45,
   "metadata": {},
   "outputs": [
    {
     "name": "stdout",
     "output_type": "stream",
     "text": [
      "Best score for grid search: 0.929321836874562\n"
     ]
    }
   ],
   "source": [
    "print(f\"Best score for grid search: {grid_result.best_score_}\")"
   ]
  },
  {
   "cell_type": "code",
   "execution_count": 46,
   "metadata": {},
   "outputs": [
    {
     "name": "stdout",
     "output_type": "stream",
     "text": [
      "Best params for grid search: {'criterion': 'entropy', 'max_depth': 6}\n"
     ]
    }
   ],
   "source": [
    "print(f\"Best params for grid search: {grid_result.best_params_}\")"
   ]
  },
  {
   "cell_type": "markdown",
   "metadata": {},
   "source": [
    "**10b)** Did your result improve by using the default decision tree above?"
   ]
  },
  {
   "cell_type": "markdown",
   "metadata": {},
   "source": [
    "ANSWER:  \n",
    "My best score actually does not improve, and it is even slightly worse than the first score (which I find a bit strange because I think f1_macro should be a better metric than just accuracy). My latter result also reports a different best params, with a tree of max_depth 6 instead of 3"
   ]
  },
  {
   "cell_type": "markdown",
   "metadata": {},
   "source": [
    "***\n",
    "**11)** Now, write the code to report the mean training and testing score and standard deviation for every parameter combination tested. Output your data in order of highest mean test score to lowest. How did you do compared to the default decision tree without any parameters? \n",
    "\n",
    "(HINT: Don't think hard about this. This is actually easily done by casting the `cv_results_` attribute of your grid result return into a `DataFrame`, and then using standard pandas data selection and sorting methods. The variables I'm asking for are provided as a result! Then you can just output the dataframe itself, but selecting only the columns of interest.)"
   ]
  },
  {
   "cell_type": "code",
   "execution_count": 47,
   "metadata": {},
   "outputs": [],
   "source": [
    "df_grid_results = pd.DataFrame(grid_result.cv_results_)"
   ]
  },
  {
   "cell_type": "markdown",
   "metadata": {},
   "source": [
    "##### Mean train score"
   ]
  },
  {
   "cell_type": "code",
   "execution_count": 48,
   "metadata": {},
   "outputs": [
    {
     "data": {
      "text/html": [
       "<div>\n",
       "<style scoped>\n",
       "    .dataframe tbody tr th:only-of-type {\n",
       "        vertical-align: middle;\n",
       "    }\n",
       "\n",
       "    .dataframe tbody tr th {\n",
       "        vertical-align: top;\n",
       "    }\n",
       "\n",
       "    .dataframe thead th {\n",
       "        text-align: right;\n",
       "    }\n",
       "</style>\n",
       "<table border=\"1\" class=\"dataframe\">\n",
       "  <thead>\n",
       "    <tr style=\"text-align: right;\">\n",
       "      <th></th>\n",
       "      <th>params</th>\n",
       "      <th>mean_train_score</th>\n",
       "    </tr>\n",
       "  </thead>\n",
       "  <tbody>\n",
       "    <tr>\n",
       "      <th>0</th>\n",
       "      <td>{'criterion': 'gini', 'max_depth': 3}</td>\n",
       "      <td>0.984147</td>\n",
       "    </tr>\n",
       "    <tr>\n",
       "      <th>1</th>\n",
       "      <td>{'criterion': 'gini', 'max_depth': 4}</td>\n",
       "      <td>0.992073</td>\n",
       "    </tr>\n",
       "    <tr>\n",
       "      <th>2</th>\n",
       "      <td>{'criterion': 'gini', 'max_depth': 5}</td>\n",
       "      <td>0.997432</td>\n",
       "    </tr>\n",
       "    <tr>\n",
       "      <th>3</th>\n",
       "      <td>{'criterion': 'gini', 'max_depth': 6}</td>\n",
       "      <td>1.000000</td>\n",
       "    </tr>\n",
       "    <tr>\n",
       "      <th>4</th>\n",
       "      <td>{'criterion': 'gini', 'max_depth': 7}</td>\n",
       "      <td>1.000000</td>\n",
       "    </tr>\n",
       "    <tr>\n",
       "      <th>5</th>\n",
       "      <td>{'criterion': 'entropy', 'max_depth': 3}</td>\n",
       "      <td>0.994804</td>\n",
       "    </tr>\n",
       "    <tr>\n",
       "      <th>6</th>\n",
       "      <td>{'criterion': 'entropy', 'max_depth': 4}</td>\n",
       "      <td>0.998708</td>\n",
       "    </tr>\n",
       "    <tr>\n",
       "      <th>7</th>\n",
       "      <td>{'criterion': 'entropy', 'max_depth': 5}</td>\n",
       "      <td>1.000000</td>\n",
       "    </tr>\n",
       "    <tr>\n",
       "      <th>8</th>\n",
       "      <td>{'criterion': 'entropy', 'max_depth': 6}</td>\n",
       "      <td>1.000000</td>\n",
       "    </tr>\n",
       "    <tr>\n",
       "      <th>9</th>\n",
       "      <td>{'criterion': 'entropy', 'max_depth': 7}</td>\n",
       "      <td>1.000000</td>\n",
       "    </tr>\n",
       "  </tbody>\n",
       "</table>\n",
       "</div>"
      ],
      "text/plain": [
       "                                     params  mean_train_score\n",
       "0     {'criterion': 'gini', 'max_depth': 3}          0.984147\n",
       "1     {'criterion': 'gini', 'max_depth': 4}          0.992073\n",
       "2     {'criterion': 'gini', 'max_depth': 5}          0.997432\n",
       "3     {'criterion': 'gini', 'max_depth': 6}          1.000000\n",
       "4     {'criterion': 'gini', 'max_depth': 7}          1.000000\n",
       "5  {'criterion': 'entropy', 'max_depth': 3}          0.994804\n",
       "6  {'criterion': 'entropy', 'max_depth': 4}          0.998708\n",
       "7  {'criterion': 'entropy', 'max_depth': 5}          1.000000\n",
       "8  {'criterion': 'entropy', 'max_depth': 6}          1.000000\n",
       "9  {'criterion': 'entropy', 'max_depth': 7}          1.000000"
      ]
     },
     "execution_count": 48,
     "metadata": {},
     "output_type": "execute_result"
    }
   ],
   "source": [
    "df_grid_results.loc[:, ['params','mean_train_score']]"
   ]
  },
  {
   "cell_type": "markdown",
   "metadata": {},
   "source": [
    "##### Mean test score sorted"
   ]
  },
  {
   "cell_type": "code",
   "execution_count": 49,
   "metadata": {},
   "outputs": [
    {
     "data": {
      "text/html": [
       "<div>\n",
       "<style scoped>\n",
       "    .dataframe tbody tr th:only-of-type {\n",
       "        vertical-align: middle;\n",
       "    }\n",
       "\n",
       "    .dataframe tbody tr th {\n",
       "        vertical-align: top;\n",
       "    }\n",
       "\n",
       "    .dataframe thead th {\n",
       "        text-align: right;\n",
       "    }\n",
       "</style>\n",
       "<table border=\"1\" class=\"dataframe\">\n",
       "  <thead>\n",
       "    <tr style=\"text-align: right;\">\n",
       "      <th></th>\n",
       "      <th>params</th>\n",
       "      <th>mean_test_score</th>\n",
       "    </tr>\n",
       "  </thead>\n",
       "  <tbody>\n",
       "    <tr>\n",
       "      <th>8</th>\n",
       "      <td>{'criterion': 'entropy', 'max_depth': 6}</td>\n",
       "      <td>0.929322</td>\n",
       "    </tr>\n",
       "    <tr>\n",
       "      <th>5</th>\n",
       "      <td>{'criterion': 'entropy', 'max_depth': 3}</td>\n",
       "      <td>0.924416</td>\n",
       "    </tr>\n",
       "    <tr>\n",
       "      <th>9</th>\n",
       "      <td>{'criterion': 'entropy', 'max_depth': 7}</td>\n",
       "      <td>0.923576</td>\n",
       "    </tr>\n",
       "    <tr>\n",
       "      <th>7</th>\n",
       "      <td>{'criterion': 'entropy', 'max_depth': 5}</td>\n",
       "      <td>0.918126</td>\n",
       "    </tr>\n",
       "    <tr>\n",
       "      <th>4</th>\n",
       "      <td>{'criterion': 'gini', 'max_depth': 7}</td>\n",
       "      <td>0.917806</td>\n",
       "    </tr>\n",
       "    <tr>\n",
       "      <th>1</th>\n",
       "      <td>{'criterion': 'gini', 'max_depth': 4}</td>\n",
       "      <td>0.916012</td>\n",
       "    </tr>\n",
       "    <tr>\n",
       "      <th>2</th>\n",
       "      <td>{'criterion': 'gini', 'max_depth': 5}</td>\n",
       "      <td>0.911068</td>\n",
       "    </tr>\n",
       "    <tr>\n",
       "      <th>6</th>\n",
       "      <td>{'criterion': 'entropy', 'max_depth': 4}</td>\n",
       "      <td>0.908595</td>\n",
       "    </tr>\n",
       "    <tr>\n",
       "      <th>0</th>\n",
       "      <td>{'criterion': 'gini', 'max_depth': 3}</td>\n",
       "      <td>0.894313</td>\n",
       "    </tr>\n",
       "    <tr>\n",
       "      <th>3</th>\n",
       "      <td>{'criterion': 'gini', 'max_depth': 6}</td>\n",
       "      <td>0.886835</td>\n",
       "    </tr>\n",
       "  </tbody>\n",
       "</table>\n",
       "</div>"
      ],
      "text/plain": [
       "                                     params  mean_test_score\n",
       "8  {'criterion': 'entropy', 'max_depth': 6}         0.929322\n",
       "5  {'criterion': 'entropy', 'max_depth': 3}         0.924416\n",
       "9  {'criterion': 'entropy', 'max_depth': 7}         0.923576\n",
       "7  {'criterion': 'entropy', 'max_depth': 5}         0.918126\n",
       "4     {'criterion': 'gini', 'max_depth': 7}         0.917806\n",
       "1     {'criterion': 'gini', 'max_depth': 4}         0.916012\n",
       "2     {'criterion': 'gini', 'max_depth': 5}         0.911068\n",
       "6  {'criterion': 'entropy', 'max_depth': 4}         0.908595\n",
       "0     {'criterion': 'gini', 'max_depth': 3}         0.894313\n",
       "3     {'criterion': 'gini', 'max_depth': 6}         0.886835"
      ]
     },
     "execution_count": 49,
     "metadata": {},
     "output_type": "execute_result"
    }
   ],
   "source": [
    "df_grid_results.loc[:, ['params','mean_test_score']].sort_values(by = 'mean_test_score', ascending = False)"
   ]
  },
  {
   "cell_type": "markdown",
   "metadata": {},
   "source": [
    "***\n",
    "**12)** Now, run a more extensive grid search to see if you can get an even better decision tree. Use the following `param_grid` to get you started. \n",
    "\n",
    "```\n",
    "param_grid = { 'criterion' : ['gini', 'entropy'],\n",
    "               'max_depth' : [4,5,6,7,8,9],\n",
    "               'min_samples_split' : [3,4,5,6],\n",
    "               'min_samples_leaf' : [1,2,3,4,5]\n",
    "             }\n",
    "```\n",
    "\n",
    "Then, specify the following parameters for `GridSearchCV`:\n",
    "- A higher number of partitions for cross-validation will give you a better, more exhaustive performance assessment. Use `cv=10` this time\n",
    "- You can have multiple scoring metrics assessed. Let's record both accuracy and f1. Use `scoring=[\"accuracy\",\"f1_macro\"]`\n",
    "- When you have multiple metrics, you must specify the `refit` parameter. Why? Scikit-learn retrains the final model returned with the entire dataset using the best measure specified with this parameter. The best parameters will be determined by \"f1_macro\". Thus, set `refit=\"f1_macro\"`\n",
    "\n",
    "\n",
    "Finally, once you retrieve the results, report the number of total runs, and the best result and its parameter. \n",
    "\n",
    "**That parameter grid will results in 240 different trees being assessed, each with 10-fold cross validation, for a total of 2400 trees being independently built! For some older machines, this could take a a minute or so.**\n",
    "\n",
    ">Try to experiment with `n_jobs` as well! Most of your computers have multiple cores in the CPU. Take advantage of it, especially when you have this many runs! Observe the %%time magic command output in the cell to see if it actually makes a difference with your time to wait.\n"
   ]
  },
  {
   "cell_type": "code",
   "execution_count": 50,
   "metadata": {},
   "outputs": [
    {
     "name": "stdout",
     "output_type": "stream",
     "text": [
      "Wall time: 10.2 s\n"
     ]
    }
   ],
   "source": [
    "%%time\n",
    "#Extra stuff....\n",
    "param_grid = { 'criterion' : ['gini', 'entropy'],\n",
    "               'max_depth' : [4,5,6,7,8,9],\n",
    "               'min_samples_split' : [3,4,5,6],\n",
    "               'min_samples_leaf' : [1,2,3,4,5]\n",
    "             }\n",
    "grid = GridSearchCV(DecisionTreeClassifier(), param_grid, \n",
    "                    return_train_score=True, scoring = ['accuracy', 'f1_macro'], cv=10, refit = 'f1_macro', n_jobs = 2)\n",
    "grid_result = grid.fit(X,y)"
   ]
  },
  {
   "cell_type": "markdown",
   "metadata": {},
   "source": [
    "Let's case this into a data frame..."
   ]
  },
  {
   "cell_type": "code",
   "execution_count": 51,
   "metadata": {},
   "outputs": [],
   "source": [
    "df_grid_results = pd.DataFrame(grid_result.cv_results_)"
   ]
  },
  {
   "cell_type": "code",
   "execution_count": 52,
   "metadata": {},
   "outputs": [
    {
     "name": "stdout",
     "output_type": "stream",
     "text": [
      "Best score for grid search: 0.9599037999037998\n"
     ]
    }
   ],
   "source": [
    "print(f\"Best score for grid search: {grid_result.best_score_}\")"
   ]
  },
  {
   "cell_type": "code",
   "execution_count": 53,
   "metadata": {},
   "outputs": [
    {
     "name": "stdout",
     "output_type": "stream",
     "text": [
      "Best params for grid search: {'criterion': 'entropy', 'max_depth': 4, 'min_samples_leaf': 1, 'min_samples_split': 5}\n"
     ]
    }
   ],
   "source": [
    "print(f\"Best params for grid search: {grid_result.best_params_}\")"
   ]
  },
  {
   "cell_type": "code",
   "execution_count": 54,
   "metadata": {},
   "outputs": [
    {
     "name": "stdout",
     "output_type": "stream",
     "text": [
      "                                                params  mean_test_accuracy\n",
      "122  {'criterion': 'entropy', 'max_depth': 4, 'min_...            0.960784\n",
      "142  {'criterion': 'entropy', 'max_depth': 5, 'min_...            0.960784\n",
      "201  {'criterion': 'entropy', 'max_depth': 8, 'min_...            0.955229\n",
      "121  {'criterion': 'entropy', 'max_depth': 4, 'min_...            0.955229\n",
      "181  {'criterion': 'entropy', 'max_depth': 7, 'min_...            0.955229\n",
      "Best accuracy model: {'criterion': 'entropy', 'max_depth': 4, 'min_samples_leaf': 1, 'min_samples_split': 5}\n"
     ]
    }
   ],
   "source": [
    "acc = df_grid_results.loc[:, ['params','mean_test_accuracy']].sort_values(by = 'mean_test_accuracy', ascending = False).head(5)\n",
    "print(acc)\n",
    "print(f\"Best accuracy model: {acc.iloc[0,0]}\")"
   ]
  },
  {
   "cell_type": "code",
   "execution_count": 55,
   "metadata": {},
   "outputs": [
    {
     "name": "stdout",
     "output_type": "stream",
     "text": [
      "                                                params  mean_train_f1_macro\n",
      "120  {'criterion': 'entropy', 'max_depth': 4, 'min_...                  1.0\n",
      "180  {'criterion': 'entropy', 'max_depth': 7, 'min_...                  1.0\n",
      "220  {'criterion': 'entropy', 'max_depth': 9, 'min_...                  1.0\n",
      "200  {'criterion': 'entropy', 'max_depth': 8, 'min_...                  1.0\n",
      "140  {'criterion': 'entropy', 'max_depth': 5, 'min_...                  1.0\n",
      "Best f1_macro model (train): {'criterion': 'entropy', 'max_depth': 4, 'min_samples_leaf': 1, 'min_samples_split': 5}\n"
     ]
    }
   ],
   "source": [
    "f1 = df_grid_results.loc[:, ['params','mean_train_f1_macro']].sort_values(by = 'mean_train_f1_macro', ascending = False).head(5)\n",
    "print(f1)\n",
    "print(f\"Best f1_macro model (train): {acc.iloc[0,0]}\")"
   ]
  },
  {
   "cell_type": "code",
   "execution_count": 56,
   "metadata": {},
   "outputs": [
    {
     "name": "stdout",
     "output_type": "stream",
     "text": [
      "                                                params  mean_test_f1_macro\n",
      "122  {'criterion': 'entropy', 'max_depth': 4, 'min_...            0.959904\n",
      "142  {'criterion': 'entropy', 'max_depth': 5, 'min_...            0.959283\n",
      "140  {'criterion': 'entropy', 'max_depth': 5, 'min_...            0.954900\n",
      "121  {'criterion': 'entropy', 'max_depth': 4, 'min_...            0.954776\n",
      "161  {'criterion': 'entropy', 'max_depth': 6, 'min_...            0.954776\n",
      "Best f1_macro model (test): {'criterion': 'entropy', 'max_depth': 4, 'min_samples_leaf': 1, 'min_samples_split': 5}\n"
     ]
    }
   ],
   "source": [
    "f1 = df_grid_results.loc[:, ['params','mean_test_f1_macro']].sort_values(by = 'mean_test_f1_macro', ascending = False).head(5)\n",
    "print(f1)\n",
    "print(f\"Best f1_macro model (test): {acc.iloc[0,0]}\")"
   ]
  },
  {
   "cell_type": "markdown",
   "metadata": {},
   "source": [
    "**13)**\t[M] Discuss your findings. And, go back and re-run the experiment, but use 5-fold this time. You might very well find that the preformance results are better with 10-fold. Why do you think this is? And, did the additional parameters make a difference? Output the top 5 parameter configurations, along with the training and testing, sorted by f1_macro. "
   ]
  },
  {
   "cell_type": "markdown",
   "metadata": {},
   "source": [
    "We obtain the best parameters for the Decision Tree Classifier to be {'criterion': 'entropy', 'max_depth': 7, 'min_samples_leaf': 1, 'min_samples_split': 4}, with the best score of 0.9599 (f1_score) and accuracy of 0.9608"
   ]
  },
  {
   "cell_type": "markdown",
   "metadata": {},
   "source": [
    "##### 5-fold "
   ]
  },
  {
   "cell_type": "code",
   "execution_count": 57,
   "metadata": {},
   "outputs": [
    {
     "name": "stdout",
     "output_type": "stream",
     "text": [
      "Wall time: 4.2 s\n"
     ]
    }
   ],
   "source": [
    "%%time\n",
    "#Extra stuff....\n",
    "param_grid = { 'criterion' : ['gini', 'entropy'],\n",
    "               'max_depth' : [4,5,6,7,8,9],\n",
    "               'min_samples_split' : [3,4,5,6],\n",
    "               'min_samples_leaf' : [1,2,3,4,5]\n",
    "             }\n",
    "grid = GridSearchCV(DecisionTreeClassifier(), param_grid, \n",
    "                    return_train_score=True, scoring = ['accuracy', 'f1_macro'], cv=5, refit = 'f1_macro', n_jobs = 2)\n",
    "grid_result = grid.fit(X,y)"
   ]
  },
  {
   "cell_type": "code",
   "execution_count": 58,
   "metadata": {},
   "outputs": [],
   "source": [
    "df_grid_results = pd.DataFrame(grid_result.cv_results_)"
   ]
  },
  {
   "cell_type": "markdown",
   "metadata": {},
   "source": [
    "The performance is better with 10-fold because it provides more training data for the decision tree. Our data is big enough to use 10-fold. With more folds, we will have more training observations and avoid overfitting to just a smaller dataset, which decision tree tends to do."
   ]
  },
  {
   "cell_type": "code",
   "execution_count": 59,
   "metadata": {},
   "outputs": [
    {
     "name": "stdout",
     "output_type": "stream",
     "text": [
      "                                                params  mean_train_f1_macro\n",
      "120  {'criterion': 'entropy', 'max_depth': 4, 'min_...             0.998708\n",
      "180  {'criterion': 'entropy', 'max_depth': 7, 'min_...             0.998708\n",
      "40   {'criterion': 'gini', 'max_depth': 6, 'min_sam...             0.998708\n",
      "80   {'criterion': 'gini', 'max_depth': 8, 'min_sam...             0.998708\n",
      "81   {'criterion': 'gini', 'max_depth': 8, 'min_sam...             0.998708\n",
      "Best models - train\n",
      "{'criterion': 'entropy', 'max_depth': 4, 'min_samples_leaf': 1, 'min_samples_split': 5}\n",
      "{'criterion': 'entropy', 'max_depth': 5, 'min_samples_leaf': 1, 'min_samples_split': 5}\n",
      "{'criterion': 'entropy', 'max_depth': 8, 'min_samples_leaf': 1, 'min_samples_split': 4}\n",
      "{'criterion': 'entropy', 'max_depth': 4, 'min_samples_leaf': 1, 'min_samples_split': 4}\n",
      "{'criterion': 'entropy', 'max_depth': 7, 'min_samples_leaf': 1, 'min_samples_split': 4}\n"
     ]
    }
   ],
   "source": [
    "f1 = df_grid_results.loc[:, ['params','mean_train_f1_macro']].sort_values(by = 'mean_train_f1_macro', ascending = False).head(5)\n",
    "print(f1)\n",
    "print(\"Best models - train\")\n",
    "for i in range(5):\n",
    "    print(f\"{acc.iloc[i,0]}\")"
   ]
  },
  {
   "cell_type": "code",
   "execution_count": 60,
   "metadata": {},
   "outputs": [
    {
     "name": "stdout",
     "output_type": "stream",
     "text": [
      "                                                params  mean_test_f1_macro\n",
      "142  {'criterion': 'entropy', 'max_depth': 5, 'min_...            0.945052\n",
      "141  {'criterion': 'entropy', 'max_depth': 5, 'min_...            0.934773\n",
      "180  {'criterion': 'entropy', 'max_depth': 7, 'min_...            0.934407\n",
      "203  {'criterion': 'entropy', 'max_depth': 8, 'min_...            0.933495\n",
      "143  {'criterion': 'entropy', 'max_depth': 5, 'min_...            0.929447\n",
      "Best models - test\n",
      "{'criterion': 'entropy', 'max_depth': 4, 'min_samples_leaf': 1, 'min_samples_split': 5}\n",
      "{'criterion': 'entropy', 'max_depth': 5, 'min_samples_leaf': 1, 'min_samples_split': 5}\n",
      "{'criterion': 'entropy', 'max_depth': 8, 'min_samples_leaf': 1, 'min_samples_split': 4}\n",
      "{'criterion': 'entropy', 'max_depth': 4, 'min_samples_leaf': 1, 'min_samples_split': 4}\n",
      "{'criterion': 'entropy', 'max_depth': 7, 'min_samples_leaf': 1, 'min_samples_split': 4}\n"
     ]
    }
   ],
   "source": [
    "f1 = df_grid_results.loc[:, ['params','mean_test_f1_macro']].sort_values(by = 'mean_test_f1_macro', ascending = False).head(5)\n",
    "print(f1)\n",
    "print(\"Best models - test\")\n",
    "for i in range(5):\n",
    "    print(f\"{acc.iloc[i,0]}\")"
   ]
  },
  {
   "cell_type": "markdown",
   "metadata": {},
   "source": [
    "\n",
    "\n",
    "\n"
   ]
  },
  {
   "cell_type": "markdown",
   "metadata": {},
   "source": [
    "***\n",
    "### Reflecting on parallel processing and grid search\n",
    "\n",
    "Hopefully you tried out `n_jobs=2`. Also, I sometimes set `pre_dispatch` to the same number as `n_jobs`, just to control too much memory usage. Not really important for decision trees, but could be important for larger models. If you have a really juicy machine, try an even higher value of `n_jobs`. (NOTE: Don't go higher than the number of cores in your machine as you will actually slow down quite a bit from too much OS context switching (you'll learn about this from CSCI 315 if you haven't already.) Experiment by starting with only `n_jobs=2`, and incrementally increase. NOTE: Parallel jobs for large models such as neural nets can sometimes fail with a memory error. If this happens, just run with n_jobs=1.)\n",
    "\n",
    "Depending on the number of parameters you choose, and the cv value, and most importantly, the model, this can take an extraordinarily long time! Like, seriously long. Like, if you are not careful, you could be waiting days for results! Serious grid search for hyperparameter tuning is typically very CPU intensive (and memory intensive for large datasets.) **So, ALWAYS START SIMPLE FIRST!** Use only a few parameters to explore, with few values, and a small CV number to start with. With neural nets, choose a small number of epochs to begin. Why? **Confirm you are getting decent results first!** Then, let your obsessive side kick into high gear, set your system to evaluate many different parameters, and then typically, you go to bed."
   ]
  },
  {
   "cell_type": "markdown",
   "metadata": {},
   "source": [
    "***\n",
    "**14)** OK. Now on to hyperparameter tuning for Keras. (CONSIDER YOURSELF WARNED! Neural nets take a long time to train compared to decision trees!) From the previous lab, copy over your code for the function `create_keras_model()`. Now, modify your base neural net structure to match the inputs and outputs for the wine dataset you are working on for this lab.\n",
    "\n",
    "Once you do that, modify your function to take parameters, specifically pointing to parameters that you want to explore with `GridSearchCV`. That is the only way to get the parameters into a scikit-learn Keras-wrapped model. In particular, you are going to want to evaluate different optimizer and activation values for the hidden layer, and vary the number of hidden units. (Eventually you'll want to mess with SGD and momentum, but keep it simple for now!) Modify your function to take these three additional parameters. You may name the parameters whatever you want, though generally it's good to keep them the same as the actual parameters used as you build your model.\n",
    "\n",
    "I suggest setting up the following parameters:\n",
    "\n",
    "* `optimizer` (with a default of `adam`)\n",
    "* `num_hidden` - representing the number of hidden nodes in the middle layer, set a default of 10\n",
    "* `activation` - the activation function you want to use on the middle layer\n",
    "\n",
    "(Of course, you can explore further and create deeper multilayer structures! We're just starting with the essentials.)\n",
    "\n",
    "Here's what my function looks like. You can copy it over to get you started.\n",
    "\n",
    "```\n",
    "def create_keras_model(optimizer='adam', num_hidden=10, activation='relu'):\n",
    "\n",
    "    # wine has 13 predictor variables\n",
    "    inputs = Input(shape=(13,))\n",
    "    \n",
    "    # our hidden layer is parameterized\n",
    "    layer = Dense(num_hidden, activation=activation)(inputs)\n",
    "    \n",
    "    # we have a 3-class problem, and we'll hard-code softmax activation\n",
    "    outputs = Dense(3,activation=\"softmax\")(layer)\n",
    "    \n",
    "    # Build our model\n",
    "    model = Model(inputs=inputs, outputs=outputs, name=\"keras model\")\n",
    "\n",
    "    # Compile and return the fucker\n",
    "    model.compile(optimizer=optimizer, \n",
    "                  loss=\"categorical_crossentropy\", \n",
    "                  metrics=[\"accuracy\"])\n",
    "    return model\n",
    "```\n",
    "\n",
    "I suggest you use my function to get you started. Copy it into your cell below. Then, create your Keras classifier with KerasClassifier(). When you call this function, this is where you pass parameters such as epochs and batch_size. Remember, we're starting simple! NEVER jump right into a GridSearch until you've got your model function working properly. You don't want to wait long, so just use epochs=5  and a batch_size=4. (I would advise starting with verbose=1, just to make sure your model is training properly, and you notice the accuracy increasing and loss decreasing, then set verbose=0 when doing a bigger grid search on the next step.) \n",
    "\n",
    "```\n",
    "clf = KerasClassifier(build_fn=create_keras_model, verbose=1, epochs=5, batch_size=4)\n",
    "```\n",
    "\n",
    "> NOTE - the parameters in our `create_keras_model` function are for use with GridSearchCV, not for our first step using `cross_val_predict`. This is why we're hard-coding default values.\n",
    "\n",
    "Finally, test out your `KerasClassifier()` instance with the `cross_val_predict()` method you learned about in the previous lab, and print the results of classification_report. You can try to vary some parameters if you want, but don't spend a lot of time here."
   ]
  },
  {
   "cell_type": "code",
   "execution_count": 66,
   "metadata": {},
   "outputs": [],
   "source": [
    "def create_keras_model(optimizer='adam', num_hidden=10, activation='relu'):\n",
    "\n",
    "    # wine has 13 predictor variables\n",
    "    inputs = Input(shape=(13,))\n",
    "    \n",
    "    # our hidden layer is parameterized\n",
    "    layer = Dense(num_hidden, activation=activation)(inputs)\n",
    "    \n",
    "    # we have a 3-class problem, and we'll hard-code softmax activation\n",
    "    outputs = Dense(3,activation=\"softmax\")(layer)\n",
    "    \n",
    "    # Build our model\n",
    "    model = Model(inputs=inputs, outputs=outputs, name=\"keras_model\")\n",
    "\n",
    "    # Compile and return the fucker --- ...\n",
    "    model.compile(optimizer=optimizer, \n",
    "                  loss=\"categorical_crossentropy\", \n",
    "                  metrics=[\"accuracy\"])\n",
    "    return model"
   ]
  },
  {
   "cell_type": "code",
   "execution_count": 82,
   "metadata": {
    "scrolled": true
   },
   "outputs": [],
   "source": [
    "clf = KerasClassifier(model=create_keras_model, verbose=1, epochs=5, batch_size=4, activation = 'relu')"
   ]
  },
  {
   "cell_type": "code",
   "execution_count": 83,
   "metadata": {},
   "outputs": [
    {
     "name": "stdout",
     "output_type": "stream",
     "text": [
      "Epoch 1/5\n",
      "36/36 [==============================] - 0s 883us/step - loss: 1.2204 - accuracy: 0.4679\n",
      "Epoch 2/5\n",
      "36/36 [==============================] - 0s 997us/step - loss: 1.1815 - accuracy: 0.4993\n",
      "Epoch 3/5\n",
      "36/36 [==============================] - 0s 997us/step - loss: 0.9896 - accuracy: 0.6654\n",
      "Epoch 4/5\n",
      "36/36 [==============================] - 0s 1ms/step - loss: 0.9259 - accuracy: 0.7174\n",
      "Epoch 5/5\n",
      "36/36 [==============================] - 0s 940us/step - loss: 0.6651 - accuracy: 0.8189\n",
      "9/9 [==============================] - 0s 748us/step\n",
      "Epoch 1/5\n",
      "36/36 [==============================] - 1s 2ms/step - loss: 1.4975 - accuracy: 0.1800\n",
      "Epoch 2/5\n",
      "36/36 [==============================] - 0s 1ms/step - loss: 1.1292 - accuracy: 0.3736\n",
      "Epoch 3/5\n",
      "36/36 [==============================] - 0s 826us/step - loss: 0.9919 - accuracy: 0.4391\n",
      "Epoch 4/5\n",
      "36/36 [==============================] - 0s 769us/step - loss: 0.8299 - accuracy: 0.5694\n",
      "Epoch 5/5\n",
      "36/36 [==============================] - 0s 940us/step - loss: 0.7245 - accuracy: 0.6087\n",
      "9/9 [==============================] - 0s 873us/step\n",
      "Epoch 1/5\n",
      "36/36 [==============================] - 0s 911us/step - loss: 1.3465 - accuracy: 0.4143\n",
      "Epoch 2/5\n",
      "36/36 [==============================] - 0s 998us/step - loss: 1.1121 - accuracy: 0.5403\n",
      "Epoch 3/5\n",
      "36/36 [==============================] - 0s 1ms/step - loss: 0.8559 - accuracy: 0.6004\n",
      "Epoch 4/5\n",
      "36/36 [==============================] - 0s 1ms/step - loss: 0.6862 - accuracy: 0.7067\n",
      "Epoch 5/5\n",
      "36/36 [==============================] - 0s 997us/step - loss: 0.5670 - accuracy: 0.8219\n",
      "9/9 [==============================] - 0s 996us/step\n",
      "Epoch 1/5\n",
      "36/36 [==============================] - 0s 855us/step - loss: 1.0775 - accuracy: 0.4159\n",
      "Epoch 2/5\n",
      "36/36 [==============================] - 0s 1ms/step - loss: 0.9943 - accuracy: 0.5613\n",
      "Epoch 3/5\n",
      "36/36 [==============================] - 0s 1ms/step - loss: 0.7373 - accuracy: 0.7752\n",
      "Epoch 4/5\n",
      "36/36 [==============================] - 0s 997us/step - loss: 0.6578 - accuracy: 0.8472\n",
      "Epoch 5/5\n",
      "36/36 [==============================] - 0s 912us/step - loss: 0.5452 - accuracy: 0.8414\n",
      "9/9 [==============================] - 0s 874us/step\n",
      "Epoch 1/5\n",
      "36/36 [==============================] - 0s 1ms/step - loss: 1.2362 - accuracy: 0.2782 \n",
      "Epoch 2/5\n",
      "36/36 [==============================] - 0s 940us/step - loss: 0.9992 - accuracy: 0.5355\n",
      "Epoch 3/5\n",
      "36/36 [==============================] - 0s 1ms/step - loss: 0.8252 - accuracy: 0.7164\n",
      "Epoch 4/5\n",
      "36/36 [==============================] - 0s 1ms/step - loss: 0.7174 - accuracy: 0.6955\n",
      "Epoch 5/5\n",
      "36/36 [==============================] - 0s 968us/step - loss: 0.5959 - accuracy: 0.8112\n",
      "9/9 [==============================] - 0s 753us/step\n",
      "              precision    recall  f1-score   support\n",
      "\n",
      "           0      0.800     0.881     0.839        59\n",
      "           1      0.815     0.746     0.779        71\n",
      "           2      0.792     0.792     0.792        48\n",
      "\n",
      "   micro avg      0.803     0.803     0.803       178\n",
      "   macro avg      0.802     0.807     0.803       178\n",
      "weighted avg      0.804     0.803     0.802       178\n",
      " samples avg      0.803     0.803     0.803       178\n",
      "\n"
     ]
    }
   ],
   "source": [
    "y_pred = cross_val_predict(clf, X, y_bin, cv = 5)\n",
    "print(classification_report(y_bin, y_pred, digits = 3))"
   ]
  },
  {
   "cell_type": "markdown",
   "metadata": {},
   "source": [
    "***\n",
    "**15)** Ok, you've verified that you have a good model function that you can explore. Now, it's time to use GridSearchCV on Keras (and prepare to wait several minutes or more!) \n",
    "\n",
    "First, create a `param_grid` dictionary. You must, minimally, specify the following keys: \n",
    "-\t`optimizer : ['adam','sgd']`\n",
    "-\tnumber of hidden units : 2 different numbers of your choice\n",
    "-\t`'activation' : ['relu']`\n",
    "-\t`'epochs' : [5, 10]`\n",
    "-\t`'batch_size' : [4, 8]`\n",
    "\n",
    "Create a new classifier, but be sure verbose=0. Then, just like you did with the decision tree, wrap that classifier model in a GridSearchCV instance. Use a cross validation of 5 (though you can try more if you want.) Report your best model hyperparameters  \n",
    "\n",
    "When you create your `GridSearchCV` object, be sure to set `verbose=2`. That way you'll get some output to know what is being done.\n",
    "\n",
    "You should get some pretty good results!"
   ]
  },
  {
   "cell_type": "code",
   "execution_count": 85,
   "metadata": {},
   "outputs": [
    {
     "name": "stdout",
     "output_type": "stream",
     "text": [
      "Fitting 5 folds for each of 8 candidates, totalling 40 fits\n"
     ]
    },
    {
     "name": "stderr",
     "output_type": "stream",
     "text": [
      "[Parallel(n_jobs=2)]: Using backend LokyBackend with 2 concurrent workers.\n",
      "[Parallel(n_jobs=2)]: Done  37 tasks      | elapsed:   18.7s\n",
      "[Parallel(n_jobs=2)]: Done  40 out of  40 | elapsed:   19.5s finished\n"
     ]
    },
    {
     "name": "stdout",
     "output_type": "stream",
     "text": [
      "Wall time: 20.3 s\n"
     ]
    }
   ],
   "source": [
    "%%time\n",
    "param_grid = {\n",
    "    'optimizer' : ['adam', 'sgd'],\n",
    "#     'activation' : ['relu'], Error: ValueError: Invalid parameter activation for estimator KerasClassifier. \n",
    "#     I tried to include activation in the constructor but it does not work.\n",
    "    'epochs' : [5, 10],\n",
    "    'batch_size' : [4, 8]\n",
    "}\n",
    "clf = KerasClassifier(model=create_keras_model, verbose=0, epochs=5, batch_size=4)\n",
    "grid = GridSearchCV(clf, param_grid, \n",
    "                    return_train_score=True, scoring = ['accuracy', 'f1_macro'], cv=5, refit = 'f1_macro', n_jobs = 2, verbose = 2)\n",
    "grid_result = grid.fit(X,y_bin)"
   ]
  },
  {
   "cell_type": "code",
   "execution_count": 86,
   "metadata": {},
   "outputs": [],
   "source": [
    "df_grid_results = pd.DataFrame(grid_result.cv_results_)"
   ]
  },
  {
   "cell_type": "code",
   "execution_count": 87,
   "metadata": {},
   "outputs": [
    {
     "name": "stdout",
     "output_type": "stream",
     "text": [
      "                                              params  mean_test_f1_macro\n",
      "2  {'batch_size': 4, 'epochs': 10, 'optimizer': '...            0.936642\n",
      "6  {'batch_size': 8, 'epochs': 10, 'optimizer': '...            0.916657\n",
      "3  {'batch_size': 4, 'epochs': 10, 'optimizer': '...            0.886729\n",
      "1  {'batch_size': 4, 'epochs': 5, 'optimizer': 's...            0.796927\n",
      "5  {'batch_size': 8, 'epochs': 5, 'optimizer': 's...            0.770038\n",
      "------Best models - test dataset\n",
      "{'batch_size': 4, 'epochs': 10, 'optimizer': 'adam'}\n",
      "{'batch_size': 8, 'epochs': 10, 'optimizer': 'adam'}\n",
      "{'batch_size': 4, 'epochs': 10, 'optimizer': 'sgd'}\n",
      "{'batch_size': 4, 'epochs': 5, 'optimizer': 'sgd'}\n",
      "{'batch_size': 8, 'epochs': 5, 'optimizer': 'sgd'}\n"
     ]
    }
   ],
   "source": [
    "f1 = df_grid_results.loc[:, ['params','mean_test_f1_macro']].sort_values(by = 'mean_test_f1_macro', ascending = False).head(5)\n",
    "print(f1)\n",
    "print(\"------Best models - test dataset\")\n",
    "for i in range(5):\n",
    "    print(f\"{f1.iloc[i,0]}\")"
   ]
  },
  {
   "cell_type": "markdown",
   "metadata": {},
   "source": [
    "**16)** Study your results. Can you do even better? How close can you get to 100% accuracy on a 5- or 10-fold cross validation with Keras? Try a different activation… say… `tanh`. You'll likely need more epochs. Perhaps a few more hidden units? A bit larger batch size, but more epochs? Can you use the sgd optimizer? Play with the learning rate and momentum? Many models perform the same, but you'll notice dramatic differences in the time taken to fit the model, which is quite interesting and informative! See what happens…. "
   ]
  },
  {
   "cell_type": "code",
   "execution_count": 89,
   "metadata": {},
   "outputs": [
    {
     "name": "stdout",
     "output_type": "stream",
     "text": [
      "Fitting 5 folds for each of 18 candidates, totalling 90 fits\n"
     ]
    },
    {
     "name": "stderr",
     "output_type": "stream",
     "text": [
      "[Parallel(n_jobs=2)]: Using backend LokyBackend with 2 concurrent workers.\n",
      "[Parallel(n_jobs=2)]: Done  37 tasks      | elapsed:   16.3s\n",
      "[Parallel(n_jobs=2)]: Done  90 out of  90 | elapsed:   35.8s finished\n",
      "D:\\_work\\coding\\anaconda\\envs\\csci349\\lib\\site-packages\\scikeras\\wrappers.py:302: UserWarning: ``build_fn`` will be renamed to ``model`` in a future release, at which point use of ``build_fn`` will raise an Error instead.\n",
      "  \"``build_fn`` will be renamed to ``model`` in a future release,\"\n"
     ]
    },
    {
     "name": "stdout",
     "output_type": "stream",
     "text": [
      "Wall time: 36.7 s\n"
     ]
    }
   ],
   "source": [
    "%%time\n",
    "param_grid = {\n",
    "    'optimizer' : ['adam', 'sgd'],\n",
    "#     'activation' : ['relu'],\n",
    "    'epochs' : [5, 10, 15],\n",
    "    'batch_size' : [4, 8, 12]\n",
    "}\n",
    "clf = KerasClassifier(build_fn=create_keras_model, verbose=0, epochs=5, batch_size=4)\n",
    "grid = GridSearchCV(clf, param_grid, \n",
    "                    return_train_score=True, scoring = ['accuracy', 'f1_macro'], cv=5, refit = 'f1_macro', n_jobs = 2, verbose = 2)\n",
    "grid_result = grid.fit(X,y_bin)"
   ]
  },
  {
   "cell_type": "code",
   "execution_count": 90,
   "metadata": {},
   "outputs": [
    {
     "name": "stdout",
     "output_type": "stream",
     "text": [
      "                                               params  mean_test_f1_macro\n",
      "4   {'batch_size': 4, 'epochs': 15, 'optimizer': '...            0.973388\n",
      "5   {'batch_size': 4, 'epochs': 15, 'optimizer': '...            0.932951\n",
      "3   {'batch_size': 4, 'epochs': 10, 'optimizer': '...            0.925704\n",
      "2   {'batch_size': 4, 'epochs': 10, 'optimizer': '...            0.912886\n",
      "10  {'batch_size': 8, 'epochs': 15, 'optimizer': '...            0.908834\n",
      "------Best models - test dataset\n",
      "{'batch_size': 4, 'epochs': 15, 'optimizer': 'adam'}\n",
      "{'batch_size': 4, 'epochs': 15, 'optimizer': 'sgd'}\n",
      "{'batch_size': 4, 'epochs': 10, 'optimizer': 'sgd'}\n",
      "{'batch_size': 4, 'epochs': 10, 'optimizer': 'adam'}\n",
      "{'batch_size': 8, 'epochs': 15, 'optimizer': 'adam'}\n"
     ]
    }
   ],
   "source": [
    "#summarize results\n",
    "df_grid_results = pd.DataFrame(grid_result.cv_results_)\n",
    "f1 = df_grid_results.loc[:, ['params','mean_test_f1_macro']].sort_values(by = 'mean_test_f1_macro', ascending = False).head(5)\n",
    "print(f1)\n",
    "print(\"------Best models - test dataset\")\n",
    "for i in range(5):\n",
    "    print(f\"{f1.iloc[i,0]}\")"
   ]
  },
  {
   "cell_type": "code",
   "execution_count": 91,
   "metadata": {},
   "outputs": [],
   "source": [
    "# More epochs definitely works better."
   ]
  },
  {
   "cell_type": "code",
   "execution_count": null,
   "metadata": {},
   "outputs": [],
   "source": []
  }
 ],
 "metadata": {
  "kernelspec": {
   "display_name": "Python 3",
   "language": "python",
   "name": "python3"
  },
  "language_info": {
   "codemirror_mode": {
    "name": "ipython",
    "version": 3
   },
   "file_extension": ".py",
   "mimetype": "text/x-python",
   "name": "python",
   "nbconvert_exporter": "python",
   "pygments_lexer": "ipython3",
   "version": "3.7.10"
  }
 },
 "nbformat": 4,
 "nbformat_minor": 4
}
