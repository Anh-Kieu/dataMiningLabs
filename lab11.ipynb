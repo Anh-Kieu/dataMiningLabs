{
 "cells": [
  {
   "cell_type": "markdown",
   "id": "cf3ac281",
   "metadata": {},
   "source": [
    "### LAB 11 - KERAS\n",
    "Name: Anh Kieu  \n",
    "Class: CSCI 349 - Intro to Data Mining  \n",
    "Lab 10 - Classification  \n",
    "Semester: Spring 2021  \n",
    "Instructor: Brian King  "
   ]
  },
  {
   "cell_type": "code",
   "execution_count": 1,
   "id": "8c029e50",
   "metadata": {},
   "outputs": [],
   "source": [
    "import numpy as np\n",
    "import pandas as pd\n",
    "import matplotlib.pyplot as plt\n",
    "import seaborn as sns\n",
    "import plotly\n",
    "import plotly.graph_objects as go\n",
    "import plotly.express as px"
   ]
  },
  {
   "cell_type": "code",
   "execution_count": 2,
   "id": "553cc007",
   "metadata": {},
   "outputs": [],
   "source": [
    "from sklearn.model_selection import train_test_split, KFold\n",
    "from sklearn.metrics import classification_report, confusion_matrix\n",
    "from keras.models import Input, Model\n",
    "from keras.layers.core import Dense, Activation"
   ]
  },
  {
   "cell_type": "markdown",
   "id": "e79c384b",
   "metadata": {},
   "source": [
    "#### 1) Prepreocessed iris dataset from seaborn"
   ]
  },
  {
   "cell_type": "code",
   "execution_count": 3,
   "id": "2d24df56",
   "metadata": {},
   "outputs": [],
   "source": [
    "df_iris = sns.load_dataset('iris')"
   ]
  },
  {
   "cell_type": "code",
   "execution_count": 4,
   "id": "6655b6c5",
   "metadata": {},
   "outputs": [],
   "source": [
    "df_iris.species = pd.Categorical(df_iris.species)"
   ]
  },
  {
   "cell_type": "code",
   "execution_count": 5,
   "id": "880add82",
   "metadata": {},
   "outputs": [],
   "source": [
    "X = df_iris.iloc[:, 0:-1]\n",
    "y = df_iris.iloc[:, [-1]]"
   ]
  },
  {
   "cell_type": "code",
   "execution_count": 6,
   "id": "3b8b6fe5",
   "metadata": {},
   "outputs": [
    {
     "data": {
      "text/html": [
       "<div>\n",
       "<style scoped>\n",
       "    .dataframe tbody tr th:only-of-type {\n",
       "        vertical-align: middle;\n",
       "    }\n",
       "\n",
       "    .dataframe tbody tr th {\n",
       "        vertical-align: top;\n",
       "    }\n",
       "\n",
       "    .dataframe thead th {\n",
       "        text-align: right;\n",
       "    }\n",
       "</style>\n",
       "<table border=\"1\" class=\"dataframe\">\n",
       "  <thead>\n",
       "    <tr style=\"text-align: right;\">\n",
       "      <th></th>\n",
       "      <th>sepal_length</th>\n",
       "      <th>sepal_width</th>\n",
       "      <th>petal_length</th>\n",
       "      <th>petal_width</th>\n",
       "    </tr>\n",
       "  </thead>\n",
       "  <tbody>\n",
       "    <tr>\n",
       "      <th>0</th>\n",
       "      <td>5.1</td>\n",
       "      <td>3.5</td>\n",
       "      <td>1.4</td>\n",
       "      <td>0.2</td>\n",
       "    </tr>\n",
       "    <tr>\n",
       "      <th>1</th>\n",
       "      <td>4.9</td>\n",
       "      <td>3.0</td>\n",
       "      <td>1.4</td>\n",
       "      <td>0.2</td>\n",
       "    </tr>\n",
       "  </tbody>\n",
       "</table>\n",
       "</div>"
      ],
      "text/plain": [
       "   sepal_length  sepal_width  petal_length  petal_width\n",
       "0           5.1          3.5           1.4          0.2\n",
       "1           4.9          3.0           1.4          0.2"
      ]
     },
     "execution_count": 6,
     "metadata": {},
     "output_type": "execute_result"
    }
   ],
   "source": [
    "X.head(2)"
   ]
  },
  {
   "cell_type": "code",
   "execution_count": 7,
   "id": "fcc68a9b",
   "metadata": {},
   "outputs": [
    {
     "data": {
      "text/html": [
       "<div>\n",
       "<style scoped>\n",
       "    .dataframe tbody tr th:only-of-type {\n",
       "        vertical-align: middle;\n",
       "    }\n",
       "\n",
       "    .dataframe tbody tr th {\n",
       "        vertical-align: top;\n",
       "    }\n",
       "\n",
       "    .dataframe thead th {\n",
       "        text-align: right;\n",
       "    }\n",
       "</style>\n",
       "<table border=\"1\" class=\"dataframe\">\n",
       "  <thead>\n",
       "    <tr style=\"text-align: right;\">\n",
       "      <th></th>\n",
       "      <th>species</th>\n",
       "    </tr>\n",
       "  </thead>\n",
       "  <tbody>\n",
       "    <tr>\n",
       "      <th>0</th>\n",
       "      <td>setosa</td>\n",
       "    </tr>\n",
       "    <tr>\n",
       "      <th>1</th>\n",
       "      <td>setosa</td>\n",
       "    </tr>\n",
       "  </tbody>\n",
       "</table>\n",
       "</div>"
      ],
      "text/plain": [
       "  species\n",
       "0  setosa\n",
       "1  setosa"
      ]
     },
     "execution_count": 7,
     "metadata": {},
     "output_type": "execute_result"
    }
   ],
   "source": [
    "y.head(2)"
   ]
  },
  {
   "cell_type": "code",
   "execution_count": 8,
   "id": "7ce56aff",
   "metadata": {},
   "outputs": [],
   "source": [
    "from scipy.stats import zscore\n",
    "X = X.apply(zscore)"
   ]
  },
  {
   "cell_type": "code",
   "execution_count": 9,
   "id": "c2301b8e",
   "metadata": {},
   "outputs": [
    {
     "data": {
      "text/html": [
       "<div>\n",
       "<style scoped>\n",
       "    .dataframe tbody tr th:only-of-type {\n",
       "        vertical-align: middle;\n",
       "    }\n",
       "\n",
       "    .dataframe tbody tr th {\n",
       "        vertical-align: top;\n",
       "    }\n",
       "\n",
       "    .dataframe thead th {\n",
       "        text-align: right;\n",
       "    }\n",
       "</style>\n",
       "<table border=\"1\" class=\"dataframe\">\n",
       "  <thead>\n",
       "    <tr style=\"text-align: right;\">\n",
       "      <th></th>\n",
       "      <th>sepal_length</th>\n",
       "      <th>sepal_width</th>\n",
       "      <th>petal_length</th>\n",
       "      <th>petal_width</th>\n",
       "    </tr>\n",
       "  </thead>\n",
       "  <tbody>\n",
       "    <tr>\n",
       "      <th>0</th>\n",
       "      <td>-0.900681</td>\n",
       "      <td>1.019004</td>\n",
       "      <td>-1.340227</td>\n",
       "      <td>-1.315444</td>\n",
       "    </tr>\n",
       "    <tr>\n",
       "      <th>1</th>\n",
       "      <td>-1.143017</td>\n",
       "      <td>-0.131979</td>\n",
       "      <td>-1.340227</td>\n",
       "      <td>-1.315444</td>\n",
       "    </tr>\n",
       "  </tbody>\n",
       "</table>\n",
       "</div>"
      ],
      "text/plain": [
       "   sepal_length  sepal_width  petal_length  petal_width\n",
       "0     -0.900681     1.019004     -1.340227    -1.315444\n",
       "1     -1.143017    -0.131979     -1.340227    -1.315444"
      ]
     },
     "execution_count": 9,
     "metadata": {},
     "output_type": "execute_result"
    }
   ],
   "source": [
    "X.head(2)"
   ]
  },
  {
   "cell_type": "markdown",
   "id": "a2c67bbc",
   "metadata": {},
   "source": [
    "#### 2) Shuffle your data in your data frames. Use <code>shuffle</code> from <code>sklearn.utils</code>."
   ]
  },
  {
   "cell_type": "code",
   "execution_count": 10,
   "id": "b9a6147f",
   "metadata": {},
   "outputs": [],
   "source": [
    "from sklearn.utils import shuffle"
   ]
  },
  {
   "cell_type": "markdown",
   "id": "f35399a6",
   "metadata": {},
   "source": [
    "<code>shuffle</code>: Shuffle arrays or sparse matrices in a consistent way."
   ]
  },
  {
   "cell_type": "code",
   "execution_count": 11,
   "id": "b596851a",
   "metadata": {},
   "outputs": [],
   "source": [
    "X, y = shuffle(X, y, random_state = 0)"
   ]
  },
  {
   "cell_type": "code",
   "execution_count": 12,
   "id": "9817bb87",
   "metadata": {},
   "outputs": [
    {
     "data": {
      "text/html": [
       "<div>\n",
       "<style scoped>\n",
       "    .dataframe tbody tr th:only-of-type {\n",
       "        vertical-align: middle;\n",
       "    }\n",
       "\n",
       "    .dataframe tbody tr th {\n",
       "        vertical-align: top;\n",
       "    }\n",
       "\n",
       "    .dataframe thead th {\n",
       "        text-align: right;\n",
       "    }\n",
       "</style>\n",
       "<table border=\"1\" class=\"dataframe\">\n",
       "  <thead>\n",
       "    <tr style=\"text-align: right;\">\n",
       "      <th></th>\n",
       "      <th>sepal_length</th>\n",
       "      <th>sepal_width</th>\n",
       "      <th>petal_length</th>\n",
       "      <th>petal_width</th>\n",
       "    </tr>\n",
       "  </thead>\n",
       "  <tbody>\n",
       "    <tr>\n",
       "      <th>114</th>\n",
       "      <td>-0.052506</td>\n",
       "      <td>-0.592373</td>\n",
       "      <td>0.762758</td>\n",
       "      <td>1.580464</td>\n",
       "    </tr>\n",
       "    <tr>\n",
       "      <th>62</th>\n",
       "      <td>0.189830</td>\n",
       "      <td>-1.973554</td>\n",
       "      <td>0.137547</td>\n",
       "      <td>-0.262387</td>\n",
       "    </tr>\n",
       "  </tbody>\n",
       "</table>\n",
       "</div>"
      ],
      "text/plain": [
       "     sepal_length  sepal_width  petal_length  petal_width\n",
       "114     -0.052506    -0.592373      0.762758     1.580464\n",
       "62       0.189830    -1.973554      0.137547    -0.262387"
      ]
     },
     "execution_count": 12,
     "metadata": {},
     "output_type": "execute_result"
    }
   ],
   "source": [
    "X.head(2)"
   ]
  },
  {
   "cell_type": "code",
   "execution_count": 13,
   "id": "2deafc93",
   "metadata": {},
   "outputs": [
    {
     "data": {
      "text/html": [
       "<div>\n",
       "<style scoped>\n",
       "    .dataframe tbody tr th:only-of-type {\n",
       "        vertical-align: middle;\n",
       "    }\n",
       "\n",
       "    .dataframe tbody tr th {\n",
       "        vertical-align: top;\n",
       "    }\n",
       "\n",
       "    .dataframe thead th {\n",
       "        text-align: right;\n",
       "    }\n",
       "</style>\n",
       "<table border=\"1\" class=\"dataframe\">\n",
       "  <thead>\n",
       "    <tr style=\"text-align: right;\">\n",
       "      <th></th>\n",
       "      <th>species</th>\n",
       "    </tr>\n",
       "  </thead>\n",
       "  <tbody>\n",
       "    <tr>\n",
       "      <th>114</th>\n",
       "      <td>virginica</td>\n",
       "    </tr>\n",
       "    <tr>\n",
       "      <th>62</th>\n",
       "      <td>versicolor</td>\n",
       "    </tr>\n",
       "  </tbody>\n",
       "</table>\n",
       "</div>"
      ],
      "text/plain": [
       "        species\n",
       "114   virginica\n",
       "62   versicolor"
      ]
     },
     "execution_count": 13,
     "metadata": {},
     "output_type": "execute_result"
    }
   ],
   "source": [
    "y.head(2)"
   ]
  },
  {
   "cell_type": "markdown",
   "id": "4cdf2cba",
   "metadata": {},
   "source": [
    "#### 3) Use <code>train_test_split</code> to split your data, using a 50/50 split, initialize with random state 0"
   ]
  },
  {
   "cell_type": "code",
   "execution_count": 14,
   "id": "c690b630",
   "metadata": {},
   "outputs": [],
   "source": [
    "X_train, X_test, y_train, y_test = train_test_split(X, y, test_size = 0.5, random_state = 0)"
   ]
  },
  {
   "cell_type": "code",
   "execution_count": 15,
   "id": "42e8977e",
   "metadata": {},
   "outputs": [
    {
     "name": "stdout",
     "output_type": "stream",
     "text": [
      "X_train: (75, 4)\n",
      "X_test: (75, 4)\n",
      "y_train: (75, 1)\n",
      "y_test: (75, 1)\n"
     ]
    }
   ],
   "source": [
    "print(f\"X_train: {X_train.shape}\")\n",
    "print(f\"X_test: {X_test.shape}\")\n",
    "print(f\"y_train: {y_train.shape}\")\n",
    "print(f\"y_test: {y_test.shape}\")"
   ]
  },
  {
   "cell_type": "markdown",
   "id": "17d50dd8",
   "metadata": {},
   "source": [
    "#### 4) How many inputs will your network need to have?"
   ]
  },
  {
   "cell_type": "markdown",
   "id": "d0be9213",
   "metadata": {},
   "source": [
    "There are 4 variables, and thus we will have 4 inputs, namely, <code>sepal_length</code>, <code>sepal_width</code>,<code>petal_length</code>,<code>petal_width</code>"
   ]
  },
  {
   "cell_type": "markdown",
   "id": "2fe89efc",
   "metadata": {},
   "source": [
    "#### 5) How do you represent a multiclass target variable in a model like neural net? For the iris dataset, what will the final layer of your neural net look like?"
   ]
  },
  {
   "cell_type": "markdown",
   "id": "58b68dcb",
   "metadata": {},
   "source": [
    "You represents each class in the target variable with an output node in the last layer (output layer). For iris, we will have 3 nodes representing classes <code>setosa</code>, <code>versicolor</code> and <code>virginica</code>.  \n",
    "However, since they are categorical, and we want to a function f(parameters) -> output, which is presumably mapping in the real number field, we need to encode categorical variable somehow. We cannot just naively assign ordinal values to these classes (i.e 0 - setosa, 1 - versicolor, 2 - virginica) as they are not correlated in such a way. Thus we need to binarize these values.  \n",
    "Hence, the iris dataset's final layer in neural network will be represented as a 3 dim vectors, with each node as 1 dimension of the vector."
   ]
  },
  {
   "cell_type": "markdown",
   "id": "1db3b81b",
   "metadata": {},
   "source": [
    "#### 6) Write the code to convert the iris target variables to a set of binarized variables derived from target variable"
   ]
  },
  {
   "cell_type": "code",
   "execution_count": 16,
   "id": "e3ea5067",
   "metadata": {},
   "outputs": [],
   "source": [
    "y_train = pd.get_dummies(y_train)"
   ]
  },
  {
   "cell_type": "code",
   "execution_count": 17,
   "id": "af456591",
   "metadata": {},
   "outputs": [
    {
     "data": {
      "text/html": [
       "<div>\n",
       "<style scoped>\n",
       "    .dataframe tbody tr th:only-of-type {\n",
       "        vertical-align: middle;\n",
       "    }\n",
       "\n",
       "    .dataframe tbody tr th {\n",
       "        vertical-align: top;\n",
       "    }\n",
       "\n",
       "    .dataframe thead th {\n",
       "        text-align: right;\n",
       "    }\n",
       "</style>\n",
       "<table border=\"1\" class=\"dataframe\">\n",
       "  <thead>\n",
       "    <tr style=\"text-align: right;\">\n",
       "      <th></th>\n",
       "      <th>species_setosa</th>\n",
       "      <th>species_versicolor</th>\n",
       "      <th>species_virginica</th>\n",
       "    </tr>\n",
       "  </thead>\n",
       "  <tbody>\n",
       "    <tr>\n",
       "      <th>107</th>\n",
       "      <td>0</td>\n",
       "      <td>0</td>\n",
       "      <td>1</td>\n",
       "    </tr>\n",
       "    <tr>\n",
       "      <th>47</th>\n",
       "      <td>1</td>\n",
       "      <td>0</td>\n",
       "      <td>0</td>\n",
       "    </tr>\n",
       "  </tbody>\n",
       "</table>\n",
       "</div>"
      ],
      "text/plain": [
       "     species_setosa  species_versicolor  species_virginica\n",
       "107               0                   0                  1\n",
       "47                1                   0                  0"
      ]
     },
     "execution_count": 17,
     "metadata": {},
     "output_type": "execute_result"
    }
   ],
   "source": [
    "y_train.head(2)"
   ]
  },
  {
   "cell_type": "code",
   "execution_count": 18,
   "id": "0b5b1302",
   "metadata": {},
   "outputs": [],
   "source": [
    "y_test = pd.get_dummies(y_test)"
   ]
  },
  {
   "cell_type": "code",
   "execution_count": 19,
   "id": "50eae9f0",
   "metadata": {},
   "outputs": [
    {
     "data": {
      "text/html": [
       "<div>\n",
       "<style scoped>\n",
       "    .dataframe tbody tr th:only-of-type {\n",
       "        vertical-align: middle;\n",
       "    }\n",
       "\n",
       "    .dataframe tbody tr th {\n",
       "        vertical-align: top;\n",
       "    }\n",
       "\n",
       "    .dataframe thead th {\n",
       "        text-align: right;\n",
       "    }\n",
       "</style>\n",
       "<table border=\"1\" class=\"dataframe\">\n",
       "  <thead>\n",
       "    <tr style=\"text-align: right;\">\n",
       "      <th></th>\n",
       "      <th>species_setosa</th>\n",
       "      <th>species_versicolor</th>\n",
       "      <th>species_virginica</th>\n",
       "    </tr>\n",
       "  </thead>\n",
       "  <tbody>\n",
       "    <tr>\n",
       "      <th>118</th>\n",
       "      <td>0</td>\n",
       "      <td>0</td>\n",
       "      <td>1</td>\n",
       "    </tr>\n",
       "    <tr>\n",
       "      <th>101</th>\n",
       "      <td>0</td>\n",
       "      <td>0</td>\n",
       "      <td>1</td>\n",
       "    </tr>\n",
       "  </tbody>\n",
       "</table>\n",
       "</div>"
      ],
      "text/plain": [
       "     species_setosa  species_versicolor  species_virginica\n",
       "118               0                   0                  1\n",
       "101               0                   0                  1"
      ]
     },
     "execution_count": 19,
     "metadata": {},
     "output_type": "execute_result"
    }
   ],
   "source": [
    "y_test.head(2)"
   ]
  },
  {
   "cell_type": "markdown",
   "id": "c87aa0d3",
   "metadata": {},
   "source": [
    "#### 7) [P] Create your input node using Input."
   ]
  },
  {
   "cell_type": "code",
   "execution_count": 20,
   "id": "f4630be6",
   "metadata": {},
   "outputs": [],
   "source": [
    "inputs = Input(shape = (4,))"
   ]
  },
  {
   "cell_type": "markdown",
   "id": "be99c816",
   "metadata": {},
   "source": [
    "#### 8) [P] Add the hidden layer(s), and specify the input as you move along that each layer should receive."
   ]
  },
  {
   "cell_type": "code",
   "execution_count": 21,
   "id": "957e7442",
   "metadata": {},
   "outputs": [],
   "source": [
    "# Set my first hidden layer to 12 units, sigmoid activation\n",
    "layer = Dense(12, activation='sigmoid')\n",
    "# Connect my inputs\n",
    "layer = layer(inputs)"
   ]
  },
  {
   "cell_type": "markdown",
   "id": "3fbb1d1a",
   "metadata": {},
   "source": [
    "#### 9) [P] Add one more Dense layer representing the output layer. Be sure to specify the correct number of outputs. Use a 'softmax' activation here. Be sure to connect the previous layer."
   ]
  },
  {
   "cell_type": "code",
   "execution_count": 22,
   "id": "2d95892c",
   "metadata": {},
   "outputs": [],
   "source": [
    "outputs = Dense(3, activation = 'softmax')\n",
    "outputs = outputs(layer)"
   ]
  },
  {
   "cell_type": "markdown",
   "id": "fabe7e4c",
   "metadata": {},
   "source": [
    "#### 10) [P] Create an instance of Model. Specify the inputs, the outputs, and name the model \"simple_iris_model\". Then, report a summary of your model using the summary() function."
   ]
  },
  {
   "cell_type": "code",
   "execution_count": 23,
   "id": "5e763da6",
   "metadata": {},
   "outputs": [],
   "source": [
    "simple_iris_model = Model(inputs = inputs, outputs = outputs, name = \"simple_iris_model\")"
   ]
  },
  {
   "cell_type": "code",
   "execution_count": 24,
   "id": "119ca168",
   "metadata": {},
   "outputs": [
    {
     "name": "stdout",
     "output_type": "stream",
     "text": [
      "Model: \"simple_iris_model\"\n",
      "_________________________________________________________________\n",
      "Layer (type)                 Output Shape              Param #   \n",
      "=================================================================\n",
      "input_1 (InputLayer)         [(None, 4)]               0         \n",
      "_________________________________________________________________\n",
      "dense (Dense)                (None, 12)                60        \n",
      "_________________________________________________________________\n",
      "dense_1 (Dense)              (None, 3)                 39        \n",
      "=================================================================\n",
      "Total params: 99\n",
      "Trainable params: 99\n",
      "Non-trainable params: 0\n",
      "_________________________________________________________________\n"
     ]
    }
   ],
   "source": [
    "simple_iris_model.summary()"
   ]
  },
  {
   "cell_type": "markdown",
   "id": "6afb0b8f",
   "metadata": {},
   "source": [
    "#### 11) [P] Compile your model."
   ]
  },
  {
   "cell_type": "markdown",
   "id": "1a1fc28d",
   "metadata": {},
   "source": [
    "Parameters:  \n",
    "    - optimizers: SGD is standard, adam is commonly used for deep learning  \n",
    "    - loss function: gives the error for backprogagate   \n",
    "    - performance metrics  "
   ]
  },
  {
   "cell_type": "markdown",
   "id": "660a84eb",
   "metadata": {},
   "source": [
    "simple_iris_model.compile(optimizer = 'sgd', loss = 'categorical_crossentropy', metrics = ['accuracy'])"
   ]
  },
  {
   "cell_type": "markdown",
   "id": "27634b96",
   "metadata": {},
   "source": [
    "#### 12) Train your model"
   ]
  },
  {
   "cell_type": "code",
   "execution_count": 26,
   "id": "150f5aa8",
   "metadata": {},
   "outputs": [
    {
     "name": "stdout",
     "output_type": "stream",
     "text": [
      "Epoch 1/100\n",
      "75/75 [==============================] - 0s 3ms/step - loss: 0.9709 - accuracy: 0.6133 - val_loss: 0.9212 - val_accuracy: 0.5867\n",
      "Epoch 2/100\n",
      "75/75 [==============================] - 0s 1ms/step - loss: 0.8760 - accuracy: 0.6267 - val_loss: 0.8631 - val_accuracy: 0.6800\n",
      "Epoch 3/100\n",
      "75/75 [==============================] - 0s 1ms/step - loss: 0.8053 - accuracy: 0.7733 - val_loss: 0.8131 - val_accuracy: 0.7600\n",
      "Epoch 4/100\n",
      "75/75 [==============================] - 0s 1ms/step - loss: 0.7465 - accuracy: 0.9200 - val_loss: 0.7653 - val_accuracy: 0.8000\n",
      "Epoch 5/100\n",
      "75/75 [==============================] - 0s 1ms/step - loss: 0.6952 - accuracy: 0.9333 - val_loss: 0.7235 - val_accuracy: 0.8267\n",
      "Epoch 6/100\n",
      "75/75 [==============================] - 0s 2ms/step - loss: 0.6501 - accuracy: 0.9200 - val_loss: 0.6811 - val_accuracy: 0.8267\n",
      "Epoch 7/100\n",
      "75/75 [==============================] - 0s 1ms/step - loss: 0.6101 - accuracy: 0.9333 - val_loss: 0.6555 - val_accuracy: 0.8267\n",
      "Epoch 8/100\n",
      "75/75 [==============================] - 0s 1ms/step - loss: 0.5769 - accuracy: 0.9333 - val_loss: 0.6233 - val_accuracy: 0.8267\n",
      "Epoch 9/100\n",
      "75/75 [==============================] - 0s 1ms/step - loss: 0.5451 - accuracy: 0.9333 - val_loss: 0.5950 - val_accuracy: 0.8133\n",
      "Epoch 10/100\n",
      "75/75 [==============================] - 0s 1ms/step - loss: 0.5183 - accuracy: 0.9467 - val_loss: 0.5711 - val_accuracy: 0.8267\n",
      "Epoch 11/100\n",
      "75/75 [==============================] - 0s 1ms/step - loss: 0.4934 - accuracy: 0.9467 - val_loss: 0.5587 - val_accuracy: 0.8267\n",
      "Epoch 12/100\n",
      "75/75 [==============================] - 0s 1ms/step - loss: 0.4724 - accuracy: 0.9467 - val_loss: 0.5448 - val_accuracy: 0.8267\n",
      "Epoch 13/100\n",
      "75/75 [==============================] - 0s 1ms/step - loss: 0.4529 - accuracy: 0.9333 - val_loss: 0.5284 - val_accuracy: 0.8267\n",
      "Epoch 14/100\n",
      "75/75 [==============================] - ETA: 0s - loss: 0.4414 - accuracy: 0.95 - 0s 1ms/step - loss: 0.4352 - accuracy: 0.9600 - val_loss: 0.5163 - val_accuracy: 0.8267\n",
      "Epoch 15/100\n",
      "75/75 [==============================] - 0s 2ms/step - loss: 0.4196 - accuracy: 0.9333 - val_loss: 0.4995 - val_accuracy: 0.8267\n",
      "Epoch 16/100\n",
      "75/75 [==============================] - 0s 1ms/step - loss: 0.4043 - accuracy: 0.9333 - val_loss: 0.4837 - val_accuracy: 0.8267\n",
      "Epoch 17/100\n",
      "75/75 [==============================] - 0s 1ms/step - loss: 0.3914 - accuracy: 0.9600 - val_loss: 0.4729 - val_accuracy: 0.8267\n",
      "Epoch 18/100\n",
      "75/75 [==============================] - 0s 1ms/step - loss: 0.3793 - accuracy: 0.9600 - val_loss: 0.4685 - val_accuracy: 0.8133\n",
      "Epoch 19/100\n",
      "75/75 [==============================] - 0s 1ms/step - loss: 0.3677 - accuracy: 0.9600 - val_loss: 0.4631 - val_accuracy: 0.8267\n",
      "Epoch 20/100\n",
      "75/75 [==============================] - 0s 1ms/step - loss: 0.3574 - accuracy: 0.9467 - val_loss: 0.4556 - val_accuracy: 0.8267\n",
      "Epoch 21/100\n",
      "75/75 [==============================] - 0s 1ms/step - loss: 0.3461 - accuracy: 0.9467 - val_loss: 0.4395 - val_accuracy: 0.8400\n",
      "Epoch 22/100\n",
      "75/75 [==============================] - 0s 1ms/step - loss: 0.3384 - accuracy: 0.9600 - val_loss: 0.4380 - val_accuracy: 0.8133\n",
      "Epoch 23/100\n",
      "75/75 [==============================] - 0s 1ms/step - loss: 0.3296 - accuracy: 0.9600 - val_loss: 0.4340 - val_accuracy: 0.8133\n",
      "Epoch 24/100\n",
      "75/75 [==============================] - 0s 1ms/step - loss: 0.3210 - accuracy: 0.9467 - val_loss: 0.4219 - val_accuracy: 0.8400\n",
      "Epoch 25/100\n",
      "75/75 [==============================] - 0s 2ms/step - loss: 0.3137 - accuracy: 0.9600 - val_loss: 0.4229 - val_accuracy: 0.8133\n",
      "Epoch 26/100\n",
      "75/75 [==============================] - 0s 2ms/step - loss: 0.3071 - accuracy: 0.9600 - val_loss: 0.4174 - val_accuracy: 0.8133\n",
      "Epoch 27/100\n",
      "75/75 [==============================] - 0s 2ms/step - loss: 0.3004 - accuracy: 0.9467 - val_loss: 0.4119 - val_accuracy: 0.8133\n",
      "Epoch 28/100\n",
      "75/75 [==============================] - 0s 1ms/step - loss: 0.2939 - accuracy: 0.9467 - val_loss: 0.4067 - val_accuracy: 0.8267\n",
      "Epoch 29/100\n",
      "75/75 [==============================] - 0s 1ms/step - loss: 0.2879 - accuracy: 0.9600 - val_loss: 0.4031 - val_accuracy: 0.8133\n",
      "Epoch 30/100\n",
      "75/75 [==============================] - 0s 1ms/step - loss: 0.2822 - accuracy: 0.9600 - val_loss: 0.3983 - val_accuracy: 0.8267\n",
      "Epoch 31/100\n",
      "75/75 [==============================] - 0s 1ms/step - loss: 0.2760 - accuracy: 0.9600 - val_loss: 0.3983 - val_accuracy: 0.8133\n",
      "Epoch 32/100\n",
      "75/75 [==============================] - 0s 1ms/step - loss: 0.2716 - accuracy: 0.9600 - val_loss: 0.3924 - val_accuracy: 0.8133\n",
      "Epoch 33/100\n",
      "75/75 [==============================] - 0s 1ms/step - loss: 0.2664 - accuracy: 0.9600 - val_loss: 0.3878 - val_accuracy: 0.8267\n",
      "Epoch 34/100\n",
      "75/75 [==============================] - 0s 1ms/step - loss: 0.2614 - accuracy: 0.9600 - val_loss: 0.3814 - val_accuracy: 0.8400\n",
      "Epoch 35/100\n",
      "75/75 [==============================] - 0s 2ms/step - loss: 0.2569 - accuracy: 0.9600 - val_loss: 0.3787 - val_accuracy: 0.8400\n",
      "Epoch 36/100\n",
      "75/75 [==============================] - 0s 2ms/step - loss: 0.2523 - accuracy: 0.9600 - val_loss: 0.3779 - val_accuracy: 0.8267\n",
      "Epoch 37/100\n",
      "75/75 [==============================] - 0s 1ms/step - loss: 0.2481 - accuracy: 0.9600 - val_loss: 0.3743 - val_accuracy: 0.8400\n",
      "Epoch 38/100\n",
      "75/75 [==============================] - 0s 1ms/step - loss: 0.2441 - accuracy: 0.9600 - val_loss: 0.3708 - val_accuracy: 0.8400\n",
      "Epoch 39/100\n",
      "75/75 [==============================] - 0s 1ms/step - loss: 0.2400 - accuracy: 0.9600 - val_loss: 0.3676 - val_accuracy: 0.8400\n",
      "Epoch 40/100\n",
      "75/75 [==============================] - 0s 2ms/step - loss: 0.2358 - accuracy: 0.9600 - val_loss: 0.3666 - val_accuracy: 0.8400\n",
      "Epoch 41/100\n",
      "75/75 [==============================] - 0s 2ms/step - loss: 0.2325 - accuracy: 0.9600 - val_loss: 0.3624 - val_accuracy: 0.8400\n",
      "Epoch 42/100\n",
      "75/75 [==============================] - 0s 2ms/step - loss: 0.2286 - accuracy: 0.9467 - val_loss: 0.3613 - val_accuracy: 0.8400\n",
      "Epoch 43/100\n",
      "75/75 [==============================] - 0s 2ms/step - loss: 0.2256 - accuracy: 0.9600 - val_loss: 0.3575 - val_accuracy: 0.8400\n",
      "Epoch 44/100\n",
      "75/75 [==============================] - 0s 2ms/step - loss: 0.2222 - accuracy: 0.9600 - val_loss: 0.3556 - val_accuracy: 0.8400\n",
      "Epoch 45/100\n",
      "75/75 [==============================] - 0s 2ms/step - loss: 0.2191 - accuracy: 0.9600 - val_loss: 0.3516 - val_accuracy: 0.8533\n",
      "Epoch 46/100\n",
      "75/75 [==============================] - 0s 2ms/step - loss: 0.2159 - accuracy: 0.9600 - val_loss: 0.3490 - val_accuracy: 0.8533\n",
      "Epoch 47/100\n",
      "75/75 [==============================] - 0s 1ms/step - loss: 0.2127 - accuracy: 0.9600 - val_loss: 0.3484 - val_accuracy: 0.8533\n",
      "Epoch 48/100\n",
      "75/75 [==============================] - 0s 2ms/step - loss: 0.2095 - accuracy: 0.9600 - val_loss: 0.3426 - val_accuracy: 0.8533\n",
      "Epoch 49/100\n",
      "75/75 [==============================] - 0s 2ms/step - loss: 0.2069 - accuracy: 0.9600 - val_loss: 0.3417 - val_accuracy: 0.8533\n",
      "Epoch 50/100\n",
      "75/75 [==============================] - 0s 2ms/step - loss: 0.2041 - accuracy: 0.9600 - val_loss: 0.3406 - val_accuracy: 0.8533\n",
      "Epoch 51/100\n",
      "75/75 [==============================] - 0s 2ms/step - loss: 0.2013 - accuracy: 0.9600 - val_loss: 0.3391 - val_accuracy: 0.8533\n",
      "Epoch 52/100\n",
      "75/75 [==============================] - 0s 1ms/step - loss: 0.1985 - accuracy: 0.9600 - val_loss: 0.3337 - val_accuracy: 0.8533\n",
      "Epoch 53/100\n",
      "75/75 [==============================] - 0s 2ms/step - loss: 0.1961 - accuracy: 0.9600 - val_loss: 0.3329 - val_accuracy: 0.8533\n",
      "Epoch 54/100\n",
      "75/75 [==============================] - 0s 2ms/step - loss: 0.1935 - accuracy: 0.9600 - val_loss: 0.3289 - val_accuracy: 0.8533\n",
      "Epoch 55/100\n",
      "75/75 [==============================] - 0s 1ms/step - loss: 0.1912 - accuracy: 0.9600 - val_loss: 0.3271 - val_accuracy: 0.8533\n",
      "Epoch 56/100\n",
      "75/75 [==============================] - 0s 1ms/step - loss: 0.1888 - accuracy: 0.9600 - val_loss: 0.3253 - val_accuracy: 0.8533\n",
      "Epoch 57/100\n",
      "75/75 [==============================] - 0s 1ms/step - loss: 0.1864 - accuracy: 0.9600 - val_loss: 0.3232 - val_accuracy: 0.8533\n",
      "Epoch 58/100\n",
      "75/75 [==============================] - 0s 1ms/step - loss: 0.1841 - accuracy: 0.9600 - val_loss: 0.3226 - val_accuracy: 0.8533\n",
      "Epoch 59/100\n",
      "75/75 [==============================] - 0s 1ms/step - loss: 0.1818 - accuracy: 0.9600 - val_loss: 0.3198 - val_accuracy: 0.8533\n",
      "Epoch 60/100\n",
      "75/75 [==============================] - 0s 2ms/step - loss: 0.1794 - accuracy: 0.9600 - val_loss: 0.3204 - val_accuracy: 0.8667\n",
      "Epoch 61/100\n",
      "75/75 [==============================] - 0s 1ms/step - loss: 0.1770 - accuracy: 0.9600 - val_loss: 0.3210 - val_accuracy: 0.8667\n",
      "Epoch 62/100\n",
      "75/75 [==============================] - 0s 1ms/step - loss: 0.1753 - accuracy: 0.9600 - val_loss: 0.3196 - val_accuracy: 0.8667\n",
      "Epoch 63/100\n",
      "75/75 [==============================] - 0s 2ms/step - loss: 0.1733 - accuracy: 0.9600 - val_loss: 0.3177 - val_accuracy: 0.8667\n",
      "Epoch 64/100\n",
      "75/75 [==============================] - 0s 2ms/step - loss: 0.1713 - accuracy: 0.9600 - val_loss: 0.3148 - val_accuracy: 0.8667\n",
      "Epoch 65/100\n",
      "75/75 [==============================] - 0s 2ms/step - loss: 0.1692 - accuracy: 0.9600 - val_loss: 0.3108 - val_accuracy: 0.8933\n",
      "Epoch 66/100\n",
      "75/75 [==============================] - ETA: 0s - loss: 0.1591 - accuracy: 0.97 - 0s 2ms/step - loss: 0.1671 - accuracy: 0.9600 - val_loss: 0.3105 - val_accuracy: 0.8667\n",
      "Epoch 67/100\n",
      "75/75 [==============================] - 0s 2ms/step - loss: 0.1652 - accuracy: 0.9600 - val_loss: 0.3097 - val_accuracy: 0.8667\n",
      "Epoch 68/100\n",
      "75/75 [==============================] - 0s 2ms/step - loss: 0.1634 - accuracy: 0.9733 - val_loss: 0.3054 - val_accuracy: 0.9067\n",
      "Epoch 69/100\n",
      "75/75 [==============================] - 0s 1ms/step - loss: 0.1617 - accuracy: 0.9600 - val_loss: 0.3035 - val_accuracy: 0.9200\n",
      "Epoch 70/100\n",
      "75/75 [==============================] - 0s 1ms/step - loss: 0.1599 - accuracy: 0.9600 - val_loss: 0.3013 - val_accuracy: 0.9200\n",
      "Epoch 71/100\n",
      "75/75 [==============================] - 0s 1ms/step - loss: 0.1579 - accuracy: 0.9600 - val_loss: 0.3008 - val_accuracy: 0.9200\n",
      "Epoch 72/100\n",
      "75/75 [==============================] - 0s 1ms/step - loss: 0.1563 - accuracy: 0.9600 - val_loss: 0.2975 - val_accuracy: 0.9333\n",
      "Epoch 73/100\n",
      "75/75 [==============================] - 0s 1ms/step - loss: 0.1544 - accuracy: 0.9733 - val_loss: 0.2941 - val_accuracy: 0.9333\n",
      "Epoch 74/100\n",
      "75/75 [==============================] - 0s 1ms/step - loss: 0.1529 - accuracy: 0.9600 - val_loss: 0.2935 - val_accuracy: 0.9333\n",
      "Epoch 75/100\n",
      "75/75 [==============================] - 0s 1ms/step - loss: 0.1512 - accuracy: 0.9600 - val_loss: 0.2924 - val_accuracy: 0.9333\n",
      "Epoch 76/100\n",
      "75/75 [==============================] - 0s 1ms/step - loss: 0.1496 - accuracy: 0.9600 - val_loss: 0.2908 - val_accuracy: 0.9333\n",
      "Epoch 77/100\n",
      "75/75 [==============================] - 0s 1ms/step - loss: 0.1480 - accuracy: 0.9733 - val_loss: 0.2898 - val_accuracy: 0.9333\n",
      "Epoch 78/100\n",
      "75/75 [==============================] - 0s 1ms/step - loss: 0.1463 - accuracy: 0.9733 - val_loss: 0.2886 - val_accuracy: 0.9333\n",
      "Epoch 79/100\n",
      "75/75 [==============================] - 0s 1ms/step - loss: 0.1448 - accuracy: 0.9733 - val_loss: 0.2856 - val_accuracy: 0.9333\n",
      "Epoch 80/100\n",
      "75/75 [==============================] - 0s 1ms/step - loss: 0.1431 - accuracy: 0.9733 - val_loss: 0.2821 - val_accuracy: 0.9467\n",
      "Epoch 81/100\n",
      "75/75 [==============================] - 0s 1ms/step - loss: 0.1416 - accuracy: 0.9733 - val_loss: 0.2829 - val_accuracy: 0.9333\n",
      "Epoch 82/100\n",
      "75/75 [==============================] - 0s 1ms/step - loss: 0.1401 - accuracy: 0.9733 - val_loss: 0.2797 - val_accuracy: 0.9467\n",
      "Epoch 83/100\n",
      "75/75 [==============================] - 0s 1ms/step - loss: 0.1389 - accuracy: 0.9733 - val_loss: 0.2778 - val_accuracy: 0.9467\n",
      "Epoch 84/100\n",
      "75/75 [==============================] - 0s 1ms/step - loss: 0.1374 - accuracy: 0.9733 - val_loss: 0.2772 - val_accuracy: 0.9467\n",
      "Epoch 85/100\n",
      "75/75 [==============================] - 0s 1ms/step - loss: 0.1359 - accuracy: 0.9733 - val_loss: 0.2769 - val_accuracy: 0.9333\n",
      "Epoch 86/100\n",
      "75/75 [==============================] - 0s 1ms/step - loss: 0.1346 - accuracy: 0.9733 - val_loss: 0.2753 - val_accuracy: 0.9333\n",
      "Epoch 87/100\n",
      "75/75 [==============================] - 0s 2ms/step - loss: 0.1332 - accuracy: 0.9733 - val_loss: 0.2728 - val_accuracy: 0.9467\n",
      "Epoch 88/100\n",
      "75/75 [==============================] - 0s 2ms/step - loss: 0.1320 - accuracy: 0.9733 - val_loss: 0.2713 - val_accuracy: 0.9467\n",
      "Epoch 89/100\n",
      "75/75 [==============================] - 0s 1ms/step - loss: 0.1306 - accuracy: 0.9733 - val_loss: 0.2696 - val_accuracy: 0.9467\n",
      "Epoch 90/100\n",
      "75/75 [==============================] - 0s 1ms/step - loss: 0.1293 - accuracy: 0.9733 - val_loss: 0.2679 - val_accuracy: 0.9467\n",
      "Epoch 91/100\n",
      "75/75 [==============================] - 0s 1ms/step - loss: 0.1280 - accuracy: 0.9733 - val_loss: 0.2665 - val_accuracy: 0.9467\n",
      "Epoch 92/100\n",
      "75/75 [==============================] - 0s 2ms/step - loss: 0.1266 - accuracy: 0.9733 - val_loss: 0.2636 - val_accuracy: 0.9467\n",
      "Epoch 93/100\n",
      "75/75 [==============================] - 0s 2ms/step - loss: 0.1255 - accuracy: 0.9733 - val_loss: 0.2632 - val_accuracy: 0.9467\n",
      "Epoch 94/100\n",
      "75/75 [==============================] - 0s 1ms/step - loss: 0.1242 - accuracy: 0.9733 - val_loss: 0.2605 - val_accuracy: 0.9467\n",
      "Epoch 95/100\n",
      "75/75 [==============================] - 0s 1ms/step - loss: 0.1232 - accuracy: 0.9733 - val_loss: 0.2595 - val_accuracy: 0.9467\n",
      "Epoch 96/100\n",
      "75/75 [==============================] - 0s 1ms/step - loss: 0.1220 - accuracy: 0.9733 - val_loss: 0.2583 - val_accuracy: 0.9467\n",
      "Epoch 97/100\n",
      "75/75 [==============================] - 0s 1ms/step - loss: 0.1207 - accuracy: 0.9733 - val_loss: 0.2580 - val_accuracy: 0.9467\n",
      "Epoch 98/100\n",
      "75/75 [==============================] - 0s 2ms/step - loss: 0.1196 - accuracy: 0.9733 - val_loss: 0.2555 - val_accuracy: 0.9467\n",
      "Epoch 99/100\n",
      "75/75 [==============================] - 0s 2ms/step - loss: 0.1182 - accuracy: 0.9733 - val_loss: 0.2562 - val_accuracy: 0.9467\n",
      "Epoch 100/100\n",
      "75/75 [==============================] - 0s 2ms/step - loss: 0.1174 - accuracy: 0.9733 - val_loss: 0.2540 - val_accuracy: 0.9467\n"
     ]
    }
   ],
   "source": [
    "history = simple_iris_model.fit(X_train, y_train, batch_size = 1, verbose = 1, epochs = 100, validation_data = (X_test, y_test))"
   ]
  },
  {
   "cell_type": "markdown",
   "id": "0810e3e7",
   "metadata": {},
   "source": [
    "#### 13) Graphs of training results"
   ]
  },
  {
   "cell_type": "code",
   "execution_count": 27,
   "id": "7f7f64fa",
   "metadata": {},
   "outputs": [
    {
     "data": {
      "image/png": "[encoded data removed]",
      "text/plain": [
       "<Figure size 576x360 with 1 Axes>"
      ]
     },
     "metadata": {
      "needs_background": "light"
     },
     "output_type": "display_data"
    }
   ],
   "source": [
    "pd.DataFrame(history.history).plot(figsize=(8, 5),grid=True,ylim=(0,1),ylabel=\"Loss\")\n",
    "plt.show()"
   ]
  },
  {
   "cell_type": "markdown",
   "id": "84124def",
   "metadata": {},
   "source": [
    "#### 14) Plot model"
   ]
  },
  {
   "cell_type": "code",
   "execution_count": 28,
   "id": "21fe8329",
   "metadata": {},
   "outputs": [
    {
     "data": {
      "image/png": "[encoded data removed]",
      "text/plain": [
       "<IPython.core.display.Image object>"
      ]
     },
     "execution_count": 28,
     "metadata": {},
     "output_type": "execute_result"
    }
   ],
   "source": [
    "from keras.utils import plot_model\n",
    "plot_model(simple_iris_model, show_shapes=True)"
   ]
  },
  {
   "cell_type": "markdown",
   "id": "3db39d2d",
   "metadata": {},
   "source": [
    "#### 15) Change parameters"
   ]
  },
  {
   "cell_type": "code",
   "execution_count": 49,
   "id": "cf25ac90",
   "metadata": {},
   "outputs": [],
   "source": [
    "inputs = Input(shape=(4,))\n",
    "layer = Dense(9, activation= 'sigmoid')(inputs)\n",
    "outputs = Dense(3,activation=\"softmax\")(layer)\n",
    "model = Model(inputs=inputs, outputs=outputs, name=\"simple_iris_model_2\")"
   ]
  },
  {
   "cell_type": "code",
   "execution_count": 50,
   "id": "ed5ecf31",
   "metadata": {},
   "outputs": [],
   "source": [
    "model.compile(optimizer = 'sgd', loss = 'categorical_crossentropy', metrics = ['accuracy'])"
   ]
  },
  {
   "cell_type": "code",
   "execution_count": 51,
   "id": "dcd57a0f",
   "metadata": {},
   "outputs": [
    {
     "name": "stdout",
     "output_type": "stream",
     "text": [
      "Epoch 1/100\n",
      "75/75 [==============================] - 0s 3ms/step - loss: 1.0162 - accuracy: 0.3867 - val_loss: 0.9747 - val_accuracy: 0.4800\n",
      "Epoch 2/100\n",
      "75/75 [==============================] - 0s 1ms/step - loss: 0.9147 - accuracy: 0.5867 - val_loss: 0.9079 - val_accuracy: 0.6133\n",
      "Epoch 3/100\n",
      "75/75 [==============================] - 0s 2ms/step - loss: 0.8454 - accuracy: 0.7867 - val_loss: 0.8528 - val_accuracy: 0.6800\n",
      "Epoch 4/100\n",
      "75/75 [==============================] - 0s 1ms/step - loss: 0.7865 - accuracy: 0.7867 - val_loss: 0.7971 - val_accuracy: 0.7733\n",
      "Epoch 5/100\n",
      "75/75 [==============================] - 0s 1ms/step - loss: 0.7343 - accuracy: 0.8533 - val_loss: 0.7612 - val_accuracy: 0.7600\n",
      "Epoch 6/100\n",
      "75/75 [==============================] - 0s 1ms/step - loss: 0.6912 - accuracy: 0.9200 - val_loss: 0.7236 - val_accuracy: 0.7867\n",
      "Epoch 7/100\n",
      "75/75 [==============================] - 0s 1ms/step - loss: 0.6513 - accuracy: 0.9200 - val_loss: 0.6866 - val_accuracy: 0.8000\n",
      "Epoch 8/100\n",
      "75/75 [==============================] - 0s 1ms/step - loss: 0.6153 - accuracy: 0.9200 - val_loss: 0.6618 - val_accuracy: 0.8000\n",
      "Epoch 9/100\n",
      "75/75 [==============================] - 0s 1ms/step - loss: 0.5849 - accuracy: 0.9200 - val_loss: 0.6358 - val_accuracy: 0.8000\n",
      "Epoch 10/100\n",
      "75/75 [==============================] - 0s 1ms/step - loss: 0.5558 - accuracy: 0.9200 - val_loss: 0.6061 - val_accuracy: 0.7867\n",
      "Epoch 11/100\n",
      "75/75 [==============================] - 0s 1ms/step - loss: 0.5308 - accuracy: 0.9200 - val_loss: 0.5939 - val_accuracy: 0.8000\n",
      "Epoch 12/100\n",
      "75/75 [==============================] - 0s 1ms/step - loss: 0.5097 - accuracy: 0.9067 - val_loss: 0.5762 - val_accuracy: 0.8000\n",
      "Epoch 13/100\n",
      "75/75 [==============================] - 0s 1ms/step - loss: 0.4894 - accuracy: 0.9067 - val_loss: 0.5591 - val_accuracy: 0.8000\n",
      "Epoch 14/100\n",
      "75/75 [==============================] - 0s 1ms/step - loss: 0.4708 - accuracy: 0.9467 - val_loss: 0.5439 - val_accuracy: 0.7867\n",
      "Epoch 15/100\n",
      "75/75 [==============================] - 0s 1ms/step - loss: 0.4535 - accuracy: 0.9333 - val_loss: 0.5260 - val_accuracy: 0.8133\n",
      "Epoch 16/100\n",
      "75/75 [==============================] - 0s 2ms/step - loss: 0.4383 - accuracy: 0.9200 - val_loss: 0.5199 - val_accuracy: 0.7867\n",
      "Epoch 17/100\n",
      "75/75 [==============================] - 0s 2ms/step - loss: 0.4243 - accuracy: 0.9200 - val_loss: 0.5120 - val_accuracy: 0.8000\n",
      "Epoch 18/100\n",
      "75/75 [==============================] - 0s 2ms/step - loss: 0.4116 - accuracy: 0.9333 - val_loss: 0.4991 - val_accuracy: 0.8000\n",
      "Epoch 19/100\n",
      "75/75 [==============================] - 0s 2ms/step - loss: 0.3994 - accuracy: 0.9200 - val_loss: 0.4892 - val_accuracy: 0.8000\n",
      "Epoch 20/100\n",
      "75/75 [==============================] - 0s 2ms/step - loss: 0.3876 - accuracy: 0.9200 - val_loss: 0.4846 - val_accuracy: 0.7867\n",
      "Epoch 21/100\n",
      "75/75 [==============================] - 0s 1ms/step - loss: 0.3775 - accuracy: 0.9333 - val_loss: 0.4740 - val_accuracy: 0.8000\n",
      "Epoch 22/100\n",
      "75/75 [==============================] - 0s 1ms/step - loss: 0.3673 - accuracy: 0.9067 - val_loss: 0.4667 - val_accuracy: 0.8000\n",
      "Epoch 23/100\n",
      "75/75 [==============================] - 0s 1ms/step - loss: 0.3581 - accuracy: 0.9200 - val_loss: 0.4583 - val_accuracy: 0.8133\n",
      "Epoch 24/100\n",
      "75/75 [==============================] - 0s 1ms/step - loss: 0.3495 - accuracy: 0.9333 - val_loss: 0.4539 - val_accuracy: 0.8000\n",
      "Epoch 25/100\n",
      "75/75 [==============================] - 0s 1ms/step - loss: 0.3408 - accuracy: 0.9333 - val_loss: 0.4442 - val_accuracy: 0.8267\n",
      "Epoch 26/100\n",
      "75/75 [==============================] - 0s 2ms/step - loss: 0.3336 - accuracy: 0.9200 - val_loss: 0.4390 - val_accuracy: 0.8267\n",
      "Epoch 27/100\n",
      "75/75 [==============================] - 0s 2ms/step - loss: 0.3260 - accuracy: 0.9467 - val_loss: 0.4356 - val_accuracy: 0.8267\n",
      "Epoch 28/100\n",
      "75/75 [==============================] - 0s 2ms/step - loss: 0.3190 - accuracy: 0.9467 - val_loss: 0.4314 - val_accuracy: 0.8133\n",
      "Epoch 29/100\n",
      "75/75 [==============================] - 0s 1ms/step - loss: 0.3122 - accuracy: 0.9333 - val_loss: 0.4255 - val_accuracy: 0.8267\n",
      "Epoch 30/100\n",
      "75/75 [==============================] - 0s 1ms/step - loss: 0.3058 - accuracy: 0.9467 - val_loss: 0.4201 - val_accuracy: 0.8267\n",
      "Epoch 31/100\n",
      "75/75 [==============================] - 0s 1ms/step - loss: 0.2999 - accuracy: 0.9333 - val_loss: 0.4178 - val_accuracy: 0.8267\n",
      "Epoch 32/100\n",
      "75/75 [==============================] - 0s 2ms/step - loss: 0.2934 - accuracy: 0.9600 - val_loss: 0.4113 - val_accuracy: 0.8267\n",
      "Epoch 33/100\n",
      "75/75 [==============================] - 0s 2ms/step - loss: 0.2885 - accuracy: 0.9333 - val_loss: 0.4078 - val_accuracy: 0.8267\n",
      "Epoch 34/100\n",
      "75/75 [==============================] - 0s 2ms/step - loss: 0.2829 - accuracy: 0.9333 - val_loss: 0.4027 - val_accuracy: 0.8267\n",
      "Epoch 35/100\n",
      "75/75 [==============================] - 0s 2ms/step - loss: 0.2780 - accuracy: 0.9333 - val_loss: 0.4008 - val_accuracy: 0.8267\n",
      "Epoch 36/100\n",
      "75/75 [==============================] - 0s 2ms/step - loss: 0.2724 - accuracy: 0.9200 - val_loss: 0.4035 - val_accuracy: 0.8133\n",
      "Epoch 37/100\n",
      "75/75 [==============================] - 0s 2ms/step - loss: 0.2683 - accuracy: 0.9467 - val_loss: 0.4009 - val_accuracy: 0.8133\n",
      "Epoch 38/100\n",
      "75/75 [==============================] - 0s 2ms/step - loss: 0.2638 - accuracy: 0.9467 - val_loss: 0.3966 - val_accuracy: 0.8133\n",
      "Epoch 39/100\n",
      "75/75 [==============================] - 0s 1ms/step - loss: 0.2593 - accuracy: 0.9600 - val_loss: 0.3931 - val_accuracy: 0.8133\n",
      "Epoch 40/100\n",
      "75/75 [==============================] - 0s 1ms/step - loss: 0.2550 - accuracy: 0.9467 - val_loss: 0.3881 - val_accuracy: 0.8267\n",
      "Epoch 41/100\n",
      "75/75 [==============================] - 0s 1ms/step - loss: 0.2510 - accuracy: 0.9600 - val_loss: 0.3849 - val_accuracy: 0.8267\n",
      "Epoch 42/100\n",
      "75/75 [==============================] - 0s 1ms/step - loss: 0.2470 - accuracy: 0.9467 - val_loss: 0.3809 - val_accuracy: 0.8267\n",
      "Epoch 43/100\n",
      "75/75 [==============================] - 0s 2ms/step - loss: 0.2432 - accuracy: 0.9467 - val_loss: 0.3811 - val_accuracy: 0.8267\n",
      "Epoch 44/100\n",
      "75/75 [==============================] - 0s 1ms/step - loss: 0.2395 - accuracy: 0.9600 - val_loss: 0.3783 - val_accuracy: 0.8267\n",
      "Epoch 45/100\n",
      "75/75 [==============================] - 0s 1ms/step - loss: 0.2359 - accuracy: 0.9467 - val_loss: 0.3762 - val_accuracy: 0.8267\n",
      "Epoch 46/100\n",
      "75/75 [==============================] - 0s 1ms/step - loss: 0.2321 - accuracy: 0.9333 - val_loss: 0.3769 - val_accuracy: 0.8267\n",
      "Epoch 47/100\n",
      "75/75 [==============================] - 0s 1ms/step - loss: 0.2288 - accuracy: 0.9600 - val_loss: 0.3707 - val_accuracy: 0.8267\n",
      "Epoch 48/100\n",
      "75/75 [==============================] - 0s 1ms/step - loss: 0.2257 - accuracy: 0.9600 - val_loss: 0.3673 - val_accuracy: 0.8267\n",
      "Epoch 49/100\n",
      "75/75 [==============================] - 0s 1ms/step - loss: 0.2224 - accuracy: 0.9600 - val_loss: 0.3673 - val_accuracy: 0.8267\n",
      "Epoch 50/100\n",
      "75/75 [==============================] - 0s 1ms/step - loss: 0.2193 - accuracy: 0.9600 - val_loss: 0.3659 - val_accuracy: 0.8267\n",
      "Epoch 51/100\n",
      "75/75 [==============================] - 0s 2ms/step - loss: 0.2163 - accuracy: 0.9600 - val_loss: 0.3633 - val_accuracy: 0.8267\n",
      "Epoch 52/100\n",
      "75/75 [==============================] - 0s 1ms/step - loss: 0.2133 - accuracy: 0.9600 - val_loss: 0.3588 - val_accuracy: 0.8400\n",
      "Epoch 53/100\n",
      "75/75 [==============================] - 0s 1ms/step - loss: 0.2104 - accuracy: 0.9467 - val_loss: 0.3588 - val_accuracy: 0.8267\n",
      "Epoch 54/100\n",
      "75/75 [==============================] - 0s 1ms/step - loss: 0.2077 - accuracy: 0.9600 - val_loss: 0.3557 - val_accuracy: 0.8400\n",
      "Epoch 55/100\n",
      "75/75 [==============================] - 0s 1ms/step - loss: 0.2049 - accuracy: 0.9600 - val_loss: 0.3529 - val_accuracy: 0.8400\n",
      "Epoch 56/100\n",
      "75/75 [==============================] - 0s 1ms/step - loss: 0.2022 - accuracy: 0.9600 - val_loss: 0.3501 - val_accuracy: 0.8400\n",
      "Epoch 57/100\n",
      "75/75 [==============================] - 0s 1ms/step - loss: 0.1995 - accuracy: 0.9600 - val_loss: 0.3502 - val_accuracy: 0.8400\n",
      "Epoch 58/100\n",
      "75/75 [==============================] - 0s 1ms/step - loss: 0.1970 - accuracy: 0.9600 - val_loss: 0.3461 - val_accuracy: 0.8400\n",
      "Epoch 59/100\n",
      "75/75 [==============================] - 0s 1ms/step - loss: 0.1945 - accuracy: 0.9600 - val_loss: 0.3449 - val_accuracy: 0.8400\n",
      "Epoch 60/100\n",
      "75/75 [==============================] - 0s 1ms/step - loss: 0.1916 - accuracy: 0.9600 - val_loss: 0.3400 - val_accuracy: 0.8400\n",
      "Epoch 61/100\n",
      "75/75 [==============================] - 0s 2ms/step - loss: 0.1892 - accuracy: 0.9600 - val_loss: 0.3423 - val_accuracy: 0.8533\n",
      "Epoch 62/100\n",
      "75/75 [==============================] - 0s 2ms/step - loss: 0.1874 - accuracy: 0.9600 - val_loss: 0.3397 - val_accuracy: 0.8533\n",
      "Epoch 63/100\n",
      "75/75 [==============================] - 0s 2ms/step - loss: 0.1848 - accuracy: 0.9600 - val_loss: 0.3352 - val_accuracy: 0.8400\n",
      "Epoch 64/100\n",
      "75/75 [==============================] - 0s 2ms/step - loss: 0.1827 - accuracy: 0.9600 - val_loss: 0.3327 - val_accuracy: 0.8400\n",
      "Epoch 65/100\n",
      "75/75 [==============================] - 0s 2ms/step - loss: 0.1804 - accuracy: 0.9600 - val_loss: 0.3303 - val_accuracy: 0.8533\n",
      "Epoch 66/100\n",
      "75/75 [==============================] - 0s 2ms/step - loss: 0.1784 - accuracy: 0.9600 - val_loss: 0.3296 - val_accuracy: 0.8533\n",
      "Epoch 67/100\n",
      "75/75 [==============================] - 0s 1ms/step - loss: 0.1761 - accuracy: 0.9600 - val_loss: 0.3270 - val_accuracy: 0.8667\n",
      "Epoch 68/100\n",
      "75/75 [==============================] - 0s 2ms/step - loss: 0.1740 - accuracy: 0.9600 - val_loss: 0.3245 - val_accuracy: 0.8667\n",
      "Epoch 69/100\n",
      "75/75 [==============================] - 0s 2ms/step - loss: 0.1721 - accuracy: 0.9600 - val_loss: 0.3234 - val_accuracy: 0.8667\n",
      "Epoch 70/100\n",
      "75/75 [==============================] - 0s 1ms/step - loss: 0.1699 - accuracy: 0.9600 - val_loss: 0.3208 - val_accuracy: 0.8667\n",
      "Epoch 71/100\n",
      "75/75 [==============================] - 0s 1ms/step - loss: 0.1679 - accuracy: 0.9600 - val_loss: 0.3198 - val_accuracy: 0.8667\n",
      "Epoch 72/100\n",
      "75/75 [==============================] - 0s 1ms/step - loss: 0.1659 - accuracy: 0.9600 - val_loss: 0.3167 - val_accuracy: 0.8667\n",
      "Epoch 73/100\n",
      "75/75 [==============================] - 0s 1ms/step - loss: 0.1639 - accuracy: 0.9600 - val_loss: 0.3145 - val_accuracy: 0.8667\n",
      "Epoch 74/100\n",
      "75/75 [==============================] - 0s 1ms/step - loss: 0.1622 - accuracy: 0.9600 - val_loss: 0.3145 - val_accuracy: 0.8667\n",
      "Epoch 75/100\n",
      "75/75 [==============================] - 0s 1ms/step - loss: 0.1603 - accuracy: 0.9600 - val_loss: 0.3131 - val_accuracy: 0.8667\n",
      "Epoch 76/100\n",
      "75/75 [==============================] - 0s 2ms/step - loss: 0.1582 - accuracy: 0.9600 - val_loss: 0.3094 - val_accuracy: 0.8667\n",
      "Epoch 77/100\n",
      "75/75 [==============================] - 0s 1ms/step - loss: 0.1567 - accuracy: 0.9600 - val_loss: 0.3083 - val_accuracy: 0.8667\n",
      "Epoch 78/100\n",
      "75/75 [==============================] - 0s 1ms/step - loss: 0.1548 - accuracy: 0.9600 - val_loss: 0.3067 - val_accuracy: 0.8800\n",
      "Epoch 79/100\n",
      "75/75 [==============================] - 0s 2ms/step - loss: 0.1530 - accuracy: 0.9600 - val_loss: 0.3051 - val_accuracy: 0.9067\n",
      "Epoch 80/100\n",
      "75/75 [==============================] - 0s 1ms/step - loss: 0.1514 - accuracy: 0.9600 - val_loss: 0.3036 - val_accuracy: 0.9067\n",
      "Epoch 81/100\n",
      "75/75 [==============================] - 0s 1ms/step - loss: 0.1496 - accuracy: 0.9733 - val_loss: 0.3019 - val_accuracy: 0.9067\n",
      "Epoch 82/100\n",
      "75/75 [==============================] - 0s 2ms/step - loss: 0.1480 - accuracy: 0.9600 - val_loss: 0.2992 - val_accuracy: 0.9067\n",
      "Epoch 83/100\n",
      "75/75 [==============================] - 0s 1ms/step - loss: 0.1464 - accuracy: 0.9600 - val_loss: 0.2986 - val_accuracy: 0.9067\n",
      "Epoch 84/100\n",
      "75/75 [==============================] - 0s 1ms/step - loss: 0.1447 - accuracy: 0.9733 - val_loss: 0.2964 - val_accuracy: 0.9067\n",
      "Epoch 85/100\n",
      "75/75 [==============================] - 0s 1ms/step - loss: 0.1430 - accuracy: 0.9600 - val_loss: 0.2961 - val_accuracy: 0.9067\n",
      "Epoch 86/100\n",
      "75/75 [==============================] - 0s 1ms/step - loss: 0.1414 - accuracy: 0.9733 - val_loss: 0.2952 - val_accuracy: 0.9067\n",
      "Epoch 87/100\n",
      "75/75 [==============================] - 0s 2ms/step - loss: 0.1400 - accuracy: 0.9733 - val_loss: 0.2915 - val_accuracy: 0.9333\n",
      "Epoch 88/100\n",
      "75/75 [==============================] - 0s 2ms/step - loss: 0.1385 - accuracy: 0.9600 - val_loss: 0.2901 - val_accuracy: 0.9333\n",
      "Epoch 89/100\n",
      "75/75 [==============================] - 0s 1ms/step - loss: 0.1371 - accuracy: 0.9733 - val_loss: 0.2881 - val_accuracy: 0.9333\n",
      "Epoch 90/100\n",
      "75/75 [==============================] - 0s 1ms/step - loss: 0.1355 - accuracy: 0.9600 - val_loss: 0.2867 - val_accuracy: 0.9333\n",
      "Epoch 91/100\n",
      "75/75 [==============================] - 0s 1ms/step - loss: 0.1340 - accuracy: 0.9733 - val_loss: 0.2860 - val_accuracy: 0.9333\n",
      "Epoch 92/100\n",
      "75/75 [==============================] - 0s 2ms/step - loss: 0.1326 - accuracy: 0.9733 - val_loss: 0.2822 - val_accuracy: 0.9333\n",
      "Epoch 93/100\n",
      "75/75 [==============================] - 0s 2ms/step - loss: 0.1313 - accuracy: 0.9733 - val_loss: 0.2814 - val_accuracy: 0.9333\n",
      "Epoch 94/100\n",
      "75/75 [==============================] - 0s 2ms/step - loss: 0.1298 - accuracy: 0.9733 - val_loss: 0.2789 - val_accuracy: 0.9333\n",
      "Epoch 95/100\n",
      "75/75 [==============================] - 0s 1ms/step - loss: 0.1286 - accuracy: 0.9733 - val_loss: 0.2773 - val_accuracy: 0.9333\n",
      "Epoch 96/100\n",
      "75/75 [==============================] - 0s 1ms/step - loss: 0.1272 - accuracy: 0.9733 - val_loss: 0.2752 - val_accuracy: 0.9467\n",
      "Epoch 97/100\n",
      "75/75 [==============================] - 0s 1ms/step - loss: 0.1259 - accuracy: 0.9733 - val_loss: 0.2739 - val_accuracy: 0.9467\n",
      "Epoch 98/100\n",
      "75/75 [==============================] - 0s 1ms/step - loss: 0.1246 - accuracy: 0.9733 - val_loss: 0.2716 - val_accuracy: 0.9467\n",
      "Epoch 99/100\n",
      "75/75 [==============================] - 0s 2ms/step - loss: 0.1233 - accuracy: 0.9733 - val_loss: 0.2712 - val_accuracy: 0.9467\n",
      "Epoch 100/100\n",
      "75/75 [==============================] - 0s 2ms/step - loss: 0.1221 - accuracy: 0.9733 - val_loss: 0.2701 - val_accuracy: 0.9333\n"
     ]
    }
   ],
   "source": [
    "history2 = model.fit(X_train, y_train, batch_size = 1, verbose = 1, epochs = 100, validation_data = (X_test, y_test))"
   ]
  },
  {
   "cell_type": "markdown",
   "id": "71e73790",
   "metadata": {},
   "source": [
    "#### 15) Generate the same two plots. Compare and contrast your findings."
   ]
  },
  {
   "cell_type": "code",
   "execution_count": 52,
   "id": "cd9728f1",
   "metadata": {},
   "outputs": [
    {
     "data": {
      "image/png": "[encoded data removed]",
      "text/plain": [
       "<Figure size 576x360 with 1 Axes>"
      ]
     },
     "metadata": {
      "needs_background": "light"
     },
     "output_type": "display_data"
    }
   ],
   "source": [
    "pd.DataFrame(history2.history).plot(figsize=(8, 5),grid=True,ylim=(0,1),ylabel=\"Loss\")\n",
    "plt.show()"
   ]
  },
  {
   "cell_type": "code",
   "execution_count": 53,
   "id": "851c0c96",
   "metadata": {},
   "outputs": [
    {
     "data": {
      "image/png": "[encoded data removed]",
      "text/plain": [
       "<Figure size 432x288 with 1 Axes>"
      ]
     },
     "metadata": {
      "needs_background": "light"
     },
     "output_type": "display_data"
    },
    {
     "data": {
      "image/png": "[encoded data removed]",
      "text/plain": [
       "<Figure size 432x288 with 1 Axes>"
      ]
     },
     "metadata": {
      "needs_background": "light"
     },
     "output_type": "display_data"
    }
   ],
   "source": [
    "pd.DataFrame(history.history).plot(figsize=(6, 4),grid=True,ylim=(0,1),ylabel=\"Loss\")\n",
    "pd.DataFrame(history2.history).plot(figsize=(6, 4),grid=True,ylim=(0,1),ylabel=\"Loss\")\n",
    "plt.show()"
   ]
  },
  {
   "cell_type": "markdown",
   "id": "ede96ae3",
   "metadata": {},
   "source": [
    "I reduced the number of parameters/nodes in the hidden layer from 12 to 9. In general, the final value accuracy is the same as the original model. However, the initial value accuracy of the changed model is worse than the original model (0.4 vs 0.6). Yet, after around 5 epochs, the changed model catches up to the original model's value accuracy (around 0.8). This might show that we don't really need up to 12 parameters in our hidden layers."
   ]
  },
  {
   "cell_type": "markdown",
   "id": "7e75870f",
   "metadata": {},
   "source": [
    "#### 16) OK, one more time. This time, copy the same model, but use an SGD optimizer."
   ]
  },
  {
   "cell_type": "code",
   "execution_count": 54,
   "id": "c22ab32e",
   "metadata": {},
   "outputs": [],
   "source": [
    "inputs = Input(shape=(4,))\n",
    "layer = Dense(9, activation= 'sigmoid')(inputs)\n",
    "outputs = Dense(3,activation=\"softmax\")(layer)\n",
    "model3 = Model(inputs=inputs, outputs=outputs, name=\"simple_iris_model_3\")"
   ]
  },
  {
   "cell_type": "code",
   "execution_count": 55,
   "id": "a83aee61",
   "metadata": {},
   "outputs": [],
   "source": [
    "from keras.optimizers import SGD"
   ]
  },
  {
   "cell_type": "code",
   "execution_count": 56,
   "id": "02e92067",
   "metadata": {},
   "outputs": [],
   "source": [
    "sgd = SGD(lr = 0.03, momentum = 0.5, decay = 0.0, nesterov = False)"
   ]
  },
  {
   "cell_type": "code",
   "execution_count": 57,
   "id": "5d593602",
   "metadata": {},
   "outputs": [],
   "source": [
    "model3.compile(optimizer = sgd, loss = 'categorical_crossentropy', metrics = ['accuracy'])"
   ]
  },
  {
   "cell_type": "code",
   "execution_count": 58,
   "id": "01dd97b5",
   "metadata": {},
   "outputs": [
    {
     "name": "stdout",
     "output_type": "stream",
     "text": [
      "Epoch 1/100\n",
      "75/75 [==============================] - 0s 3ms/step - loss: 1.0663 - accuracy: 0.4933 - val_loss: 0.9722 - val_accuracy: 0.6000\n",
      "Epoch 2/100\n",
      "75/75 [==============================] - 0s 1ms/step - loss: 0.7636 - accuracy: 0.7467 - val_loss: 0.6469 - val_accuracy: 0.8133\n",
      "Epoch 3/100\n",
      "75/75 [==============================] - 0s 2ms/step - loss: 0.5518 - accuracy: 0.8800 - val_loss: 0.5283 - val_accuracy: 0.8400\n",
      "Epoch 4/100\n",
      "75/75 [==============================] - 0s 2ms/step - loss: 0.4452 - accuracy: 0.9200 - val_loss: 0.4860 - val_accuracy: 0.7867\n",
      "Epoch 5/100\n",
      "75/75 [==============================] - 0s 2ms/step - loss: 0.3744 - accuracy: 0.9200 - val_loss: 0.4762 - val_accuracy: 0.8000\n",
      "Epoch 6/100\n",
      "75/75 [==============================] - 0s 2ms/step - loss: 0.3359 - accuracy: 0.9067 - val_loss: 0.4328 - val_accuracy: 0.7867\n",
      "Epoch 7/100\n",
      "75/75 [==============================] - 0s 1ms/step - loss: 0.2984 - accuracy: 0.9067 - val_loss: 0.3896 - val_accuracy: 0.8400\n",
      "Epoch 8/100\n",
      "75/75 [==============================] - 0s 2ms/step - loss: 0.2706 - accuracy: 0.8933 - val_loss: 0.3816 - val_accuracy: 0.8267\n",
      "Epoch 9/100\n",
      "75/75 [==============================] - 0s 2ms/step - loss: 0.2527 - accuracy: 0.9067 - val_loss: 0.3720 - val_accuracy: 0.8400\n",
      "Epoch 10/100\n",
      "75/75 [==============================] - 0s 2ms/step - loss: 0.2341 - accuracy: 0.9067 - val_loss: 0.3629 - val_accuracy: 0.8133\n",
      "Epoch 11/100\n",
      "75/75 [==============================] - 0s 2ms/step - loss: 0.2169 - accuracy: 0.9333 - val_loss: 0.3580 - val_accuracy: 0.8133\n",
      "Epoch 12/100\n",
      "75/75 [==============================] - 0s 2ms/step - loss: 0.2042 - accuracy: 0.9333 - val_loss: 0.3303 - val_accuracy: 0.8800\n",
      "Epoch 13/100\n",
      "75/75 [==============================] - 0s 2ms/step - loss: 0.1865 - accuracy: 0.9467 - val_loss: 0.3084 - val_accuracy: 0.8800\n",
      "Epoch 14/100\n",
      "75/75 [==============================] - 0s 2ms/step - loss: 0.1782 - accuracy: 0.9467 - val_loss: 0.3241 - val_accuracy: 0.8400\n",
      "Epoch 15/100\n",
      "75/75 [==============================] - 0s 2ms/step - loss: 0.1671 - accuracy: 0.9600 - val_loss: 0.2974 - val_accuracy: 0.9067\n",
      "Epoch 16/100\n",
      "75/75 [==============================] - 0s 2ms/step - loss: 0.1546 - accuracy: 0.9600 - val_loss: 0.3094 - val_accuracy: 0.8533\n",
      "Epoch 17/100\n",
      "75/75 [==============================] - 0s 1ms/step - loss: 0.1468 - accuracy: 0.9733 - val_loss: 0.2801 - val_accuracy: 0.9333\n",
      "Epoch 18/100\n",
      "75/75 [==============================] - 0s 1ms/step - loss: 0.1345 - accuracy: 0.9733 - val_loss: 0.2578 - val_accuracy: 0.9067\n",
      "Epoch 19/100\n",
      "75/75 [==============================] - 0s 2ms/step - loss: 0.1292 - accuracy: 0.9867 - val_loss: 0.2509 - val_accuracy: 0.9333\n",
      "Epoch 20/100\n",
      "75/75 [==============================] - 0s 2ms/step - loss: 0.1212 - accuracy: 0.9867 - val_loss: 0.2505 - val_accuracy: 0.9333\n",
      "Epoch 21/100\n",
      "75/75 [==============================] - 0s 2ms/step - loss: 0.1151 - accuracy: 0.9733 - val_loss: 0.2357 - val_accuracy: 0.9333\n",
      "Epoch 22/100\n",
      "75/75 [==============================] - 0s 1ms/step - loss: 0.1092 - accuracy: 0.9867 - val_loss: 0.2301 - val_accuracy: 0.9333\n",
      "Epoch 23/100\n",
      "75/75 [==============================] - 0s 2ms/step - loss: 0.1031 - accuracy: 0.9867 - val_loss: 0.2332 - val_accuracy: 0.9333\n",
      "Epoch 24/100\n",
      "75/75 [==============================] - 0s 1ms/step - loss: 0.0978 - accuracy: 0.9867 - val_loss: 0.2166 - val_accuracy: 0.9333\n",
      "Epoch 25/100\n",
      "75/75 [==============================] - 0s 1ms/step - loss: 0.0912 - accuracy: 0.9867 - val_loss: 0.2274 - val_accuracy: 0.9467\n",
      "Epoch 26/100\n",
      "75/75 [==============================] - 0s 1ms/step - loss: 0.0903 - accuracy: 0.9867 - val_loss: 0.2064 - val_accuracy: 0.9333\n",
      "Epoch 27/100\n",
      "75/75 [==============================] - 0s 2ms/step - loss: 0.0856 - accuracy: 0.9867 - val_loss: 0.2022 - val_accuracy: 0.9333\n",
      "Epoch 28/100\n",
      "75/75 [==============================] - 0s 2ms/step - loss: 0.0825 - accuracy: 0.9867 - val_loss: 0.2037 - val_accuracy: 0.9333\n",
      "Epoch 29/100\n",
      "75/75 [==============================] - 0s 2ms/step - loss: 0.0785 - accuracy: 0.9867 - val_loss: 0.1975 - val_accuracy: 0.9333\n",
      "Epoch 30/100\n",
      "75/75 [==============================] - 0s 1ms/step - loss: 0.0743 - accuracy: 0.9867 - val_loss: 0.1987 - val_accuracy: 0.9333\n",
      "Epoch 31/100\n",
      "75/75 [==============================] - 0s 1ms/step - loss: 0.0741 - accuracy: 0.9867 - val_loss: 0.1896 - val_accuracy: 0.9333\n",
      "Epoch 32/100\n",
      "75/75 [==============================] - 0s 1ms/step - loss: 0.0706 - accuracy: 0.9867 - val_loss: 0.1855 - val_accuracy: 0.9333\n",
      "Epoch 33/100\n",
      "75/75 [==============================] - 0s 1ms/step - loss: 0.0677 - accuracy: 0.9867 - val_loss: 0.1847 - val_accuracy: 0.9333\n",
      "Epoch 34/100\n",
      "75/75 [==============================] - 0s 1ms/step - loss: 0.0669 - accuracy: 0.9867 - val_loss: 0.1776 - val_accuracy: 0.9333\n",
      "Epoch 35/100\n",
      "75/75 [==============================] - 0s 1ms/step - loss: 0.0640 - accuracy: 0.9867 - val_loss: 0.1752 - val_accuracy: 0.9333\n",
      "Epoch 36/100\n",
      "75/75 [==============================] - 0s 1ms/step - loss: 0.0618 - accuracy: 0.9867 - val_loss: 0.1689 - val_accuracy: 0.9200\n",
      "Epoch 37/100\n",
      "75/75 [==============================] - 0s 1ms/step - loss: 0.0606 - accuracy: 0.9867 - val_loss: 0.1662 - val_accuracy: 0.9200\n",
      "Epoch 38/100\n",
      "75/75 [==============================] - 0s 1ms/step - loss: 0.0580 - accuracy: 0.9867 - val_loss: 0.1660 - val_accuracy: 0.9200\n",
      "Epoch 39/100\n",
      "75/75 [==============================] - 0s 1ms/step - loss: 0.0567 - accuracy: 0.9867 - val_loss: 0.1670 - val_accuracy: 0.9333\n",
      "Epoch 40/100\n",
      "75/75 [==============================] - 0s 1ms/step - loss: 0.0563 - accuracy: 0.9867 - val_loss: 0.1599 - val_accuracy: 0.9200\n",
      "Epoch 41/100\n",
      "75/75 [==============================] - 0s 1ms/step - loss: 0.0542 - accuracy: 0.9867 - val_loss: 0.1574 - val_accuracy: 0.9200\n",
      "Epoch 42/100\n",
      "75/75 [==============================] - 0s 1ms/step - loss: 0.0521 - accuracy: 0.9867 - val_loss: 0.1561 - val_accuracy: 0.9333\n",
      "Epoch 43/100\n",
      "75/75 [==============================] - 0s 1ms/step - loss: 0.0522 - accuracy: 0.9867 - val_loss: 0.1552 - val_accuracy: 0.9200\n",
      "Epoch 44/100\n",
      "75/75 [==============================] - 0s 1ms/step - loss: 0.0499 - accuracy: 0.9867 - val_loss: 0.1547 - val_accuracy: 0.9200\n",
      "Epoch 45/100\n",
      "75/75 [==============================] - 0s 1ms/step - loss: 0.0499 - accuracy: 0.9867 - val_loss: 0.1545 - val_accuracy: 0.9200\n",
      "Epoch 46/100\n",
      "75/75 [==============================] - 0s 1ms/step - loss: 0.0491 - accuracy: 0.9867 - val_loss: 0.1520 - val_accuracy: 0.9200\n",
      "Epoch 47/100\n",
      "75/75 [==============================] - 0s 1ms/step - loss: 0.0470 - accuracy: 0.9867 - val_loss: 0.1495 - val_accuracy: 0.9333\n",
      "Epoch 48/100\n",
      "75/75 [==============================] - 0s 1ms/step - loss: 0.0467 - accuracy: 0.9867 - val_loss: 0.1483 - val_accuracy: 0.9200\n",
      "Epoch 49/100\n",
      "75/75 [==============================] - 0s 1ms/step - loss: 0.0449 - accuracy: 0.9867 - val_loss: 0.1466 - val_accuracy: 0.9333\n",
      "Epoch 50/100\n",
      "75/75 [==============================] - 0s 1ms/step - loss: 0.0446 - accuracy: 0.9867 - val_loss: 0.1455 - val_accuracy: 0.9333\n",
      "Epoch 51/100\n",
      "75/75 [==============================] - 0s 1ms/step - loss: 0.0438 - accuracy: 0.9867 - val_loss: 0.1448 - val_accuracy: 0.9333\n",
      "Epoch 52/100\n",
      "75/75 [==============================] - 0s 1ms/step - loss: 0.0425 - accuracy: 0.9867 - val_loss: 0.1442 - val_accuracy: 0.9333\n",
      "Epoch 53/100\n",
      "75/75 [==============================] - 0s 1ms/step - loss: 0.0427 - accuracy: 0.9867 - val_loss: 0.1443 - val_accuracy: 0.9333\n",
      "Epoch 54/100\n",
      "75/75 [==============================] - 0s 1ms/step - loss: 0.0419 - accuracy: 0.9867 - val_loss: 0.1413 - val_accuracy: 0.9333\n",
      "Epoch 55/100\n",
      "75/75 [==============================] - 0s 1ms/step - loss: 0.0406 - accuracy: 0.9867 - val_loss: 0.1398 - val_accuracy: 0.9333\n",
      "Epoch 56/100\n",
      "75/75 [==============================] - 0s 1ms/step - loss: 0.0406 - accuracy: 0.9867 - val_loss: 0.1396 - val_accuracy: 0.9333\n",
      "Epoch 57/100\n",
      "75/75 [==============================] - 0s 2ms/step - loss: 0.0396 - accuracy: 0.9867 - val_loss: 0.1379 - val_accuracy: 0.9333\n",
      "Epoch 58/100\n",
      "75/75 [==============================] - 0s 1ms/step - loss: 0.0389 - accuracy: 0.9867 - val_loss: 0.1381 - val_accuracy: 0.9333\n",
      "Epoch 59/100\n",
      "75/75 [==============================] - 0s 1ms/step - loss: 0.0391 - accuracy: 0.9867 - val_loss: 0.1372 - val_accuracy: 0.9333\n",
      "Epoch 60/100\n",
      "75/75 [==============================] - 0s 1ms/step - loss: 0.0381 - accuracy: 0.9867 - val_loss: 0.1357 - val_accuracy: 0.9333\n",
      "Epoch 61/100\n",
      "75/75 [==============================] - 0s 1ms/step - loss: 0.0373 - accuracy: 0.9867 - val_loss: 0.1362 - val_accuracy: 0.9333\n",
      "Epoch 62/100\n",
      "75/75 [==============================] - 0s 1ms/step - loss: 0.0366 - accuracy: 0.9867 - val_loss: 0.1333 - val_accuracy: 0.9333\n",
      "Epoch 63/100\n",
      "75/75 [==============================] - 0s 1ms/step - loss: 0.0360 - accuracy: 0.9867 - val_loss: 0.1324 - val_accuracy: 0.9333\n",
      "Epoch 64/100\n",
      "75/75 [==============================] - 0s 1ms/step - loss: 0.0353 - accuracy: 0.9867 - val_loss: 0.1319 - val_accuracy: 0.9333\n",
      "Epoch 65/100\n",
      "75/75 [==============================] - 0s 1ms/step - loss: 0.0352 - accuracy: 0.9867 - val_loss: 0.1315 - val_accuracy: 0.9333\n",
      "Epoch 66/100\n",
      "75/75 [==============================] - 0s 1ms/step - loss: 0.0346 - accuracy: 0.9867 - val_loss: 0.1321 - val_accuracy: 0.9333\n",
      "Epoch 67/100\n",
      "75/75 [==============================] - 0s 1ms/step - loss: 0.0340 - accuracy: 0.9867 - val_loss: 0.1303 - val_accuracy: 0.9333\n",
      "Epoch 68/100\n",
      "75/75 [==============================] - 0s 1ms/step - loss: 0.0335 - accuracy: 0.9867 - val_loss: 0.1325 - val_accuracy: 0.9333\n",
      "Epoch 69/100\n",
      "75/75 [==============================] - 0s 1ms/step - loss: 0.0330 - accuracy: 0.9867 - val_loss: 0.1319 - val_accuracy: 0.9333\n",
      "Epoch 70/100\n",
      "75/75 [==============================] - 0s 1ms/step - loss: 0.0325 - accuracy: 0.9867 - val_loss: 0.1332 - val_accuracy: 0.9467\n",
      "Epoch 71/100\n",
      "75/75 [==============================] - 0s 1ms/step - loss: 0.0328 - accuracy: 0.9867 - val_loss: 0.1302 - val_accuracy: 0.9333\n",
      "Epoch 72/100\n",
      "75/75 [==============================] - 0s 1ms/step - loss: 0.0314 - accuracy: 0.9867 - val_loss: 0.1294 - val_accuracy: 0.9333\n",
      "Epoch 73/100\n",
      "75/75 [==============================] - 0s 1ms/step - loss: 0.0312 - accuracy: 0.9867 - val_loss: 0.1266 - val_accuracy: 0.9333\n",
      "Epoch 74/100\n",
      "75/75 [==============================] - 0s 1ms/step - loss: 0.0313 - accuracy: 0.9867 - val_loss: 0.1274 - val_accuracy: 0.9333\n",
      "Epoch 75/100\n",
      "75/75 [==============================] - 0s 1ms/step - loss: 0.0305 - accuracy: 0.9867 - val_loss: 0.1259 - val_accuracy: 0.9333\n",
      "Epoch 76/100\n",
      "75/75 [==============================] - 0s 1ms/step - loss: 0.0297 - accuracy: 0.9867 - val_loss: 0.1271 - val_accuracy: 0.9333\n",
      "Epoch 77/100\n",
      "75/75 [==============================] - 0s 1ms/step - loss: 0.0301 - accuracy: 0.9867 - val_loss: 0.1278 - val_accuracy: 0.9333\n",
      "Epoch 78/100\n",
      "75/75 [==============================] - 0s 1ms/step - loss: 0.0293 - accuracy: 1.0000 - val_loss: 0.1259 - val_accuracy: 0.9333\n",
      "Epoch 79/100\n",
      "75/75 [==============================] - 0s 1ms/step - loss: 0.0288 - accuracy: 0.9867 - val_loss: 0.1293 - val_accuracy: 0.9333\n",
      "Epoch 80/100\n",
      "75/75 [==============================] - 0s 1ms/step - loss: 0.0286 - accuracy: 1.0000 - val_loss: 0.1262 - val_accuracy: 0.9333\n",
      "Epoch 81/100\n",
      "75/75 [==============================] - 0s 1ms/step - loss: 0.0282 - accuracy: 0.9867 - val_loss: 0.1267 - val_accuracy: 0.9333\n",
      "Epoch 82/100\n",
      "75/75 [==============================] - 0s 1ms/step - loss: 0.0280 - accuracy: 1.0000 - val_loss: 0.1248 - val_accuracy: 0.9333\n",
      "Epoch 83/100\n",
      "75/75 [==============================] - 0s 1ms/step - loss: 0.0282 - accuracy: 0.9867 - val_loss: 0.1246 - val_accuracy: 0.9333\n",
      "Epoch 84/100\n",
      "75/75 [==============================] - 0s 1ms/step - loss: 0.0273 - accuracy: 0.9867 - val_loss: 0.1280 - val_accuracy: 0.9333\n",
      "Epoch 85/100\n",
      "75/75 [==============================] - 0s 1ms/step - loss: 0.0277 - accuracy: 0.9867 - val_loss: 0.1273 - val_accuracy: 0.9333\n",
      "Epoch 86/100\n",
      "75/75 [==============================] - 0s 1ms/step - loss: 0.0265 - accuracy: 1.0000 - val_loss: 0.1248 - val_accuracy: 0.9333\n",
      "Epoch 87/100\n",
      "75/75 [==============================] - 0s 2ms/step - loss: 0.0267 - accuracy: 0.9867 - val_loss: 0.1265 - val_accuracy: 0.9333\n",
      "Epoch 88/100\n",
      "75/75 [==============================] - 0s 1ms/step - loss: 0.0262 - accuracy: 1.0000 - val_loss: 0.1239 - val_accuracy: 0.9333\n",
      "Epoch 89/100\n",
      "75/75 [==============================] - 0s 2ms/step - loss: 0.0262 - accuracy: 0.9867 - val_loss: 0.1227 - val_accuracy: 0.9333\n",
      "Epoch 90/100\n",
      "75/75 [==============================] - 0s 1ms/step - loss: 0.0262 - accuracy: 0.9867 - val_loss: 0.1246 - val_accuracy: 0.9333\n",
      "Epoch 91/100\n",
      "75/75 [==============================] - 0s 1ms/step - loss: 0.0255 - accuracy: 1.0000 - val_loss: 0.1257 - val_accuracy: 0.9333\n",
      "Epoch 92/100\n",
      "75/75 [==============================] - 0s 1ms/step - loss: 0.0253 - accuracy: 0.9867 - val_loss: 0.1226 - val_accuracy: 0.9333\n",
      "Epoch 93/100\n",
      "75/75 [==============================] - 0s 1ms/step - loss: 0.0251 - accuracy: 0.9867 - val_loss: 0.1229 - val_accuracy: 0.9333\n",
      "Epoch 94/100\n",
      "75/75 [==============================] - 0s 1ms/step - loss: 0.0246 - accuracy: 0.9867 - val_loss: 0.1234 - val_accuracy: 0.9333\n",
      "Epoch 95/100\n",
      "75/75 [==============================] - 0s 1ms/step - loss: 0.0245 - accuracy: 1.0000 - val_loss: 0.1227 - val_accuracy: 0.9333\n",
      "Epoch 96/100\n",
      "75/75 [==============================] - 0s 1ms/step - loss: 0.0244 - accuracy: 0.9867 - val_loss: 0.1223 - val_accuracy: 0.9333\n",
      "Epoch 97/100\n",
      "75/75 [==============================] - 0s 1ms/step - loss: 0.0241 - accuracy: 0.9867 - val_loss: 0.1252 - val_accuracy: 0.9333\n",
      "Epoch 98/100\n",
      "75/75 [==============================] - 0s 1ms/step - loss: 0.0236 - accuracy: 0.9867 - val_loss: 0.1276 - val_accuracy: 0.9467\n",
      "Epoch 99/100\n",
      "75/75 [==============================] - 0s 1ms/step - loss: 0.0237 - accuracy: 1.0000 - val_loss: 0.1256 - val_accuracy: 0.9333\n",
      "Epoch 100/100\n",
      "75/75 [==============================] - 0s 1ms/step - loss: 0.0234 - accuracy: 1.0000 - val_loss: 0.1250 - val_accuracy: 0.9333\n"
     ]
    }
   ],
   "source": [
    "history3 = model3.fit(X_train, y_train, batch_size = 1, verbose = 1, epochs = 100, validation_data = (X_test, y_test))"
   ]
  },
  {
   "cell_type": "code",
   "execution_count": 59,
   "id": "1af4e1e8",
   "metadata": {},
   "outputs": [
    {
     "data": {
      "image/png": "[encoded data removed]",
      "text/plain": [
       "<Figure size 432x288 with 1 Axes>"
      ]
     },
     "metadata": {
      "needs_background": "light"
     },
     "output_type": "display_data"
    },
    {
     "data": {
      "image/png": "[encoded data removed]",
      "text/plain": [
       "<Figure size 432x288 with 1 Axes>"
      ]
     },
     "metadata": {
      "needs_background": "light"
     },
     "output_type": "display_data"
    }
   ],
   "source": [
    "pd.DataFrame(history2.history).plot(figsize=(6, 4),grid=True,ylim=(0,1),ylabel=\"Loss\")\n",
    "pd.DataFrame(history3.history).plot(figsize=(6, 4),grid=True,ylim=(0,1),ylabel=\"Loss\")\n",
    "plt.show()"
   ]
  },
  {
   "cell_type": "markdown",
   "id": "cdb2981e",
   "metadata": {},
   "source": [
    "I adjusted the learning rate to be 0.03 and the momentum to be 0.5. I am glad that the learning rate is not too large so that it diverges. With fewer epochs, we are able to reach 80% accuracy, and with only 20 epochs, we reach 93% accuracy. The increased learning rate and momentum make the model arrive at the result faster."
   ]
  },
  {
   "cell_type": "markdown",
   "id": "f9e18f44",
   "metadata": {},
   "source": [
    "#### 17) Remember, this is a classification problem. Use your model to predict the classes for the test data (using the function predict on the model object itself) and store the results as y_pred."
   ]
  },
  {
   "cell_type": "code",
   "execution_count": 66,
   "id": "5a982a64",
   "metadata": {},
   "outputs": [],
   "source": [
    "y_pred = model3.predict(X_test)"
   ]
  },
  {
   "cell_type": "markdown",
   "id": "95094e41",
   "metadata": {},
   "source": [
    "#### 18) Notice the structure of y_pred. Remember, softmax generates probabilistic output. So, turn this into a new variable called y_pred_class that predicts the actual class label. "
   ]
  },
  {
   "cell_type": "code",
   "execution_count": 86,
   "id": "ade07af7",
   "metadata": {},
   "outputs": [],
   "source": [
    "y_pred_class = [y_test.columns[x] for x in y_pred.argmax(axis = 1)]"
   ]
  },
  {
   "cell_type": "markdown",
   "id": "77b9a223",
   "metadata": {},
   "source": [
    "#### 19) Finally, using your code from the lab on classification, output the confusion_matrix and the classification_report (from scikit-learn's metric package) to print out the complete performance results. "
   ]
  },
  {
   "cell_type": "code",
   "execution_count": 90,
   "id": "2cab2f6e",
   "metadata": {},
   "outputs": [],
   "source": [
    "y_t = y_test.idxmax(axis=1)"
   ]
  },
  {
   "cell_type": "code",
   "execution_count": 91,
   "id": "b2a1f67e",
   "metadata": {},
   "outputs": [
    {
     "name": "stdout",
     "output_type": "stream",
     "text": [
      "                    precision    recall  f1-score   support\n",
      "\n",
      "    species_setosa       1.00      1.00      1.00        23\n",
      "species_versicolor       0.90      0.86      0.88        22\n",
      " species_virginica       0.90      0.93      0.92        30\n",
      "\n",
      "          accuracy                           0.93        75\n",
      "         macro avg       0.94      0.93      0.93        75\n",
      "      weighted avg       0.93      0.93      0.93        75\n",
      "\n"
     ]
    }
   ],
   "source": [
    "print(classification_report(y_t, y_pred_class))"
   ]
  },
  {
   "cell_type": "code",
   "execution_count": 93,
   "id": "6fd4519f",
   "metadata": {},
   "outputs": [
    {
     "name": "stdout",
     "output_type": "stream",
     "text": [
      "[[23  0  0]\n",
      " [ 0 19  3]\n",
      " [ 0  2 28]]\n"
     ]
    }
   ],
   "source": [
    "print(confusion_matrix(y_t, y_pred_class))"
   ]
  },
  {
   "cell_type": "markdown",
   "id": "7cea8454",
   "metadata": {},
   "source": [
    "#### 20) Import the above class into your code. Then write a function called create_keras_model()."
   ]
  },
  {
   "cell_type": "code",
   "execution_count": 94,
   "id": "b36c6640",
   "metadata": {},
   "outputs": [],
   "source": [
    "from keras.wrappers.scikit_learn import KerasClassifier"
   ]
  },
  {
   "cell_type": "code",
   "execution_count": 101,
   "id": "459877ad",
   "metadata": {},
   "outputs": [],
   "source": [
    "def create_keras_model():\n",
    "    inputs = Input(shape=(4,))\n",
    "    layer = Dense(9, activation= 'sigmoid')(inputs)\n",
    "    outputs = Dense(3,activation=\"softmax\")(layer)\n",
    "    model = Model(inputs=inputs, outputs=outputs, name=\"simple_iris_model_3\")\n",
    "    sgd = SGD(lr = 0.03, momentum = 0.5, decay = 0.0, nesterov = False)\n",
    "    model.compile(optimizer = sgd, loss = 'categorical_crossentropy', metrics = ['accuracy'])\n",
    "    return model"
   ]
  },
  {
   "cell_type": "code",
   "execution_count": 102,
   "id": "6988b104",
   "metadata": {},
   "outputs": [],
   "source": [
    "# Create a wrapped keras model\n",
    "clf = KerasClassifier(build_fn=create_keras_model, verbose=1, epochs=100, batch_size=1)"
   ]
  },
  {
   "cell_type": "markdown",
   "id": "a244273f",
   "metadata": {},
   "source": [
    "#### 21) Fit then predict with clf"
   ]
  },
  {
   "cell_type": "code",
   "execution_count": 103,
   "id": "cef78789",
   "metadata": {},
   "outputs": [
    {
     "name": "stdout",
     "output_type": "stream",
     "text": [
      "Epoch 1/100\n",
      "75/75 [==============================] - 0s 734us/step - loss: 0.8582 - accuracy: 0.6800\n",
      "Epoch 2/100\n",
      "75/75 [==============================] - 0s 710us/step - loss: 0.5829 - accuracy: 0.7733\n",
      "Epoch 3/100\n",
      "75/75 [==============================] - 0s 811us/step - loss: 0.4767 - accuracy: 0.8533\n",
      "Epoch 4/100\n",
      "75/75 [==============================] - 0s 811us/step - loss: 0.3890 - accuracy: 0.8800\n",
      "Epoch 5/100\n",
      "75/75 [==============================] - 0s 771us/step - loss: 0.3556 - accuracy: 0.8800\n",
      "Epoch 6/100\n",
      "75/75 [==============================] - 0s 718us/step - loss: 0.3088 - accuracy: 0.9067\n",
      "Epoch 7/100\n",
      "75/75 [==============================] - 0s 731us/step - loss: 0.2859 - accuracy: 0.9200\n",
      "Epoch 8/100\n",
      "75/75 [==============================] - 0s 824us/step - loss: 0.2529 - accuracy: 0.9200\n",
      "Epoch 9/100\n",
      "75/75 [==============================] - 0s 798us/step - loss: 0.2334 - accuracy: 0.9200\n",
      "Epoch 10/100\n",
      "75/75 [==============================] - 0s 758us/step - loss: 0.2199 - accuracy: 0.9467\n",
      "Epoch 11/100\n",
      "75/75 [==============================] - 0s 824us/step - loss: 0.1940 - accuracy: 0.9733\n",
      "Epoch 12/100\n",
      "75/75 [==============================] - 0s 758us/step - loss: 0.1913 - accuracy: 0.9333\n",
      "Epoch 13/100\n",
      "75/75 [==============================] - 0s 714us/step - loss: 0.1674 - accuracy: 0.9600\n",
      "Epoch 14/100\n",
      "75/75 [==============================] - 0s 660us/step - loss: 0.1699 - accuracy: 0.9467\n",
      "Epoch 15/100\n",
      "75/75 [==============================] - 0s 720us/step - loss: 0.1539 - accuracy: 0.9600\n",
      "Epoch 16/100\n",
      "75/75 [==============================] - 0s 665us/step - loss: 0.1434 - accuracy: 0.9600\n",
      "Epoch 17/100\n",
      "75/75 [==============================] - 0s 701us/step - loss: 0.1339 - accuracy: 0.9600\n",
      "Epoch 18/100\n",
      "75/75 [==============================] - 0s 628us/step - loss: 0.1244 - accuracy: 0.9733\n",
      "Epoch 19/100\n",
      "75/75 [==============================] - 0s 574us/step - loss: 0.1156 - accuracy: 0.9733\n",
      "Epoch 20/100\n",
      "75/75 [==============================] - 0s 744us/step - loss: 0.1102 - accuracy: 0.9733\n",
      "Epoch 21/100\n",
      "75/75 [==============================] - 0s 798us/step - loss: 0.1027 - accuracy: 0.9867\n",
      "Epoch 22/100\n",
      "75/75 [==============================] - 0s 784us/step - loss: 0.0977 - accuracy: 0.9733\n",
      "Epoch 23/100\n",
      "75/75 [==============================] - 0s 740us/step - loss: 0.0929 - accuracy: 0.9867\n",
      "Epoch 24/100\n",
      "75/75 [==============================] - 0s 740us/step - loss: 0.0892 - accuracy: 0.9867\n",
      "Epoch 25/100\n",
      "75/75 [==============================] - 0s 718us/step - loss: 0.0845 - accuracy: 0.9733\n",
      "Epoch 26/100\n",
      "75/75 [==============================] - 0s 683us/step - loss: 0.0803 - accuracy: 0.9867\n",
      "Epoch 27/100\n",
      "75/75 [==============================] - 0s 711us/step - loss: 0.0760 - accuracy: 0.9867\n",
      "Epoch 28/100\n",
      "75/75 [==============================] - 0s 774us/step - loss: 0.0744 - accuracy: 0.9867\n",
      "Epoch 29/100\n",
      "75/75 [==============================] - 0s 851us/step - loss: 0.0698 - accuracy: 0.9733\n",
      "Epoch 30/100\n",
      "75/75 [==============================] - 0s 714us/step - loss: 0.0689 - accuracy: 0.9867\n",
      "Epoch 31/100\n",
      "75/75 [==============================] - 0s 785us/step - loss: 0.0659 - accuracy: 0.9867\n",
      "Epoch 32/100\n",
      "75/75 [==============================] - 0s 824us/step - loss: 0.0640 - accuracy: 0.9867\n",
      "Epoch 33/100\n",
      "75/75 [==============================] - 0s 810us/step - loss: 0.0607 - accuracy: 0.9867\n",
      "Epoch 34/100\n",
      "75/75 [==============================] - 0s 798us/step - loss: 0.0595 - accuracy: 0.9867\n",
      "Epoch 35/100\n",
      "75/75 [==============================] - 0s 776us/step - loss: 0.0577 - accuracy: 0.9867\n",
      "Epoch 36/100\n",
      "75/75 [==============================] - 0s 791us/step - loss: 0.0561 - accuracy: 0.9867\n",
      "Epoch 37/100\n",
      "75/75 [==============================] - 0s 662us/step - loss: 0.0541 - accuracy: 0.9867\n",
      "Epoch 38/100\n",
      "75/75 [==============================] - 0s 761us/step - loss: 0.0536 - accuracy: 0.9867\n",
      "Epoch 39/100\n",
      "75/75 [==============================] - 0s 870us/step - loss: 0.0511 - accuracy: 0.9867\n",
      "Epoch 40/100\n",
      "75/75 [==============================] - 0s 782us/step - loss: 0.0501 - accuracy: 0.98670s - loss: 0.0518 - accuracy: 0.98\n",
      "Epoch 41/100\n",
      "75/75 [==============================] - 0s 855us/step - loss: 0.0496 - accuracy: 0.9867\n",
      "Epoch 42/100\n",
      "75/75 [==============================] - 0s 678us/step - loss: 0.0489 - accuracy: 0.9867\n",
      "Epoch 43/100\n",
      "75/75 [==============================] - 0s 652us/step - loss: 0.0477 - accuracy: 0.9867\n",
      "Epoch 44/100\n",
      "75/75 [==============================] - 0s 625us/step - loss: 0.0459 - accuracy: 0.9867\n",
      "Epoch 45/100\n",
      "75/75 [==============================] - 0s 731us/step - loss: 0.0463 - accuracy: 0.9867\n",
      "Epoch 46/100\n",
      "75/75 [==============================] - 0s 694us/step - loss: 0.0444 - accuracy: 0.9867\n",
      "Epoch 47/100\n",
      "75/75 [==============================] - 0s 612us/step - loss: 0.0440 - accuracy: 0.9867\n",
      "Epoch 48/100\n",
      "75/75 [==============================] - 0s 638us/step - loss: 0.0438 - accuracy: 0.9867\n",
      "Epoch 49/100\n",
      "75/75 [==============================] - 0s 611us/step - loss: 0.0409 - accuracy: 0.9867\n",
      "Epoch 50/100\n",
      "75/75 [==============================] - 0s 619us/step - loss: 0.0422 - accuracy: 0.9867\n",
      "Epoch 51/100\n",
      "75/75 [==============================] - 0s 700us/step - loss: 0.0406 - accuracy: 0.9867\n",
      "Epoch 52/100\n",
      "75/75 [==============================] - 0s 758us/step - loss: 0.0399 - accuracy: 0.9867\n",
      "Epoch 53/100\n",
      "75/75 [==============================] - 0s 785us/step - loss: 0.0393 - accuracy: 0.9867\n",
      "Epoch 54/100\n",
      "75/75 [==============================] - 0s 838us/step - loss: 0.0386 - accuracy: 0.9867\n",
      "Epoch 55/100\n",
      "75/75 [==============================] - 0s 891us/step - loss: 0.0381 - accuracy: 0.98670s - loss: 0.0430 - accuracy: 0.98\n",
      "Epoch 56/100\n",
      "75/75 [==============================] - 0s 891us/step - loss: 0.0378 - accuracy: 0.9867\n",
      "Epoch 57/100\n",
      "75/75 [==============================] - 0s 864us/step - loss: 0.0355 - accuracy: 0.9867\n",
      "Epoch 58/100\n",
      "75/75 [==============================] - 0s 826us/step - loss: 0.0356 - accuracy: 1.0000\n",
      "Epoch 59/100\n",
      "75/75 [==============================] - 0s 644us/step - loss: 0.0348 - accuracy: 0.9867\n",
      "Epoch 60/100\n",
      "75/75 [==============================] - 0s 638us/step - loss: 0.0359 - accuracy: 0.9867\n",
      "Epoch 61/100\n",
      "75/75 [==============================] - 0s 650us/step - loss: 0.0350 - accuracy: 0.9867\n",
      "Epoch 62/100\n",
      "75/75 [==============================] - 0s 609us/step - loss: 0.0342 - accuracy: 0.9867\n",
      "Epoch 63/100\n",
      "75/75 [==============================] - 0s 748us/step - loss: 0.0342 - accuracy: 0.9867\n",
      "Epoch 64/100\n",
      "75/75 [==============================] - 0s 729us/step - loss: 0.0331 - accuracy: 0.9867\n",
      "Epoch 65/100\n",
      "75/75 [==============================] - 0s 631us/step - loss: 0.0331 - accuracy: 0.9867\n",
      "Epoch 66/100\n",
      "75/75 [==============================] - 0s 610us/step - loss: 0.0317 - accuracy: 0.9867\n",
      "Epoch 67/100\n",
      "75/75 [==============================] - 0s 638us/step - loss: 0.0326 - accuracy: 0.9867\n",
      "Epoch 68/100\n",
      "75/75 [==============================] - 0s 652us/step - loss: 0.0320 - accuracy: 0.9867\n",
      "Epoch 69/100\n",
      "75/75 [==============================] - 0s 692us/step - loss: 0.0316 - accuracy: 0.9867\n",
      "Epoch 70/100\n",
      "75/75 [==============================] - 0s 691us/step - loss: 0.0308 - accuracy: 0.9867\n",
      "Epoch 71/100\n",
      "75/75 [==============================] - 0s 652us/step - loss: 0.0308 - accuracy: 0.9867\n",
      "Epoch 72/100\n",
      "75/75 [==============================] - 0s 705us/step - loss: 0.0297 - accuracy: 0.9867\n",
      "Epoch 73/100\n",
      "75/75 [==============================] - 0s 598us/step - loss: 0.0292 - accuracy: 0.9867\n",
      "Epoch 74/100\n",
      "75/75 [==============================] - 0s 851us/step - loss: 0.0284 - accuracy: 0.9867\n",
      "Epoch 75/100\n",
      "75/75 [==============================] - 0s 691us/step - loss: 0.0295 - accuracy: 0.9867\n",
      "Epoch 76/100\n",
      "75/75 [==============================] - 0s 674us/step - loss: 0.0274 - accuracy: 1.0000\n",
      "Epoch 77/100\n",
      "75/75 [==============================] - 0s 585us/step - loss: 0.0290 - accuracy: 0.9867\n",
      "Epoch 78/100\n",
      "75/75 [==============================] - 0s 665us/step - loss: 0.0275 - accuracy: 0.9867\n",
      "Epoch 79/100\n",
      "75/75 [==============================] - 0s 652us/step - loss: 0.0281 - accuracy: 0.9867\n",
      "Epoch 80/100\n",
      "75/75 [==============================] - 0s 612us/step - loss: 0.0276 - accuracy: 1.0000\n",
      "Epoch 81/100\n",
      "75/75 [==============================] - 0s 692us/step - loss: 0.0271 - accuracy: 0.9867\n",
      "Epoch 82/100\n",
      "75/75 [==============================] - 0s 612us/step - loss: 0.0271 - accuracy: 0.9867\n",
      "Epoch 83/100\n",
      "75/75 [==============================] - 0s 691us/step - loss: 0.0266 - accuracy: 0.9867\n",
      "Epoch 84/100\n",
      "75/75 [==============================] - 0s 628us/step - loss: 0.0264 - accuracy: 0.9867\n",
      "Epoch 85/100\n",
      "75/75 [==============================] - 0s 638us/step - loss: 0.0256 - accuracy: 1.0000\n",
      "Epoch 86/100\n",
      "75/75 [==============================] - 0s 665us/step - loss: 0.0262 - accuracy: 0.9867\n",
      "Epoch 87/100\n",
      "75/75 [==============================] - 0s 600us/step - loss: 0.0254 - accuracy: 1.0000\n",
      "Epoch 88/100\n",
      "75/75 [==============================] - 0s 652us/step - loss: 0.0252 - accuracy: 0.9867\n",
      "Epoch 89/100\n",
      "75/75 [==============================] - 0s 864us/step - loss: 0.0254 - accuracy: 1.0000\n",
      "Epoch 90/100\n",
      "75/75 [==============================] - 0s 758us/step - loss: 0.0243 - accuracy: 0.9867\n",
      "Epoch 91/100\n",
      "75/75 [==============================] - 0s 785us/step - loss: 0.0242 - accuracy: 1.0000\n",
      "Epoch 92/100\n",
      "75/75 [==============================] - 0s 811us/step - loss: 0.0238 - accuracy: 0.9867\n",
      "Epoch 93/100\n",
      "75/75 [==============================] - 0s 782us/step - loss: 0.0235 - accuracy: 1.0000\n",
      "Epoch 94/100\n",
      "75/75 [==============================] - 0s 791us/step - loss: 0.0233 - accuracy: 0.9867\n",
      "Epoch 95/100\n",
      "75/75 [==============================] - 0s 721us/step - loss: 0.0232 - accuracy: 0.9867\n",
      "Epoch 96/100\n",
      "75/75 [==============================] - 0s 745us/step - loss: 0.0238 - accuracy: 0.9867\n",
      "Epoch 97/100\n",
      "75/75 [==============================] - 0s 710us/step - loss: 0.0231 - accuracy: 0.9867\n",
      "Epoch 98/100\n",
      "75/75 [==============================] - 0s 744us/step - loss: 0.0233 - accuracy: 1.0000\n",
      "Epoch 99/100\n",
      "75/75 [==============================] - 0s 665us/step - loss: 0.0228 - accuracy: 0.9867\n",
      "Epoch 100/100\n",
      "75/75 [==============================] - 0s 644us/step - loss: 0.0225 - accuracy: 0.9867\n"
     ]
    }
   ],
   "source": [
    "hist = clf.fit(X_train, y_train)"
   ]
  },
  {
   "cell_type": "code",
   "execution_count": 105,
   "id": "de0764d4",
   "metadata": {},
   "outputs": [],
   "source": [
    "y_pred = clf.model.predict(X_test)"
   ]
  },
  {
   "cell_type": "markdown",
   "id": "2a549c4f",
   "metadata": {},
   "source": [
    "#### 22) Use the predictions to generate a confusion matrix."
   ]
  },
  {
   "cell_type": "code",
   "execution_count": 107,
   "id": "c304b704",
   "metadata": {},
   "outputs": [],
   "source": [
    "y_pred_label = [y_test.columns[x] for x in y_pred.argmax(axis = 1)]"
   ]
  },
  {
   "cell_type": "code",
   "execution_count": 109,
   "id": "e45c632d",
   "metadata": {},
   "outputs": [
    {
     "data": {
      "text/plain": [
       "array([[23,  0,  0],\n",
       "       [ 0, 19,  3],\n",
       "       [ 0,  0, 30]], dtype=int64)"
      ]
     },
     "execution_count": 109,
     "metadata": {},
     "output_type": "execute_result"
    }
   ],
   "source": [
    "confusion_matrix(y_t, y_pred_label)"
   ]
  },
  {
   "cell_type": "markdown",
   "id": "667e613d",
   "metadata": {},
   "source": [
    "#### 23) Generate a performance report with the classification_report function."
   ]
  },
  {
   "cell_type": "code",
   "execution_count": 110,
   "id": "fdb3e967",
   "metadata": {},
   "outputs": [
    {
     "name": "stdout",
     "output_type": "stream",
     "text": [
      "                    precision    recall  f1-score   support\n",
      "\n",
      "    species_setosa       1.00      1.00      1.00        23\n",
      "species_versicolor       1.00      0.86      0.93        22\n",
      " species_virginica       0.91      1.00      0.95        30\n",
      "\n",
      "          accuracy                           0.96        75\n",
      "         macro avg       0.97      0.95      0.96        75\n",
      "      weighted avg       0.96      0.96      0.96        75\n",
      "\n"
     ]
    }
   ],
   "source": [
    "print(classification_report(y_t, y_pred_label))"
   ]
  },
  {
   "cell_type": "markdown",
   "id": "12581867",
   "metadata": {},
   "source": [
    "#### 24) K-Fold"
   ]
  },
  {
   "cell_type": "code",
   "execution_count": 111,
   "id": "4d10fca5",
   "metadata": {},
   "outputs": [],
   "source": [
    "kfold = KFold(n_splits = 5, random_state = 100, shuffle = True)"
   ]
  },
  {
   "cell_type": "code",
   "execution_count": 124,
   "id": "088008c5",
   "metadata": {},
   "outputs": [],
   "source": [
    "import time"
   ]
  },
  {
   "cell_type": "code",
   "execution_count": 125,
   "id": "74b30959",
   "metadata": {},
   "outputs": [],
   "source": [
    "y_dum = pd.get_dummies(y)"
   ]
  },
  {
   "cell_type": "code",
   "execution_count": 142,
   "id": "a8aae345",
   "metadata": {},
   "outputs": [
    {
     "name": "stdout",
     "output_type": "stream",
     "text": [
      "Starting Fold #1\n",
      "WARNING:tensorflow:11 out of the last 11 calls to <function Model.make_predict_function.<locals>.predict_function at 0x000001FB4DCDB798> triggered tf.function retracing. Tracing is expensive and the excessive number of tracings could be due to (1) creating @tf.function repeatedly in a loop, (2) passing tensors with different shapes, (3) passing Python objects instead of tensors. For (1), please define your @tf.function outside of the loop. For (2), @tf.function has experimental_relax_shapes=True option that relaxes argument shapes that can avoid unnecessary retracing. For (3), please refer to https://www.tensorflow.org/tutorials/customization/performance#python_or_tensor_args and https://www.tensorflow.org/api_docs/python/tf/function for  more details.\n",
      "Fold #1 completed, time elapsed: 5.1748998165130615 seconds\n",
      "Starting Fold #2\n",
      "WARNING:tensorflow:11 out of the last 11 calls to <function Model.make_predict_function.<locals>.predict_function at 0x000001FB47CD28B8> triggered tf.function retracing. Tracing is expensive and the excessive number of tracings could be due to (1) creating @tf.function repeatedly in a loop, (2) passing tensors with different shapes, (3) passing Python objects instead of tensors. For (1), please define your @tf.function outside of the loop. For (2), @tf.function has experimental_relax_shapes=True option that relaxes argument shapes that can avoid unnecessary retracing. For (3), please refer to https://www.tensorflow.org/tutorials/customization/performance#python_or_tensor_args and https://www.tensorflow.org/api_docs/python/tf/function for  more details.\n",
      "Fold #2 completed, time elapsed: 4.647606611251831 seconds\n",
      "Starting Fold #3\n",
      "WARNING:tensorflow:11 out of the last 11 calls to <function Model.make_predict_function.<locals>.predict_function at 0x000001FB47A533A8> triggered tf.function retracing. Tracing is expensive and the excessive number of tracings could be due to (1) creating @tf.function repeatedly in a loop, (2) passing tensors with different shapes, (3) passing Python objects instead of tensors. For (1), please define your @tf.function outside of the loop. For (2), @tf.function has experimental_relax_shapes=True option that relaxes argument shapes that can avoid unnecessary retracing. For (3), please refer to https://www.tensorflow.org/tutorials/customization/performance#python_or_tensor_args and https://www.tensorflow.org/api_docs/python/tf/function for  more details.\n",
      "Fold #3 completed, time elapsed: 5.8078062534332275 seconds\n",
      "Starting Fold #4\n",
      "WARNING:tensorflow:11 out of the last 11 calls to <function Model.make_predict_function.<locals>.predict_function at 0x000001FB4C539828> triggered tf.function retracing. Tracing is expensive and the excessive number of tracings could be due to (1) creating @tf.function repeatedly in a loop, (2) passing tensors with different shapes, (3) passing Python objects instead of tensors. For (1), please define your @tf.function outside of the loop. For (2), @tf.function has experimental_relax_shapes=True option that relaxes argument shapes that can avoid unnecessary retracing. For (3), please refer to https://www.tensorflow.org/tutorials/customization/performance#python_or_tensor_args and https://www.tensorflow.org/api_docs/python/tf/function for  more details.\n",
      "Fold #4 completed, time elapsed: 5.4247705936431885 seconds\n",
      "Starting Fold #5\n",
      "WARNING:tensorflow:11 out of the last 11 calls to <function Model.make_predict_function.<locals>.predict_function at 0x000001FB4C684798> triggered tf.function retracing. Tracing is expensive and the excessive number of tracings could be due to (1) creating @tf.function repeatedly in a loop, (2) passing tensors with different shapes, (3) passing Python objects instead of tensors. For (1), please define your @tf.function outside of the loop. For (2), @tf.function has experimental_relax_shapes=True option that relaxes argument shapes that can avoid unnecessary retracing. For (3), please refer to https://www.tensorflow.org/tutorials/customization/performance#python_or_tensor_args and https://www.tensorflow.org/api_docs/python/tf/function for  more details.\n",
      "Fold #5 completed, time elapsed: 5.246482849121094 seconds\n"
     ]
    }
   ],
   "source": [
    "c = 1\n",
    "df_results = pd.DataFrame(columns = ['pred'])\n",
    "for train_idx, test_idx in kfold.split(df_iris):\n",
    "    print(f\"Starting Fold #{c}\")\n",
    "    start = time.time()\n",
    "    clf = KerasClassifier(build_fn=create_keras_model, verbose=0, epochs=100, batch_size=1)\n",
    "    X_train, y_train = X.iloc[train_idx], y.iloc[train_idx]\n",
    "    y_train = pd.get_dummies(y_train)\n",
    "    X_test, y_test = X.iloc[test_idx], y.iloc[test_idx]\n",
    "    clf.fit(X_train, y_train)\n",
    "    y_pred = clf.model.predict(X_test)\n",
    "    y_pred_label = [y_train.columns[x] for x in y_pred.argmax(axis = 1)]\n",
    "    df_r = pd.DataFrame({'pred': y_pred_label}, index = test_idx)\n",
    "    df_results = pd.concat([df_results, df_r])\n",
    "    print(f\"Fold #{c} completed, time elapsed: {time.time() - start} seconds\")\n",
    "    c += 1"
   ]
  },
  {
   "cell_type": "markdown",
   "id": "b497b5e9",
   "metadata": {},
   "source": [
    "#### 25) Generate confusion matrix and full classification_report "
   ]
  },
  {
   "cell_type": "code",
   "execution_count": 161,
   "id": "15e42855",
   "metadata": {},
   "outputs": [],
   "source": [
    "df_results = df_results.sort_index() # this index is sorted by the original index order of y, not the observation order made in the original iris dataset\n",
    "df_results['pred'] = df_results['pred'].apply(lambda x: x[8:])"
   ]
  },
  {
   "cell_type": "code",
   "execution_count": 164,
   "id": "cbcd5cdf",
   "metadata": {},
   "outputs": [
    {
     "data": {
      "text/plain": [
       "array([[50,  0,  0],\n",
       "       [ 0, 46,  4],\n",
       "       [ 0,  2, 48]], dtype=int64)"
      ]
     },
     "execution_count": 164,
     "metadata": {},
     "output_type": "execute_result"
    }
   ],
   "source": [
    "confusion_matrix(y['species'], df_results['pred'])"
   ]
  },
  {
   "cell_type": "code",
   "execution_count": 165,
   "id": "5af7091b",
   "metadata": {},
   "outputs": [
    {
     "name": "stdout",
     "output_type": "stream",
     "text": [
      "              precision    recall  f1-score   support\n",
      "\n",
      "      setosa       1.00      1.00      1.00        50\n",
      "  versicolor       0.96      0.92      0.94        50\n",
      "   virginica       0.92      0.96      0.94        50\n",
      "\n",
      "    accuracy                           0.96       150\n",
      "   macro avg       0.96      0.96      0.96       150\n",
      "weighted avg       0.96      0.96      0.96       150\n",
      "\n"
     ]
    }
   ],
   "source": [
    "print(classification_report(y['species'], df_results['pred']))"
   ]
  },
  {
   "cell_type": "code",
   "execution_count": null,
   "id": "80da1b76",
   "metadata": {},
   "outputs": [],
   "source": []
  }
 ],
 "metadata": {
  "kernelspec": {
   "display_name": "Python 3",
   "language": "python",
   "name": "python3"
  },
  "language_info": {
   "codemirror_mode": {
    "name": "ipython",
    "version": 3
   },
   "file_extension": ".py",
   "mimetype": "text/x-python",
   "name": "python",
   "nbconvert_exporter": "python",
   "pygments_lexer": "ipython3",
   "version": "3.7.10"
  }
 },
 "nbformat": 4,
 "nbformat_minor": 5
}
