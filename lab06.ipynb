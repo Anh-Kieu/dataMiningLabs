{
 "cells": [
  {
   "cell_type": "markdown",
   "id": "brilliant-attempt",
   "metadata": {},
   "source": [
    "## Lab06 - Data preprocessing I\n",
    "Name: Anh Kieu  \n",
    "Class: CSCI 349 - Intro to Data Mining  \n",
    "Semester: Spring 2021  \n",
    "Instructor: Brian King  "
   ]
  },
  {
   "cell_type": "code",
   "execution_count": 1,
   "id": "likely-senate",
   "metadata": {},
   "outputs": [],
   "source": [
    "import numpy as np\n",
    "import pandas as pd\n",
    "import matplotlib.pyplot as plt\n",
    "import seaborn as sns"
   ]
  },
  {
   "cell_type": "markdown",
   "id": "absent-genius",
   "metadata": {},
   "source": [
    "#### 1) Read data from CSV file."
   ]
  },
  {
   "cell_type": "code",
   "execution_count": 2,
   "id": "funny-entry",
   "metadata": {},
   "outputs": [],
   "source": [
    "df_temps = pd.read_csv(\"../data/faa_hourly-KIPT_20000101-20201231.csv\", skiprows = 16)"
   ]
  },
  {
   "cell_type": "code",
   "execution_count": 3,
   "id": "authorized-notification",
   "metadata": {},
   "outputs": [
    {
     "data": {
      "text/html": [
       "<div>\n",
       "<style scoped>\n",
       "    .dataframe tbody tr th:only-of-type {\n",
       "        vertical-align: middle;\n",
       "    }\n",
       "\n",
       "    .dataframe tbody tr th {\n",
       "        vertical-align: top;\n",
       "    }\n",
       "\n",
       "    .dataframe thead th {\n",
       "        text-align: right;\n",
       "    }\n",
       "</style>\n",
       "<table border=\"1\" class=\"dataframe\">\n",
       "  <thead>\n",
       "    <tr style=\"text-align: right;\">\n",
       "      <th></th>\n",
       "      <th>Date/Time (GMT)</th>\n",
       "      <th>Number of Observations (n/a)</th>\n",
       "      <th>Average Temp (F)</th>\n",
       "      <th>Max Temp (F)</th>\n",
       "      <th>Min Temp (F)</th>\n",
       "      <th>Average Dewpoint Temp (F)</th>\n",
       "      <th>1 Hour Precip (in)</th>\n",
       "      <th>Max Wind Gust (mph)</th>\n",
       "      <th>Average Relative Humidity (%)</th>\n",
       "      <th>Average Wind Speed (mph)</th>\n",
       "      <th>Average Station Pressure (mb)</th>\n",
       "      <th>Average Wind Direction (deg)</th>\n",
       "      <th>Max Wind Speed (mph)</th>\n",
       "      <th>Unnamed: 13</th>\n",
       "    </tr>\n",
       "  </thead>\n",
       "  <tbody>\n",
       "    <tr>\n",
       "      <th>0</th>\n",
       "      <td>2000-01-01 00:00:00</td>\n",
       "      <td>1</td>\n",
       "      <td>26.1</td>\n",
       "      <td>26.1</td>\n",
       "      <td>26.1</td>\n",
       "      <td>14.0</td>\n",
       "      <td>NaN</td>\n",
       "      <td>20.7</td>\n",
       "      <td>59.0</td>\n",
       "      <td>17.3</td>\n",
       "      <td>1015.2</td>\n",
       "      <td>280.0</td>\n",
       "      <td>17.3</td>\n",
       "      <td>NaN</td>\n",
       "    </tr>\n",
       "    <tr>\n",
       "      <th>1</th>\n",
       "      <td>2000-01-01 01:00:00</td>\n",
       "      <td>1</td>\n",
       "      <td>26.1</td>\n",
       "      <td>26.1</td>\n",
       "      <td>26.1</td>\n",
       "      <td>14.0</td>\n",
       "      <td>NaN</td>\n",
       "      <td>NaN</td>\n",
       "      <td>59.0</td>\n",
       "      <td>16.1</td>\n",
       "      <td>1015.9</td>\n",
       "      <td>280.0</td>\n",
       "      <td>16.1</td>\n",
       "      <td>NaN</td>\n",
       "    </tr>\n",
       "    <tr>\n",
       "      <th>2</th>\n",
       "      <td>2000-01-01 02:00:00</td>\n",
       "      <td>1</td>\n",
       "      <td>26.1</td>\n",
       "      <td>26.1</td>\n",
       "      <td>26.1</td>\n",
       "      <td>15.1</td>\n",
       "      <td>NaN</td>\n",
       "      <td>NaN</td>\n",
       "      <td>62.0</td>\n",
       "      <td>15.0</td>\n",
       "      <td>1016.3</td>\n",
       "      <td>280.0</td>\n",
       "      <td>15.0</td>\n",
       "      <td>NaN</td>\n",
       "    </tr>\n",
       "    <tr>\n",
       "      <th>3</th>\n",
       "      <td>2000-01-01 03:00:00</td>\n",
       "      <td>1</td>\n",
       "      <td>26.1</td>\n",
       "      <td>26.1</td>\n",
       "      <td>26.1</td>\n",
       "      <td>12.0</td>\n",
       "      <td>NaN</td>\n",
       "      <td>NaN</td>\n",
       "      <td>54.0</td>\n",
       "      <td>16.1</td>\n",
       "      <td>1016.6</td>\n",
       "      <td>270.0</td>\n",
       "      <td>16.1</td>\n",
       "      <td>NaN</td>\n",
       "    </tr>\n",
       "    <tr>\n",
       "      <th>4</th>\n",
       "      <td>2000-01-01 04:00:00</td>\n",
       "      <td>1</td>\n",
       "      <td>26.1</td>\n",
       "      <td>26.1</td>\n",
       "      <td>26.1</td>\n",
       "      <td>14.0</td>\n",
       "      <td>NaN</td>\n",
       "      <td>NaN</td>\n",
       "      <td>59.0</td>\n",
       "      <td>12.7</td>\n",
       "      <td>1017.3</td>\n",
       "      <td>280.0</td>\n",
       "      <td>12.7</td>\n",
       "      <td>NaN</td>\n",
       "    </tr>\n",
       "  </tbody>\n",
       "</table>\n",
       "</div>"
      ],
      "text/plain": [
       "       Date/Time (GMT)  Number of Observations (n/a)  Average Temp (F)  \\\n",
       "0  2000-01-01 00:00:00                             1              26.1   \n",
       "1  2000-01-01 01:00:00                             1              26.1   \n",
       "2  2000-01-01 02:00:00                             1              26.1   \n",
       "3  2000-01-01 03:00:00                             1              26.1   \n",
       "4  2000-01-01 04:00:00                             1              26.1   \n",
       "\n",
       "   Max Temp (F)  Min Temp (F)  Average Dewpoint Temp (F)  1 Hour Precip (in)  \\\n",
       "0          26.1          26.1                       14.0                 NaN   \n",
       "1          26.1          26.1                       14.0                 NaN   \n",
       "2          26.1          26.1                       15.1                 NaN   \n",
       "3          26.1          26.1                       12.0                 NaN   \n",
       "4          26.1          26.1                       14.0                 NaN   \n",
       "\n",
       "   Max Wind Gust (mph)  Average Relative Humidity (%)  \\\n",
       "0                 20.7                           59.0   \n",
       "1                  NaN                           59.0   \n",
       "2                  NaN                           62.0   \n",
       "3                  NaN                           54.0   \n",
       "4                  NaN                           59.0   \n",
       "\n",
       "   Average Wind Speed (mph)  Average Station Pressure (mb)  \\\n",
       "0                      17.3                         1015.2   \n",
       "1                      16.1                         1015.9   \n",
       "2                      15.0                         1016.3   \n",
       "3                      16.1                         1016.6   \n",
       "4                      12.7                         1017.3   \n",
       "\n",
       "   Average Wind Direction (deg)  Max Wind Speed (mph)  Unnamed: 13  \n",
       "0                         280.0                  17.3          NaN  \n",
       "1                         280.0                  16.1          NaN  \n",
       "2                         280.0                  15.0          NaN  \n",
       "3                         270.0                  16.1          NaN  \n",
       "4                         280.0                  12.7          NaN  "
      ]
     },
     "execution_count": 3,
     "metadata": {},
     "output_type": "execute_result"
    }
   ],
   "source": [
    "df_temps.head()"
   ]
  },
  {
   "cell_type": "markdown",
   "id": "demanding-pursuit",
   "metadata": {},
   "source": [
    "#### 2) Show info"
   ]
  },
  {
   "cell_type": "code",
   "execution_count": 4,
   "id": "aggressive-celebration",
   "metadata": {},
   "outputs": [
    {
     "name": "stdout",
     "output_type": "stream",
     "text": [
      "<class 'pandas.core.frame.DataFrame'>\n",
      "RangeIndex: 181943 entries, 0 to 181942\n",
      "Data columns (total 14 columns):\n",
      " #   Column                         Non-Null Count   Dtype  \n",
      "---  ------                         --------------   -----  \n",
      " 0   Date/Time (GMT)                181943 non-null  object \n",
      " 1   Number of Observations (n/a)   181943 non-null  int64  \n",
      " 2   Average Temp (F)               180938 non-null  float64\n",
      " 3   Max Temp (F)                   180938 non-null  float64\n",
      " 4   Min Temp (F)                   180938 non-null  float64\n",
      " 5   Average Dewpoint Temp (F)      180816 non-null  float64\n",
      " 6   1 Hour Precip (in)             30294 non-null   float64\n",
      " 7   Max Wind Gust (mph)            24708 non-null   float64\n",
      " 8   Average Relative Humidity (%)  177114 non-null  float64\n",
      " 9   Average Wind Speed (mph)       181394 non-null  float64\n",
      " 10  Average Station Pressure (mb)  181647 non-null  float64\n",
      " 11  Average Wind Direction (deg)   148822 non-null  float64\n",
      " 12  Max Wind Speed (mph)           181394 non-null  float64\n",
      " 13  Unnamed: 13                    0 non-null       float64\n",
      "dtypes: float64(12), int64(1), object(1)\n",
      "memory usage: 19.4+ MB\n"
     ]
    }
   ],
   "source": [
    "df_temps.info()"
   ]
  },
  {
   "cell_type": "markdown",
   "id": "blocked-desktop",
   "metadata": {},
   "source": [
    "#### 3) [P] Read about the memory_usage() method of pandas data frames. Then, report the total memory in bytes for each variable of df_temps. Set the parameter deep=True, to get the most accurate assessment of your total memory usage"
   ]
  },
  {
   "cell_type": "code",
   "execution_count": 5,
   "id": "spoken-thumb",
   "metadata": {},
   "outputs": [
    {
     "data": {
      "text/plain": [
       "Index                                 128\n",
       "Date/Time (GMT)                  13827668\n",
       "Number of Observations (n/a)      1455544\n",
       "Average Temp (F)                  1455544\n",
       "Max Temp (F)                      1455544\n",
       "Min Temp (F)                      1455544\n",
       "Average Dewpoint Temp (F)         1455544\n",
       "1 Hour Precip (in)                1455544\n",
       "Max Wind Gust (mph)               1455544\n",
       "Average Relative Humidity (%)     1455544\n",
       "Average Wind Speed (mph)          1455544\n",
       "Average Station Pressure (mb)     1455544\n",
       "Average Wind Direction (deg)      1455544\n",
       "Max Wind Speed (mph)              1455544\n",
       "Unnamed: 13                       1455544\n",
       "dtype: int64"
      ]
     },
     "execution_count": 5,
     "metadata": {},
     "output_type": "execute_result"
    }
   ],
   "source": [
    "df_temps.memory_usage(deep = True)"
   ]
  },
  {
   "cell_type": "markdown",
   "id": "young-council",
   "metadata": {},
   "source": [
    "#### 4) [P] Report the total memory required for the data frame in MB. "
   ]
  },
  {
   "cell_type": "code",
   "execution_count": 6,
   "id": "blank-prisoner",
   "metadata": {},
   "outputs": [
    {
     "name": "stdout",
     "output_type": "stream",
     "text": [
      "Memory usage: 32.749868 MB.\n"
     ]
    }
   ],
   "source": [
    "original_memory = df_temps.memory_usage(deep = True).sum()/(10**6)\n",
    "print(f\"Memory usage: {original_memory} MB.\")"
   ]
  },
  {
   "cell_type": "markdown",
   "id": "acting-delight",
   "metadata": {},
   "source": [
    "#### 5) [P] Write the single line of code that reports the count of valid values in the last column"
   ]
  },
  {
   "cell_type": "code",
   "execution_count": 7,
   "id": "conventional-mixer",
   "metadata": {},
   "outputs": [
    {
     "data": {
      "text/plain": [
       "0"
      ]
     },
     "execution_count": 7,
     "metadata": {},
     "output_type": "execute_result"
    }
   ],
   "source": [
    "df_temps.iloc[:, -1].count()"
   ]
  },
  {
   "cell_type": "markdown",
   "id": "correct-advocate",
   "metadata": {},
   "source": [
    "#### 6) [P] Drop that last column from df_temps"
   ]
  },
  {
   "cell_type": "code",
   "execution_count": 8,
   "id": "whole-official",
   "metadata": {},
   "outputs": [],
   "source": [
    "# df_temps = df_temps.iloc[:, 0:-1]\n",
    "del df_temps[\"Unnamed: 13\"]"
   ]
  },
  {
   "cell_type": "code",
   "execution_count": 9,
   "id": "severe-defeat",
   "metadata": {},
   "outputs": [
    {
     "data": {
      "text/html": [
       "<div>\n",
       "<style scoped>\n",
       "    .dataframe tbody tr th:only-of-type {\n",
       "        vertical-align: middle;\n",
       "    }\n",
       "\n",
       "    .dataframe tbody tr th {\n",
       "        vertical-align: top;\n",
       "    }\n",
       "\n",
       "    .dataframe thead th {\n",
       "        text-align: right;\n",
       "    }\n",
       "</style>\n",
       "<table border=\"1\" class=\"dataframe\">\n",
       "  <thead>\n",
       "    <tr style=\"text-align: right;\">\n",
       "      <th></th>\n",
       "      <th>Date/Time (GMT)</th>\n",
       "      <th>Number of Observations (n/a)</th>\n",
       "      <th>Average Temp (F)</th>\n",
       "      <th>Max Temp (F)</th>\n",
       "      <th>Min Temp (F)</th>\n",
       "      <th>Average Dewpoint Temp (F)</th>\n",
       "      <th>1 Hour Precip (in)</th>\n",
       "      <th>Max Wind Gust (mph)</th>\n",
       "      <th>Average Relative Humidity (%)</th>\n",
       "      <th>Average Wind Speed (mph)</th>\n",
       "      <th>Average Station Pressure (mb)</th>\n",
       "      <th>Average Wind Direction (deg)</th>\n",
       "      <th>Max Wind Speed (mph)</th>\n",
       "    </tr>\n",
       "  </thead>\n",
       "  <tbody>\n",
       "    <tr>\n",
       "      <th>0</th>\n",
       "      <td>2000-01-01 00:00:00</td>\n",
       "      <td>1</td>\n",
       "      <td>26.1</td>\n",
       "      <td>26.1</td>\n",
       "      <td>26.1</td>\n",
       "      <td>14.0</td>\n",
       "      <td>NaN</td>\n",
       "      <td>20.7</td>\n",
       "      <td>59.0</td>\n",
       "      <td>17.3</td>\n",
       "      <td>1015.2</td>\n",
       "      <td>280.0</td>\n",
       "      <td>17.3</td>\n",
       "    </tr>\n",
       "    <tr>\n",
       "      <th>1</th>\n",
       "      <td>2000-01-01 01:00:00</td>\n",
       "      <td>1</td>\n",
       "      <td>26.1</td>\n",
       "      <td>26.1</td>\n",
       "      <td>26.1</td>\n",
       "      <td>14.0</td>\n",
       "      <td>NaN</td>\n",
       "      <td>NaN</td>\n",
       "      <td>59.0</td>\n",
       "      <td>16.1</td>\n",
       "      <td>1015.9</td>\n",
       "      <td>280.0</td>\n",
       "      <td>16.1</td>\n",
       "    </tr>\n",
       "    <tr>\n",
       "      <th>2</th>\n",
       "      <td>2000-01-01 02:00:00</td>\n",
       "      <td>1</td>\n",
       "      <td>26.1</td>\n",
       "      <td>26.1</td>\n",
       "      <td>26.1</td>\n",
       "      <td>15.1</td>\n",
       "      <td>NaN</td>\n",
       "      <td>NaN</td>\n",
       "      <td>62.0</td>\n",
       "      <td>15.0</td>\n",
       "      <td>1016.3</td>\n",
       "      <td>280.0</td>\n",
       "      <td>15.0</td>\n",
       "    </tr>\n",
       "    <tr>\n",
       "      <th>3</th>\n",
       "      <td>2000-01-01 03:00:00</td>\n",
       "      <td>1</td>\n",
       "      <td>26.1</td>\n",
       "      <td>26.1</td>\n",
       "      <td>26.1</td>\n",
       "      <td>12.0</td>\n",
       "      <td>NaN</td>\n",
       "      <td>NaN</td>\n",
       "      <td>54.0</td>\n",
       "      <td>16.1</td>\n",
       "      <td>1016.6</td>\n",
       "      <td>270.0</td>\n",
       "      <td>16.1</td>\n",
       "    </tr>\n",
       "    <tr>\n",
       "      <th>4</th>\n",
       "      <td>2000-01-01 04:00:00</td>\n",
       "      <td>1</td>\n",
       "      <td>26.1</td>\n",
       "      <td>26.1</td>\n",
       "      <td>26.1</td>\n",
       "      <td>14.0</td>\n",
       "      <td>NaN</td>\n",
       "      <td>NaN</td>\n",
       "      <td>59.0</td>\n",
       "      <td>12.7</td>\n",
       "      <td>1017.3</td>\n",
       "      <td>280.0</td>\n",
       "      <td>12.7</td>\n",
       "    </tr>\n",
       "  </tbody>\n",
       "</table>\n",
       "</div>"
      ],
      "text/plain": [
       "       Date/Time (GMT)  Number of Observations (n/a)  Average Temp (F)  \\\n",
       "0  2000-01-01 00:00:00                             1              26.1   \n",
       "1  2000-01-01 01:00:00                             1              26.1   \n",
       "2  2000-01-01 02:00:00                             1              26.1   \n",
       "3  2000-01-01 03:00:00                             1              26.1   \n",
       "4  2000-01-01 04:00:00                             1              26.1   \n",
       "\n",
       "   Max Temp (F)  Min Temp (F)  Average Dewpoint Temp (F)  1 Hour Precip (in)  \\\n",
       "0          26.1          26.1                       14.0                 NaN   \n",
       "1          26.1          26.1                       14.0                 NaN   \n",
       "2          26.1          26.1                       15.1                 NaN   \n",
       "3          26.1          26.1                       12.0                 NaN   \n",
       "4          26.1          26.1                       14.0                 NaN   \n",
       "\n",
       "   Max Wind Gust (mph)  Average Relative Humidity (%)  \\\n",
       "0                 20.7                           59.0   \n",
       "1                  NaN                           59.0   \n",
       "2                  NaN                           62.0   \n",
       "3                  NaN                           54.0   \n",
       "4                  NaN                           59.0   \n",
       "\n",
       "   Average Wind Speed (mph)  Average Station Pressure (mb)  \\\n",
       "0                      17.3                         1015.2   \n",
       "1                      16.1                         1015.9   \n",
       "2                      15.0                         1016.3   \n",
       "3                      16.1                         1016.6   \n",
       "4                      12.7                         1017.3   \n",
       "\n",
       "   Average Wind Direction (deg)  Max Wind Speed (mph)  \n",
       "0                         280.0                  17.3  \n",
       "1                         280.0                  16.1  \n",
       "2                         280.0                  15.0  \n",
       "3                         270.0                  16.1  \n",
       "4                         280.0                  12.7  "
      ]
     },
     "execution_count": 9,
     "metadata": {},
     "output_type": "execute_result"
    }
   ],
   "source": [
    "df_temps.head()"
   ]
  },
  {
   "cell_type": "markdown",
   "id": "biblical-conspiracy",
   "metadata": {},
   "source": [
    "#### 7) [M] Look over the data type column in the info() output. ALWAYS pay attention to the types of each variable. In particular, pay attention to the variables that are read in as \"object\" type. This implies that pandas did not have enough confidence to convert the type itself, and you need to do it. Are there any object types? If so what? What format are the data in that column(s)?"
   ]
  },
  {
   "cell_type": "markdown",
   "id": "least-france",
   "metadata": {},
   "source": [
    "The data is labelled as Date/Time (GMT). This indicates that the column might contain date time value. Upon inspection, the col has \"YYYY-MM-DD hh:mm:ss\" format. Thus, the object data type should be something like tz-aware datetime\n",
    "\n"
   ]
  },
  {
   "cell_type": "markdown",
   "id": "isolated-hobby",
   "metadata": {},
   "source": [
    "#### 8) [P] How many NaN values are in each variable? "
   ]
  },
  {
   "cell_type": "code",
   "execution_count": 10,
   "id": "infrared-modern",
   "metadata": {},
   "outputs": [
    {
     "name": "stdout",
     "output_type": "stream",
     "text": [
      "# of missing values for each variable:\n",
      "Date/Time (GMT)                       0\n",
      "Number of Observations (n/a)          0\n",
      "Average Temp (F)                   1005\n",
      "Max Temp (F)                       1005\n",
      "Min Temp (F)                       1005\n",
      "Average Dewpoint Temp (F)          1127\n",
      "1 Hour Precip (in)               151649\n",
      "Max Wind Gust (mph)              157235\n",
      "Average Relative Humidity (%)      4829\n",
      "Average Wind Speed (mph)            549\n",
      "Average Station Pressure (mb)       296\n",
      "Average Wind Direction (deg)      33121\n",
      "Max Wind Speed (mph)                549\n",
      "dtype: int64\n"
     ]
    }
   ],
   "source": [
    "print(f\"# of missing values for each variable:\\n{pd.isna(df_temps).sum()}\")"
   ]
  },
  {
   "cell_type": "code",
   "execution_count": 11,
   "id": "mathematical-survival",
   "metadata": {},
   "outputs": [
    {
     "data": {
      "text/plain": [
       "(181943, 13)"
      ]
     },
     "execution_count": 11,
     "metadata": {},
     "output_type": "execute_result"
    }
   ],
   "source": [
    "df_temps.shape"
   ]
  },
  {
   "cell_type": "markdown",
   "id": "running-representative",
   "metadata": {},
   "source": [
    "#### 9) [P] Report the NaN output as a percentage of the total number of values that are missing for each variable"
   ]
  },
  {
   "cell_type": "code",
   "execution_count": 12,
   "id": "exempt-ethnic",
   "metadata": {},
   "outputs": [
    {
     "name": "stdout",
     "output_type": "stream",
     "text": [
      "Percentage of missing values for each variable:\n",
      "Date/Time (GMT)                   0.000000\n",
      "Number of Observations (n/a)      0.000000\n",
      "Average Temp (F)                  0.552371\n",
      "Max Temp (F)                      0.552371\n",
      "Min Temp (F)                      0.552371\n",
      "Average Dewpoint Temp (F)         0.619425\n",
      "1 Hour Precip (in)               83.349730\n",
      "Max Wind Gust (mph)              86.419923\n",
      "Average Relative Humidity (%)     2.654128\n",
      "Average Wind Speed (mph)          0.301743\n",
      "Average Station Pressure (mb)     0.162688\n",
      "Average Wind Direction (deg)     18.204053\n",
      "Max Wind Speed (mph)              0.301743\n",
      "dtype: float64\n"
     ]
    }
   ],
   "source": [
    "print(f\"Percentage of missing values for each variable:\\n{pd.isna(df_temps).sum()/df_temps.shape[0] * 100}\")"
   ]
  },
  {
   "cell_type": "markdown",
   "id": "broad-surgery",
   "metadata": {},
   "source": [
    " #### 10) [PM] Report the number of observations that are complete, meaning, they have NO missing variable in the observation. Report this as a raw number and as a percentage of the total number of observations. Then, clearly state why this is NOT a problem to be concerned about for this particular dataset"
   ]
  },
  {
   "cell_type": "code",
   "execution_count": 13,
   "id": "velvet-sleeve",
   "metadata": {},
   "outputs": [
    {
     "name": "stdout",
     "output_type": "stream",
     "text": [
      "Number of complete observations: 5552, which is 3.05% of the dataset\n"
     ]
    }
   ],
   "source": [
    "print(f\"Number of complete observations: {df_temps.dropna().shape[0]}, which is {(df_temps.dropna().shape[0]/df_temps.shape[0])*100:.2f}% of the dataset\")"
   ]
  },
  {
   "cell_type": "markdown",
   "id": "religious-zealand",
   "metadata": {},
   "source": [
    "This is not a problem for this dataset because the columns with the most missing values are precipation and wind gust, which are dependent on the weather. For example, if it does not rain, the precipation will be unavailable, thus missing."
   ]
  },
  {
   "cell_type": "markdown",
   "id": "bound-fortune",
   "metadata": {},
   "source": [
    "#### 11) [P] Look over your data types. By default, most of the time pandas will convert your integer types to a 64-bit integer, and floating point types will use double precision numbers. You can do far better. Read over the pd.to_numeric() function. Did you notice the parameter called downcast? Go back and read about this parameter. Downcast your types accordingly. Then look over the output of info(), and report your latest memory usage in MB."
   ]
  },
  {
   "cell_type": "code",
   "execution_count": 14,
   "id": "explicit-vaccine",
   "metadata": {},
   "outputs": [],
   "source": [
    "df_temps[\"Number of Observations (n/a)\"] = pd.to_numeric(df_temps[\"Number of Observations (n/a)\"], downcast = \"unsigned\") # number of Obs is always non negative, max = 10 => downcast unsigned\n",
    "for i in range(2, df_temps.shape[1]):\n",
    "    df_temps.iloc[:, i] = pd.to_numeric(df_temps.iloc[:, i], downcast = \"float\")"
   ]
  },
  {
   "cell_type": "code",
   "execution_count": 15,
   "id": "adjusted-float",
   "metadata": {},
   "outputs": [
    {
     "name": "stdout",
     "output_type": "stream",
     "text": [
      "<class 'pandas.core.frame.DataFrame'>\n",
      "RangeIndex: 181943 entries, 0 to 181942\n",
      "Data columns (total 13 columns):\n",
      " #   Column                         Non-Null Count   Dtype  \n",
      "---  ------                         --------------   -----  \n",
      " 0   Date/Time (GMT)                181943 non-null  object \n",
      " 1   Number of Observations (n/a)   181943 non-null  uint8  \n",
      " 2   Average Temp (F)               180938 non-null  float32\n",
      " 3   Max Temp (F)                   180938 non-null  float32\n",
      " 4   Min Temp (F)                   180938 non-null  float32\n",
      " 5   Average Dewpoint Temp (F)      180816 non-null  float32\n",
      " 6   1 Hour Precip (in)             30294 non-null   float32\n",
      " 7   Max Wind Gust (mph)            24708 non-null   float32\n",
      " 8   Average Relative Humidity (%)  177114 non-null  float32\n",
      " 9   Average Wind Speed (mph)       181394 non-null  float32\n",
      " 10  Average Station Pressure (mb)  181647 non-null  float32\n",
      " 11  Average Wind Direction (deg)   148822 non-null  float32\n",
      " 12  Max Wind Speed (mph)           181394 non-null  float32\n",
      "dtypes: float32(11), object(1), uint8(1)\n",
      "memory usage: 9.2+ MB\n"
     ]
    }
   ],
   "source": [
    "df_temps.info()"
   ]
  },
  {
   "cell_type": "markdown",
   "id": "reasonable-train",
   "metadata": {},
   "source": [
    "#### 12) [P] How much did our memory footprint improve? (Show the total memory usage using deep=True). Report the total memory usage in MB, and report the percentage improvement."
   ]
  },
  {
   "cell_type": "code",
   "execution_count": 16,
   "id": "welcome-leonard",
   "metadata": {},
   "outputs": [
    {
     "name": "stdout",
     "output_type": "stream",
     "text": [
      "Memory usage: 22.015231 MB.\n"
     ]
    }
   ],
   "source": [
    "memory = df_temps.memory_usage(deep = True).sum()/(10**6)\n",
    "print(f\"Memory usage: {memory} MB.\")"
   ]
  },
  {
   "cell_type": "markdown",
   "id": "mysterious-component",
   "metadata": {},
   "source": [
    "#### 13) [M] There are four primary classes in pandas for working with dates and times? Consider the Scalar Class for each, and state what concept each is representing."
   ]
  },
  {
   "cell_type": "markdown",
   "id": "technical-world",
   "metadata": {},
   "source": [
    "Four primary classes for dates and times:\n",
    "- Date times: Timestamp - A specific date and time with timezone support\n",
    "- Time deltas: Timedelta - An absolute time duration\n",
    "- Time spans: Period - A span of time defined by a point in time and its associated frequency.\n",
    "- Date offsets: DateOffset - A relative time duration that respects calendar arithmetic."
   ]
  },
  {
   "cell_type": "markdown",
   "id": "cognitive-pressure",
   "metadata": {},
   "source": [
    "#### 14) [M] For each above, state the primary creation method used to create each type of data"
   ]
  },
  {
   "cell_type": "markdown",
   "id": "ultimate-concrete",
   "metadata": {},
   "source": [
    "Primary creation method:  \n",
    "    - Date times: to_datetime or date_range  \n",
    "    - Time deltas: to_timedelta or timedelta_range  \n",
    "    - Time spans: Period or period_range  \n",
    "    - Date offsets: DateOffset  "
   ]
  },
  {
   "cell_type": "markdown",
   "id": "linear-revision",
   "metadata": {},
   "source": [
    "#### 15) [P] Create a Timestamp object from the string \"07/04/19\", which is a date representing July 4, 2019. Store the object as d1 and show it."
   ]
  },
  {
   "cell_type": "code",
   "execution_count": 17,
   "id": "minute-wright",
   "metadata": {},
   "outputs": [
    {
     "name": "stdout",
     "output_type": "stream",
     "text": [
      "2019-07-04 00:00:00\n"
     ]
    }
   ],
   "source": [
    "d1 = pd.to_datetime(\"07/04/19\")\n",
    "print(d1)"
   ]
  },
  {
   "cell_type": "markdown",
   "id": "rapid-connectivity",
   "metadata": {},
   "source": [
    "#### 16) [P] Using d1 and string formatting codes, print the string from d1:"
   ]
  },
  {
   "cell_type": "code",
   "execution_count": 18,
   "id": "heavy-latino",
   "metadata": {},
   "outputs": [
    {
     "data": {
      "text/plain": [
       "\"Today's date is Thursday, July 04, 2019\""
      ]
     },
     "execution_count": 18,
     "metadata": {},
     "output_type": "execute_result"
    }
   ],
   "source": [
    "# ref : https://www.w3schools.com/python/python_datetime.asp\n",
    "d1.strftime('Today\\'s date is %A, %B %d, %Y')"
   ]
  },
  {
   "cell_type": "markdown",
   "id": "eleven-procurement",
   "metadata": {},
   "source": [
    "#### 17) [P] Create another Timestamp object representing Sept 7, 2019 at 3pm, called d2. Report it"
   ]
  },
  {
   "cell_type": "code",
   "execution_count": 19,
   "id": "lucky-nicholas",
   "metadata": {},
   "outputs": [
    {
     "name": "stdout",
     "output_type": "stream",
     "text": [
      "Today's date is Saturday, September 07, 2019 at 03 PM\n",
      "2019-09-07 15:00:00\n"
     ]
    }
   ],
   "source": [
    "d2 = pd.to_datetime(\"09/07/19 15:00:00\")\n",
    "print(d2.strftime('Today\\'s date is %A, %B %d, %Y at %I %p'))\n",
    "print(d2)"
   ]
  },
  {
   "cell_type": "markdown",
   "id": "mobile-patrick",
   "metadata": {},
   "source": [
    "#### 18) Time difference"
   ]
  },
  {
   "cell_type": "code",
   "execution_count": 20,
   "id": "legendary-shepherd",
   "metadata": {},
   "outputs": [
    {
     "name": "stdout",
     "output_type": "stream",
     "text": [
      "65 days and 54000 seconds\n",
      "or 5670000.0 seconds\n"
     ]
    }
   ],
   "source": [
    "diff = d2 - d1 # time delta\n",
    "print(f\"{diff.days} days and {diff.seconds} seconds\")\n",
    "print(f\"or {diff.total_seconds()} seconds\")"
   ]
  },
  {
   "cell_type": "markdown",
   "id": "toxic-variety",
   "metadata": {},
   "source": [
    "#### 19) [P] Create a new Timestamp object from the string \"2019-07-01 08:30pm\", but localize the time stamp to represent the time in the US Eastern Time Zone. Store the result as d3 and output it. "
   ]
  },
  {
   "cell_type": "code",
   "execution_count": 21,
   "id": "physical-hypothesis",
   "metadata": {},
   "outputs": [
    {
     "name": "stdout",
     "output_type": "stream",
     "text": [
      "2019-07-01 20:30:00-04:00\n"
     ]
    }
   ],
   "source": [
    "# ref: https://pandas.pydata.org/pandas-docs/stable/user_guide/timeseries.html\n",
    "d3 = pd.to_datetime(\"2019-07-01 8:30pm\")\n",
    "d3 = d3.tz_localize(\"US/Eastern\")\n",
    "print(d3)"
   ]
  },
  {
   "cell_type": "markdown",
   "id": "extensive-saver",
   "metadata": {},
   "source": [
    "#### 20) [P] Show time represented by d3, but converted to the US / Pacific Time Zone. The time reported should be three hours earlier than EST shown in the previous question."
   ]
  },
  {
   "cell_type": "code",
   "execution_count": 22,
   "id": "threatened-cedar",
   "metadata": {},
   "outputs": [
    {
     "name": "stdout",
     "output_type": "stream",
     "text": [
      "2019-07-01 17:30:00-07:00\n"
     ]
    }
   ],
   "source": [
    "d3 = d3.tz_convert(\"US/Pacific\")\n",
    "print(d3)"
   ]
  },
  {
   "cell_type": "markdown",
   "id": "restricted-filename",
   "metadata": {},
   "source": [
    "#### 21) [P] Create a Timestamp object representing right now, stored as ts_now. Show the result."
   ]
  },
  {
   "cell_type": "code",
   "execution_count": 23,
   "id": "toxic-bottom",
   "metadata": {},
   "outputs": [
    {
     "name": "stdout",
     "output_type": "stream",
     "text": [
      "2021-02-23 20:30:05.212237\n"
     ]
    }
   ],
   "source": [
    "ts_now = pd.Timestamp.now()\n",
    "print(ts_now)"
   ]
  },
  {
   "cell_type": "markdown",
   "id": "fiscal-output",
   "metadata": {},
   "source": [
    "#### 22) [P] Create a Timedelta object representing 1 hour, stored as td_hour. Show the result."
   ]
  },
  {
   "cell_type": "code",
   "execution_count": 24,
   "id": "lyric-mortgage",
   "metadata": {},
   "outputs": [
    {
     "data": {
      "text/plain": [
       "Timedelta('0 days 01:00:00')"
      ]
     },
     "execution_count": 24,
     "metadata": {},
     "output_type": "execute_result"
    }
   ],
   "source": [
    "td_hour = pd.Timedelta('1 hour')\n",
    "td_hour"
   ]
  },
  {
   "cell_type": "markdown",
   "id": "weighted-tiffany",
   "metadata": {},
   "source": [
    "#### 23) [P] Demonstrate how you can do basic mathematical operations by adding 6 hours to ts_now using td_hour and basic math operations. (i.e. No loops or further calculations necessary!) "
   ]
  },
  {
   "cell_type": "code",
   "execution_count": 25,
   "id": "upper-centre",
   "metadata": {},
   "outputs": [
    {
     "data": {
      "text/plain": [
       "Timestamp('2021-02-24 02:30:05.212237')"
      ]
     },
     "execution_count": 25,
     "metadata": {},
     "output_type": "execute_result"
    }
   ],
   "source": [
    "new = ts_now + td_hour * 6\n",
    "new"
   ]
  },
  {
   "cell_type": "markdown",
   "id": "interested-liberia",
   "metadata": {},
   "source": [
    "#### 24) [P] Create a DatetimeIndex object that represents every hour during the month of January, 2021. The first index should be midnight, January 1, 2021, and the last index should be January 31, 2021 at 11pm. Store the object as dr. "
   ]
  },
  {
   "cell_type": "code",
   "execution_count": 26,
   "id": "confirmed-ferry",
   "metadata": {},
   "outputs": [
    {
     "data": {
      "text/plain": [
       "DatetimeIndex(['2021-01-01 00:00:00', '2021-01-01 01:00:00',\n",
       "               '2021-01-01 02:00:00', '2021-01-01 03:00:00',\n",
       "               '2021-01-01 04:00:00', '2021-01-01 05:00:00',\n",
       "               '2021-01-01 06:00:00', '2021-01-01 07:00:00',\n",
       "               '2021-01-01 08:00:00', '2021-01-01 09:00:00',\n",
       "               ...\n",
       "               '2021-01-31 14:00:00', '2021-01-31 15:00:00',\n",
       "               '2021-01-31 16:00:00', '2021-01-31 17:00:00',\n",
       "               '2021-01-31 18:00:00', '2021-01-31 19:00:00',\n",
       "               '2021-01-31 20:00:00', '2021-01-31 21:00:00',\n",
       "               '2021-01-31 22:00:00', '2021-01-31 23:00:00'],\n",
       "              dtype='datetime64[ns]', length=744, freq='H')"
      ]
     },
     "execution_count": 26,
     "metadata": {},
     "output_type": "execute_result"
    }
   ],
   "source": [
    "dr = pd.date_range(start = \"January 1 2021 00:00:00\", end = \"January 31 2021 11pm\", freq = \"1H\")\n",
    "dr"
   ]
  },
  {
   "cell_type": "markdown",
   "id": "athletic-provider",
   "metadata": {},
   "source": [
    "#### 25) [P] The first variable in our data is currently an object. But, notice the name and its units? It's a date/time in the GMT time zone! Convert the first column of data into an actual time stamp. "
   ]
  },
  {
   "cell_type": "code",
   "execution_count": 27,
   "id": "attractive-calculator",
   "metadata": {},
   "outputs": [],
   "source": [
    "df_temps[\"Date/Time (GMT)\"] = pd.to_datetime(df_temps[\"Date/Time (GMT)\"])"
   ]
  },
  {
   "cell_type": "markdown",
   "id": "eligible-recall",
   "metadata": {},
   "source": [
    "#### 26) [P] Confirm that your first column data type is now a timestamp by showing the output of df_temps.info() Then, show the values of the first column of the first AND last row only"
   ]
  },
  {
   "cell_type": "code",
   "execution_count": 28,
   "id": "known-yahoo",
   "metadata": {},
   "outputs": [
    {
     "name": "stdout",
     "output_type": "stream",
     "text": [
      "<class 'pandas.core.frame.DataFrame'>\n",
      "RangeIndex: 181943 entries, 0 to 181942\n",
      "Data columns (total 13 columns):\n",
      " #   Column                         Non-Null Count   Dtype         \n",
      "---  ------                         --------------   -----         \n",
      " 0   Date/Time (GMT)                181943 non-null  datetime64[ns]\n",
      " 1   Number of Observations (n/a)   181943 non-null  uint8         \n",
      " 2   Average Temp (F)               180938 non-null  float32       \n",
      " 3   Max Temp (F)                   180938 non-null  float32       \n",
      " 4   Min Temp (F)                   180938 non-null  float32       \n",
      " 5   Average Dewpoint Temp (F)      180816 non-null  float32       \n",
      " 6   1 Hour Precip (in)             30294 non-null   float32       \n",
      " 7   Max Wind Gust (mph)            24708 non-null   float32       \n",
      " 8   Average Relative Humidity (%)  177114 non-null  float32       \n",
      " 9   Average Wind Speed (mph)       181394 non-null  float32       \n",
      " 10  Average Station Pressure (mb)  181647 non-null  float32       \n",
      " 11  Average Wind Direction (deg)   148822 non-null  float32       \n",
      " 12  Max Wind Speed (mph)           181394 non-null  float32       \n",
      "dtypes: datetime64[ns](1), float32(11), uint8(1)\n",
      "memory usage: 9.2 MB\n"
     ]
    }
   ],
   "source": [
    "df_temps.info()"
   ]
  },
  {
   "cell_type": "code",
   "execution_count": 29,
   "id": "powered-greek",
   "metadata": {},
   "outputs": [
    {
     "name": "stdout",
     "output_type": "stream",
     "text": [
      "0        2000-01-01 00:00:00\n",
      "181942   2020-12-31 23:00:00\n",
      "Name: Date/Time (GMT), dtype: datetime64[ns]\n"
     ]
    }
   ],
   "source": [
    "print(df_temps.iloc[[0,-1], 0])"
   ]
  },
  {
   "cell_type": "markdown",
   "id": "rational-therapist",
   "metadata": {},
   "source": [
    "#### 27) Finally, let's move that first column to be the new index for your dataframe. Use the set_index method of of df_temps to be the first column of data, then use the drop method to eliminate the first column."
   ]
  },
  {
   "cell_type": "code",
   "execution_count": 30,
   "id": "labeled-model",
   "metadata": {},
   "outputs": [
    {
     "data": {
      "text/html": [
       "<div>\n",
       "<style scoped>\n",
       "    .dataframe tbody tr th:only-of-type {\n",
       "        vertical-align: middle;\n",
       "    }\n",
       "\n",
       "    .dataframe tbody tr th {\n",
       "        vertical-align: top;\n",
       "    }\n",
       "\n",
       "    .dataframe thead th {\n",
       "        text-align: right;\n",
       "    }\n",
       "</style>\n",
       "<table border=\"1\" class=\"dataframe\">\n",
       "  <thead>\n",
       "    <tr style=\"text-align: right;\">\n",
       "      <th></th>\n",
       "      <th>Number of Observations (n/a)</th>\n",
       "      <th>Average Temp (F)</th>\n",
       "      <th>Max Temp (F)</th>\n",
       "      <th>Min Temp (F)</th>\n",
       "      <th>Average Dewpoint Temp (F)</th>\n",
       "      <th>1 Hour Precip (in)</th>\n",
       "      <th>Max Wind Gust (mph)</th>\n",
       "      <th>Average Relative Humidity (%)</th>\n",
       "      <th>Average Wind Speed (mph)</th>\n",
       "      <th>Average Station Pressure (mb)</th>\n",
       "      <th>Average Wind Direction (deg)</th>\n",
       "      <th>Max Wind Speed (mph)</th>\n",
       "    </tr>\n",
       "    <tr>\n",
       "      <th>Date/Time (GMT)</th>\n",
       "      <th></th>\n",
       "      <th></th>\n",
       "      <th></th>\n",
       "      <th></th>\n",
       "      <th></th>\n",
       "      <th></th>\n",
       "      <th></th>\n",
       "      <th></th>\n",
       "      <th></th>\n",
       "      <th></th>\n",
       "      <th></th>\n",
       "      <th></th>\n",
       "    </tr>\n",
       "  </thead>\n",
       "  <tbody>\n",
       "    <tr>\n",
       "      <th>2000-01-01 00:00:00</th>\n",
       "      <td>1</td>\n",
       "      <td>26.1</td>\n",
       "      <td>26.1</td>\n",
       "      <td>26.1</td>\n",
       "      <td>14.0</td>\n",
       "      <td>NaN</td>\n",
       "      <td>20.700001</td>\n",
       "      <td>59.0</td>\n",
       "      <td>17.299999</td>\n",
       "      <td>1015.200012</td>\n",
       "      <td>280.0</td>\n",
       "      <td>17.299999</td>\n",
       "    </tr>\n",
       "    <tr>\n",
       "      <th>2000-01-01 01:00:00</th>\n",
       "      <td>1</td>\n",
       "      <td>26.1</td>\n",
       "      <td>26.1</td>\n",
       "      <td>26.1</td>\n",
       "      <td>14.0</td>\n",
       "      <td>NaN</td>\n",
       "      <td>NaN</td>\n",
       "      <td>59.0</td>\n",
       "      <td>16.100000</td>\n",
       "      <td>1015.900024</td>\n",
       "      <td>280.0</td>\n",
       "      <td>16.100000</td>\n",
       "    </tr>\n",
       "    <tr>\n",
       "      <th>2000-01-01 02:00:00</th>\n",
       "      <td>1</td>\n",
       "      <td>26.1</td>\n",
       "      <td>26.1</td>\n",
       "      <td>26.1</td>\n",
       "      <td>15.1</td>\n",
       "      <td>NaN</td>\n",
       "      <td>NaN</td>\n",
       "      <td>62.0</td>\n",
       "      <td>15.000000</td>\n",
       "      <td>1016.299988</td>\n",
       "      <td>280.0</td>\n",
       "      <td>15.000000</td>\n",
       "    </tr>\n",
       "    <tr>\n",
       "      <th>2000-01-01 03:00:00</th>\n",
       "      <td>1</td>\n",
       "      <td>26.1</td>\n",
       "      <td>26.1</td>\n",
       "      <td>26.1</td>\n",
       "      <td>12.0</td>\n",
       "      <td>NaN</td>\n",
       "      <td>NaN</td>\n",
       "      <td>54.0</td>\n",
       "      <td>16.100000</td>\n",
       "      <td>1016.599976</td>\n",
       "      <td>270.0</td>\n",
       "      <td>16.100000</td>\n",
       "    </tr>\n",
       "    <tr>\n",
       "      <th>2000-01-01 04:00:00</th>\n",
       "      <td>1</td>\n",
       "      <td>26.1</td>\n",
       "      <td>26.1</td>\n",
       "      <td>26.1</td>\n",
       "      <td>14.0</td>\n",
       "      <td>NaN</td>\n",
       "      <td>NaN</td>\n",
       "      <td>59.0</td>\n",
       "      <td>12.700000</td>\n",
       "      <td>1017.299988</td>\n",
       "      <td>280.0</td>\n",
       "      <td>12.700000</td>\n",
       "    </tr>\n",
       "  </tbody>\n",
       "</table>\n",
       "</div>"
      ],
      "text/plain": [
       "                     Number of Observations (n/a)  Average Temp (F)  \\\n",
       "Date/Time (GMT)                                                       \n",
       "2000-01-01 00:00:00                             1              26.1   \n",
       "2000-01-01 01:00:00                             1              26.1   \n",
       "2000-01-01 02:00:00                             1              26.1   \n",
       "2000-01-01 03:00:00                             1              26.1   \n",
       "2000-01-01 04:00:00                             1              26.1   \n",
       "\n",
       "                     Max Temp (F)  Min Temp (F)  Average Dewpoint Temp (F)  \\\n",
       "Date/Time (GMT)                                                              \n",
       "2000-01-01 00:00:00          26.1          26.1                       14.0   \n",
       "2000-01-01 01:00:00          26.1          26.1                       14.0   \n",
       "2000-01-01 02:00:00          26.1          26.1                       15.1   \n",
       "2000-01-01 03:00:00          26.1          26.1                       12.0   \n",
       "2000-01-01 04:00:00          26.1          26.1                       14.0   \n",
       "\n",
       "                     1 Hour Precip (in)  Max Wind Gust (mph)  \\\n",
       "Date/Time (GMT)                                                \n",
       "2000-01-01 00:00:00                 NaN            20.700001   \n",
       "2000-01-01 01:00:00                 NaN                  NaN   \n",
       "2000-01-01 02:00:00                 NaN                  NaN   \n",
       "2000-01-01 03:00:00                 NaN                  NaN   \n",
       "2000-01-01 04:00:00                 NaN                  NaN   \n",
       "\n",
       "                     Average Relative Humidity (%)  Average Wind Speed (mph)  \\\n",
       "Date/Time (GMT)                                                                \n",
       "2000-01-01 00:00:00                           59.0                 17.299999   \n",
       "2000-01-01 01:00:00                           59.0                 16.100000   \n",
       "2000-01-01 02:00:00                           62.0                 15.000000   \n",
       "2000-01-01 03:00:00                           54.0                 16.100000   \n",
       "2000-01-01 04:00:00                           59.0                 12.700000   \n",
       "\n",
       "                     Average Station Pressure (mb)  \\\n",
       "Date/Time (GMT)                                      \n",
       "2000-01-01 00:00:00                    1015.200012   \n",
       "2000-01-01 01:00:00                    1015.900024   \n",
       "2000-01-01 02:00:00                    1016.299988   \n",
       "2000-01-01 03:00:00                    1016.599976   \n",
       "2000-01-01 04:00:00                    1017.299988   \n",
       "\n",
       "                     Average Wind Direction (deg)  Max Wind Speed (mph)  \n",
       "Date/Time (GMT)                                                          \n",
       "2000-01-01 00:00:00                         280.0             17.299999  \n",
       "2000-01-01 01:00:00                         280.0             16.100000  \n",
       "2000-01-01 02:00:00                         280.0             15.000000  \n",
       "2000-01-01 03:00:00                         270.0             16.100000  \n",
       "2000-01-01 04:00:00                         280.0             12.700000  "
      ]
     },
     "execution_count": 30,
     "metadata": {},
     "output_type": "execute_result"
    }
   ],
   "source": [
    "df_temps.set_index(df_temps.iloc[:, 0], drop = True, inplace = True)\n",
    "df_temps.drop(columns = [\"Date/Time (GMT)\"], axis = 1, inplace = True)\n",
    "df_temps.head()"
   ]
  },
  {
   "cell_type": "markdown",
   "id": "experimental-coordinator",
   "metadata": {},
   "source": [
    "#### 28) [P] Give one final repo|rt on the total memory usage, and also show the % memory reduction made compared to when you first loaded the data. "
   ]
  },
  {
   "cell_type": "code",
   "execution_count": 31,
   "id": "prepared-wayne",
   "metadata": {},
   "outputs": [
    {
     "name": "stdout",
     "output_type": "stream",
     "text": [
      "New total memory usage: 9.642979 MB\n",
      "% Reduced: 70.56%\n"
     ]
    }
   ],
   "source": [
    "new_mem = df_temps.memory_usage(deep = True).sum()/(10**6)\n",
    "print(f\"New total memory usage: {new_mem} MB\")\n",
    "print(f\"% Reduced: {(original_memory - new_mem) / original_memory * 100:.2f}%\")"
   ]
  },
  {
   "cell_type": "markdown",
   "id": "documented-sequence",
   "metadata": {},
   "source": [
    "#### 29) [P] This dataset has missing observations. But, how many? First, calculate how many observations SHOULD be there. Use the difference between the first and last index value to compute this. "
   ]
  },
  {
   "cell_type": "code",
   "execution_count": 32,
   "id": "framed-press",
   "metadata": {},
   "outputs": [
    {
     "name": "stdout",
     "output_type": "stream",
     "text": [
      "There should be 184104 observations.\n",
      "Thus, there are 2161 missing observations.\n"
     ]
    }
   ],
   "source": [
    "print(\"There should be\", len(pd.date_range(end = df_temps.index[-1], start = df_temps.index[0], freq = '1H')), \"observations.\")\n",
    "print(\"Thus, there are\", len(pd.date_range(end = df_temps.index[-1], start = df_temps.index[0], freq = '1H')) - df_temps.shape[0], \"missing observations.\")"
   ]
  },
  {
   "cell_type": "markdown",
   "id": "external-generator",
   "metadata": {},
   "source": [
    "#### 30) [P] There are quite a lot! It's time to investigate. Create a data frame called df_missing that has an index of the time stamp of every missing date, with a simple variable called \"missing\" that has a value of 1 for every entry. (i.e. it should only contain the missing dates.) Report the number of rows in df_missing. It should match the number you computed previously"
   ]
  },
  {
   "cell_type": "code",
   "execution_count": 33,
   "id": "classified-jaguar",
   "metadata": {},
   "outputs": [
    {
     "data": {
      "text/plain": [
       "2161"
      ]
     },
     "execution_count": 33,
     "metadata": {},
     "output_type": "execute_result"
    }
   ],
   "source": [
    "miss_days = pd.date_range(end = df_temps.index[-1], start = df_temps.index[0], freq = '1H').difference(df_temps.index)\n",
    "df_missing = pd.DataFrame(np.ones((len(miss_days), 1), dtype = int), columns = ['missing'], index = miss_days)\n",
    "df_missing.shape[0]"
   ]
  },
  {
   "cell_type": "markdown",
   "id": "greatest-nowhere",
   "metadata": {},
   "source": [
    "#### 31) [P] Let's get a sense of which years seem to be missing the most dates. How? Well, the easiest approach is probably to use the resample() method of data frames."
   ]
  },
  {
   "cell_type": "code",
   "execution_count": 34,
   "id": "extra-tract",
   "metadata": {},
   "outputs": [
    {
     "data": {
      "text/html": [
       "<div>\n",
       "<style scoped>\n",
       "    .dataframe tbody tr th:only-of-type {\n",
       "        vertical-align: middle;\n",
       "    }\n",
       "\n",
       "    .dataframe tbody tr th {\n",
       "        vertical-align: top;\n",
       "    }\n",
       "\n",
       "    .dataframe thead th {\n",
       "        text-align: right;\n",
       "    }\n",
       "</style>\n",
       "<table border=\"1\" class=\"dataframe\">\n",
       "  <thead>\n",
       "    <tr style=\"text-align: right;\">\n",
       "      <th></th>\n",
       "      <th>missing</th>\n",
       "    </tr>\n",
       "  </thead>\n",
       "  <tbody>\n",
       "    <tr>\n",
       "      <th>2000-12-31</th>\n",
       "      <td>792</td>\n",
       "    </tr>\n",
       "    <tr>\n",
       "      <th>2001-12-31</th>\n",
       "      <td>54</td>\n",
       "    </tr>\n",
       "    <tr>\n",
       "      <th>2002-12-31</th>\n",
       "      <td>30</td>\n",
       "    </tr>\n",
       "    <tr>\n",
       "      <th>2003-12-31</th>\n",
       "      <td>39</td>\n",
       "    </tr>\n",
       "    <tr>\n",
       "      <th>2004-12-31</th>\n",
       "      <td>72</td>\n",
       "    </tr>\n",
       "  </tbody>\n",
       "</table>\n",
       "</div>"
      ],
      "text/plain": [
       "            missing\n",
       "2000-12-31      792\n",
       "2001-12-31       54\n",
       "2002-12-31       30\n",
       "2003-12-31       39\n",
       "2004-12-31       72"
      ]
     },
     "execution_count": 34,
     "metadata": {},
     "output_type": "execute_result"
    }
   ],
   "source": [
    "df_missing_by_year = df_missing.resample('Y').count()\n",
    "df_missing_by_year.head()"
   ]
  },
  {
   "cell_type": "markdown",
   "id": "looking-punch",
   "metadata": {},
   "source": [
    "#### 32) Write the code to eliminate that entire year from df_temps."
   ]
  },
  {
   "cell_type": "code",
   "execution_count": 35,
   "id": "complete-thousand",
   "metadata": {},
   "outputs": [],
   "source": [
    "worst_year = df_missing_by_year[\"missing\"].idxmax().year\n",
    "df_temps = df_temps[df_temps.index.year != worst_year]"
   ]
  },
  {
   "cell_type": "code",
   "execution_count": 36,
   "id": "exceptional-order",
   "metadata": {},
   "outputs": [
    {
     "data": {
      "text/html": [
       "<div>\n",
       "<style scoped>\n",
       "    .dataframe tbody tr th:only-of-type {\n",
       "        vertical-align: middle;\n",
       "    }\n",
       "\n",
       "    .dataframe tbody tr th {\n",
       "        vertical-align: top;\n",
       "    }\n",
       "\n",
       "    .dataframe thead th {\n",
       "        text-align: right;\n",
       "    }\n",
       "</style>\n",
       "<table border=\"1\" class=\"dataframe\">\n",
       "  <thead>\n",
       "    <tr style=\"text-align: right;\">\n",
       "      <th></th>\n",
       "      <th>Number of Observations (n/a)</th>\n",
       "      <th>Average Temp (F)</th>\n",
       "      <th>Max Temp (F)</th>\n",
       "      <th>Min Temp (F)</th>\n",
       "      <th>Average Dewpoint Temp (F)</th>\n",
       "      <th>1 Hour Precip (in)</th>\n",
       "      <th>Max Wind Gust (mph)</th>\n",
       "      <th>Average Relative Humidity (%)</th>\n",
       "      <th>Average Wind Speed (mph)</th>\n",
       "      <th>Average Station Pressure (mb)</th>\n",
       "      <th>Average Wind Direction (deg)</th>\n",
       "      <th>Max Wind Speed (mph)</th>\n",
       "    </tr>\n",
       "    <tr>\n",
       "      <th>Date/Time (GMT)</th>\n",
       "      <th></th>\n",
       "      <th></th>\n",
       "      <th></th>\n",
       "      <th></th>\n",
       "      <th></th>\n",
       "      <th></th>\n",
       "      <th></th>\n",
       "      <th></th>\n",
       "      <th></th>\n",
       "      <th></th>\n",
       "      <th></th>\n",
       "      <th></th>\n",
       "    </tr>\n",
       "  </thead>\n",
       "  <tbody>\n",
       "    <tr>\n",
       "      <th>2001-01-01 00:00:00</th>\n",
       "      <td>1</td>\n",
       "      <td>21.0</td>\n",
       "      <td>21.0</td>\n",
       "      <td>21.0</td>\n",
       "      <td>6.1</td>\n",
       "      <td>NaN</td>\n",
       "      <td>NaN</td>\n",
       "      <td>51.0</td>\n",
       "      <td>12.7</td>\n",
       "      <td>1019.000000</td>\n",
       "      <td>270.0</td>\n",
       "      <td>12.7</td>\n",
       "    </tr>\n",
       "    <tr>\n",
       "      <th>2001-01-01 01:00:00</th>\n",
       "      <td>1</td>\n",
       "      <td>19.9</td>\n",
       "      <td>19.9</td>\n",
       "      <td>19.9</td>\n",
       "      <td>7.0</td>\n",
       "      <td>NaN</td>\n",
       "      <td>NaN</td>\n",
       "      <td>56.0</td>\n",
       "      <td>10.4</td>\n",
       "      <td>1019.000000</td>\n",
       "      <td>270.0</td>\n",
       "      <td>10.4</td>\n",
       "    </tr>\n",
       "    <tr>\n",
       "      <th>2001-01-01 02:00:00</th>\n",
       "      <td>1</td>\n",
       "      <td>19.0</td>\n",
       "      <td>19.0</td>\n",
       "      <td>19.0</td>\n",
       "      <td>7.0</td>\n",
       "      <td>NaN</td>\n",
       "      <td>NaN</td>\n",
       "      <td>58.0</td>\n",
       "      <td>16.1</td>\n",
       "      <td>1019.000000</td>\n",
       "      <td>270.0</td>\n",
       "      <td>16.1</td>\n",
       "    </tr>\n",
       "    <tr>\n",
       "      <th>2001-01-01 03:00:00</th>\n",
       "      <td>1</td>\n",
       "      <td>19.0</td>\n",
       "      <td>19.0</td>\n",
       "      <td>19.0</td>\n",
       "      <td>7.0</td>\n",
       "      <td>NaN</td>\n",
       "      <td>NaN</td>\n",
       "      <td>58.0</td>\n",
       "      <td>15.0</td>\n",
       "      <td>1018.599976</td>\n",
       "      <td>260.0</td>\n",
       "      <td>15.0</td>\n",
       "    </tr>\n",
       "    <tr>\n",
       "      <th>2001-01-01 04:00:00</th>\n",
       "      <td>1</td>\n",
       "      <td>19.0</td>\n",
       "      <td>19.0</td>\n",
       "      <td>19.0</td>\n",
       "      <td>6.1</td>\n",
       "      <td>NaN</td>\n",
       "      <td>NaN</td>\n",
       "      <td>56.0</td>\n",
       "      <td>16.1</td>\n",
       "      <td>1018.599976</td>\n",
       "      <td>280.0</td>\n",
       "      <td>16.1</td>\n",
       "    </tr>\n",
       "  </tbody>\n",
       "</table>\n",
       "</div>"
      ],
      "text/plain": [
       "                     Number of Observations (n/a)  Average Temp (F)  \\\n",
       "Date/Time (GMT)                                                       \n",
       "2001-01-01 00:00:00                             1              21.0   \n",
       "2001-01-01 01:00:00                             1              19.9   \n",
       "2001-01-01 02:00:00                             1              19.0   \n",
       "2001-01-01 03:00:00                             1              19.0   \n",
       "2001-01-01 04:00:00                             1              19.0   \n",
       "\n",
       "                     Max Temp (F)  Min Temp (F)  Average Dewpoint Temp (F)  \\\n",
       "Date/Time (GMT)                                                              \n",
       "2001-01-01 00:00:00          21.0          21.0                        6.1   \n",
       "2001-01-01 01:00:00          19.9          19.9                        7.0   \n",
       "2001-01-01 02:00:00          19.0          19.0                        7.0   \n",
       "2001-01-01 03:00:00          19.0          19.0                        7.0   \n",
       "2001-01-01 04:00:00          19.0          19.0                        6.1   \n",
       "\n",
       "                     1 Hour Precip (in)  Max Wind Gust (mph)  \\\n",
       "Date/Time (GMT)                                                \n",
       "2001-01-01 00:00:00                 NaN                  NaN   \n",
       "2001-01-01 01:00:00                 NaN                  NaN   \n",
       "2001-01-01 02:00:00                 NaN                  NaN   \n",
       "2001-01-01 03:00:00                 NaN                  NaN   \n",
       "2001-01-01 04:00:00                 NaN                  NaN   \n",
       "\n",
       "                     Average Relative Humidity (%)  Average Wind Speed (mph)  \\\n",
       "Date/Time (GMT)                                                                \n",
       "2001-01-01 00:00:00                           51.0                      12.7   \n",
       "2001-01-01 01:00:00                           56.0                      10.4   \n",
       "2001-01-01 02:00:00                           58.0                      16.1   \n",
       "2001-01-01 03:00:00                           58.0                      15.0   \n",
       "2001-01-01 04:00:00                           56.0                      16.1   \n",
       "\n",
       "                     Average Station Pressure (mb)  \\\n",
       "Date/Time (GMT)                                      \n",
       "2001-01-01 00:00:00                    1019.000000   \n",
       "2001-01-01 01:00:00                    1019.000000   \n",
       "2001-01-01 02:00:00                    1019.000000   \n",
       "2001-01-01 03:00:00                    1018.599976   \n",
       "2001-01-01 04:00:00                    1018.599976   \n",
       "\n",
       "                     Average Wind Direction (deg)  Max Wind Speed (mph)  \n",
       "Date/Time (GMT)                                                          \n",
       "2001-01-01 00:00:00                         270.0                  12.7  \n",
       "2001-01-01 01:00:00                         270.0                  10.4  \n",
       "2001-01-01 02:00:00                         270.0                  16.1  \n",
       "2001-01-01 03:00:00                         260.0                  15.0  \n",
       "2001-01-01 04:00:00                         280.0                  16.1  "
      ]
     },
     "execution_count": 36,
     "metadata": {},
     "output_type": "execute_result"
    }
   ],
   "source": [
    "df_temps.head()"
   ]
  },
  {
   "cell_type": "markdown",
   "id": "later-disabled",
   "metadata": {},
   "source": [
    "#### 33) [P] Use Seaborn to generate a line plot of the average hourly temperature over the entire time period contained in the data"
   ]
  },
  {
   "cell_type": "code",
   "execution_count": 37,
   "id": "ignored-azerbaijan",
   "metadata": {},
   "outputs": [
    {
     "data": {
      "image/png": "[encoded data removed]",
      "text/plain": [
       "<Figure size 432x288 with 1 Axes>"
      ]
     },
     "metadata": {
      "needs_background": "light"
     },
     "output_type": "display_data"
    }
   ],
   "source": [
    "p = sns.lineplot(data = df_temps, x = 'Date/Time (GMT)', y = \"Average Temp (F)\")\n",
    "p.set_title(\"Average hourly temperature over entire time period\")\n",
    "plt.show()"
   ]
  },
  {
   "cell_type": "markdown",
   "id": "distinguished-federation",
   "metadata": {},
   "source": [
    "#### 34) [P] Now, compute the mean of the hourly average temperature for each year and plot this annual value. "
   ]
  },
  {
   "cell_type": "code",
   "execution_count": 38,
   "id": "found-whale",
   "metadata": {},
   "outputs": [
    {
     "data": {
      "image/png": "[encoded data removed]",
      "text/plain": [
       "<Figure size 432x288 with 1 Axes>"
      ]
     },
     "metadata": {
      "needs_background": "light"
     },
     "output_type": "display_data"
    }
   ],
   "source": [
    "by_year = df_temps.resample(\"Y\").mean()\n",
    "p1 = sns.lineplot(data = by_year, x = 'Date/Time (GMT)', y = \"Average Temp (F)\")\n",
    "p1.set_title(\"Average hourly temperature over year\")\n",
    "plt.show()"
   ]
  }
 ],
 "metadata": {
  "kernelspec": {
   "display_name": "Python 3",
   "language": "python",
   "name": "python3"
  },
  "language_info": {
   "codemirror_mode": {
    "name": "ipython",
    "version": 3
   },
   "file_extension": ".py",
   "mimetype": "text/x-python",
   "name": "python",
   "nbconvert_exporter": "python",
   "pygments_lexer": "ipython3",
   "version": "3.8.5"
  }
 },
 "nbformat": 4,
 "nbformat_minor": 5
}
