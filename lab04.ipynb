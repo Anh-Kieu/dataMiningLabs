{
 "cells": [
  {
   "cell_type": "markdown",
   "id": "hourly-pressure",
   "metadata": {},
   "source": [
    "## Lab04 - pandas\n",
    "Name: Anh Kieu  \n",
    "Class: CSCI 349 - Intro to Data Mining  \n",
    "Semester: Spring 2021  \n",
    "Instructor: Brian King  "
   ]
  },
  {
   "cell_type": "code",
   "execution_count": 1,
   "id": "friendly-target",
   "metadata": {},
   "outputs": [],
   "source": [
    "import sys\n",
    "import numpy as np\n",
    "import pandas as pd"
   ]
  },
  {
   "cell_type": "code",
   "execution_count": 2,
   "id": "french-vacuum",
   "metadata": {},
   "outputs": [
    {
     "data": {
      "text/html": [
       "<div>\n",
       "<style scoped>\n",
       "    .dataframe tbody tr th:only-of-type {\n",
       "        vertical-align: middle;\n",
       "    }\n",
       "\n",
       "    .dataframe tbody tr th {\n",
       "        vertical-align: top;\n",
       "    }\n",
       "\n",
       "    .dataframe thead th {\n",
       "        text-align: right;\n",
       "    }\n",
       "</style>\n",
       "<table border=\"1\" class=\"dataframe\">\n",
       "  <thead>\n",
       "    <tr style=\"text-align: right;\">\n",
       "      <th></th>\n",
       "      <th>Mon</th>\n",
       "      <th>Tue</th>\n",
       "      <th>Wed</th>\n",
       "      <th>Thurs</th>\n",
       "      <th>Fri</th>\n",
       "      <th>Student</th>\n",
       "    </tr>\n",
       "  </thead>\n",
       "  <tbody>\n",
       "    <tr>\n",
       "      <th>week_1</th>\n",
       "      <td>9.50</td>\n",
       "      <td>8.75</td>\n",
       "      <td>8.00</td>\n",
       "      <td>10.00</td>\n",
       "      <td>7.75</td>\n",
       "      <td>Bob</td>\n",
       "    </tr>\n",
       "    <tr>\n",
       "      <th>week_1</th>\n",
       "      <td>9.00</td>\n",
       "      <td>8.00</td>\n",
       "      <td>10.00</td>\n",
       "      <td>8.75</td>\n",
       "      <td>7.25</td>\n",
       "      <td>Jane</td>\n",
       "    </tr>\n",
       "    <tr>\n",
       "      <th>week_2</th>\n",
       "      <td>8.50</td>\n",
       "      <td>0.00</td>\n",
       "      <td>9.75</td>\n",
       "      <td>9.00</td>\n",
       "      <td>6.00</td>\n",
       "      <td>Bob</td>\n",
       "    </tr>\n",
       "    <tr>\n",
       "      <th>week_2</th>\n",
       "      <td>7.00</td>\n",
       "      <td>8.25</td>\n",
       "      <td>9.25</td>\n",
       "      <td>0.00</td>\n",
       "      <td>8.00</td>\n",
       "      <td>Jane</td>\n",
       "    </tr>\n",
       "    <tr>\n",
       "      <th>week_3</th>\n",
       "      <td>7.00</td>\n",
       "      <td>8.50</td>\n",
       "      <td>9.25</td>\n",
       "      <td>0.00</td>\n",
       "      <td>0.00</td>\n",
       "      <td>Bob</td>\n",
       "    </tr>\n",
       "    <tr>\n",
       "      <th>week_3</th>\n",
       "      <td>8.50</td>\n",
       "      <td>8.25</td>\n",
       "      <td>9.00</td>\n",
       "      <td>8.00</td>\n",
       "      <td>7.50</td>\n",
       "      <td>Jane</td>\n",
       "    </tr>\n",
       "    <tr>\n",
       "      <th>week_4</th>\n",
       "      <td>9.00</td>\n",
       "      <td>7.00</td>\n",
       "      <td>8.50</td>\n",
       "      <td>8.00</td>\n",
       "      <td>8.00</td>\n",
       "      <td>Bob</td>\n",
       "    </tr>\n",
       "    <tr>\n",
       "      <th>week_4</th>\n",
       "      <td>9.25</td>\n",
       "      <td>9.25</td>\n",
       "      <td>8.50</td>\n",
       "      <td>7.75</td>\n",
       "      <td>7.50</td>\n",
       "      <td>Jane</td>\n",
       "    </tr>\n",
       "  </tbody>\n",
       "</table>\n",
       "</div>"
      ],
      "text/plain": [
       "         Mon   Tue    Wed  Thurs   Fri Student\n",
       "week_1  9.50  8.75   8.00  10.00  7.75     Bob\n",
       "week_1  9.00  8.00  10.00   8.75  7.25    Jane\n",
       "week_2  8.50  0.00   9.75   9.00  6.00     Bob\n",
       "week_2  7.00  8.25   9.25   0.00  8.00    Jane\n",
       "week_3  7.00  8.50   9.25   0.00  0.00     Bob\n",
       "week_3  8.50  8.25   9.00   8.00  7.50    Jane\n",
       "week_4  9.00  7.00   8.50   8.00  8.00     Bob\n",
       "week_4  9.25  9.25   8.50   7.75  7.50    Jane"
      ]
     },
     "execution_count": 2,
     "metadata": {},
     "output_type": "execute_result"
    }
   ],
   "source": [
    "days = [\"Mon\",\"Tue\",\"Wed\",\"Thurs\",\"Fri\",\"Student\"]\n",
    "scores = pd.DataFrame([pd.Series([9.5, 8.75, 8, 10, 7.75, \"Bob\"], index=days, name=\"week_1\"),\n",
    "pd.Series([9, 8, 10, 8.75, 7.25, \"Jane\"], index=days, name=\"week_1\"),\n",
    "pd.Series([8.5, 0, 9.75, 9, 6, \"Bob\"], index=days, name=\"week_2\"),\n",
    "pd.Series([7, 8.25, 9.25, 0, 8, \"Jane\"], index=days, name=\"week_2\"),\n",
    "pd.Series([7, 8.5, 9.25, 0, 0, \"Bob\"], index=days, name=\"week_3\"),\n",
    "pd.Series([8.5, 8.25, 9, 8, 7.5, \"Jane\"], index=days, name=\"week_3\"),\n",
    "pd.Series([9, 7, 8.5, 8, 8, \"Bob\"], index=days, name=\"week_4\"),\n",
    "pd.Series([9.25, 9.25, 8.5, 7.75, 7.5, \"Jane\"], index=days,\n",
    "name=\"week_4\")])\n",
    "scores"
   ]
  },
  {
   "cell_type": "markdown",
   "id": "timely-community",
   "metadata": {},
   "source": [
    "#### 1) [P] Report the shape, the number of dimensions, the size of the data, and the data types of each column. Print each separately. Then create an additional code cell that shows the results of scores.info()."
   ]
  },
  {
   "cell_type": "code",
   "execution_count": 3,
   "id": "liquid-wildlife",
   "metadata": {},
   "outputs": [
    {
     "name": "stdout",
     "output_type": "stream",
     "text": [
      "Shape: (8, 6)\n",
      "Number of dims: 2\n",
      "Size of data: Index      64\n",
      "Mon        64\n",
      "Tue        64\n",
      "Wed        64\n",
      "Thurs      64\n",
      "Fri        64\n",
      "Student    64\n",
      "dtype: int64\n",
      "Data types:\n",
      " Mon        float64\n",
      "Tue        float64\n",
      "Wed        float64\n",
      "Thurs      float64\n",
      "Fri        float64\n",
      "Student     object\n",
      "dtype: object\n"
     ]
    }
   ],
   "source": [
    "print(\"Shape:\", scores.shape)\n",
    "print(\"Number of dims:\", scores.ndim)\n",
    "print(\"Size of data:\", scores.memory_usage())\n",
    "print(\"Data types:\\n\", scores.dtypes)"
   ]
  },
  {
   "cell_type": "code",
   "execution_count": 4,
   "id": "latter-standard",
   "metadata": {},
   "outputs": [
    {
     "name": "stdout",
     "output_type": "stream",
     "text": [
      "<class 'pandas.core.frame.DataFrame'>\n",
      "Index: 8 entries, week_1 to week_4\n",
      "Data columns (total 6 columns):\n",
      " #   Column   Non-Null Count  Dtype  \n",
      "---  ------   --------------  -----  \n",
      " 0   Mon      8 non-null      float64\n",
      " 1   Tue      8 non-null      float64\n",
      " 2   Wed      8 non-null      float64\n",
      " 3   Thurs    8 non-null      float64\n",
      " 4   Fri      8 non-null      float64\n",
      " 5   Student  8 non-null      object \n",
      "dtypes: float64(5), object(1)\n",
      "memory usage: 448.0+ bytes\n"
     ]
    }
   ],
   "source": [
    "scores.info()"
   ]
  },
  {
   "cell_type": "markdown",
   "id": "signal-campaign",
   "metadata": {},
   "source": [
    "#### 2) [P] Show two different ways to report the number of observations in scores."
   ]
  },
  {
   "cell_type": "code",
   "execution_count": 5,
   "id": "refined-sending",
   "metadata": {},
   "outputs": [
    {
     "name": "stdout",
     "output_type": "stream",
     "text": [
      "Method 1: 48\n",
      "Method 2: 48\n"
     ]
    }
   ],
   "source": [
    "print(\"Method 1:\", scores.size)\n",
    "print(\"Method 2:\", scores.shape[0] * scores.shape[1])"
   ]
  },
  {
   "cell_type": "markdown",
   "id": "analyzed-yeast",
   "metadata": {},
   "source": [
    "#### 3) [P] Show the variables (i.e. columns) in scores"
   ]
  },
  {
   "cell_type": "code",
   "execution_count": 6,
   "id": "short-couple",
   "metadata": {},
   "outputs": [
    {
     "data": {
      "text/plain": [
       "Index(['Mon', 'Tue', 'Wed', 'Thurs', 'Fri', 'Student'], dtype='object')"
      ]
     },
     "execution_count": 6,
     "metadata": {},
     "output_type": "execute_result"
    }
   ],
   "source": [
    "scores.columns"
   ]
  },
  {
   "cell_type": "markdown",
   "id": "applicable-lecture",
   "metadata": {},
   "source": [
    "#### 4) [P] There are repetitive names in the index. This happens quite a bit, depending on how the rows are to be named. For now. print the unique index names in scores"
   ]
  },
  {
   "cell_type": "code",
   "execution_count": 7,
   "id": "egyptian-shelf",
   "metadata": {},
   "outputs": [
    {
     "name": "stdout",
     "output_type": "stream",
     "text": [
      "Unique index: week_4 week_2 week_3 week_1\n"
     ]
    }
   ],
   "source": [
    "unique_index = set(scores.index)\n",
    "print('Unique index:', ' '.join(unique_index))"
   ]
  },
  {
   "cell_type": "markdown",
   "id": "saving-attachment",
   "metadata": {},
   "source": [
    "#### 5) [P] Rename the 'Thurs' column header to be 'Thu' ."
   ]
  },
  {
   "cell_type": "code",
   "execution_count": 8,
   "id": "diagnostic-buddy",
   "metadata": {},
   "outputs": [
    {
     "data": {
      "text/html": [
       "<div>\n",
       "<style scoped>\n",
       "    .dataframe tbody tr th:only-of-type {\n",
       "        vertical-align: middle;\n",
       "    }\n",
       "\n",
       "    .dataframe tbody tr th {\n",
       "        vertical-align: top;\n",
       "    }\n",
       "\n",
       "    .dataframe thead th {\n",
       "        text-align: right;\n",
       "    }\n",
       "</style>\n",
       "<table border=\"1\" class=\"dataframe\">\n",
       "  <thead>\n",
       "    <tr style=\"text-align: right;\">\n",
       "      <th></th>\n",
       "      <th>Mon</th>\n",
       "      <th>Tue</th>\n",
       "      <th>Wed</th>\n",
       "      <th>Thu</th>\n",
       "      <th>Fri</th>\n",
       "      <th>Student</th>\n",
       "    </tr>\n",
       "  </thead>\n",
       "  <tbody>\n",
       "    <tr>\n",
       "      <th>week_1</th>\n",
       "      <td>9.50</td>\n",
       "      <td>8.75</td>\n",
       "      <td>8.00</td>\n",
       "      <td>10.00</td>\n",
       "      <td>7.75</td>\n",
       "      <td>Bob</td>\n",
       "    </tr>\n",
       "    <tr>\n",
       "      <th>week_1</th>\n",
       "      <td>9.00</td>\n",
       "      <td>8.00</td>\n",
       "      <td>10.00</td>\n",
       "      <td>8.75</td>\n",
       "      <td>7.25</td>\n",
       "      <td>Jane</td>\n",
       "    </tr>\n",
       "    <tr>\n",
       "      <th>week_2</th>\n",
       "      <td>8.50</td>\n",
       "      <td>0.00</td>\n",
       "      <td>9.75</td>\n",
       "      <td>9.00</td>\n",
       "      <td>6.00</td>\n",
       "      <td>Bob</td>\n",
       "    </tr>\n",
       "    <tr>\n",
       "      <th>week_2</th>\n",
       "      <td>7.00</td>\n",
       "      <td>8.25</td>\n",
       "      <td>9.25</td>\n",
       "      <td>0.00</td>\n",
       "      <td>8.00</td>\n",
       "      <td>Jane</td>\n",
       "    </tr>\n",
       "    <tr>\n",
       "      <th>week_3</th>\n",
       "      <td>7.00</td>\n",
       "      <td>8.50</td>\n",
       "      <td>9.25</td>\n",
       "      <td>0.00</td>\n",
       "      <td>0.00</td>\n",
       "      <td>Bob</td>\n",
       "    </tr>\n",
       "    <tr>\n",
       "      <th>week_3</th>\n",
       "      <td>8.50</td>\n",
       "      <td>8.25</td>\n",
       "      <td>9.00</td>\n",
       "      <td>8.00</td>\n",
       "      <td>7.50</td>\n",
       "      <td>Jane</td>\n",
       "    </tr>\n",
       "    <tr>\n",
       "      <th>week_4</th>\n",
       "      <td>9.00</td>\n",
       "      <td>7.00</td>\n",
       "      <td>8.50</td>\n",
       "      <td>8.00</td>\n",
       "      <td>8.00</td>\n",
       "      <td>Bob</td>\n",
       "    </tr>\n",
       "    <tr>\n",
       "      <th>week_4</th>\n",
       "      <td>9.25</td>\n",
       "      <td>9.25</td>\n",
       "      <td>8.50</td>\n",
       "      <td>7.75</td>\n",
       "      <td>7.50</td>\n",
       "      <td>Jane</td>\n",
       "    </tr>\n",
       "  </tbody>\n",
       "</table>\n",
       "</div>"
      ],
      "text/plain": [
       "         Mon   Tue    Wed    Thu   Fri Student\n",
       "week_1  9.50  8.75   8.00  10.00  7.75     Bob\n",
       "week_1  9.00  8.00  10.00   8.75  7.25    Jane\n",
       "week_2  8.50  0.00   9.75   9.00  6.00     Bob\n",
       "week_2  7.00  8.25   9.25   0.00  8.00    Jane\n",
       "week_3  7.00  8.50   9.25   0.00  0.00     Bob\n",
       "week_3  8.50  8.25   9.00   8.00  7.50    Jane\n",
       "week_4  9.00  7.00   8.50   8.00  8.00     Bob\n",
       "week_4  9.25  9.25   8.50   7.75  7.50    Jane"
      ]
     },
     "execution_count": 8,
     "metadata": {},
     "output_type": "execute_result"
    }
   ],
   "source": [
    "scores.rename(columns = {\"Thurs\" : \"Thu\"})"
   ]
  },
  {
   "cell_type": "markdown",
   "id": "seven-fence",
   "metadata": {},
   "source": [
    "#### 6) [P] Now, make a bigger change. Let's rename 'week_1' to be 'w1', 'week_2' to be 'w2', and so on. Also, suppose you decide to use only 2 letter abbreviations for the days. Rename the days in the column names to be 'Mo', 'Tu', 'We', 'Th', 'Fr'."
   ]
  },
  {
   "cell_type": "code",
   "execution_count": 9,
   "id": "suspected-witch",
   "metadata": {},
   "outputs": [
    {
     "data": {
      "text/html": [
       "<div>\n",
       "<style scoped>\n",
       "    .dataframe tbody tr th:only-of-type {\n",
       "        vertical-align: middle;\n",
       "    }\n",
       "\n",
       "    .dataframe tbody tr th {\n",
       "        vertical-align: top;\n",
       "    }\n",
       "\n",
       "    .dataframe thead th {\n",
       "        text-align: right;\n",
       "    }\n",
       "</style>\n",
       "<table border=\"1\" class=\"dataframe\">\n",
       "  <thead>\n",
       "    <tr style=\"text-align: right;\">\n",
       "      <th></th>\n",
       "      <th>Mo</th>\n",
       "      <th>Tu</th>\n",
       "      <th>We</th>\n",
       "      <th>Th</th>\n",
       "      <th>Fr</th>\n",
       "      <th>Student</th>\n",
       "    </tr>\n",
       "  </thead>\n",
       "  <tbody>\n",
       "    <tr>\n",
       "      <th>w1</th>\n",
       "      <td>9.50</td>\n",
       "      <td>8.75</td>\n",
       "      <td>8.00</td>\n",
       "      <td>10.00</td>\n",
       "      <td>7.75</td>\n",
       "      <td>Bob</td>\n",
       "    </tr>\n",
       "    <tr>\n",
       "      <th>w1</th>\n",
       "      <td>9.00</td>\n",
       "      <td>8.00</td>\n",
       "      <td>10.00</td>\n",
       "      <td>8.75</td>\n",
       "      <td>7.25</td>\n",
       "      <td>Jane</td>\n",
       "    </tr>\n",
       "    <tr>\n",
       "      <th>w2</th>\n",
       "      <td>8.50</td>\n",
       "      <td>0.00</td>\n",
       "      <td>9.75</td>\n",
       "      <td>9.00</td>\n",
       "      <td>6.00</td>\n",
       "      <td>Bob</td>\n",
       "    </tr>\n",
       "    <tr>\n",
       "      <th>w2</th>\n",
       "      <td>7.00</td>\n",
       "      <td>8.25</td>\n",
       "      <td>9.25</td>\n",
       "      <td>0.00</td>\n",
       "      <td>8.00</td>\n",
       "      <td>Jane</td>\n",
       "    </tr>\n",
       "    <tr>\n",
       "      <th>w3</th>\n",
       "      <td>7.00</td>\n",
       "      <td>8.50</td>\n",
       "      <td>9.25</td>\n",
       "      <td>0.00</td>\n",
       "      <td>0.00</td>\n",
       "      <td>Bob</td>\n",
       "    </tr>\n",
       "    <tr>\n",
       "      <th>w3</th>\n",
       "      <td>8.50</td>\n",
       "      <td>8.25</td>\n",
       "      <td>9.00</td>\n",
       "      <td>8.00</td>\n",
       "      <td>7.50</td>\n",
       "      <td>Jane</td>\n",
       "    </tr>\n",
       "    <tr>\n",
       "      <th>w4</th>\n",
       "      <td>9.00</td>\n",
       "      <td>7.00</td>\n",
       "      <td>8.50</td>\n",
       "      <td>8.00</td>\n",
       "      <td>8.00</td>\n",
       "      <td>Bob</td>\n",
       "    </tr>\n",
       "    <tr>\n",
       "      <th>w4</th>\n",
       "      <td>9.25</td>\n",
       "      <td>9.25</td>\n",
       "      <td>8.50</td>\n",
       "      <td>7.75</td>\n",
       "      <td>7.50</td>\n",
       "      <td>Jane</td>\n",
       "    </tr>\n",
       "  </tbody>\n",
       "</table>\n",
       "</div>"
      ],
      "text/plain": [
       "      Mo    Tu     We     Th    Fr Student\n",
       "w1  9.50  8.75   8.00  10.00  7.75     Bob\n",
       "w1  9.00  8.00  10.00   8.75  7.25    Jane\n",
       "w2  8.50  0.00   9.75   9.00  6.00     Bob\n",
       "w2  7.00  8.25   9.25   0.00  8.00    Jane\n",
       "w3  7.00  8.50   9.25   0.00  0.00     Bob\n",
       "w3  8.50  8.25   9.00   8.00  7.50    Jane\n",
       "w4  9.00  7.00   8.50   8.00  8.00     Bob\n",
       "w4  9.25  9.25   8.50   7.75  7.50    Jane"
      ]
     },
     "execution_count": 9,
     "metadata": {},
     "output_type": "execute_result"
    }
   ],
   "source": [
    "rename_col = lambda x: x[0:2]\n",
    "rename_ind = lambda x: x[0] + x[-1]\n",
    "scores = scores.rename(rename_ind, axis = 'index')\n",
    "scores = scores.rename(rename_col, axis = 'columns')\n",
    "scores = scores.rename(columns = {'St': 'Student'})\n",
    "scores"
   ]
  },
  {
   "cell_type": "markdown",
   "id": "twenty-thumbnail",
   "metadata": {},
   "source": [
    "#### 7) [PM] Compare the type of the expression scores['Mo'] vs. scores[['Mo']]. What is the difference?"
   ]
  },
  {
   "cell_type": "code",
   "execution_count": 10,
   "id": "later-going",
   "metadata": {},
   "outputs": [
    {
     "name": "stdout",
     "output_type": "stream",
     "text": [
      "<class 'pandas.core.series.Series'>\n",
      "<class 'pandas.core.frame.DataFrame'>\n"
     ]
    }
   ],
   "source": [
    "print(type(scores['Mo']))\n",
    "print(type(scores[['Mo']]))"
   ]
  },
  {
   "cell_type": "markdown",
   "id": "educated-understanding",
   "metadata": {},
   "source": [
    "['Mo'] is Series while [['Mo']] refers to DataFrame. ['Mo'] could be thought of as element in index 'Mo', and therefore, is typed Series. On the other hand, [['Mo']] refers to the sub DataFrame and therefore is a DataFrame"
   ]
  },
  {
   "cell_type": "markdown",
   "id": "significant-montana",
   "metadata": {},
   "source": [
    "#### 8) [P] Demonstrate the describe() method on scores. What type does it return?"
   ]
  },
  {
   "cell_type": "code",
   "execution_count": 11,
   "id": "accepting-sharing",
   "metadata": {},
   "outputs": [
    {
     "data": {
      "text/html": [
       "<div>\n",
       "<style scoped>\n",
       "    .dataframe tbody tr th:only-of-type {\n",
       "        vertical-align: middle;\n",
       "    }\n",
       "\n",
       "    .dataframe tbody tr th {\n",
       "        vertical-align: top;\n",
       "    }\n",
       "\n",
       "    .dataframe thead th {\n",
       "        text-align: right;\n",
       "    }\n",
       "</style>\n",
       "<table border=\"1\" class=\"dataframe\">\n",
       "  <thead>\n",
       "    <tr style=\"text-align: right;\">\n",
       "      <th></th>\n",
       "      <th>Mo</th>\n",
       "      <th>Tu</th>\n",
       "      <th>We</th>\n",
       "      <th>Th</th>\n",
       "      <th>Fr</th>\n",
       "    </tr>\n",
       "  </thead>\n",
       "  <tbody>\n",
       "    <tr>\n",
       "      <th>count</th>\n",
       "      <td>8.000000</td>\n",
       "      <td>8.0000</td>\n",
       "      <td>8.000000</td>\n",
       "      <td>8.000000</td>\n",
       "      <td>8.000000</td>\n",
       "    </tr>\n",
       "    <tr>\n",
       "      <th>mean</th>\n",
       "      <td>8.468750</td>\n",
       "      <td>7.2500</td>\n",
       "      <td>9.031250</td>\n",
       "      <td>6.437500</td>\n",
       "      <td>6.500000</td>\n",
       "    </tr>\n",
       "    <tr>\n",
       "      <th>std</th>\n",
       "      <td>0.967669</td>\n",
       "      <td>3.0000</td>\n",
       "      <td>0.673974</td>\n",
       "      <td>4.037215</td>\n",
       "      <td>2.702512</td>\n",
       "    </tr>\n",
       "    <tr>\n",
       "      <th>min</th>\n",
       "      <td>7.000000</td>\n",
       "      <td>0.0000</td>\n",
       "      <td>8.000000</td>\n",
       "      <td>0.000000</td>\n",
       "      <td>0.000000</td>\n",
       "    </tr>\n",
       "    <tr>\n",
       "      <th>25%</th>\n",
       "      <td>8.125000</td>\n",
       "      <td>7.7500</td>\n",
       "      <td>8.500000</td>\n",
       "      <td>5.812500</td>\n",
       "      <td>6.937500</td>\n",
       "    </tr>\n",
       "    <tr>\n",
       "      <th>50%</th>\n",
       "      <td>8.750000</td>\n",
       "      <td>8.2500</td>\n",
       "      <td>9.125000</td>\n",
       "      <td>8.000000</td>\n",
       "      <td>7.500000</td>\n",
       "    </tr>\n",
       "    <tr>\n",
       "      <th>75%</th>\n",
       "      <td>9.062500</td>\n",
       "      <td>8.5625</td>\n",
       "      <td>9.375000</td>\n",
       "      <td>8.812500</td>\n",
       "      <td>7.812500</td>\n",
       "    </tr>\n",
       "    <tr>\n",
       "      <th>max</th>\n",
       "      <td>9.500000</td>\n",
       "      <td>9.2500</td>\n",
       "      <td>10.000000</td>\n",
       "      <td>10.000000</td>\n",
       "      <td>8.000000</td>\n",
       "    </tr>\n",
       "  </tbody>\n",
       "</table>\n",
       "</div>"
      ],
      "text/plain": [
       "             Mo      Tu         We         Th        Fr\n",
       "count  8.000000  8.0000   8.000000   8.000000  8.000000\n",
       "mean   8.468750  7.2500   9.031250   6.437500  6.500000\n",
       "std    0.967669  3.0000   0.673974   4.037215  2.702512\n",
       "min    7.000000  0.0000   8.000000   0.000000  0.000000\n",
       "25%    8.125000  7.7500   8.500000   5.812500  6.937500\n",
       "50%    8.750000  8.2500   9.125000   8.000000  7.500000\n",
       "75%    9.062500  8.5625   9.375000   8.812500  7.812500\n",
       "max    9.500000  9.2500  10.000000  10.000000  8.000000"
      ]
     },
     "execution_count": 11,
     "metadata": {},
     "output_type": "execute_result"
    }
   ],
   "source": [
    "scores.describe()\n",
    "# This returns a dataframe with statistical summary"
   ]
  },
  {
   "cell_type": "markdown",
   "id": "radio-position",
   "metadata": {},
   "source": [
    "#### 9) [P] Store the output of describe() as a variable. Then, using this data frame, report the day that had the largest standard deviation in quiz scores and its value. Clean your temporary variables when complete (i.e. use del)"
   ]
  },
  {
   "cell_type": "code",
   "execution_count": 12,
   "id": "killing-stock",
   "metadata": {},
   "outputs": [
    {
     "name": "stdout",
     "output_type": "stream",
     "text": [
      "Th had the highest standard deviation: 4.037\n"
     ]
    }
   ],
   "source": [
    "summary = scores.describe()\n",
    "max_day = summary.loc[\"std\"].idxmax()\n",
    "max_val = summary.loc[\"std\"].max()\n",
    "print(f\"{max_day} had the highest standard deviation: {max_val:.3f}\")\n",
    "del(summary, max_day, max_val)"
   ]
  },
  {
   "cell_type": "markdown",
   "id": "prepared-orlando",
   "metadata": {},
   "source": [
    "#### 10) [P] Write the Python code to repeat the previous exercise without using describe()."
   ]
  },
  {
   "cell_type": "code",
   "execution_count": 13,
   "id": "existing-psychology",
   "metadata": {},
   "outputs": [
    {
     "name": "stdout",
     "output_type": "stream",
     "text": [
      "Th had the highest standard deviation: 4.037\n"
     ]
    }
   ],
   "source": [
    "std = scores.std(axis = 0)\n",
    "print(f\"{std.idxmax()} had the highest standard deviation: {std.max():.3f}\")"
   ]
  },
  {
   "cell_type": "markdown",
   "id": "dependent-french",
   "metadata": {},
   "source": [
    "#### 11) [P] Write the code that changes all 0.0 entries to np.nan."
   ]
  },
  {
   "cell_type": "code",
   "execution_count": 14,
   "id": "alpine-appeal",
   "metadata": {},
   "outputs": [
    {
     "data": {
      "text/html": [
       "<div>\n",
       "<style scoped>\n",
       "    .dataframe tbody tr th:only-of-type {\n",
       "        vertical-align: middle;\n",
       "    }\n",
       "\n",
       "    .dataframe tbody tr th {\n",
       "        vertical-align: top;\n",
       "    }\n",
       "\n",
       "    .dataframe thead th {\n",
       "        text-align: right;\n",
       "    }\n",
       "</style>\n",
       "<table border=\"1\" class=\"dataframe\">\n",
       "  <thead>\n",
       "    <tr style=\"text-align: right;\">\n",
       "      <th></th>\n",
       "      <th>Mo</th>\n",
       "      <th>Tu</th>\n",
       "      <th>We</th>\n",
       "      <th>Th</th>\n",
       "      <th>Fr</th>\n",
       "      <th>Student</th>\n",
       "    </tr>\n",
       "  </thead>\n",
       "  <tbody>\n",
       "    <tr>\n",
       "      <th>w1</th>\n",
       "      <td>9.50</td>\n",
       "      <td>8.75</td>\n",
       "      <td>8.00</td>\n",
       "      <td>10.00</td>\n",
       "      <td>7.75</td>\n",
       "      <td>Bob</td>\n",
       "    </tr>\n",
       "    <tr>\n",
       "      <th>w1</th>\n",
       "      <td>9.00</td>\n",
       "      <td>8.00</td>\n",
       "      <td>10.00</td>\n",
       "      <td>8.75</td>\n",
       "      <td>7.25</td>\n",
       "      <td>Jane</td>\n",
       "    </tr>\n",
       "    <tr>\n",
       "      <th>w2</th>\n",
       "      <td>8.50</td>\n",
       "      <td>NaN</td>\n",
       "      <td>9.75</td>\n",
       "      <td>9.00</td>\n",
       "      <td>6.00</td>\n",
       "      <td>Bob</td>\n",
       "    </tr>\n",
       "    <tr>\n",
       "      <th>w2</th>\n",
       "      <td>7.00</td>\n",
       "      <td>8.25</td>\n",
       "      <td>9.25</td>\n",
       "      <td>NaN</td>\n",
       "      <td>8.00</td>\n",
       "      <td>Jane</td>\n",
       "    </tr>\n",
       "    <tr>\n",
       "      <th>w3</th>\n",
       "      <td>7.00</td>\n",
       "      <td>8.50</td>\n",
       "      <td>9.25</td>\n",
       "      <td>NaN</td>\n",
       "      <td>NaN</td>\n",
       "      <td>Bob</td>\n",
       "    </tr>\n",
       "    <tr>\n",
       "      <th>w3</th>\n",
       "      <td>8.50</td>\n",
       "      <td>8.25</td>\n",
       "      <td>9.00</td>\n",
       "      <td>8.00</td>\n",
       "      <td>7.50</td>\n",
       "      <td>Jane</td>\n",
       "    </tr>\n",
       "    <tr>\n",
       "      <th>w4</th>\n",
       "      <td>9.00</td>\n",
       "      <td>7.00</td>\n",
       "      <td>8.50</td>\n",
       "      <td>8.00</td>\n",
       "      <td>8.00</td>\n",
       "      <td>Bob</td>\n",
       "    </tr>\n",
       "    <tr>\n",
       "      <th>w4</th>\n",
       "      <td>9.25</td>\n",
       "      <td>9.25</td>\n",
       "      <td>8.50</td>\n",
       "      <td>7.75</td>\n",
       "      <td>7.50</td>\n",
       "      <td>Jane</td>\n",
       "    </tr>\n",
       "  </tbody>\n",
       "</table>\n",
       "</div>"
      ],
      "text/plain": [
       "      Mo    Tu     We     Th    Fr Student\n",
       "w1  9.50  8.75   8.00  10.00  7.75     Bob\n",
       "w1  9.00  8.00  10.00   8.75  7.25    Jane\n",
       "w2  8.50   NaN   9.75   9.00  6.00     Bob\n",
       "w2  7.00  8.25   9.25    NaN  8.00    Jane\n",
       "w3  7.00  8.50   9.25    NaN   NaN     Bob\n",
       "w3  8.50  8.25   9.00   8.00  7.50    Jane\n",
       "w4  9.00  7.00   8.50   8.00  8.00     Bob\n",
       "w4  9.25  9.25   8.50   7.75  7.50    Jane"
      ]
     },
     "execution_count": 14,
     "metadata": {},
     "output_type": "execute_result"
    }
   ],
   "source": [
    "scores = scores.replace({0: np.nan})\n",
    "scores"
   ]
  },
  {
   "cell_type": "markdown",
   "id": "modern-comedy",
   "metadata": {},
   "source": [
    "#### 12) [P] Show the output of describe() again."
   ]
  },
  {
   "cell_type": "code",
   "execution_count": 15,
   "id": "separate-forward",
   "metadata": {},
   "outputs": [
    {
     "data": {
      "text/html": [
       "<div>\n",
       "<style scoped>\n",
       "    .dataframe tbody tr th:only-of-type {\n",
       "        vertical-align: middle;\n",
       "    }\n",
       "\n",
       "    .dataframe tbody tr th {\n",
       "        vertical-align: top;\n",
       "    }\n",
       "\n",
       "    .dataframe thead th {\n",
       "        text-align: right;\n",
       "    }\n",
       "</style>\n",
       "<table border=\"1\" class=\"dataframe\">\n",
       "  <thead>\n",
       "    <tr style=\"text-align: right;\">\n",
       "      <th></th>\n",
       "      <th>Mo</th>\n",
       "      <th>Tu</th>\n",
       "      <th>We</th>\n",
       "      <th>Th</th>\n",
       "      <th>Fr</th>\n",
       "    </tr>\n",
       "  </thead>\n",
       "  <tbody>\n",
       "    <tr>\n",
       "      <th>count</th>\n",
       "      <td>8.000000</td>\n",
       "      <td>7.000000</td>\n",
       "      <td>8.000000</td>\n",
       "      <td>6.000000</td>\n",
       "      <td>7.000000</td>\n",
       "    </tr>\n",
       "    <tr>\n",
       "      <th>mean</th>\n",
       "      <td>8.468750</td>\n",
       "      <td>8.285714</td>\n",
       "      <td>9.031250</td>\n",
       "      <td>8.583333</td>\n",
       "      <td>7.428571</td>\n",
       "    </tr>\n",
       "    <tr>\n",
       "      <th>std</th>\n",
       "      <td>0.967669</td>\n",
       "      <td>0.698638</td>\n",
       "      <td>0.673974</td>\n",
       "      <td>0.846562</td>\n",
       "      <td>0.687906</td>\n",
       "    </tr>\n",
       "    <tr>\n",
       "      <th>min</th>\n",
       "      <td>7.000000</td>\n",
       "      <td>7.000000</td>\n",
       "      <td>8.000000</td>\n",
       "      <td>7.750000</td>\n",
       "      <td>6.000000</td>\n",
       "    </tr>\n",
       "    <tr>\n",
       "      <th>25%</th>\n",
       "      <td>8.125000</td>\n",
       "      <td>8.125000</td>\n",
       "      <td>8.500000</td>\n",
       "      <td>8.000000</td>\n",
       "      <td>7.375000</td>\n",
       "    </tr>\n",
       "    <tr>\n",
       "      <th>50%</th>\n",
       "      <td>8.750000</td>\n",
       "      <td>8.250000</td>\n",
       "      <td>9.125000</td>\n",
       "      <td>8.375000</td>\n",
       "      <td>7.500000</td>\n",
       "    </tr>\n",
       "    <tr>\n",
       "      <th>75%</th>\n",
       "      <td>9.062500</td>\n",
       "      <td>8.625000</td>\n",
       "      <td>9.375000</td>\n",
       "      <td>8.937500</td>\n",
       "      <td>7.875000</td>\n",
       "    </tr>\n",
       "    <tr>\n",
       "      <th>max</th>\n",
       "      <td>9.500000</td>\n",
       "      <td>9.250000</td>\n",
       "      <td>10.000000</td>\n",
       "      <td>10.000000</td>\n",
       "      <td>8.000000</td>\n",
       "    </tr>\n",
       "  </tbody>\n",
       "</table>\n",
       "</div>"
      ],
      "text/plain": [
       "             Mo        Tu         We         Th        Fr\n",
       "count  8.000000  7.000000   8.000000   6.000000  7.000000\n",
       "mean   8.468750  8.285714   9.031250   8.583333  7.428571\n",
       "std    0.967669  0.698638   0.673974   0.846562  0.687906\n",
       "min    7.000000  7.000000   8.000000   7.750000  6.000000\n",
       "25%    8.125000  8.125000   8.500000   8.000000  7.375000\n",
       "50%    8.750000  8.250000   9.125000   8.375000  7.500000\n",
       "75%    9.062500  8.625000   9.375000   8.937500  7.875000\n",
       "max    9.500000  9.250000  10.000000  10.000000  8.000000"
      ]
     },
     "execution_count": 15,
     "metadata": {},
     "output_type": "execute_result"
    }
   ],
   "source": [
    "scores.describe()"
   ]
  },
  {
   "cell_type": "markdown",
   "id": "transsexual-undergraduate",
   "metadata": {},
   "source": [
    "#### 13) [PM] Show the output of scores.values. What does the .values attribute do?"
   ]
  },
  {
   "cell_type": "code",
   "execution_count": 16,
   "id": "changed-diesel",
   "metadata": {},
   "outputs": [
    {
     "data": {
      "text/plain": [
       "array([[9.5, 8.75, 8.0, 10.0, 7.75, 'Bob'],\n",
       "       [9.0, 8.0, 10.0, 8.75, 7.25, 'Jane'],\n",
       "       [8.5, nan, 9.75, 9.0, 6.0, 'Bob'],\n",
       "       [7.0, 8.25, 9.25, nan, 8.0, 'Jane'],\n",
       "       [7.0, 8.5, 9.25, nan, nan, 'Bob'],\n",
       "       [8.5, 8.25, 9.0, 8.0, 7.5, 'Jane'],\n",
       "       [9.0, 7.0, 8.5, 8.0, 8.0, 'Bob'],\n",
       "       [9.25, 9.25, 8.5, 7.75, 7.5, 'Jane']], dtype=object)"
      ]
     },
     "execution_count": 16,
     "metadata": {},
     "output_type": "execute_result"
    }
   ],
   "source": [
    "scores.values"
   ]
  },
  {
   "cell_type": "markdown",
   "id": "color-belly",
   "metadata": {},
   "source": [
    ".values attribute returns the numpy 2-D array that corresponds to the dataframe"
   ]
  },
  {
   "cell_type": "markdown",
   "id": "geographic-desire",
   "metadata": {},
   "source": [
    "#### 14) [P] What is the mean quiz score for each day? Do not use describe()"
   ]
  },
  {
   "cell_type": "code",
   "execution_count": 17,
   "id": "indonesian-montgomery",
   "metadata": {},
   "outputs": [
    {
     "data": {
      "text/plain": [
       "Mo    8.468750\n",
       "Tu    8.285714\n",
       "We    9.031250\n",
       "Th    8.583333\n",
       "Fr    7.428571\n",
       "dtype: float64"
      ]
     },
     "execution_count": 17,
     "metadata": {},
     "output_type": "execute_result"
    }
   ],
   "source": [
    "scores.mean()"
   ]
  },
  {
   "cell_type": "markdown",
   "id": "facial-enough",
   "metadata": {},
   "source": [
    "#### 15) [P] What is the mean quiz score over the entire dataset, ignoring all missing values?"
   ]
  },
  {
   "cell_type": "code",
   "execution_count": 18,
   "id": "involved-litigation",
   "metadata": {},
   "outputs": [
    {
     "data": {
      "text/plain": [
       "8.375"
      ]
     },
     "execution_count": 18,
     "metadata": {},
     "output_type": "execute_result"
    }
   ],
   "source": [
    "pure_scores = scores.iloc[:, 0:5]\n",
    "all_scores = pure_scores.values\n",
    "np.nanmean(all_scores)"
   ]
  },
  {
   "cell_type": "markdown",
   "id": "communist-christian",
   "metadata": {},
   "source": [
    "#### 16) [P] Show the mean for each week over all students."
   ]
  },
  {
   "cell_type": "code",
   "execution_count": 19,
   "id": "sufficient-affiliation",
   "metadata": {},
   "outputs": [
    {
     "name": "stdout",
     "output_type": "stream",
     "text": [
      "Mean score for each week over all students:\n",
      "w1    8.70000\n",
      "w2    8.21875\n",
      "w3    8.25000\n",
      "w4    8.27500\n",
      "dtype: float64\n"
     ]
    }
   ],
   "source": [
    "total = scores.groupby(level = 0).sum().sum(axis = 1)\n",
    "counts = pure_scores.groupby(level = 0).count().sum(axis=1) # pure_scores = scores.iloc[:, 0:5]\n",
    "print(f\"Mean score for each week over all students:\\n{total/counts}\")"
   ]
  },
  {
   "cell_type": "markdown",
   "id": "million-prior",
   "metadata": {},
   "source": [
    "#### 17) [P] Show the mean score for each student. Again, ignore all missing values."
   ]
  },
  {
   "cell_type": "code",
   "execution_count": 20,
   "id": "embedded-chinese",
   "metadata": {},
   "outputs": [
    {
     "name": "stdout",
     "output_type": "stream",
     "text": [
      "Student\n",
      "Bob     17\n",
      "Jane    19\n",
      "dtype: int64\n",
      "Student\n",
      "Bob     8.382353\n",
      "Jane    8.368421\n",
      "dtype: float64\n"
     ]
    }
   ],
   "source": [
    "by_student = scores.groupby(['Student']).sum().sum(axis = 1)\n",
    "by_student_counts = scores.groupby(['Student']).count().sum(axis = 1)\n",
    "print(by_student_counts)\n",
    "print(by_student/by_student_counts)"
   ]
  },
  {
   "cell_type": "markdown",
   "id": "recorded-metropolitan",
   "metadata": {},
   "source": [
    "#### 18) [P] Select the data frame for only Monday and Student variables using .loc, and again using .iloc"
   ]
  },
  {
   "cell_type": "code",
   "execution_count": 21,
   "id": "accredited-plaintiff",
   "metadata": {},
   "outputs": [
    {
     "data": {
      "text/html": [
       "<div>\n",
       "<style scoped>\n",
       "    .dataframe tbody tr th:only-of-type {\n",
       "        vertical-align: middle;\n",
       "    }\n",
       "\n",
       "    .dataframe tbody tr th {\n",
       "        vertical-align: top;\n",
       "    }\n",
       "\n",
       "    .dataframe thead th {\n",
       "        text-align: right;\n",
       "    }\n",
       "</style>\n",
       "<table border=\"1\" class=\"dataframe\">\n",
       "  <thead>\n",
       "    <tr style=\"text-align: right;\">\n",
       "      <th></th>\n",
       "      <th>Mo</th>\n",
       "      <th>Student</th>\n",
       "    </tr>\n",
       "  </thead>\n",
       "  <tbody>\n",
       "    <tr>\n",
       "      <th>w1</th>\n",
       "      <td>9.50</td>\n",
       "      <td>Bob</td>\n",
       "    </tr>\n",
       "    <tr>\n",
       "      <th>w1</th>\n",
       "      <td>9.00</td>\n",
       "      <td>Jane</td>\n",
       "    </tr>\n",
       "    <tr>\n",
       "      <th>w2</th>\n",
       "      <td>8.50</td>\n",
       "      <td>Bob</td>\n",
       "    </tr>\n",
       "    <tr>\n",
       "      <th>w2</th>\n",
       "      <td>7.00</td>\n",
       "      <td>Jane</td>\n",
       "    </tr>\n",
       "    <tr>\n",
       "      <th>w3</th>\n",
       "      <td>7.00</td>\n",
       "      <td>Bob</td>\n",
       "    </tr>\n",
       "    <tr>\n",
       "      <th>w3</th>\n",
       "      <td>8.50</td>\n",
       "      <td>Jane</td>\n",
       "    </tr>\n",
       "    <tr>\n",
       "      <th>w4</th>\n",
       "      <td>9.00</td>\n",
       "      <td>Bob</td>\n",
       "    </tr>\n",
       "    <tr>\n",
       "      <th>w4</th>\n",
       "      <td>9.25</td>\n",
       "      <td>Jane</td>\n",
       "    </tr>\n",
       "  </tbody>\n",
       "</table>\n",
       "</div>"
      ],
      "text/plain": [
       "      Mo Student\n",
       "w1  9.50     Bob\n",
       "w1  9.00    Jane\n",
       "w2  8.50     Bob\n",
       "w2  7.00    Jane\n",
       "w3  7.00     Bob\n",
       "w3  8.50    Jane\n",
       "w4  9.00     Bob\n",
       "w4  9.25    Jane"
      ]
     },
     "execution_count": 21,
     "metadata": {},
     "output_type": "execute_result"
    }
   ],
   "source": [
    "scores.loc[:, ['Mo', 'Student']]"
   ]
  },
  {
   "cell_type": "code",
   "execution_count": 22,
   "id": "colored-italic",
   "metadata": {},
   "outputs": [
    {
     "data": {
      "text/html": [
       "<div>\n",
       "<style scoped>\n",
       "    .dataframe tbody tr th:only-of-type {\n",
       "        vertical-align: middle;\n",
       "    }\n",
       "\n",
       "    .dataframe tbody tr th {\n",
       "        vertical-align: top;\n",
       "    }\n",
       "\n",
       "    .dataframe thead th {\n",
       "        text-align: right;\n",
       "    }\n",
       "</style>\n",
       "<table border=\"1\" class=\"dataframe\">\n",
       "  <thead>\n",
       "    <tr style=\"text-align: right;\">\n",
       "      <th></th>\n",
       "      <th>Mo</th>\n",
       "      <th>Student</th>\n",
       "    </tr>\n",
       "  </thead>\n",
       "  <tbody>\n",
       "    <tr>\n",
       "      <th>w1</th>\n",
       "      <td>9.50</td>\n",
       "      <td>Bob</td>\n",
       "    </tr>\n",
       "    <tr>\n",
       "      <th>w1</th>\n",
       "      <td>9.00</td>\n",
       "      <td>Jane</td>\n",
       "    </tr>\n",
       "    <tr>\n",
       "      <th>w2</th>\n",
       "      <td>8.50</td>\n",
       "      <td>Bob</td>\n",
       "    </tr>\n",
       "    <tr>\n",
       "      <th>w2</th>\n",
       "      <td>7.00</td>\n",
       "      <td>Jane</td>\n",
       "    </tr>\n",
       "    <tr>\n",
       "      <th>w3</th>\n",
       "      <td>7.00</td>\n",
       "      <td>Bob</td>\n",
       "    </tr>\n",
       "    <tr>\n",
       "      <th>w3</th>\n",
       "      <td>8.50</td>\n",
       "      <td>Jane</td>\n",
       "    </tr>\n",
       "    <tr>\n",
       "      <th>w4</th>\n",
       "      <td>9.00</td>\n",
       "      <td>Bob</td>\n",
       "    </tr>\n",
       "    <tr>\n",
       "      <th>w4</th>\n",
       "      <td>9.25</td>\n",
       "      <td>Jane</td>\n",
       "    </tr>\n",
       "  </tbody>\n",
       "</table>\n",
       "</div>"
      ],
      "text/plain": [
       "      Mo Student\n",
       "w1  9.50     Bob\n",
       "w1  9.00    Jane\n",
       "w2  8.50     Bob\n",
       "w2  7.00    Jane\n",
       "w3  7.00     Bob\n",
       "w3  8.50    Jane\n",
       "w4  9.00     Bob\n",
       "w4  9.25    Jane"
      ]
     },
     "execution_count": 22,
     "metadata": {},
     "output_type": "execute_result"
    }
   ],
   "source": [
    "scores.iloc[:, [0, -1]]"
   ]
  },
  {
   "cell_type": "markdown",
   "id": "opened-airfare",
   "metadata": {},
   "source": [
    "#### 19) [P] Show a new DataFrame containing the week as an index (like the original), but contains only each student with the count of their quizzes and the mean of their scores."
   ]
  },
  {
   "cell_type": "code",
   "execution_count": 23,
   "id": "surrounded-tradition",
   "metadata": {},
   "outputs": [
    {
     "data": {
      "text/html": [
       "<div>\n",
       "<style scoped>\n",
       "    .dataframe tbody tr th:only-of-type {\n",
       "        vertical-align: middle;\n",
       "    }\n",
       "\n",
       "    .dataframe tbody tr th {\n",
       "        vertical-align: top;\n",
       "    }\n",
       "\n",
       "    .dataframe thead th {\n",
       "        text-align: right;\n",
       "    }\n",
       "</style>\n",
       "<table border=\"1\" class=\"dataframe\">\n",
       "  <thead>\n",
       "    <tr style=\"text-align: right;\">\n",
       "      <th></th>\n",
       "      <th>Student</th>\n",
       "      <th>count</th>\n",
       "      <th>mean</th>\n",
       "    </tr>\n",
       "  </thead>\n",
       "  <tbody>\n",
       "    <tr>\n",
       "      <th>w1</th>\n",
       "      <td>Bob</td>\n",
       "      <td>5</td>\n",
       "      <td>8.8000</td>\n",
       "    </tr>\n",
       "    <tr>\n",
       "      <th>w1</th>\n",
       "      <td>Jane</td>\n",
       "      <td>5</td>\n",
       "      <td>8.6000</td>\n",
       "    </tr>\n",
       "    <tr>\n",
       "      <th>w2</th>\n",
       "      <td>Bob</td>\n",
       "      <td>4</td>\n",
       "      <td>8.3125</td>\n",
       "    </tr>\n",
       "    <tr>\n",
       "      <th>w2</th>\n",
       "      <td>Jane</td>\n",
       "      <td>4</td>\n",
       "      <td>8.1250</td>\n",
       "    </tr>\n",
       "    <tr>\n",
       "      <th>w3</th>\n",
       "      <td>Bob</td>\n",
       "      <td>3</td>\n",
       "      <td>8.2500</td>\n",
       "    </tr>\n",
       "    <tr>\n",
       "      <th>w3</th>\n",
       "      <td>Jane</td>\n",
       "      <td>5</td>\n",
       "      <td>8.2500</td>\n",
       "    </tr>\n",
       "    <tr>\n",
       "      <th>w4</th>\n",
       "      <td>Bob</td>\n",
       "      <td>5</td>\n",
       "      <td>8.1000</td>\n",
       "    </tr>\n",
       "    <tr>\n",
       "      <th>w4</th>\n",
       "      <td>Jane</td>\n",
       "      <td>5</td>\n",
       "      <td>8.4500</td>\n",
       "    </tr>\n",
       "  </tbody>\n",
       "</table>\n",
       "</div>"
      ],
      "text/plain": [
       "   Student  count    mean\n",
       "w1     Bob      5  8.8000\n",
       "w1    Jane      5  8.6000\n",
       "w2     Bob      4  8.3125\n",
       "w2    Jane      4  8.1250\n",
       "w3     Bob      3  8.2500\n",
       "w3    Jane      5  8.2500\n",
       "w4     Bob      5  8.1000\n",
       "w4    Jane      5  8.4500"
      ]
     },
     "execution_count": 23,
     "metadata": {},
     "output_type": "execute_result"
    }
   ],
   "source": [
    "counts = pure_scores.count(axis = 1) # pure_scores = scores.iloc[:, 0:5]\n",
    "means = pure_scores.mean(axis = 1)\n",
    "count_and_mean = scores.iloc[:, -1]\n",
    "pd.concat([count_and_mean, counts, means], axis = 1, keys = [\"Student\", \"count\", \"mean\"])"
   ]
  },
  {
   "cell_type": "markdown",
   "id": "instant-wellington",
   "metadata": {},
   "source": [
    "#### 20) [P] Show the number of times Friday's score was greater than 7.25 for each student by using value_counts"
   ]
  },
  {
   "cell_type": "code",
   "execution_count": 24,
   "id": "purple-uncle",
   "metadata": {},
   "outputs": [
    {
     "data": {
      "text/plain": [
       "Student\n",
       "Bob     2\n",
       "Jane    3\n",
       "dtype: int64"
      ]
     },
     "execution_count": 24,
     "metadata": {},
     "output_type": "execute_result"
    }
   ],
   "source": [
    "fridays = scores.iloc[:, [-2, -1]]\n",
    "fridays.mask(fridays.iloc[:, 0] <= 7.25).value_counts().groupby('Student').sum()"
   ]
  },
  {
   "cell_type": "markdown",
   "id": "sixth-trade",
   "metadata": {},
   "source": [
    "#### 21) [P] Repeat the previous exercise, but this time use the where() method on scores to select your data."
   ]
  },
  {
   "cell_type": "code",
   "execution_count": 25,
   "id": "mature-validity",
   "metadata": {},
   "outputs": [
    {
     "data": {
      "text/html": [
       "<div>\n",
       "<style scoped>\n",
       "    .dataframe tbody tr th:only-of-type {\n",
       "        vertical-align: middle;\n",
       "    }\n",
       "\n",
       "    .dataframe tbody tr th {\n",
       "        vertical-align: top;\n",
       "    }\n",
       "\n",
       "    .dataframe thead th {\n",
       "        text-align: right;\n",
       "    }\n",
       "</style>\n",
       "<table border=\"1\" class=\"dataframe\">\n",
       "  <thead>\n",
       "    <tr style=\"text-align: right;\">\n",
       "      <th></th>\n",
       "      <th>Fr</th>\n",
       "    </tr>\n",
       "    <tr>\n",
       "      <th>Student</th>\n",
       "      <th></th>\n",
       "    </tr>\n",
       "  </thead>\n",
       "  <tbody>\n",
       "    <tr>\n",
       "      <th>Bob</th>\n",
       "      <td>2</td>\n",
       "    </tr>\n",
       "    <tr>\n",
       "      <th>Jane</th>\n",
       "      <td>3</td>\n",
       "    </tr>\n",
       "  </tbody>\n",
       "</table>\n",
       "</div>"
      ],
      "text/plain": [
       "         Fr\n",
       "Student    \n",
       "Bob       2\n",
       "Jane      3"
      ]
     },
     "execution_count": 25,
     "metadata": {},
     "output_type": "execute_result"
    }
   ],
   "source": [
    "fridays.where(fridays.iloc[:,0] > 7.25).groupby('Student').count()"
   ]
  },
  {
   "cell_type": "markdown",
   "id": "middle-stability",
   "metadata": {},
   "source": [
    "#### 22) [P] Select the scores that were greater than the mean score over the entire dataset"
   ]
  },
  {
   "cell_type": "code",
   "execution_count": 26,
   "id": "emerging-narrow",
   "metadata": {},
   "outputs": [
    {
     "data": {
      "text/plain": [
       "Mo    6\n",
       "Tu    3\n",
       "We    7\n",
       "Th    3\n",
       "Fr    0\n",
       "dtype: int64"
      ]
     },
     "execution_count": 26,
     "metadata": {},
     "output_type": "execute_result"
    }
   ],
   "source": [
    "mean_score = np.nanmean(all_scores) # all_scores is 1-D series of all the scores, defined from question 15\n",
    "pure_scores.where(pure_scores > mean_score).count()"
   ]
  },
  {
   "cell_type": "markdown",
   "id": "moved-alpha",
   "metadata": {},
   "source": [
    "#### 23) [P] When dealing with enormous datasets for modeling, we often drop all observations that have any missing data. Show a new data frame that has only complete observations."
   ]
  },
  {
   "cell_type": "code",
   "execution_count": 27,
   "id": "interior-expert",
   "metadata": {},
   "outputs": [
    {
     "data": {
      "text/html": [
       "<div>\n",
       "<style scoped>\n",
       "    .dataframe tbody tr th:only-of-type {\n",
       "        vertical-align: middle;\n",
       "    }\n",
       "\n",
       "    .dataframe tbody tr th {\n",
       "        vertical-align: top;\n",
       "    }\n",
       "\n",
       "    .dataframe thead th {\n",
       "        text-align: right;\n",
       "    }\n",
       "</style>\n",
       "<table border=\"1\" class=\"dataframe\">\n",
       "  <thead>\n",
       "    <tr style=\"text-align: right;\">\n",
       "      <th></th>\n",
       "      <th>Mo</th>\n",
       "      <th>Tu</th>\n",
       "      <th>We</th>\n",
       "      <th>Th</th>\n",
       "      <th>Fr</th>\n",
       "      <th>Student</th>\n",
       "    </tr>\n",
       "  </thead>\n",
       "  <tbody>\n",
       "    <tr>\n",
       "      <th>w1</th>\n",
       "      <td>9.50</td>\n",
       "      <td>8.75</td>\n",
       "      <td>8.0</td>\n",
       "      <td>10.00</td>\n",
       "      <td>7.75</td>\n",
       "      <td>Bob</td>\n",
       "    </tr>\n",
       "    <tr>\n",
       "      <th>w1</th>\n",
       "      <td>9.00</td>\n",
       "      <td>8.00</td>\n",
       "      <td>10.0</td>\n",
       "      <td>8.75</td>\n",
       "      <td>7.25</td>\n",
       "      <td>Jane</td>\n",
       "    </tr>\n",
       "    <tr>\n",
       "      <th>w3</th>\n",
       "      <td>8.50</td>\n",
       "      <td>8.25</td>\n",
       "      <td>9.0</td>\n",
       "      <td>8.00</td>\n",
       "      <td>7.50</td>\n",
       "      <td>Jane</td>\n",
       "    </tr>\n",
       "    <tr>\n",
       "      <th>w4</th>\n",
       "      <td>9.00</td>\n",
       "      <td>7.00</td>\n",
       "      <td>8.5</td>\n",
       "      <td>8.00</td>\n",
       "      <td>8.00</td>\n",
       "      <td>Bob</td>\n",
       "    </tr>\n",
       "    <tr>\n",
       "      <th>w4</th>\n",
       "      <td>9.25</td>\n",
       "      <td>9.25</td>\n",
       "      <td>8.5</td>\n",
       "      <td>7.75</td>\n",
       "      <td>7.50</td>\n",
       "      <td>Jane</td>\n",
       "    </tr>\n",
       "  </tbody>\n",
       "</table>\n",
       "</div>"
      ],
      "text/plain": [
       "      Mo    Tu    We     Th    Fr Student\n",
       "w1  9.50  8.75   8.0  10.00  7.75     Bob\n",
       "w1  9.00  8.00  10.0   8.75  7.25    Jane\n",
       "w3  8.50  8.25   9.0   8.00  7.50    Jane\n",
       "w4  9.00  7.00   8.5   8.00  8.00     Bob\n",
       "w4  9.25  9.25   8.5   7.75  7.50    Jane"
      ]
     },
     "execution_count": 27,
     "metadata": {},
     "output_type": "execute_result"
    }
   ],
   "source": [
    "scores.dropna()"
   ]
  }
 ],
 "metadata": {
  "kernelspec": {
   "display_name": "Python 3",
   "language": "python",
   "name": "python3"
  },
  "language_info": {
   "codemirror_mode": {
    "name": "ipython",
    "version": 3
   },
   "file_extension": ".py",
   "mimetype": "text/x-python",
   "name": "python",
   "nbconvert_exporter": "python",
   "pygments_lexer": "ipython3",
   "version": "3.8.5"
  }
 },
 "nbformat": 4,
 "nbformat_minor": 5
}
