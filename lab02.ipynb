{
 "cells": [
  {
   "cell_type": "markdown",
   "id": "parallel-agenda",
   "metadata": {},
   "source": [
    "## Lab02 - numpy\n",
    "Name: Anh Kieu  \n",
    "Class: CSCI 349 - Intro to Data Mining  \n",
    "Semester: Spring 2021  \n",
    "Instructor: Brian King  "
   ]
  },
  {
   "cell_type": "code",
   "execution_count": 1,
   "id": "described-extent",
   "metadata": {},
   "outputs": [
    {
     "name": "stdout",
     "output_type": "stream",
     "text": [
      "3.8.5 (default, Sep  3 2020, 21:29:08) [MSC v.1916 64 bit (AMD64)]\n",
      "1.19.2\n"
     ]
    }
   ],
   "source": [
    "import sys\n",
    "import numpy as np\n",
    "print(sys.version)\n",
    "print(np.__version__)"
   ]
  },
  {
   "cell_type": "markdown",
   "id": "bizarre-veteran",
   "metadata": {},
   "source": [
    "#### 1. [P] Create a 52500 x 75 matrix of zeros, stored as X. Then, print out the shape of the matrix, the base data type, the individual item size in the array, and the total size of the array in bytes (as an integer). Also, print out the total size in megabytes with 3 significant digits."
   ]
  },
  {
   "cell_type": "code",
   "execution_count": 2,
   "id": "increased-candy",
   "metadata": {},
   "outputs": [
    {
     "name": "stdout",
     "output_type": "stream",
     "text": [
      "Shape of X is (52500, 75).\n",
      "Base data type of X is float64.\n",
      "Individual item size of X is 8 bytes.\n",
      "Total item size of X is 31500000 bytes.\n",
      "Total item size of X in MB is 31.500 MB.\n"
     ]
    }
   ],
   "source": [
    "X = np.zeros((52500,75))\n",
    "print(f\"Shape of X is {str(X.shape)}.\")\n",
    "print(f\"Base data type of X is {str(X.dtype)}.\")\n",
    "print(f\"Individual item size of X is {str(X.itemsize)} bytes.\")\n",
    "print(f\"Total item size of X is {str(X.nbytes)} bytes.\")\n",
    "print(\"Total item size of X in MB is {:.3f} MB.\".format(X.nbytes/10**6))"
   ]
  },
  {
   "cell_type": "markdown",
   "id": "inside-release",
   "metadata": {},
   "source": [
    "#### 2. [P] Resize X to have the same number of elements, but with 100 columns. Show the shape. Show the number of bytes (which should be the same as the previous answer)"
   ]
  },
  {
   "cell_type": "code",
   "execution_count": 3,
   "id": "compound-philosophy",
   "metadata": {},
   "outputs": [
    {
     "name": "stdout",
     "output_type": "stream",
     "text": [
      "Shape of X is (52500, 75).\n",
      "Total item size of X is 31500000 bytes.\n"
     ]
    }
   ],
   "source": [
    "X.reshape(525*75,100)\n",
    "print(f\"Shape of X is {str(X.shape)}.\")\n",
    "print(f\"Total item size of X is {str(X.nbytes)} bytes.\")"
   ]
  },
  {
   "cell_type": "markdown",
   "id": "liquid-episode",
   "metadata": {},
   "source": [
    "#### 3. [P] Redo #1, but use a base datatype of 16-bit integers."
   ]
  },
  {
   "cell_type": "code",
   "execution_count": 4,
   "id": "generic-vacation",
   "metadata": {},
   "outputs": [
    {
     "name": "stdout",
     "output_type": "stream",
     "text": [
      "Shape of X is (52500, 75).\n",
      "Base data type of X is int16.\n",
      "Individual item size of X is 2 bytes.\n",
      "Total item size of X is 7875000 bytes.\n",
      "Total item size of X in MB is 7.875 MB.\n"
     ]
    }
   ],
   "source": [
    "X = np.zeros((52500,75), dtype = np.int16)\n",
    "print(f\"Shape of X is {str(X.shape)}.\")\n",
    "print(f\"Base data type of X is {str(X.dtype)}.\")\n",
    "print(f\"Individual item size of X is {str(X.itemsize)} bytes.\")\n",
    "print(f\"Total item size of X is {str(X.nbytes)} bytes.\")\n",
    "print(\"Total item size of X in MB is {:.3f} MB.\".format(X.nbytes/10**6))"
   ]
  },
  {
   "cell_type": "markdown",
   "id": "economic-commission",
   "metadata": {},
   "source": [
    "#### 4. [P] How many dimensions does X have? Answer using the appropriate property of np.ndarray objects."
   ]
  },
  {
   "cell_type": "code",
   "execution_count": 5,
   "id": "helpful-issue",
   "metadata": {},
   "outputs": [
    {
     "name": "stdout",
     "output_type": "stream",
     "text": [
      "X has 2 dimensions.\n"
     ]
    }
   ],
   "source": [
    "print(f\"X has {X.ndim} dimensions.\")"
   ]
  },
  {
   "cell_type": "markdown",
   "id": "imposed-constant",
   "metadata": {},
   "source": [
    "#### 5. [P] Enter the following Python list in your cell:\n",
    "<code>str_nums = ['2.14', '-9.300', '42']</code>\n",
    "#### Convert this to a numpy array named X. What is the base type? Show the contents of X.\n",
    "#### Then, convert X to an array of single precision floating point numbers. (HINT: use astype). Show X again."
   ]
  },
  {
   "cell_type": "code",
   "execution_count": 6,
   "id": "mature-custody",
   "metadata": {},
   "outputs": [
    {
     "name": "stdout",
     "output_type": "stream",
     "text": [
      "Base type of X is <U6.\n",
      "['2.14' '-9.300' '42']\n",
      "After conversion: \n",
      "[ 2.14 -9.3  42.  ]\n"
     ]
    }
   ],
   "source": [
    "str_nums = ['2.14', '-9.300', '42']\n",
    "X = np.array(str_nums)\n",
    "print(f\"Base type of X is {X.dtype}.\")\n",
    "print(X)\n",
    "print(\"After conversion: \")\n",
    "X = X.astype(np.single)\n",
    "print(X)"
   ]
  },
  {
   "cell_type": "markdown",
   "id": "blessed-closing",
   "metadata": {},
   "source": [
    "#### 6. [P] Copy the three definitions above for the Python lists days, scores_1, and scores_2. Create a numpy array called scores that has scores_1 as the first row and scores_2 as the second row using np.concatenate. Then, change days into a np.array from the list days. Show the contents of scores and days, and output their shape."
   ]
  },
  {
   "cell_type": "code",
   "execution_count": 7,
   "id": "conservative-illinois",
   "metadata": {},
   "outputs": [
    {
     "name": "stdout",
     "output_type": "stream",
     "text": [
      "scores:\n",
      " [[ 9.5   8.75  8.   10.    7.75]\n",
      " [ 9.    8.   10.    8.75  7.25]]\n",
      "Shape of scores (2, 5)\n",
      "days:\n",
      " ['Mon' 'Tue' 'Wed' 'Thu' 'Fri']\n",
      "Shape of days (5,)\n"
     ]
    }
   ],
   "source": [
    "days = [\"Mon\", \"Tue\", \"Wed\", \"Thu\", \"Fri\"]\n",
    "scores_1 = [9.5, 8.75, 8, 10, 7.75]\n",
    "scores_2 = [9, 8, 10, 8.75, 7.25]\n",
    "scores = np.concatenate(([scores_1], [scores_2]))\n",
    "days_np = np.array(days)\n",
    "print(f\"scores:\\n {scores}\")\n",
    "print(f\"Shape of scores {scores.shape}\")\n",
    "print(f\"days:\\n {days_np}\")\n",
    "print(f\"Shape of days {days_np.shape}\")"
   ]
  },
  {
   "cell_type": "markdown",
   "id": "mounted-library",
   "metadata": {},
   "source": [
    "#### 7. [P] Repeat the previous problem with the creation of scores from the Python lists scores_1 and scores_2, but now do it with np.vstack. The array should be identical."
   ]
  },
  {
   "cell_type": "code",
   "execution_count": 8,
   "id": "suspended-insert",
   "metadata": {},
   "outputs": [
    {
     "name": "stdout",
     "output_type": "stream",
     "text": [
      "[[ 9.5   8.75  8.   10.    7.75]\n",
      " [ 9.    8.   10.    8.75  7.25]]\n"
     ]
    }
   ],
   "source": [
    "scores = np.vstack((scores_1, scores_2))\n",
    "print(scores)"
   ]
  },
  {
   "cell_type": "markdown",
   "id": "efficient-universe",
   "metadata": {},
   "source": [
    "#### 8. [P/M] Compare the result of the expression days == \"Fri\" if the variable days was a Python list as entered above, vs. days being a numpy array. What is the difference in the result? In general, how does numpy deal with standard comparison operators?"
   ]
  },
  {
   "cell_type": "code",
   "execution_count": 9,
   "id": "three-wireless",
   "metadata": {},
   "outputs": [
    {
     "name": "stdout",
     "output_type": "stream",
     "text": [
      "Using normal python list:  []\n",
      "Using numpy array:\n",
      " [[7.75]\n",
      " [7.25]]\n"
     ]
    }
   ],
   "source": [
    "print(\"Using normal python list: \", scores[:, days == \"Fri\"])\n",
    "print(\"Using numpy array:\\n\", scores[:, days_np == \"Fri\"])"
   ]
  },
  {
   "cell_type": "markdown",
   "id": "identical-spirit",
   "metadata": {},
   "source": [
    "Numpy array recognizes that we are asking for the last column in the scores array as the last column in days_np array matches the masking description (days_np == \"Friday\"). However, when we use python list for that, it does not recognize the masking.  \n",
    "In general, numpy comparison operators work element-wise, which easily gives us a masking/filter of array when we need to filter out information."
   ]
  },
  {
   "cell_type": "markdown",
   "id": "spiritual-treasure",
   "metadata": {},
   "source": [
    "#### 9. [P] Select the scores that fell on Monday."
   ]
  },
  {
   "cell_type": "code",
   "execution_count": 10,
   "id": "living-munich",
   "metadata": {},
   "outputs": [
    {
     "data": {
      "text/plain": [
       "array([[9.5],\n",
       "       [9. ]])"
      ]
     },
     "execution_count": 10,
     "metadata": {},
     "output_type": "execute_result"
    }
   ],
   "source": [
    "scores[:, days_np == \"Mon\"]"
   ]
  },
  {
   "cell_type": "markdown",
   "id": "handled-referral",
   "metadata": {},
   "source": [
    "#### 10. [P] Select all of the scores that are NOT on Monday (Hint – look up the ~ operator)"
   ]
  },
  {
   "cell_type": "code",
   "execution_count": 11,
   "id": "alpha-indication",
   "metadata": {},
   "outputs": [
    {
     "data": {
      "text/plain": [
       "array([[ 8.75,  8.  , 10.  ,  7.75],\n",
       "       [ 8.  , 10.  ,  8.75,  7.25]])"
      ]
     },
     "execution_count": 11,
     "metadata": {},
     "output_type": "execute_result"
    }
   ],
   "source": [
    "scores[:, ~(days_np == \"Mon\")]"
   ]
  },
  {
   "cell_type": "markdown",
   "id": "figured-florist",
   "metadata": {},
   "source": [
    "#### 11. [P] Select the scores that were on Tuesday or Thursday"
   ]
  },
  {
   "cell_type": "code",
   "execution_count": 12,
   "id": "retained-remove",
   "metadata": {},
   "outputs": [
    {
     "data": {
      "text/plain": [
       "array([[ 8.75, 10.  ],\n",
       "       [ 8.  ,  8.75]])"
      ]
     },
     "execution_count": 12,
     "metadata": {},
     "output_type": "execute_result"
    }
   ],
   "source": [
    "scores[:, ((days_np == \"Tue\") | (days_np == \"Thu\"))]"
   ]
  },
  {
   "cell_type": "markdown",
   "id": "minimal-psychology",
   "metadata": {},
   "source": [
    "#### 12. [P] Show the minimum and maximum scores for the entire array of scores"
   ]
  },
  {
   "cell_type": "code",
   "execution_count": 13,
   "id": "continued-garlic",
   "metadata": {},
   "outputs": [
    {
     "name": "stdout",
     "output_type": "stream",
     "text": [
      "The min score: 7.25\n",
      "The max score: 10.0\n"
     ]
    }
   ],
   "source": [
    "print(f\"The min score: {scores.min()}\")\n",
    "print(f\"The max score: {scores.max()}\")"
   ]
  },
  {
   "cell_type": "markdown",
   "id": "exposed-exception",
   "metadata": {},
   "source": [
    "#### 13. [P] Show the minimum scores for each week as a new array. The result should have the same dimensions (hint – use the keepdims parameter of <code>np.min</code>)."
   ]
  },
  {
   "cell_type": "code",
   "execution_count": 14,
   "id": "portuguese-torture",
   "metadata": {},
   "outputs": [
    {
     "name": "stdout",
     "output_type": "stream",
     "text": [
      "The min score for each week: [[7.75]\n",
      " [7.25]]\n"
     ]
    }
   ],
   "source": [
    "# for my own reference: https://www.sharpsightlabs.com/blog/numpy-axes-explained/\n",
    "print(f\"The min score for each week: {scores.min(axis = 1, keepdims = True)}\")"
   ]
  },
  {
   "cell_type": "markdown",
   "id": "planned-wagon",
   "metadata": {},
   "source": [
    "#### 14. Report the day that the maximum score occurred each week. (HINT: use argmax and use that result to index days.)"
   ]
  },
  {
   "cell_type": "code",
   "execution_count": 15,
   "id": "olive-settlement",
   "metadata": {},
   "outputs": [
    {
     "name": "stdout",
     "output_type": "stream",
     "text": [
      "Days that have max score for each week: ['Thu' 'Wed']\n"
     ]
    }
   ],
   "source": [
    "max_days = (np.argmax(scores, axis = 1))\n",
    "print(f\"Days that have max score for each week: {days_np[max_days]}\")"
   ]
  },
  {
   "cell_type": "markdown",
   "id": "clear-banking",
   "metadata": {},
   "source": [
    "#### 15. [P] Report the mean of the scores of each week"
   ]
  },
  {
   "cell_type": "code",
   "execution_count": 16,
   "id": "unlimited-british",
   "metadata": {},
   "outputs": [
    {
     "name": "stdout",
     "output_type": "stream",
     "text": [
      "Mean scores for each week: [8.8 8.6]\n"
     ]
    }
   ],
   "source": [
    "print(f\"Mean scores for each week: {scores.mean(axis = 1)}\")"
   ]
  },
  {
   "cell_type": "markdown",
   "id": "tight-metro",
   "metadata": {},
   "source": [
    "#### 16. [P] Suppose the lowest score was dropped from each week. Report the mean of each week, but without the minimum score for that week."
   ]
  },
  {
   "cell_type": "code",
   "execution_count": 17,
   "id": "straight-eating",
   "metadata": {},
   "outputs": [
    {
     "name": "stdout",
     "output_type": "stream",
     "text": [
      "Mean after dropping scores for each week: [9.0625 8.9375]\n"
     ]
    }
   ],
   "source": [
    "min_days = np.argmin(scores, axis=1)\n",
    "dropped = np.delete(scores, min_days, axis = 1)\n",
    "print(f\"Mean after dropping scores for each week: {dropped.mean(axis = 1)}\")"
   ]
  },
  {
   "cell_type": "markdown",
   "id": "express-display",
   "metadata": {},
   "source": [
    "#### 17. [P] Convert the scores to fall on a scale from 0-100 instead of 0-10. Show the result."
   ]
  },
  {
   "cell_type": "code",
   "execution_count": 18,
   "id": "unlike-theme",
   "metadata": {},
   "outputs": [
    {
     "data": {
      "text/plain": [
       "array([[ 95. ,  87.5,  80. , 100. ,  77.5],\n",
       "       [ 90. ,  80. , 100. ,  87.5,  72.5]])"
      ]
     },
     "execution_count": 18,
     "metadata": {},
     "output_type": "execute_result"
    }
   ],
   "source": [
    "scores*10"
   ]
  },
  {
   "cell_type": "code",
   "execution_count": 19,
   "id": "bottom-tobacco",
   "metadata": {},
   "outputs": [
    {
     "data": {
      "text/plain": [
       "array([[48, 84, 39, 54, 77],\n",
       "       [25, 16, 50, 24, 27],\n",
       "       [31, 44, 31, 27, 59],\n",
       "       [93, 70, 81, 74, 48],\n",
       "       [51, 77, 38, 35, 39],\n",
       "       [68, 12,  1, 76, 81],\n",
       "       [ 4,  3, 20, 13, 66],\n",
       "       [76, 82, 15, 72, 61],\n",
       "       [47, 29, 82, 88, 14],\n",
       "       [97, 13, 70, 96, 32]])"
      ]
     },
     "execution_count": 19,
     "metadata": {},
     "output_type": "execute_result"
    }
   ],
   "source": [
    "np.random.seed(1234)\n",
    "X = np.random.randint(1,100, 50).reshape((10,5))\n",
    "X"
   ]
  },
  {
   "cell_type": "markdown",
   "id": "reliable-turkish",
   "metadata": {},
   "source": [
    "#### 18. Select the first row of X"
   ]
  },
  {
   "cell_type": "code",
   "execution_count": 20,
   "id": "fifth-sentence",
   "metadata": {},
   "outputs": [
    {
     "data": {
      "text/plain": [
       "array([48, 84, 39, 54, 77])"
      ]
     },
     "execution_count": 20,
     "metadata": {},
     "output_type": "execute_result"
    }
   ],
   "source": [
    "X[0]"
   ]
  },
  {
   "cell_type": "markdown",
   "id": "czech-organic",
   "metadata": {},
   "source": [
    "#### 19. [P] Select the last column of X"
   ]
  },
  {
   "cell_type": "code",
   "execution_count": 21,
   "id": "based-czech",
   "metadata": {},
   "outputs": [
    {
     "data": {
      "text/plain": [
       "array([97, 13, 70, 96, 32])"
      ]
     },
     "execution_count": 21,
     "metadata": {},
     "output_type": "execute_result"
    }
   ],
   "source": [
    "X[len(X) - 1]"
   ]
  },
  {
   "cell_type": "markdown",
   "id": "common-culture",
   "metadata": {},
   "source": [
    "#### 20. [P] Select the first AND last column of X"
   ]
  },
  {
   "cell_type": "code",
   "execution_count": 22,
   "id": "mental-shareware",
   "metadata": {},
   "outputs": [
    {
     "data": {
      "text/plain": [
       "array([[48, 77],\n",
       "       [25, 27],\n",
       "       [31, 59],\n",
       "       [93, 48],\n",
       "       [51, 39],\n",
       "       [68, 81],\n",
       "       [ 4, 66],\n",
       "       [76, 61],\n",
       "       [47, 14],\n",
       "       [97, 32]])"
      ]
     },
     "execution_count": 22,
     "metadata": {},
     "output_type": "execute_result"
    }
   ],
   "source": [
    "X[:, (0, X.shape[1]-1)]"
   ]
  },
  {
   "cell_type": "markdown",
   "id": "wireless-amplifier",
   "metadata": {},
   "source": [
    "#### 21. [P] Select every other row of X"
   ]
  },
  {
   "cell_type": "code",
   "execution_count": 23,
   "id": "criminal-pottery",
   "metadata": {},
   "outputs": [
    {
     "data": {
      "text/plain": [
       "array([[48, 84, 39, 54, 77],\n",
       "       [31, 44, 31, 27, 59],\n",
       "       [51, 77, 38, 35, 39],\n",
       "       [ 4,  3, 20, 13, 66],\n",
       "       [47, 29, 82, 88, 14]])"
      ]
     },
     "execution_count": 23,
     "metadata": {},
     "output_type": "execute_result"
    }
   ],
   "source": [
    "X[::2]"
   ]
  },
  {
   "cell_type": "markdown",
   "id": "disturbed-latter",
   "metadata": {},
   "source": [
    "#### 22. [P] Show the transpose of X, but don't change X itself"
   ]
  },
  {
   "cell_type": "code",
   "execution_count": 24,
   "id": "awful-screening",
   "metadata": {},
   "outputs": [
    {
     "data": {
      "text/plain": [
       "array([[48, 25, 31, 93, 51, 68,  4, 76, 47, 97],\n",
       "       [84, 16, 44, 70, 77, 12,  3, 82, 29, 13],\n",
       "       [39, 50, 31, 81, 38,  1, 20, 15, 82, 70],\n",
       "       [54, 24, 27, 74, 35, 76, 13, 72, 88, 96],\n",
       "       [77, 27, 59, 48, 39, 81, 66, 61, 14, 32]])"
      ]
     },
     "execution_count": 24,
     "metadata": {},
     "output_type": "execute_result"
    }
   ],
   "source": [
    "X.T"
   ]
  },
  {
   "cell_type": "markdown",
   "id": "atomic-camping",
   "metadata": {},
   "source": [
    "#### 23. [P] Select the first column of X and set the result to Y."
   ]
  },
  {
   "cell_type": "code",
   "execution_count": 25,
   "id": "increased-offense",
   "metadata": {},
   "outputs": [
    {
     "name": "stdout",
     "output_type": "stream",
     "text": [
      "[48 84 39 54 77]\n"
     ]
    }
   ],
   "source": [
    "Y = X[0]\n",
    "print(Y)"
   ]
  },
  {
   "cell_type": "markdown",
   "id": "proved-hunter",
   "metadata": {},
   "source": [
    "#### 24. [P] Increment the first value of Y, then show the corresponding value of X. Did both values in X and Y change? THIS IS AN IMPORTANT OBSERVATION WHEN DEALING WITH SELECTING DATA!"
   ]
  },
  {
   "cell_type": "code",
   "execution_count": 26,
   "id": "amber-zimbabwe",
   "metadata": {},
   "outputs": [
    {
     "name": "stdout",
     "output_type": "stream",
     "text": [
      "[[49 84 39 54 77]\n",
      " [25 16 50 24 27]\n",
      " [31 44 31 27 59]\n",
      " [93 70 81 74 48]\n",
      " [51 77 38 35 39]\n",
      " [68 12  1 76 81]\n",
      " [ 4  3 20 13 66]\n",
      " [76 82 15 72 61]\n",
      " [47 29 82 88 14]\n",
      " [97 13 70 96 32]]\n",
      "[49 84 39 54 77]\n"
     ]
    }
   ],
   "source": [
    "Y[0] += 1\n",
    "print(X)\n",
    "print(Y)\n",
    "# BOTH VALUES CHANGE!"
   ]
  },
  {
   "cell_type": "markdown",
   "id": "perfect-platform",
   "metadata": {},
   "source": [
    "#### 25. [P] Repeat exercise 23, but ensure that Y is assigned a copy of the selected data. Increment the first value of Y again and ensure that the corresponding value of X did not change."
   ]
  },
  {
   "cell_type": "code",
   "execution_count": 27,
   "id": "brazilian-spider",
   "metadata": {},
   "outputs": [
    {
     "name": "stdout",
     "output_type": "stream",
     "text": [
      "[[49 84 39 54 77]\n",
      " [25 16 50 24 27]\n",
      " [31 44 31 27 59]\n",
      " [93 70 81 74 48]\n",
      " [51 77 38 35 39]\n",
      " [68 12  1 76 81]\n",
      " [ 4  3 20 13 66]\n",
      " [76 82 15 72 61]\n",
      " [47 29 82 88 14]\n",
      " [97 13 70 96 32]]\n"
     ]
    }
   ],
   "source": [
    "Y = X.copy()\n",
    "Y[0] += 1\n",
    "print(X)\n",
    "# Value does not change!"
   ]
  },
  {
   "cell_type": "markdown",
   "id": "liberal-conversation",
   "metadata": {},
   "source": [
    "#### 26. [P] Create an array that contains the sequence of numbers 0, 0.1, 0.2, ... 9.8, 9.9 using arange, as a 10x10 matrix, stored as X."
   ]
  },
  {
   "cell_type": "code",
   "execution_count": 28,
   "id": "expected-offer",
   "metadata": {},
   "outputs": [
    {
     "data": {
      "text/plain": [
       "array([[0. , 0.1, 0.2, 0.3, 0.4, 0.5, 0.6, 0.7, 0.8, 0.9],\n",
       "       [1. , 1.1, 1.2, 1.3, 1.4, 1.5, 1.6, 1.7, 1.8, 1.9],\n",
       "       [2. , 2.1, 2.2, 2.3, 2.4, 2.5, 2.6, 2.7, 2.8, 2.9],\n",
       "       [3. , 3.1, 3.2, 3.3, 3.4, 3.5, 3.6, 3.7, 3.8, 3.9],\n",
       "       [4. , 4.1, 4.2, 4.3, 4.4, 4.5, 4.6, 4.7, 4.8, 4.9],\n",
       "       [5. , 5.1, 5.2, 5.3, 5.4, 5.5, 5.6, 5.7, 5.8, 5.9],\n",
       "       [6. , 6.1, 6.2, 6.3, 6.4, 6.5, 6.6, 6.7, 6.8, 6.9],\n",
       "       [7. , 7.1, 7.2, 7.3, 7.4, 7.5, 7.6, 7.7, 7.8, 7.9],\n",
       "       [8. , 8.1, 8.2, 8.3, 8.4, 8.5, 8.6, 8.7, 8.8, 8.9],\n",
       "       [9. , 9.1, 9.2, 9.3, 9.4, 9.5, 9.6, 9.7, 9.8, 9.9]])"
      ]
     },
     "execution_count": 28,
     "metadata": {},
     "output_type": "execute_result"
    }
   ],
   "source": [
    "X = np.arange(0, 10, 0.1)\n",
    "X.reshape((10,10))"
   ]
  },
  {
   "cell_type": "markdown",
   "id": "ordered-sequence",
   "metadata": {},
   "source": [
    "#### 27. [P] Set the RNG seed to 1234. Then create an array X of 100 uniformly distributed numbers, with all values between 1.0 and 10.0. Then, show the mean, the median, the minimum and maximum values of X."
   ]
  },
  {
   "cell_type": "code",
   "execution_count": 29,
   "id": "thick-services",
   "metadata": {},
   "outputs": [
    {
     "data": {
      "text/plain": [
       "array([9.7902979 , 4.42176162, 9.3092161 , 3.35523181, 3.87187353,\n",
       "       2.0628211 , 3.17589664, 3.86680536, 9.67671321, 3.37284824,\n",
       "       4.9690551 , 6.48883728, 8.77259167, 8.77381904, 7.07393182,\n",
       "       6.93886913, 7.62181928, 3.00478292, 2.54859566, 8.83373475,\n",
       "       1.54124792, 7.15320018, 7.04114217, 6.49916183, 1.54123581,\n",
       "       9.79992346, 4.95056464, 5.79335519, 1.02819059, 3.26140395,\n",
       "       8.72641394, 4.82768516, 7.62237095, 9.29838895, 2.38126754,\n",
       "       9.93033307, 2.64098605, 9.46101612, 1.7819475 , 5.21389644,\n",
       "       8.4609028 , 3.52947037, 8.8218236 , 9.78774917, 8.57542292,\n",
       "       5.0398624 , 4.33457587, 5.34402493, 1.82963392, 3.04014795,\n",
       "       5.82909613, 7.59908486, 5.0401971 , 3.74950693, 9.52623643,\n",
       "       7.75930453, 5.24843614, 5.11548292, 7.71704023, 8.6985989 ,\n",
       "       3.64151402, 7.59983049, 8.27947632, 8.98378277, 1.2234989 ,\n",
       "       5.61294503, 6.51507112, 3.52314056, 5.06918554, 5.7809898 ,\n",
       "       9.89771107, 1.05380352, 2.81159457, 3.31188217, 4.06670355,\n",
       "       1.47701766, 3.93845046, 2.78522386, 8.46293418, 6.73409466,\n",
       "       1.76896662, 2.98144394, 7.13058405, 2.2096908 , 9.60862322,\n",
       "       2.2287158 , 8.17931925, 5.4846417 , 3.74236955, 3.10785447,\n",
       "       9.0370735 , 4.39782854, 1.68710906, 1.30426169, 5.1545199 ,\n",
       "       8.86441565, 4.15548542, 8.41168496, 9.52479167, 1.60336639])"
      ]
     },
     "execution_count": 29,
     "metadata": {},
     "output_type": "execute_result"
    }
   ],
   "source": [
    "from numpy import random\n",
    "# ref: https://numpy.org/doc/stable/reference/random/generated/numpy.random.Generator.uniform\n",
    "rng = np.random.default_rng(1234)\n",
    "X = rng.uniform(1.0, 10.0, 100)\n",
    "X"
   ]
  },
  {
   "cell_type": "markdown",
   "id": "early-timber",
   "metadata": {},
   "source": [
    "#### 28. [M] Define what is meant by a normal distribution. What are the parameters of a normal distribution?"
   ]
  },
  {
   "cell_type": "markdown",
   "id": "verbal-milton",
   "metadata": {},
   "source": [
    "ref: https://en.wikipedia.org/wiki/Normal_distribution.\n",
    "Normal distribution represents real-valued random variables whose distribution are not known. There are two parameters for a normal distribution, the mean of the data and the variance of the data."
   ]
  },
  {
   "cell_type": "markdown",
   "id": "received-sucking",
   "metadata": {},
   "source": [
    "#### 29. [M] In simple terms, using a normal distribution, what does the Law of Large Numbers tell us?"
   ]
  },
  {
   "cell_type": "markdown",
   "id": "heated-dividend",
   "metadata": {},
   "source": [
    "Law of Large Numbers: The average of the results obtained from a large number of trials should be closed to the expected value. In the case of a normal distribution, it means the more we perform the experiment, the average of the results should be close to the mean value."
   ]
  },
  {
   "cell_type": "markdown",
   "id": "appreciated-handy",
   "metadata": {},
   "source": [
    "#### 30. [P] Write a function called test_normal_dist. The purpose of this function is to evaluate the law of large numbers."
   ]
  },
  {
   "cell_type": "code",
   "execution_count": 30,
   "id": "vietnamese-london",
   "metadata": {},
   "outputs": [],
   "source": [
    "def test_normal_dist(mu, sd, vec_length, num_trials):\n",
    "    rng = np.random.default_rng(1234)\n",
    "    sum_dev = 0\n",
    "    for i in range(num_trials):\n",
    "        vec = rng.normal(mu, sd, vec_length)\n",
    "        mean_vec = vec.mean()\n",
    "        dev = abs(mean_vec - mu)\n",
    "        sum_dev += dev\n",
    "    return sum_dev/num_trials"
   ]
  },
  {
   "cell_type": "markdown",
   "id": "widespread-cloud",
   "metadata": {},
   "source": [
    "#### 31. [P] Use test_normal_dist to obtain the deviation for vector lengths of 10, 100, 1000, 10000, and 100000. Use a fixed number of trials of 100 for each experiment. Report the results as a numpy array with two dimensions. the first being the vector length, and the second being the average deviation resulting from your test_normal_dist function."
   ]
  },
  {
   "cell_type": "code",
   "execution_count": 31,
   "id": "incorrect-brother",
   "metadata": {},
   "outputs": [
    {
     "data": {
      "text/plain": [
       "array([[    10.        ,      0.48723024],\n",
       "       [   100.        ,      0.15676601],\n",
       "       [  1000.        ,      0.04989271],\n",
       "       [ 10000.        ,      0.01523043],\n",
       "       [100000.        ,      0.00470046]], dtype=float32)"
      ]
     },
     "execution_count": 31,
     "metadata": {},
     "output_type": "execute_result"
    }
   ],
   "source": [
    "results = np.zeros((5,2), dtype = np.single)\n",
    "for i in range(1,6):\n",
    "    results[i-1, 0] = 10**i\n",
    "    results[i-1, 1] = test_normal_dist(0,2, 10**i, 100)\n",
    "# print format - suggested by Edward Chen\n",
    "np.set_printoptions(suppress=True)\n",
    "results"
   ]
  }
 ],
 "metadata": {
  "kernelspec": {
   "display_name": "Python 3",
   "language": "python",
   "name": "python3"
  },
  "language_info": {
   "codemirror_mode": {
    "name": "ipython",
    "version": 3
   },
   "file_extension": ".py",
   "mimetype": "text/x-python",
   "name": "python",
   "nbconvert_exporter": "python",
   "pygments_lexer": "ipython3",
   "version": "3.8.5"
  }
 },
 "nbformat": 4,
 "nbformat_minor": 5
}
