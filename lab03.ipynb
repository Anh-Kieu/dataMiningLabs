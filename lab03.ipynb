{
 "cells": [
  {
   "cell_type": "markdown",
   "id": "organizational-header",
   "metadata": {},
   "source": [
    "## Lab03 - pandas\n",
    "Name: Anh Kieu  \n",
    "Class: CSCI 349 - Intro to Data Mining  \n",
    "Semester: Spring 2021  \n",
    "Instructor: Brian King  "
   ]
  },
  {
   "cell_type": "code",
   "execution_count": 1,
   "id": "affected-sight",
   "metadata": {},
   "outputs": [],
   "source": [
    "import sys\n",
    "import numpy as np\n",
    "import pandas as pd"
   ]
  },
  {
   "cell_type": "markdown",
   "id": "australian-circular",
   "metadata": {},
   "source": [
    "#### 1) [P] Report the Python, Numpy and Pandas version numbers."
   ]
  },
  {
   "cell_type": "code",
   "execution_count": 2,
   "id": "prompt-vertex",
   "metadata": {},
   "outputs": [
    {
     "name": "stdout",
     "output_type": "stream",
     "text": [
      "3.8.5 (default, Sep  3 2020, 21:29:08) [MSC v.1916 64 bit (AMD64)]\n",
      "1.19.2\n",
      "1.2.1\n"
     ]
    }
   ],
   "source": [
    "print(sys.version)\n",
    "print(np.__version__)\n",
    "print(pd.__version__)"
   ]
  },
  {
   "cell_type": "markdown",
   "id": "usual-economics",
   "metadata": {},
   "source": [
    "#### 2) [P] Now, show the result of pd.show_versions(). Write a comment in the cell about what this shows."
   ]
  },
  {
   "cell_type": "code",
   "execution_count": 3,
   "id": "irish-hungarian",
   "metadata": {},
   "outputs": [
    {
     "name": "stdout",
     "output_type": "stream",
     "text": [
      "\n",
      "INSTALLED VERSIONS\n",
      "------------------\n",
      "commit           : 9d598a5e1eee26df95b3910e3f2934890d062caa\n",
      "python           : 3.8.5.final.0\n",
      "python-bits      : 64\n",
      "OS               : Windows\n",
      "OS-release       : 10\n",
      "Version          : 10.0.19041\n",
      "machine          : AMD64\n",
      "processor        : Intel64 Family 6 Model 158 Stepping 9, GenuineIntel\n",
      "byteorder        : little\n",
      "LC_ALL           : None\n",
      "LANG             : None\n",
      "LOCALE           : English_United States.1252\n",
      "\n",
      "pandas           : 1.2.1\n",
      "numpy            : 1.19.2\n",
      "pytz             : 2021.1\n",
      "dateutil         : 2.8.1\n",
      "pip              : 20.3.3\n",
      "setuptools       : 52.0.0.post20210125\n",
      "Cython           : 0.29.21\n",
      "pytest           : 6.2.2\n",
      "hypothesis       : None\n",
      "sphinx           : 3.4.3\n",
      "blosc            : None\n",
      "feather          : None\n",
      "xlsxwriter       : 1.3.7\n",
      "lxml.etree       : 4.6.2\n",
      "html5lib         : 1.1\n",
      "pymysql          : None\n",
      "psycopg2         : None\n",
      "jinja2           : 2.11.3\n",
      "IPython          : 7.20.0\n",
      "pandas_datareader: None\n",
      "bs4              : 4.9.3\n",
      "bottleneck       : 1.3.2\n",
      "fsspec           : 0.8.3\n",
      "fastparquet      : None\n",
      "gcsfs            : None\n",
      "matplotlib       : 3.3.2\n",
      "numexpr          : 2.7.2\n",
      "odfpy            : None\n",
      "openpyxl         : 3.0.6\n",
      "pandas_gbq       : None\n",
      "pyarrow          : None\n",
      "pyxlsb           : None\n",
      "s3fs             : None\n",
      "scipy            : 1.5.2\n",
      "sqlalchemy       : 1.3.21\n",
      "tables           : 3.6.1\n",
      "tabulate         : None\n",
      "xarray           : None\n",
      "xlrd             : 2.0.1\n",
      "xlwt             : 1.3.0\n",
      "numba            : 0.51.2\n"
     ]
    }
   ],
   "source": [
    "pd.show_versions()\n",
    "# This command shows what packages and their version installed on the PC."
   ]
  },
  {
   "cell_type": "markdown",
   "id": "phantom-reduction",
   "metadata": {},
   "source": [
    "#### 3) Explain the relationship between numpy and pandas. How are they tied together? How are they different? What core functionality does pandas add to numpy?"
   ]
  },
  {
   "cell_type": "markdown",
   "id": "severe-employee",
   "metadata": {},
   "source": [
    "- Ref: McKinney, Python for Data Analysis 2nd ed.\n",
    "- Pandas helps with the process of data cleaning and data manipulation. Pandas is often used in addition to numpy as numpy is a really quick and handy computing library with functions that deal with statistic or analysis, while pandas are more towards handling data and putting data into a concrete structure. As quoted from the book, \"the biggest  difference is that pandas is designed for working with tabular or  heterogeneous data. NumPy, by contrast, is best suited for working with  homogeneous numerical array data.\" Thus, pandas adds to numpy in a way that pandas works better with handling large, heterogeneous data."
   ]
  },
  {
   "cell_type": "markdown",
   "id": "flexible-contrast",
   "metadata": {},
   "source": [
    "#### 4) [M] Compare and contrast Series and DataFrame"
   ]
  },
  {
   "cell_type": "markdown",
   "id": "broadband-annotation",
   "metadata": {},
   "source": [
    "- Ref: https://pandas.pydata.org/pandas-docs/stable/user_guide/dsintro.html; McKinney, Python for Data Analysis 2nd ed.\n",
    "- Series: **1-D** array-like object containing a sequence of **same data type** values with indices/labels.\n",
    "- DataFrame: **2-D** labeled data structure with columns of **different data types**."
   ]
  },
  {
   "cell_type": "markdown",
   "id": "desperate-avenue",
   "metadata": {},
   "source": [
    "#### 5) [M] What are the data types that can be used to create a Series object in pandas?"
   ]
  },
  {
   "cell_type": "markdown",
   "id": "designing-conviction",
   "metadata": {},
   "source": [
    "Series object can contain any kind of dtype that numpy supports like numerical data types (int, float, ...) or string dtype..."
   ]
  },
  {
   "cell_type": "markdown",
   "id": "improving-novel",
   "metadata": {},
   "source": [
    "#### 6) [M] What are the data structures that can be used to create a DataFrame object in pandas?"
   ]
  },
  {
   "cell_type": "markdown",
   "id": "framed-assistant",
   "metadata": {},
   "source": [
    "DataFrame can be created using Series, dictionaries, 1D ndarrays, lists, 2D array, or even another DataFrame"
   ]
  },
  {
   "cell_type": "markdown",
   "id": "residential-national",
   "metadata": {},
   "source": [
    "#### 7) [M] When creating a Series object, what role does the index parameter play? Does the index always need to be specified? If not, what happens?"
   ]
  },
  {
   "cell_type": "raw",
   "id": "recent-tulsa",
   "metadata": {},
   "source": [
    "Index is kind of like a label or an axis unit for Series. It does not need to be specified, and if not specified, it will be having values from [0, ... len(data) - 1]"
   ]
  },
  {
   "cell_type": "markdown",
   "id": "balanced-africa",
   "metadata": {},
   "source": [
    "#### 8) [M] Consider the copy() method of a DataFrame object. What is this method for? Explain the difference between a shallow copy and a deep copy of a DataFrame? Why would I use a shallow copy?"
   ]
  },
  {
   "cell_type": "markdown",
   "id": "nearby-feature",
   "metadata": {},
   "source": [
    "ref: https://pandas.pydata.org/pandas-docs/stable/reference/api/pandas.DataFrame.copy.html  \n",
    "This method is to make a copy of the dataframe. This will be a shallow copy. Shallow copy is creating a reference to the original object, thus, when we change the original object or the copy object, the changes are reflected in both objects. On the other hand, deep copy is making another copy, two objects are independent.  \n",
    "We might want a shallow copy as we want to create another \"view\" of the object where we can modify the objects but through another mean (think of bank transaction and money in the account)."
   ]
  },
  {
   "cell_type": "code",
   "execution_count": 4,
   "id": "signal-sullivan",
   "metadata": {},
   "outputs": [],
   "source": [
    "days = [\"Mon\", \"Tue\", \"Wed\", \"Thu\", \"Fri\"]\n",
    "scores_1 = [9.5, 8.75, 8, 10, 7.75]\n",
    "scores_2 = [9, 8, 10, 8.75, 7.25]"
   ]
  },
  {
   "cell_type": "markdown",
   "id": "banner-murder",
   "metadata": {},
   "source": [
    "#### 9) [P] Convert scores_1 and scores_2 into two Series objects. Use days as your index. You should name each Series object using the name parameter as \"week_1\", and \"week_2\". Do not show the result, only store the variables"
   ]
  },
  {
   "cell_type": "code",
   "execution_count": 5,
   "id": "motivated-package",
   "metadata": {},
   "outputs": [
    {
     "name": "stdout",
     "output_type": "stream",
     "text": [
      "scores_1:\n",
      " Mon     9.50\n",
      "Tue     8.75\n",
      "Wed     8.00\n",
      "Thu    10.00\n",
      "Fri     7.75\n",
      "dtype: float64\n",
      "scores_2:\n",
      " Mon     9.00\n",
      "Tue     8.00\n",
      "Wed    10.00\n",
      "Thu     8.75\n",
      "Fri     7.25\n",
      "dtype: float64\n"
     ]
    }
   ],
   "source": [
    "scores_1 = pd.Series(scores_1, index = days)\n",
    "scores_2 = pd.Series(scores_2, index = days)\n",
    "print(\"scores_1:\\n\", scores_1)\n",
    "print(\"scores_2:\\n\", scores_2)"
   ]
  },
  {
   "cell_type": "markdown",
   "id": "irish-thing",
   "metadata": {},
   "source": [
    "#### 10) [P] Create a pandas DataFrame called scores that represents the above data. Show your data frame."
   ]
  },
  {
   "cell_type": "code",
   "execution_count": 6,
   "id": "focused-minneapolis",
   "metadata": {},
   "outputs": [
    {
     "data": {
      "text/html": [
       "<div>\n",
       "<style scoped>\n",
       "    .dataframe tbody tr th:only-of-type {\n",
       "        vertical-align: middle;\n",
       "    }\n",
       "\n",
       "    .dataframe tbody tr th {\n",
       "        vertical-align: top;\n",
       "    }\n",
       "\n",
       "    .dataframe thead th {\n",
       "        text-align: right;\n",
       "    }\n",
       "</style>\n",
       "<table border=\"1\" class=\"dataframe\">\n",
       "  <thead>\n",
       "    <tr style=\"text-align: right;\">\n",
       "      <th></th>\n",
       "      <th>Mon</th>\n",
       "      <th>Tue</th>\n",
       "      <th>Wed</th>\n",
       "      <th>Thu</th>\n",
       "      <th>Fri</th>\n",
       "    </tr>\n",
       "  </thead>\n",
       "  <tbody>\n",
       "    <tr>\n",
       "      <th>week_1</th>\n",
       "      <td>9.5</td>\n",
       "      <td>8.75</td>\n",
       "      <td>8.0</td>\n",
       "      <td>10.00</td>\n",
       "      <td>7.75</td>\n",
       "    </tr>\n",
       "    <tr>\n",
       "      <th>week_2</th>\n",
       "      <td>9.0</td>\n",
       "      <td>8.00</td>\n",
       "      <td>10.0</td>\n",
       "      <td>8.75</td>\n",
       "      <td>7.25</td>\n",
       "    </tr>\n",
       "  </tbody>\n",
       "</table>\n",
       "</div>"
      ],
      "text/plain": [
       "        Mon   Tue   Wed    Thu   Fri\n",
       "week_1  9.5  8.75   8.0  10.00  7.75\n",
       "week_2  9.0  8.00  10.0   8.75  7.25"
      ]
     },
     "execution_count": 6,
     "metadata": {},
     "output_type": "execute_result"
    }
   ],
   "source": [
    "#ref : https://www.geeksforgeeks.org/different-ways-to-create-pandas-dataframe/\n",
    "scores = pd.DataFrame([scores_1, scores_2], index = [\"week_1\", \"week_2\"])\n",
    "scores"
   ]
  },
  {
   "cell_type": "markdown",
   "id": "numeric-reset",
   "metadata": {},
   "source": [
    "#### 11) [P] Append the following data to the end of scores. [8.5,8,9.75,9,8.25]."
   ]
  },
  {
   "cell_type": "code",
   "execution_count": 7,
   "id": "indie-praise",
   "metadata": {},
   "outputs": [],
   "source": [
    "scores_3 = pd.Series([8.5, 8, 9.75, 9, 8.25], index = days, name = 'week_3')\n",
    "scores = scores.append(scores_3)"
   ]
  },
  {
   "cell_type": "code",
   "execution_count": 8,
   "id": "spectacular-manitoba",
   "metadata": {},
   "outputs": [
    {
     "data": {
      "text/html": [
       "<div>\n",
       "<style scoped>\n",
       "    .dataframe tbody tr th:only-of-type {\n",
       "        vertical-align: middle;\n",
       "    }\n",
       "\n",
       "    .dataframe tbody tr th {\n",
       "        vertical-align: top;\n",
       "    }\n",
       "\n",
       "    .dataframe thead th {\n",
       "        text-align: right;\n",
       "    }\n",
       "</style>\n",
       "<table border=\"1\" class=\"dataframe\">\n",
       "  <thead>\n",
       "    <tr style=\"text-align: right;\">\n",
       "      <th></th>\n",
       "      <th>Mon</th>\n",
       "      <th>Tue</th>\n",
       "      <th>Wed</th>\n",
       "      <th>Thu</th>\n",
       "      <th>Fri</th>\n",
       "    </tr>\n",
       "  </thead>\n",
       "  <tbody>\n",
       "    <tr>\n",
       "      <th>week_1</th>\n",
       "      <td>9.5</td>\n",
       "      <td>8.75</td>\n",
       "      <td>8.00</td>\n",
       "      <td>10.00</td>\n",
       "      <td>7.75</td>\n",
       "    </tr>\n",
       "    <tr>\n",
       "      <th>week_2</th>\n",
       "      <td>9.0</td>\n",
       "      <td>8.00</td>\n",
       "      <td>10.00</td>\n",
       "      <td>8.75</td>\n",
       "      <td>7.25</td>\n",
       "    </tr>\n",
       "    <tr>\n",
       "      <th>week_3</th>\n",
       "      <td>8.5</td>\n",
       "      <td>8.00</td>\n",
       "      <td>9.75</td>\n",
       "      <td>9.00</td>\n",
       "      <td>8.25</td>\n",
       "    </tr>\n",
       "  </tbody>\n",
       "</table>\n",
       "</div>"
      ],
      "text/plain": [
       "        Mon   Tue    Wed    Thu   Fri\n",
       "week_1  9.5  8.75   8.00  10.00  7.75\n",
       "week_2  9.0  8.00  10.00   8.75  7.25\n",
       "week_3  8.5  8.00   9.75   9.00  8.25"
      ]
     },
     "execution_count": 8,
     "metadata": {},
     "output_type": "execute_result"
    }
   ],
   "source": [
    "scores"
   ]
  },
  {
   "cell_type": "markdown",
   "id": "martial-ancient",
   "metadata": {},
   "source": [
    "#### 12) [M] numpy and pandas have an ENORMOUS number of ways for selecting data."
   ]
  },
  {
   "cell_type": "markdown",
   "id": "blind-medline",
   "metadata": {},
   "source": [
    "- .at : Access a single value for a row/column label pair. For example, pair of (row, column)\n",
    "- .iat : Access a single value for a row/column pair by integer position.\n",
    "- .loc : Access a group of rows and columns by label(s) or a boolean array.\n",
    "- .iloc : Integer-location based indexing"
   ]
  },
  {
   "cell_type": "code",
   "execution_count": 9,
   "id": "german-stand",
   "metadata": {},
   "outputs": [
    {
     "name": "stdout",
     "output_type": "stream",
     "text": [
      "        Mon   Tue  Wed   Thu   Fri\n",
      "week_1  9.5  8.75  8.0  10.0  7.75\n",
      "----\n",
      "9.5\n",
      "----\n",
      "9.5\n",
      "----\n",
      "Mon     9.50\n",
      "Tue     8.75\n",
      "Wed     8.00\n",
      "Thu    10.00\n",
      "Fri     7.75\n",
      "Name: week_1, dtype: float64\n",
      "----\n",
      "Mon     9.50\n",
      "Tue     8.75\n",
      "Wed     8.00\n",
      "Thu    10.00\n",
      "Fri     7.75\n",
      "Name: week_1, dtype: float64\n",
      "----\n",
      "week_1    9.5\n",
      "week_2    9.0\n",
      "week_3    8.5\n",
      "Name: Mon, dtype: float64\n",
      "week_1    9.5\n",
      "week_2    9.0\n",
      "week_3    8.5\n",
      "Name: Mon, dtype: float64\n"
     ]
    }
   ],
   "source": [
    "print(scores[0:1])\n",
    "print(\"----\")\n",
    "print(scores.at[\"week_1\", \"Mon\"])\n",
    "print(\"----\")\n",
    "print(scores.iat[0,0])\n",
    "print(\"----\")\n",
    "print(scores.loc['week_1'])\n",
    "print(\"----\")\n",
    "print(scores.iloc[0])\n",
    "print(\"----\")\n",
    "print(scores.Mon)\n",
    "print(scores[\"Mon\"])"
   ]
  },
  {
   "cell_type": "markdown",
   "id": "representative-schedule",
   "metadata": {},
   "source": [
    "#### 13) [P] Show at least two different techniques to select scores for Tuesday using the string \"Tue\""
   ]
  },
  {
   "cell_type": "code",
   "execution_count": 10,
   "id": "minute-professional",
   "metadata": {},
   "outputs": [
    {
     "name": "stdout",
     "output_type": "stream",
     "text": [
      "Method 1:\n",
      "week_1    8.75\n",
      "week_2    8.00\n",
      "week_3    8.00\n",
      "Name: Tue, dtype: float64\n",
      "Method 2:\n",
      "week_1    8.75\n",
      "week_2    8.00\n",
      "week_3    8.00\n",
      "Name: Tue, dtype: float64\n"
     ]
    }
   ],
   "source": [
    "print(\"Method 1:\")\n",
    "print(scores[\"Tue\"])\n",
    "print(\"Method 2:\")\n",
    "print(scores.loc[:,\"Tue\"])"
   ]
  },
  {
   "cell_type": "markdown",
   "id": "rising-innocent",
   "metadata": {},
   "source": [
    "#### 14) [P] Show how to retrieve the scores for Tuesday using the named attribute Tue"
   ]
  },
  {
   "cell_type": "code",
   "execution_count": 11,
   "id": "random-reading",
   "metadata": {},
   "outputs": [
    {
     "data": {
      "text/plain": [
       "week_1    8.75\n",
       "week_2    8.00\n",
       "week_3    8.00\n",
       "Name: Tue, dtype: float64"
      ]
     },
     "execution_count": 11,
     "metadata": {},
     "output_type": "execute_result"
    }
   ],
   "source": [
    "scores.Tue"
   ]
  },
  {
   "cell_type": "markdown",
   "id": "danish-comparison",
   "metadata": {},
   "source": [
    "#### 15) [P] Show at least three techniques to select scores for Wednesday using an integer. The return type can be either a DataFrame or a Series."
   ]
  },
  {
   "cell_type": "code",
   "execution_count": 12,
   "id": "dried-lending",
   "metadata": {},
   "outputs": [
    {
     "name": "stdout",
     "output_type": "stream",
     "text": [
      "Method 1:\n",
      "          Wed\n",
      "week_1   8.00\n",
      "week_2  10.00\n",
      "week_3   9.75\n",
      "Method 2:\n",
      "          Wed\n",
      "week_1   8.00\n",
      "week_2  10.00\n",
      "week_3   9.75\n",
      "Method 3:\n",
      "week_1     8.00\n",
      "week_2    10.00\n",
      "week_3     9.75\n",
      "Name: Wed, dtype: float64\n"
     ]
    }
   ],
   "source": [
    "# ref: https://stackoverflow.com/questions/17193850/how-to-get-column-by-number-in-pandas\n",
    "print(\"Method 1:\")\n",
    "print(scores.iloc[:, [2]])\n",
    "print(\"Method 2:\")\n",
    "print(scores.iloc[:, 2:3])\n",
    "print(\"Method 3:\")\n",
    "print(scores[scores.columns[2]]) # series object"
   ]
  },
  {
   "cell_type": "markdown",
   "id": "compound-thumb",
   "metadata": {},
   "source": [
    "#### 16) [P] Select the data for the first week using the string \"week_1\". Your result should return a Series representing the scores for week 1."
   ]
  },
  {
   "cell_type": "code",
   "execution_count": 13,
   "id": "boolean-repository",
   "metadata": {},
   "outputs": [
    {
     "data": {
      "text/plain": [
       "Mon     9.50\n",
       "Tue     8.75\n",
       "Wed     8.00\n",
       "Thu    10.00\n",
       "Fri     7.75\n",
       "Name: week_1, dtype: float64"
      ]
     },
     "execution_count": 13,
     "metadata": {},
     "output_type": "execute_result"
    }
   ],
   "source": [
    "scores.loc[\"week_1\"]"
   ]
  },
  {
   "cell_type": "markdown",
   "id": "encouraging-making",
   "metadata": {},
   "source": [
    "#### 17) [P] Select the data for the first week using the string \"week_1\". Your result should return a DataFrame, representing the subset of the scores DataFrame for week 1 only."
   ]
  },
  {
   "cell_type": "code",
   "execution_count": 14,
   "id": "cosmetic-prompt",
   "metadata": {},
   "outputs": [
    {
     "data": {
      "text/html": [
       "<div>\n",
       "<style scoped>\n",
       "    .dataframe tbody tr th:only-of-type {\n",
       "        vertical-align: middle;\n",
       "    }\n",
       "\n",
       "    .dataframe tbody tr th {\n",
       "        vertical-align: top;\n",
       "    }\n",
       "\n",
       "    .dataframe thead th {\n",
       "        text-align: right;\n",
       "    }\n",
       "</style>\n",
       "<table border=\"1\" class=\"dataframe\">\n",
       "  <thead>\n",
       "    <tr style=\"text-align: right;\">\n",
       "      <th></th>\n",
       "      <th>Mon</th>\n",
       "      <th>Tue</th>\n",
       "      <th>Wed</th>\n",
       "      <th>Thu</th>\n",
       "      <th>Fri</th>\n",
       "    </tr>\n",
       "  </thead>\n",
       "  <tbody>\n",
       "    <tr>\n",
       "      <th>week_1</th>\n",
       "      <td>9.5</td>\n",
       "      <td>8.75</td>\n",
       "      <td>8.0</td>\n",
       "      <td>10.0</td>\n",
       "      <td>7.75</td>\n",
       "    </tr>\n",
       "  </tbody>\n",
       "</table>\n",
       "</div>"
      ],
      "text/plain": [
       "        Mon   Tue  Wed   Thu   Fri\n",
       "week_1  9.5  8.75  8.0  10.0  7.75"
      ]
     },
     "execution_count": 14,
     "metadata": {},
     "output_type": "execute_result"
    }
   ],
   "source": [
    "scores.loc[[\"week_1\"]]"
   ]
  },
  {
   "cell_type": "markdown",
   "id": "beneficial-effect",
   "metadata": {},
   "source": [
    "#### 18) [P] Select the data for the first week using a slice"
   ]
  },
  {
   "cell_type": "code",
   "execution_count": 15,
   "id": "japanese-award",
   "metadata": {},
   "outputs": [
    {
     "data": {
      "text/html": [
       "<div>\n",
       "<style scoped>\n",
       "    .dataframe tbody tr th:only-of-type {\n",
       "        vertical-align: middle;\n",
       "    }\n",
       "\n",
       "    .dataframe tbody tr th {\n",
       "        vertical-align: top;\n",
       "    }\n",
       "\n",
       "    .dataframe thead th {\n",
       "        text-align: right;\n",
       "    }\n",
       "</style>\n",
       "<table border=\"1\" class=\"dataframe\">\n",
       "  <thead>\n",
       "    <tr style=\"text-align: right;\">\n",
       "      <th></th>\n",
       "      <th>Mon</th>\n",
       "      <th>Tue</th>\n",
       "      <th>Wed</th>\n",
       "      <th>Thu</th>\n",
       "      <th>Fri</th>\n",
       "    </tr>\n",
       "  </thead>\n",
       "  <tbody>\n",
       "    <tr>\n",
       "      <th>week_1</th>\n",
       "      <td>9.5</td>\n",
       "      <td>8.75</td>\n",
       "      <td>8.0</td>\n",
       "      <td>10.0</td>\n",
       "      <td>7.75</td>\n",
       "    </tr>\n",
       "  </tbody>\n",
       "</table>\n",
       "</div>"
      ],
      "text/plain": [
       "        Mon   Tue  Wed   Thu   Fri\n",
       "week_1  9.5  8.75  8.0  10.0  7.75"
      ]
     },
     "execution_count": 15,
     "metadata": {},
     "output_type": "execute_result"
    }
   ],
   "source": [
    "scores[0:1]"
   ]
  },
  {
   "cell_type": "markdown",
   "id": "decimal-pleasure",
   "metadata": {},
   "source": [
    "#### 19) [P] Use .iloc to select Monday and Friday of the first and third week."
   ]
  },
  {
   "cell_type": "code",
   "execution_count": 16,
   "id": "meaning-edgar",
   "metadata": {},
   "outputs": [
    {
     "data": {
      "text/html": [
       "<div>\n",
       "<style scoped>\n",
       "    .dataframe tbody tr th:only-of-type {\n",
       "        vertical-align: middle;\n",
       "    }\n",
       "\n",
       "    .dataframe tbody tr th {\n",
       "        vertical-align: top;\n",
       "    }\n",
       "\n",
       "    .dataframe thead th {\n",
       "        text-align: right;\n",
       "    }\n",
       "</style>\n",
       "<table border=\"1\" class=\"dataframe\">\n",
       "  <thead>\n",
       "    <tr style=\"text-align: right;\">\n",
       "      <th></th>\n",
       "      <th>Mon</th>\n",
       "      <th>Fri</th>\n",
       "    </tr>\n",
       "  </thead>\n",
       "  <tbody>\n",
       "    <tr>\n",
       "      <th>week_1</th>\n",
       "      <td>9.5</td>\n",
       "      <td>7.75</td>\n",
       "    </tr>\n",
       "    <tr>\n",
       "      <th>week_3</th>\n",
       "      <td>8.5</td>\n",
       "      <td>8.25</td>\n",
       "    </tr>\n",
       "  </tbody>\n",
       "</table>\n",
       "</div>"
      ],
      "text/plain": [
       "        Mon   Fri\n",
       "week_1  9.5  7.75\n",
       "week_3  8.5  8.25"
      ]
     },
     "execution_count": 16,
     "metadata": {},
     "output_type": "execute_result"
    }
   ],
   "source": [
    "scores.iloc[[0,2], [0,4]]"
   ]
  },
  {
   "cell_type": "markdown",
   "id": "awful-heating",
   "metadata": {},
   "source": [
    "#### 20) [P] Repeat the previous exercise, but use the .loc selector. You should have the same result."
   ]
  },
  {
   "cell_type": "code",
   "execution_count": 17,
   "id": "obvious-matter",
   "metadata": {},
   "outputs": [
    {
     "data": {
      "text/html": [
       "<div>\n",
       "<style scoped>\n",
       "    .dataframe tbody tr th:only-of-type {\n",
       "        vertical-align: middle;\n",
       "    }\n",
       "\n",
       "    .dataframe tbody tr th {\n",
       "        vertical-align: top;\n",
       "    }\n",
       "\n",
       "    .dataframe thead th {\n",
       "        text-align: right;\n",
       "    }\n",
       "</style>\n",
       "<table border=\"1\" class=\"dataframe\">\n",
       "  <thead>\n",
       "    <tr style=\"text-align: right;\">\n",
       "      <th></th>\n",
       "      <th>Mon</th>\n",
       "      <th>Fri</th>\n",
       "    </tr>\n",
       "  </thead>\n",
       "  <tbody>\n",
       "    <tr>\n",
       "      <th>week_1</th>\n",
       "      <td>9.5</td>\n",
       "      <td>7.75</td>\n",
       "    </tr>\n",
       "    <tr>\n",
       "      <th>week_3</th>\n",
       "      <td>8.5</td>\n",
       "      <td>8.25</td>\n",
       "    </tr>\n",
       "  </tbody>\n",
       "</table>\n",
       "</div>"
      ],
      "text/plain": [
       "        Mon   Fri\n",
       "week_1  9.5  7.75\n",
       "week_3  8.5  8.25"
      ]
     },
     "execution_count": 17,
     "metadata": {},
     "output_type": "execute_result"
    }
   ],
   "source": [
    "scores.loc[[\"week_1\", \"week_3\"], [\"Mon\", \"Fri\"]]"
   ]
  },
  {
   "cell_type": "code",
   "execution_count": 18,
   "id": "identical-grammar",
   "metadata": {},
   "outputs": [],
   "source": [
    "# Ref: HOW TO ITERATE? YA DON'T - https://stackoverflow.com/questions/16476924/how-to-iterate-over-rows-in-a-dataframe-in-pandas"
   ]
  },
  {
   "cell_type": "markdown",
   "id": "northern-modification",
   "metadata": {},
   "source": [
    "#### 21) [P] For each week, report how much each day's score for that week differed from the mean for the week."
   ]
  },
  {
   "cell_type": "code",
   "execution_count": 19,
   "id": "monetary-warrant",
   "metadata": {},
   "outputs": [
    {
     "data": {
      "text/html": [
       "<div>\n",
       "<style scoped>\n",
       "    .dataframe tbody tr th:only-of-type {\n",
       "        vertical-align: middle;\n",
       "    }\n",
       "\n",
       "    .dataframe tbody tr th {\n",
       "        vertical-align: top;\n",
       "    }\n",
       "\n",
       "    .dataframe thead th {\n",
       "        text-align: right;\n",
       "    }\n",
       "</style>\n",
       "<table border=\"1\" class=\"dataframe\">\n",
       "  <thead>\n",
       "    <tr style=\"text-align: right;\">\n",
       "      <th></th>\n",
       "      <th>Mon</th>\n",
       "      <th>Tue</th>\n",
       "      <th>Wed</th>\n",
       "      <th>Thu</th>\n",
       "      <th>Fri</th>\n",
       "    </tr>\n",
       "  </thead>\n",
       "  <tbody>\n",
       "    <tr>\n",
       "      <th>week_1</th>\n",
       "      <td>0.7</td>\n",
       "      <td>-0.05</td>\n",
       "      <td>-0.80</td>\n",
       "      <td>1.20</td>\n",
       "      <td>-1.05</td>\n",
       "    </tr>\n",
       "    <tr>\n",
       "      <th>week_2</th>\n",
       "      <td>0.4</td>\n",
       "      <td>-0.60</td>\n",
       "      <td>1.40</td>\n",
       "      <td>0.15</td>\n",
       "      <td>-1.35</td>\n",
       "    </tr>\n",
       "    <tr>\n",
       "      <th>week_3</th>\n",
       "      <td>-0.2</td>\n",
       "      <td>-0.70</td>\n",
       "      <td>1.05</td>\n",
       "      <td>0.30</td>\n",
       "      <td>-0.45</td>\n",
       "    </tr>\n",
       "  </tbody>\n",
       "</table>\n",
       "</div>"
      ],
      "text/plain": [
       "        Mon   Tue   Wed   Thu   Fri\n",
       "week_1  0.7 -0.05 -0.80  1.20 -1.05\n",
       "week_2  0.4 -0.60  1.40  0.15 -1.35\n",
       "week_3 -0.2 -0.70  1.05  0.30 -0.45"
      ]
     },
     "execution_count": 19,
     "metadata": {},
     "output_type": "execute_result"
    }
   ],
   "source": [
    "# hints by Rafe B.\n",
    "# df.mean(1) - mean of across the columns.\n",
    "scores.sub(scores.mean(1), axis = 0)"
   ]
  },
  {
   "cell_type": "markdown",
   "id": "pressed-portland",
   "metadata": {},
   "source": [
    "#### 22) [P] Report the maximum score for each week"
   ]
  },
  {
   "cell_type": "code",
   "execution_count": 20,
   "id": "liquid-revision",
   "metadata": {},
   "outputs": [
    {
     "name": "stdout",
     "output_type": "stream",
     "text": [
      "Max score of week_1 is 10.0\n",
      "Max score of week_2 is 10.0\n",
      "Max score of week_3 is 9.75\n"
     ]
    }
   ],
   "source": [
    "for week, row in scores.iterrows():\n",
    "    print(f\"Max score of {week} is {row.max()}\")"
   ]
  },
  {
   "cell_type": "code",
   "execution_count": 21,
   "id": "northern-tackle",
   "metadata": {},
   "outputs": [
    {
     "data": {
      "text/plain": [
       "week_1    10.00\n",
       "week_2    10.00\n",
       "week_3     9.75\n",
       "dtype: float64"
      ]
     },
     "execution_count": 21,
     "metadata": {},
     "output_type": "execute_result"
    }
   ],
   "source": [
    "# Method 2:\n",
    "scores.max(axis=1)"
   ]
  },
  {
   "cell_type": "markdown",
   "id": "drawn-rogers",
   "metadata": {},
   "source": [
    "#### 23) [P] For each week, report which day had the largest score"
   ]
  },
  {
   "cell_type": "code",
   "execution_count": 22,
   "id": "fancy-vault",
   "metadata": {},
   "outputs": [
    {
     "name": "stdout",
     "output_type": "stream",
     "text": [
      "Day with max score of week_1 is Thu\n",
      "Day with max score of week_2 is Wed\n",
      "Day with max score of week_3 is Wed\n"
     ]
    }
   ],
   "source": [
    "# ref: https://pandas.pydata.org/pandas-docs/stable/reference/api/pandas.Series.idxmax.html\n",
    "for week, row in scores.iterrows():\n",
    "    print(f\"Day with max score of {week} is {row.idxmax()}\")"
   ]
  },
  {
   "cell_type": "code",
   "execution_count": 23,
   "id": "ignored-jones",
   "metadata": {},
   "outputs": [
    {
     "data": {
      "text/plain": [
       "week_1    Thu\n",
       "week_2    Wed\n",
       "week_3    Wed\n",
       "dtype: object"
      ]
     },
     "execution_count": 23,
     "metadata": {},
     "output_type": "execute_result"
    }
   ],
   "source": [
    "# Method 2:\n",
    "scores.idxmax(1)"
   ]
  },
  {
   "cell_type": "markdown",
   "id": "referenced-arrest",
   "metadata": {},
   "source": [
    "#### 24) [P] Report the week that had the highest total quiz score. Your answer should only be the name of the week from the index."
   ]
  },
  {
   "cell_type": "code",
   "execution_count": 24,
   "id": "grave-messaging",
   "metadata": {},
   "outputs": [
    {
     "name": "stdout",
     "output_type": "stream",
     "text": [
      "Week with highest sum: week_1\n"
     ]
    }
   ],
   "source": [
    "max_s = 0\n",
    "max_week = \"\"\n",
    "for week, row in scores.iterrows():\n",
    "    if max_s < row.sum():\n",
    "        max_s = row.sum()\n",
    "        max_week = week\n",
    "print(f\"Week with highest sum: {max_week}\")"
   ]
  },
  {
   "cell_type": "markdown",
   "id": "forced-broadway",
   "metadata": {},
   "source": [
    "#### 25) [P] Report the number of days of each week that had a score >= 9.25. Answer in a Series"
   ]
  },
  {
   "cell_type": "code",
   "execution_count": 25,
   "id": "guilty-potato",
   "metadata": {},
   "outputs": [
    {
     "data": {
      "text/plain": [
       "week_1    2\n",
       "week_2    1\n",
       "week_3    1\n",
       "dtype: int64"
      ]
     },
     "execution_count": 25,
     "metadata": {},
     "output_type": "execute_result"
    }
   ],
   "source": [
    "# ref: https://stackoverflow.com/questions/34243194/filter-rows-of-pandas-dataframe-whose-values-are-lower-than-0\n",
    "scores[scores >= 9.25].count(axis = 1)"
   ]
  },
  {
   "cell_type": "markdown",
   "id": "certified-darkness",
   "metadata": {},
   "source": [
    "#### 26) [P] Report the average score for each week"
   ]
  },
  {
   "cell_type": "code",
   "execution_count": 26,
   "id": "considered-course",
   "metadata": {},
   "outputs": [
    {
     "data": {
      "text/plain": [
       "week_1    8.8\n",
       "week_2    8.6\n",
       "week_3    8.7\n",
       "dtype: float64"
      ]
     },
     "execution_count": 26,
     "metadata": {},
     "output_type": "execute_result"
    }
   ],
   "source": [
    "scores.mean(axis = 1)"
   ]
  },
  {
   "cell_type": "markdown",
   "id": "systematic-lender",
   "metadata": {},
   "source": [
    "#### 27) [P] Report the average score for each week with the lowest score for each week dropped. (REMEMBER – NEVER hard code magic numbers. Your solution should work for any number of weeks, and any number of days per week!)"
   ]
  },
  {
   "cell_type": "code",
   "execution_count": 27,
   "id": "spatial-vessel",
   "metadata": {},
   "outputs": [
    {
     "name": "stdout",
     "output_type": "stream",
     "text": [
      "Avg score of week_1 with dropped lowest score is 9.0625\n",
      "Avg score of week_2 with dropped lowest score is 8.9375\n",
      "Avg score of week_3 with dropped lowest score is 8.875\n"
     ]
    }
   ],
   "source": [
    "for week, row in scores.iterrows():\n",
    "    avg = (row.sum() - row.min())/(len(row)-1)\n",
    "    print(f\"Avg score of {week} with dropped lowest score is {avg}\")"
   ]
  },
  {
   "cell_type": "markdown",
   "id": "gorgeous-swift",
   "metadata": {},
   "source": [
    "#### 28) [P] Report the scores rescaled to fall between 0 and 100, instead of 0 to 10 as they are now."
   ]
  },
  {
   "cell_type": "code",
   "execution_count": 28,
   "id": "higher-accreditation",
   "metadata": {},
   "outputs": [
    {
     "data": {
      "text/html": [
       "<div>\n",
       "<style scoped>\n",
       "    .dataframe tbody tr th:only-of-type {\n",
       "        vertical-align: middle;\n",
       "    }\n",
       "\n",
       "    .dataframe tbody tr th {\n",
       "        vertical-align: top;\n",
       "    }\n",
       "\n",
       "    .dataframe thead th {\n",
       "        text-align: right;\n",
       "    }\n",
       "</style>\n",
       "<table border=\"1\" class=\"dataframe\">\n",
       "  <thead>\n",
       "    <tr style=\"text-align: right;\">\n",
       "      <th></th>\n",
       "      <th>Mon</th>\n",
       "      <th>Tue</th>\n",
       "      <th>Wed</th>\n",
       "      <th>Thu</th>\n",
       "      <th>Fri</th>\n",
       "    </tr>\n",
       "  </thead>\n",
       "  <tbody>\n",
       "    <tr>\n",
       "      <th>week_1</th>\n",
       "      <td>95.0</td>\n",
       "      <td>87.5</td>\n",
       "      <td>80.0</td>\n",
       "      <td>100.0</td>\n",
       "      <td>77.5</td>\n",
       "    </tr>\n",
       "    <tr>\n",
       "      <th>week_2</th>\n",
       "      <td>90.0</td>\n",
       "      <td>80.0</td>\n",
       "      <td>100.0</td>\n",
       "      <td>87.5</td>\n",
       "      <td>72.5</td>\n",
       "    </tr>\n",
       "    <tr>\n",
       "      <th>week_3</th>\n",
       "      <td>85.0</td>\n",
       "      <td>80.0</td>\n",
       "      <td>97.5</td>\n",
       "      <td>90.0</td>\n",
       "      <td>82.5</td>\n",
       "    </tr>\n",
       "  </tbody>\n",
       "</table>\n",
       "</div>"
      ],
      "text/plain": [
       "         Mon   Tue    Wed    Thu   Fri\n",
       "week_1  95.0  87.5   80.0  100.0  77.5\n",
       "week_2  90.0  80.0  100.0   87.5  72.5\n",
       "week_3  85.0  80.0   97.5   90.0  82.5"
      ]
     },
     "execution_count": 28,
     "metadata": {},
     "output_type": "execute_result"
    }
   ],
   "source": [
    "scores*10"
   ]
  }
 ],
 "metadata": {
  "kernelspec": {
   "display_name": "Python 3",
   "language": "python",
   "name": "python3"
  },
  "language_info": {
   "codemirror_mode": {
    "name": "ipython",
    "version": 3
   },
   "file_extension": ".py",
   "mimetype": "text/x-python",
   "name": "python",
   "nbconvert_exporter": "python",
   "pygments_lexer": "ipython3",
   "version": "3.8.5"
  }
 },
 "nbformat": 4,
 "nbformat_minor": 5
}
