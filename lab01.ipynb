{
 "cells": [
  {
   "cell_type": "markdown",
   "id": "frozen-leadership",
   "metadata": {},
   "source": [
    "# Lab01 - Getting Started\n",
    "Name: Anh Kieu  \n",
    "Class: CSCI 349 - Intro to Data Mining  \n",
    "Instructor: Brian King"
   ]
  },
  {
   "cell_type": "code",
   "execution_count": 1,
   "id": "little-marsh",
   "metadata": {},
   "outputs": [
    {
     "name": "stdout",
     "output_type": "stream",
     "text": [
      "3.8.5 (default, Sep  3 2020, 21:29:08) [MSC v.1916 64 bit (AMD64)]\n"
     ]
    }
   ],
   "source": [
    "import sys\n",
    "print(sys.version)"
   ]
  },
  {
   "cell_type": "markdown",
   "id": "cosmetic-attempt",
   "metadata": {},
   "source": [
    "#### 2. Did you read the syllabus? All of it? Do you agree to abide by the cheating rules? Write a sentence clearly indicating your commitment to not cheating"
   ]
  },
  {
   "cell_type": "markdown",
   "id": "marine-tribune",
   "metadata": {},
   "source": [
    "I have read the syllabus, and yes, all of it. I agree to abide by the cheating rules and I am commited to honest work and Bucknell's honor code."
   ]
  },
  {
   "cell_type": "markdown",
   "id": "popular-slovakia",
   "metadata": {},
   "source": [
    "#### 3. What are you hoping to get out of this course?"
   ]
  },
  {
   "cell_type": "markdown",
   "id": "adequate-terry",
   "metadata": {},
   "source": [
    "I hope that after this course I will be more comfortable with dataframes and data extraction, manipulation and cleaning. I also hope to learn some basis in data science and machine learning models."
   ]
  },
  {
   "cell_type": "markdown",
   "id": "instant-shower",
   "metadata": {},
   "source": [
    "#### 4. Print the Python version (sys package)"
   ]
  },
  {
   "cell_type": "code",
   "execution_count": 2,
   "id": "included-communication",
   "metadata": {},
   "outputs": [
    {
     "name": "stdout",
     "output_type": "stream",
     "text": [
      "3.8.5 (default, Sep  3 2020, 21:29:08) [MSC v.1916 64 bit (AMD64)]\n"
     ]
    }
   ],
   "source": [
    "print(sys.version)"
   ]
  },
  {
   "cell_type": "markdown",
   "id": "metallic-personality",
   "metadata": {},
   "source": [
    "#### 5. Create a Python list of 10000 random integers in the range 1 to 100, using random package. Name the list x_list"
   ]
  },
  {
   "cell_type": "code",
   "execution_count": 3,
   "id": "sporting-canvas",
   "metadata": {},
   "outputs": [],
   "source": [
    "from random import *\n",
    "x_list = [randint(1,100) for x in range(10000)]"
   ]
  },
  {
   "cell_type": "code",
   "execution_count": 4,
   "id": "bronze-venice",
   "metadata": {},
   "outputs": [
    {
     "name": "stdout",
     "output_type": "stream",
     "text": [
      "[57, 57, 56, 82, 54, 43, 61, 27, 11, 34]\n"
     ]
    }
   ],
   "source": [
    "print(x_list[:10])"
   ]
  },
  {
   "cell_type": "markdown",
   "id": "described-bandwidth",
   "metadata": {},
   "source": [
    "#### 6. What is the minimum value of x_list? What is the max value? What is mode?"
   ]
  },
  {
   "cell_type": "code",
   "execution_count": 5,
   "id": "dependent-visiting",
   "metadata": {},
   "outputs": [
    {
     "name": "stdout",
     "output_type": "stream",
     "text": [
      "The min value of x_list is: 1.\n",
      "The max value of x_list is: 100.\n",
      "The mode of x_list is: 66.\n"
     ]
    }
   ],
   "source": [
    "from statistics import mode\n",
    "print(\"The min value of x_list is: {}.\".format(min(x_list)))\n",
    "print(\"The max value of x_list is: {}.\".format(max(x_list)))\n",
    "print(\"The mode of x_list is: {}.\".format(mode(x_list)))"
   ]
  },
  {
   "cell_type": "markdown",
   "id": "specific-berkeley",
   "metadata": {},
   "source": [
    "#### 7. Write a function to take a list of numbers as a parameter, and return the average of the list. Then, use your function to report the average value of x_list, printed as a float with 2 places of precision."
   ]
  },
  {
   "cell_type": "code",
   "execution_count": 6,
   "id": "academic-campus",
   "metadata": {},
   "outputs": [
    {
     "name": "stdout",
     "output_type": "stream",
     "text": [
      "50.63\n"
     ]
    }
   ],
   "source": [
    "def avg(a_list):\n",
    "    return sum(a_list)/len(a_list)\n",
    "print(\"{:.2f}\".format(avg(x_list)))"
   ]
  },
  {
   "cell_type": "markdown",
   "id": "medieval-defeat",
   "metadata": {},
   "source": [
    "#### 8. Create a list called x_hist that represents a histogram, i.e. a distribution of the numerical data, of x_list. Each entry in x_hist should contain the range of data in widths of 10. So, x_hist[0] represents the frequency of numbers between 1-10, x_hist[1] is the frequency of numbers between 11-20, and so on. Be sure to print x_hist at the end."
   ]
  },
  {
   "cell_type": "code",
   "execution_count": 7,
   "id": "structured-object",
   "metadata": {},
   "outputs": [
    {
     "name": "stdout",
     "output_type": "stream",
     "text": [
      "[985, 978, 988, 1017, 1007, 1027, 1007, 1001, 986, 1004]\n"
     ]
    }
   ],
   "source": [
    "x_hist = [0]*10\n",
    "for num in x_list:\n",
    "    ind = (num - 1) // 10\n",
    "    x_hist[ind] += 1\n",
    "print(x_hist)"
   ]
  },
  {
   "cell_type": "markdown",
   "id": "divine-assault",
   "metadata": {},
   "source": [
    "#### 9.  What is numpy? What are its strengths? Does it have any weaknesses?"
   ]
  },
  {
   "cell_type": "markdown",
   "id": "formal-composition",
   "metadata": {},
   "source": [
    "- Numpy is a Python library that helps with scientific computing as it optimizes a lot of its object types, i.e multidimensional array object compared to Python's objects. \n",
    "- Undoubtedly, numpy is more efficient when it comes to mathematical operations and computing, especially on complex objects such as multidimensional matrices or regarding complex operations like Fourie transform. \n",
    "- Personally, I think that numpy is a really useful package. It does have few \"weaknesses\", such as how its array object is essentially different from Python list (static vs dynamic), thus make it a bit harder to manipulate with just Python functions. Thus, it takes some learning curves and getting used to."
   ]
  },
  {
   "cell_type": "markdown",
   "id": "serial-default",
   "metadata": {},
   "source": [
    "#### 10. [P] Import the numpy package as np and print the numpy version"
   ]
  },
  {
   "cell_type": "code",
   "execution_count": 8,
   "id": "protecting-jaguar",
   "metadata": {},
   "outputs": [
    {
     "name": "stdout",
     "output_type": "stream",
     "text": [
      "1.19.2\n"
     ]
    }
   ],
   "source": [
    "import numpy as np\n",
    "print(np.version.version)"
   ]
  },
  {
   "cell_type": "markdown",
   "id": "dietary-billion",
   "metadata": {},
   "source": [
    "#### 11. [M] What is the primary object type in numpy? Can it store data of different types? Discuss."
   ]
  },
  {
   "cell_type": "markdown",
   "id": "referenced-gathering",
   "metadata": {},
   "source": [
    "As quoted from **[numpy API](https://numpy.org/doc/stable/user/whatisnumpy.html)**, \"at the core of the NumPy package is the ndarray object.\" The elements in a NumPy array are all required to be of the same data type. However, we can store arrays of objects, of which their elements are different data types from each other."
   ]
  },
  {
   "cell_type": "markdown",
   "id": "concrete-fountain",
   "metadata": {},
   "source": [
    "#### 12. [M] Discuss the types of data available in numpy. You need not list every type. Just generalize, and discuss how the type system is different than the built-in types int and float in Python."
   ]
  },
  {
   "cell_type": "markdown",
   "id": "resistant-chess",
   "metadata": {},
   "source": [
    "- The data types in numpy are more like C data types. For example, besides having basic types like boolean, numpy has other primitive types such as byte, short, long, single, double, or fixed size types like int8 (8 bit integer) or uint64 (64 bit unsigned integer). Numpy also has complex number type as well. \n",
    "- Even though Numpy types can be used interchangeably with Python types. However, Numpy types, or array scalars in this case work better with ndarray object as they preserve arrray type. Also, numpy scalars have a lot of method calls that arrays have."
   ]
  },
  {
   "cell_type": "markdown",
   "id": "dietary-polyester",
   "metadata": {},
   "source": [
    "#### 13. [P] Create a numpy array from x_list. Reassign it as x_list. Show the contents."
   ]
  },
  {
   "cell_type": "code",
   "execution_count": 9,
   "id": "logical-penguin",
   "metadata": {},
   "outputs": [
    {
     "name": "stdout",
     "output_type": "stream",
     "text": [
      "[57 57 56 ... 76 48 26]\n"
     ]
    }
   ],
   "source": [
    "x_list = np.array(x_list)\n",
    "print(x_list)"
   ]
  },
  {
   "cell_type": "markdown",
   "id": "lesbian-maryland",
   "metadata": {},
   "source": [
    "#### 14. [P] Redo the previous exercise, but set the data type of each value to 'float32'"
   ]
  },
  {
   "cell_type": "code",
   "execution_count": 10,
   "id": "thirty-professor",
   "metadata": {},
   "outputs": [
    {
     "name": "stdout",
     "output_type": "stream",
     "text": [
      "[57. 57. 56. ... 76. 48. 26.]\n"
     ]
    }
   ],
   "source": [
    "x_list = np.array(x_list, dtype = 'float32')\n",
    "print(x_list)"
   ]
  },
  {
   "cell_type": "markdown",
   "id": "worst-frederick",
   "metadata": {},
   "source": [
    "#### 15. [P] Create a length 10 integer array filled with zeros"
   ]
  },
  {
   "cell_type": "code",
   "execution_count": 11,
   "id": "lined-denial",
   "metadata": {},
   "outputs": [
    {
     "name": "stdout",
     "output_type": "stream",
     "text": [
      "[0 0 0 0 0 0 0 0 0 0]\n"
     ]
    }
   ],
   "source": [
    "z_list = np.zeros(10, dtype = int)\n",
    "print(z_list)"
   ]
  },
  {
   "cell_type": "markdown",
   "id": "correct-latino",
   "metadata": {},
   "source": [
    "#### 16. [P] Create a float array of 3 rows and 4 columns, all initialized to one."
   ]
  },
  {
   "cell_type": "code",
   "execution_count": 12,
   "id": "governmental-contest",
   "metadata": {},
   "outputs": [
    {
     "name": "stdout",
     "output_type": "stream",
     "text": [
      "[[1. 1. 1. 1.]\n",
      " [1. 1. 1. 1.]\n",
      " [1. 1. 1. 1.]]\n"
     ]
    }
   ],
   "source": [
    "o_list = np.ones((3,4), dtype = float)\n",
    "print(o_list)"
   ]
  },
  {
   "cell_type": "markdown",
   "id": "through-timber",
   "metadata": {},
   "source": [
    "#### 17. [P] Create an array of 20 values, evenly spaced between 1 and 3 (HINT – look at np.linspace)"
   ]
  },
  {
   "cell_type": "code",
   "execution_count": 13,
   "id": "constitutional-pastor",
   "metadata": {},
   "outputs": [
    {
     "name": "stdout",
     "output_type": "stream",
     "text": [
      "[1.         1.10526316 1.21052632 1.31578947 1.42105263 1.52631579\n",
      " 1.63157895 1.73684211 1.84210526 1.94736842 2.05263158 2.15789474\n",
      " 2.26315789 2.36842105 2.47368421 2.57894737 2.68421053 2.78947368\n",
      " 2.89473684 3.        ]\n"
     ]
    }
   ],
   "source": [
    "l_list = np.linspace(1,3,20)\n",
    "print(l_list)"
   ]
  },
  {
   "cell_type": "markdown",
   "id": "marked-guide",
   "metadata": {},
   "source": [
    "#### 18. [P] Set the numpy random seed to the value 12345, then create a 10 x 5 array of random integers on the interval [10, 20)"
   ]
  },
  {
   "cell_type": "code",
   "execution_count": 14,
   "id": "adolescent-adrian",
   "metadata": {},
   "outputs": [
    {
     "name": "stdout",
     "output_type": "stream",
     "text": [
      "[[16 12 17 13 12]\n",
      " [17 16 16 19 13]\n",
      " [18 13 15 15 12]\n",
      " [11 12 16 16 19]\n",
      " [17 12 19 19 17]\n",
      " [16 11 10 12 14]\n",
      " [10 18 14 16 12]\n",
      " [13 11 17 17 12]\n",
      " [17 10 13 11 17]\n",
      " [13 14 14 14 12]]\n"
     ]
    }
   ],
   "source": [
    "# ref: https://numpy.org/doc/stable/reference/random/generator.html#numpy.random.default_rng\n",
    "from numpy import random\n",
    "rng = np.random.default_rng(12345)\n",
    "r_list = rng.integers(10, 20, (10,5))\n",
    "print(r_list)"
   ]
  }
 ],
 "metadata": {
  "kernelspec": {
   "display_name": "Python 3",
   "language": "python",
   "name": "python3"
  },
  "language_info": {
   "codemirror_mode": {
    "name": "ipython",
    "version": 3
   },
   "file_extension": ".py",
   "mimetype": "text/x-python",
   "name": "python",
   "nbconvert_exporter": "python",
   "pygments_lexer": "ipython3",
   "version": "3.8.5"
  }
 },
 "nbformat": 4,
 "nbformat_minor": 5
}
