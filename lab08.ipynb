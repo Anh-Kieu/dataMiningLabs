{
 "cells": [
  {
   "cell_type": "markdown",
   "id": "chief-recovery",
   "metadata": {},
   "source": [
    "## Lab08 - PCA\n",
    "Name: Anh Kieu  \n",
    "Class: CSCI 349 - Intro to Data Mining  \n",
    "Semester: Spring 2021  \n",
    "Instructor: Brian King  "
   ]
  },
  {
   "cell_type": "code",
   "execution_count": 1,
   "id": "multiple-above",
   "metadata": {},
   "outputs": [],
   "source": [
    "import numpy as np\n",
    "import pandas as pd\n",
    "import matplotlib.pyplot as plt\n",
    "import seaborn as sns\n",
    "import scipy.stats as stats\n",
    "from scipy.stats import zscore\n",
    "import sklearn.preprocessing\n",
    "from sklearn.metrics import pairwise_distances\n",
    "from sklearn.decomposition import PCA"
   ]
  },
  {
   "cell_type": "markdown",
   "id": "abroad-sleeve",
   "metadata": {},
   "source": [
    "#### 1) [P] Set up pandas data"
   ]
  },
  {
   "cell_type": "code",
   "execution_count": 2,
   "id": "handled-indonesia",
   "metadata": {},
   "outputs": [],
   "source": [
    "df = pd.DataFrame(data = {'test1' : ['A', 'C', 'C', 'B', 'A', 'B', 'C', 'B'], 'test2' : ['excellent', 'fair', 'good', 'fair', 'poor', 'excellent', 'good', 'good'], 'test3' : [25, 32, 60, 53, 23, 37, 45, 49]})\n",
    "df['test1'] = pd.Categorical(df['test1'])\n",
    "df['test2'] = pd.Categorical(df['test2'], ordered = True, categories = ['poor', 'fair', 'good', 'excellent'])\n",
    "df['test3'] = pd.to_numeric(df['test3'], downcast = 'unsigned')\n",
    "new_index = ['A' + str(x) for x in range(df.shape[0])]\n",
    "df.index = (new_index)"
   ]
  },
  {
   "cell_type": "code",
   "execution_count": 3,
   "id": "endangered-valuation",
   "metadata": {},
   "outputs": [
    {
     "data": {
      "text/html": [
       "<div>\n",
       "<style scoped>\n",
       "    .dataframe tbody tr th:only-of-type {\n",
       "        vertical-align: middle;\n",
       "    }\n",
       "\n",
       "    .dataframe tbody tr th {\n",
       "        vertical-align: top;\n",
       "    }\n",
       "\n",
       "    .dataframe thead th {\n",
       "        text-align: right;\n",
       "    }\n",
       "</style>\n",
       "<table border=\"1\" class=\"dataframe\">\n",
       "  <thead>\n",
       "    <tr style=\"text-align: right;\">\n",
       "      <th></th>\n",
       "      <th>test1</th>\n",
       "      <th>test2</th>\n",
       "      <th>test3</th>\n",
       "    </tr>\n",
       "  </thead>\n",
       "  <tbody>\n",
       "    <tr>\n",
       "      <th>A0</th>\n",
       "      <td>A</td>\n",
       "      <td>excellent</td>\n",
       "      <td>25</td>\n",
       "    </tr>\n",
       "    <tr>\n",
       "      <th>A1</th>\n",
       "      <td>C</td>\n",
       "      <td>fair</td>\n",
       "      <td>32</td>\n",
       "    </tr>\n",
       "    <tr>\n",
       "      <th>A2</th>\n",
       "      <td>C</td>\n",
       "      <td>good</td>\n",
       "      <td>60</td>\n",
       "    </tr>\n",
       "    <tr>\n",
       "      <th>A3</th>\n",
       "      <td>B</td>\n",
       "      <td>fair</td>\n",
       "      <td>53</td>\n",
       "    </tr>\n",
       "    <tr>\n",
       "      <th>A4</th>\n",
       "      <td>A</td>\n",
       "      <td>poor</td>\n",
       "      <td>23</td>\n",
       "    </tr>\n",
       "    <tr>\n",
       "      <th>A5</th>\n",
       "      <td>B</td>\n",
       "      <td>excellent</td>\n",
       "      <td>37</td>\n",
       "    </tr>\n",
       "    <tr>\n",
       "      <th>A6</th>\n",
       "      <td>C</td>\n",
       "      <td>good</td>\n",
       "      <td>45</td>\n",
       "    </tr>\n",
       "    <tr>\n",
       "      <th>A7</th>\n",
       "      <td>B</td>\n",
       "      <td>good</td>\n",
       "      <td>49</td>\n",
       "    </tr>\n",
       "  </tbody>\n",
       "</table>\n",
       "</div>"
      ],
      "text/plain": [
       "   test1      test2  test3\n",
       "A0     A  excellent     25\n",
       "A1     C       fair     32\n",
       "A2     C       good     60\n",
       "A3     B       fair     53\n",
       "A4     A       poor     23\n",
       "A5     B  excellent     37\n",
       "A6     C       good     45\n",
       "A7     B       good     49"
      ]
     },
     "execution_count": 3,
     "metadata": {},
     "output_type": "execute_result"
    }
   ],
   "source": [
    "df"
   ]
  },
  {
   "cell_type": "code",
   "execution_count": 4,
   "id": "dental-panel",
   "metadata": {},
   "outputs": [
    {
     "name": "stdout",
     "output_type": "stream",
     "text": [
      "<class 'pandas.core.frame.DataFrame'>\n",
      "Index: 8 entries, A0 to A7\n",
      "Data columns (total 3 columns):\n",
      " #   Column  Non-Null Count  Dtype   \n",
      "---  ------  --------------  -----   \n",
      " 0   test1   8 non-null      category\n",
      " 1   test2   8 non-null      category\n",
      " 2   test3   8 non-null      uint8   \n",
      "dtypes: category(2), uint8(1)\n",
      "memory usage: 424.0+ bytes\n"
     ]
    }
   ],
   "source": [
    "df.info()"
   ]
  },
  {
   "cell_type": "markdown",
   "id": "freelance-tyler",
   "metadata": {},
   "source": [
    "#### 2) [PM] Show the output of df.describe(include='all'). What does the include='all' parameter do?"
   ]
  },
  {
   "cell_type": "code",
   "execution_count": 5,
   "id": "aging-virus",
   "metadata": {},
   "outputs": [
    {
     "data": {
      "text/html": [
       "<div>\n",
       "<style scoped>\n",
       "    .dataframe tbody tr th:only-of-type {\n",
       "        vertical-align: middle;\n",
       "    }\n",
       "\n",
       "    .dataframe tbody tr th {\n",
       "        vertical-align: top;\n",
       "    }\n",
       "\n",
       "    .dataframe thead th {\n",
       "        text-align: right;\n",
       "    }\n",
       "</style>\n",
       "<table border=\"1\" class=\"dataframe\">\n",
       "  <thead>\n",
       "    <tr style=\"text-align: right;\">\n",
       "      <th></th>\n",
       "      <th>test1</th>\n",
       "      <th>test2</th>\n",
       "      <th>test3</th>\n",
       "    </tr>\n",
       "  </thead>\n",
       "  <tbody>\n",
       "    <tr>\n",
       "      <th>count</th>\n",
       "      <td>8</td>\n",
       "      <td>8</td>\n",
       "      <td>8.000000</td>\n",
       "    </tr>\n",
       "    <tr>\n",
       "      <th>unique</th>\n",
       "      <td>3</td>\n",
       "      <td>4</td>\n",
       "      <td>NaN</td>\n",
       "    </tr>\n",
       "    <tr>\n",
       "      <th>top</th>\n",
       "      <td>B</td>\n",
       "      <td>good</td>\n",
       "      <td>NaN</td>\n",
       "    </tr>\n",
       "    <tr>\n",
       "      <th>freq</th>\n",
       "      <td>3</td>\n",
       "      <td>3</td>\n",
       "      <td>NaN</td>\n",
       "    </tr>\n",
       "    <tr>\n",
       "      <th>mean</th>\n",
       "      <td>NaN</td>\n",
       "      <td>NaN</td>\n",
       "      <td>40.500000</td>\n",
       "    </tr>\n",
       "    <tr>\n",
       "      <th>std</th>\n",
       "      <td>NaN</td>\n",
       "      <td>NaN</td>\n",
       "      <td>13.416408</td>\n",
       "    </tr>\n",
       "    <tr>\n",
       "      <th>min</th>\n",
       "      <td>NaN</td>\n",
       "      <td>NaN</td>\n",
       "      <td>23.000000</td>\n",
       "    </tr>\n",
       "    <tr>\n",
       "      <th>25%</th>\n",
       "      <td>NaN</td>\n",
       "      <td>NaN</td>\n",
       "      <td>30.250000</td>\n",
       "    </tr>\n",
       "    <tr>\n",
       "      <th>50%</th>\n",
       "      <td>NaN</td>\n",
       "      <td>NaN</td>\n",
       "      <td>41.000000</td>\n",
       "    </tr>\n",
       "    <tr>\n",
       "      <th>75%</th>\n",
       "      <td>NaN</td>\n",
       "      <td>NaN</td>\n",
       "      <td>50.000000</td>\n",
       "    </tr>\n",
       "    <tr>\n",
       "      <th>max</th>\n",
       "      <td>NaN</td>\n",
       "      <td>NaN</td>\n",
       "      <td>60.000000</td>\n",
       "    </tr>\n",
       "  </tbody>\n",
       "</table>\n",
       "</div>"
      ],
      "text/plain": [
       "       test1 test2      test3\n",
       "count      8     8   8.000000\n",
       "unique     3     4        NaN\n",
       "top        B  good        NaN\n",
       "freq       3     3        NaN\n",
       "mean     NaN   NaN  40.500000\n",
       "std      NaN   NaN  13.416408\n",
       "min      NaN   NaN  23.000000\n",
       "25%      NaN   NaN  30.250000\n",
       "50%      NaN   NaN  41.000000\n",
       "75%      NaN   NaN  50.000000\n",
       "max      NaN   NaN  60.000000"
      ]
     },
     "execution_count": 5,
     "metadata": {},
     "output_type": "execute_result"
    }
   ],
   "source": [
    "df.describe(include = 'all')"
   ]
  },
  {
   "cell_type": "markdown",
   "id": "split-publication",
   "metadata": {},
   "source": [
    "include = 'all' displays more information about the dataframe as it also displays statistics describing categorical columns. "
   ]
  },
  {
   "cell_type": "markdown",
   "id": "unlike-companion",
   "metadata": {},
   "source": [
    "#### 3) [PM] Show the output of df.test1.cat.categories, and df.test2.cat.categories. What is this showing? Does it work for df.test3.cat.categories? (If not, then comment this line out.)"
   ]
  },
  {
   "cell_type": "code",
   "execution_count": 6,
   "id": "robust-berry",
   "metadata": {},
   "outputs": [
    {
     "name": "stdout",
     "output_type": "stream",
     "text": [
      "Index(['A', 'B', 'C'], dtype='object')\n",
      "Index(['poor', 'fair', 'good', 'excellent'], dtype='object')\n"
     ]
    }
   ],
   "source": [
    "print(df.test1.cat.categories)\n",
    "print(df.test2.cat.categories)\n",
    "# print(df.test3.cat.categories)"
   ]
  },
  {
   "cell_type": "markdown",
   "id": "multiple-evanescence",
   "metadata": {},
   "source": [
    "This prints out the categories in the columns. Line 3 does not work because it is a numerical data."
   ]
  },
  {
   "cell_type": "markdown",
   "id": "detailed-certification",
   "metadata": {},
   "source": [
    "#### 4) [PM] Show the output of df.test1.cat.codes, and df.test2.cat.codes. What is this showing?"
   ]
  },
  {
   "cell_type": "code",
   "execution_count": 7,
   "id": "friendly-softball",
   "metadata": {},
   "outputs": [
    {
     "name": "stdout",
     "output_type": "stream",
     "text": [
      "A0    0\n",
      "A1    2\n",
      "A2    2\n",
      "A3    1\n",
      "A4    0\n",
      "A5    1\n",
      "A6    2\n",
      "A7    1\n",
      "dtype: int8\n",
      "A0    3\n",
      "A1    1\n",
      "A2    2\n",
      "A3    1\n",
      "A4    0\n",
      "A5    3\n",
      "A6    2\n",
      "A7    2\n",
      "dtype: int8\n"
     ]
    }
   ],
   "source": [
    "print(df.test1.cat.codes)\n",
    "print(df.test2.cat.codes)"
   ]
  },
  {
   "cell_type": "markdown",
   "id": "relevant-train",
   "metadata": {},
   "source": [
    "This is showing the underlying index for each category in each variable."
   ]
  },
  {
   "cell_type": "markdown",
   "id": "appointed-internet",
   "metadata": {},
   "source": [
    "#### 5) [P] Report the counts of each level of the categorical variables."
   ]
  },
  {
   "cell_type": "code",
   "execution_count": 8,
   "id": "loving-tuner",
   "metadata": {},
   "outputs": [
    {
     "data": {
      "text/plain": [
       "B    3\n",
       "C    3\n",
       "A    2\n",
       "Name: test1, dtype: int64"
      ]
     },
     "execution_count": 8,
     "metadata": {},
     "output_type": "execute_result"
    }
   ],
   "source": [
    "df['test1'].value_counts()"
   ]
  },
  {
   "cell_type": "code",
   "execution_count": 9,
   "id": "direct-creek",
   "metadata": {},
   "outputs": [
    {
     "data": {
      "text/plain": [
       "good         3\n",
       "fair         2\n",
       "excellent    2\n",
       "poor         1\n",
       "Name: test2, dtype: int64"
      ]
     },
     "execution_count": 9,
     "metadata": {},
     "output_type": "execute_result"
    }
   ],
   "source": [
    "df['test2'].value_counts()"
   ]
  },
  {
   "cell_type": "markdown",
   "id": "material-variable",
   "metadata": {},
   "source": [
    "#### 6) [P] Report a cross tabulation (i.e. contingency table) between test1 and test2. Include the margins (i.e. the sum of the rows and the columns) in your reported table (HINT: Look up pandas crosstab() function)"
   ]
  },
  {
   "cell_type": "code",
   "execution_count": 10,
   "id": "exposed-alarm",
   "metadata": {},
   "outputs": [
    {
     "data": {
      "text/html": [
       "<div>\n",
       "<style scoped>\n",
       "    .dataframe tbody tr th:only-of-type {\n",
       "        vertical-align: middle;\n",
       "    }\n",
       "\n",
       "    .dataframe tbody tr th {\n",
       "        vertical-align: top;\n",
       "    }\n",
       "\n",
       "    .dataframe thead th {\n",
       "        text-align: right;\n",
       "    }\n",
       "</style>\n",
       "<table border=\"1\" class=\"dataframe\">\n",
       "  <thead>\n",
       "    <tr style=\"text-align: right;\">\n",
       "      <th>test2</th>\n",
       "      <th>poor</th>\n",
       "      <th>fair</th>\n",
       "      <th>good</th>\n",
       "      <th>excellent</th>\n",
       "      <th>All</th>\n",
       "    </tr>\n",
       "    <tr>\n",
       "      <th>test1</th>\n",
       "      <th></th>\n",
       "      <th></th>\n",
       "      <th></th>\n",
       "      <th></th>\n",
       "      <th></th>\n",
       "    </tr>\n",
       "  </thead>\n",
       "  <tbody>\n",
       "    <tr>\n",
       "      <th>A</th>\n",
       "      <td>1</td>\n",
       "      <td>0</td>\n",
       "      <td>0</td>\n",
       "      <td>1</td>\n",
       "      <td>2</td>\n",
       "    </tr>\n",
       "    <tr>\n",
       "      <th>B</th>\n",
       "      <td>0</td>\n",
       "      <td>1</td>\n",
       "      <td>1</td>\n",
       "      <td>1</td>\n",
       "      <td>3</td>\n",
       "    </tr>\n",
       "    <tr>\n",
       "      <th>C</th>\n",
       "      <td>0</td>\n",
       "      <td>1</td>\n",
       "      <td>2</td>\n",
       "      <td>0</td>\n",
       "      <td>3</td>\n",
       "    </tr>\n",
       "    <tr>\n",
       "      <th>All</th>\n",
       "      <td>1</td>\n",
       "      <td>2</td>\n",
       "      <td>3</td>\n",
       "      <td>2</td>\n",
       "      <td>8</td>\n",
       "    </tr>\n",
       "  </tbody>\n",
       "</table>\n",
       "</div>"
      ],
      "text/plain": [
       "test2  poor  fair  good  excellent  All\n",
       "test1                                  \n",
       "A         1     0     0          1    2\n",
       "B         0     1     1          1    3\n",
       "C         0     1     2          0    3\n",
       "All       1     2     3          2    8"
      ]
     },
     "execution_count": 10,
     "metadata": {},
     "output_type": "execute_result"
    }
   ],
   "source": [
    "pd.crosstab(df['test1'], df['test2'], margins = True)"
   ]
  },
  {
   "cell_type": "markdown",
   "id": "split-looking",
   "metadata": {},
   "source": [
    "#### 7) [P] From the previous table, store the contingency table without the margins in a variable called observed"
   ]
  },
  {
   "cell_type": "code",
   "execution_count": 11,
   "id": "false-horror",
   "metadata": {},
   "outputs": [],
   "source": [
    "observed = pd.crosstab(df['test1'], df['test2'], margins = True).iloc[:-1, :-1]"
   ]
  },
  {
   "cell_type": "code",
   "execution_count": 12,
   "id": "quantitative-xerox",
   "metadata": {},
   "outputs": [
    {
     "data": {
      "text/html": [
       "<div>\n",
       "<style scoped>\n",
       "    .dataframe tbody tr th:only-of-type {\n",
       "        vertical-align: middle;\n",
       "    }\n",
       "\n",
       "    .dataframe tbody tr th {\n",
       "        vertical-align: top;\n",
       "    }\n",
       "\n",
       "    .dataframe thead th {\n",
       "        text-align: right;\n",
       "    }\n",
       "</style>\n",
       "<table border=\"1\" class=\"dataframe\">\n",
       "  <thead>\n",
       "    <tr style=\"text-align: right;\">\n",
       "      <th>test2</th>\n",
       "      <th>poor</th>\n",
       "      <th>fair</th>\n",
       "      <th>good</th>\n",
       "      <th>excellent</th>\n",
       "    </tr>\n",
       "    <tr>\n",
       "      <th>test1</th>\n",
       "      <th></th>\n",
       "      <th></th>\n",
       "      <th></th>\n",
       "      <th></th>\n",
       "    </tr>\n",
       "  </thead>\n",
       "  <tbody>\n",
       "    <tr>\n",
       "      <th>A</th>\n",
       "      <td>1</td>\n",
       "      <td>0</td>\n",
       "      <td>0</td>\n",
       "      <td>1</td>\n",
       "    </tr>\n",
       "    <tr>\n",
       "      <th>B</th>\n",
       "      <td>0</td>\n",
       "      <td>1</td>\n",
       "      <td>1</td>\n",
       "      <td>1</td>\n",
       "    </tr>\n",
       "    <tr>\n",
       "      <th>C</th>\n",
       "      <td>0</td>\n",
       "      <td>1</td>\n",
       "      <td>2</td>\n",
       "      <td>0</td>\n",
       "    </tr>\n",
       "  </tbody>\n",
       "</table>\n",
       "</div>"
      ],
      "text/plain": [
       "test2  poor  fair  good  excellent\n",
       "test1                             \n",
       "A         1     0     0          1\n",
       "B         0     1     1          1\n",
       "C         0     1     2          0"
      ]
     },
     "execution_count": 12,
     "metadata": {},
     "output_type": "execute_result"
    }
   ],
   "source": [
    "observed"
   ]
  },
  {
   "cell_type": "markdown",
   "id": "opposed-fifteen",
   "metadata": {},
   "source": [
    "#### 8) [P] Run a chi-squared test to determine whether test1 and test2 are dependent."
   ]
  },
  {
   "cell_type": "code",
   "execution_count": 13,
   "id": "finnish-partnership",
   "metadata": {},
   "outputs": [
    {
     "data": {
      "text/plain": [
       "(6.444444444444444,\n",
       " 0.37528525266160834,\n",
       " 6,\n",
       " array([[0.25 , 0.5  , 0.75 , 0.5  ],\n",
       "        [0.375, 0.75 , 1.125, 0.75 ],\n",
       "        [0.375, 0.75 , 1.125, 0.75 ]]))"
      ]
     },
     "execution_count": 13,
     "metadata": {},
     "output_type": "execute_result"
    }
   ],
   "source": [
    "stats.chi2_contingency(observed, correction = False)"
   ]
  },
  {
   "cell_type": "markdown",
   "id": "velvet-determination",
   "metadata": {},
   "source": [
    "Thus, since our p value is 0.375, which is bigger than our threshold p = 0.05"
   ]
  },
  {
   "cell_type": "markdown",
   "id": "boring-revelation",
   "metadata": {},
   "source": [
    "#### 9) [P] Create a new data frame called df_num, that represents a numeric version of the above. Do NOT do any rescaling of your variables yet!"
   ]
  },
  {
   "cell_type": "code",
   "execution_count": 14,
   "id": "intermediate-vegetable",
   "metadata": {},
   "outputs": [],
   "source": [
    "df_num = pd.DataFrame({'test1':df['test1'].cat.codes, 'test2': df['test2'].cat.codes, 'test3': df['test3']})"
   ]
  },
  {
   "cell_type": "code",
   "execution_count": 15,
   "id": "homeless-cooking",
   "metadata": {},
   "outputs": [
    {
     "data": {
      "text/html": [
       "<div>\n",
       "<style scoped>\n",
       "    .dataframe tbody tr th:only-of-type {\n",
       "        vertical-align: middle;\n",
       "    }\n",
       "\n",
       "    .dataframe tbody tr th {\n",
       "        vertical-align: top;\n",
       "    }\n",
       "\n",
       "    .dataframe thead th {\n",
       "        text-align: right;\n",
       "    }\n",
       "</style>\n",
       "<table border=\"1\" class=\"dataframe\">\n",
       "  <thead>\n",
       "    <tr style=\"text-align: right;\">\n",
       "      <th></th>\n",
       "      <th>test1</th>\n",
       "      <th>test2</th>\n",
       "      <th>test3</th>\n",
       "    </tr>\n",
       "  </thead>\n",
       "  <tbody>\n",
       "    <tr>\n",
       "      <th>A0</th>\n",
       "      <td>0</td>\n",
       "      <td>3</td>\n",
       "      <td>25</td>\n",
       "    </tr>\n",
       "    <tr>\n",
       "      <th>A1</th>\n",
       "      <td>2</td>\n",
       "      <td>1</td>\n",
       "      <td>32</td>\n",
       "    </tr>\n",
       "    <tr>\n",
       "      <th>A2</th>\n",
       "      <td>2</td>\n",
       "      <td>2</td>\n",
       "      <td>60</td>\n",
       "    </tr>\n",
       "    <tr>\n",
       "      <th>A3</th>\n",
       "      <td>1</td>\n",
       "      <td>1</td>\n",
       "      <td>53</td>\n",
       "    </tr>\n",
       "    <tr>\n",
       "      <th>A4</th>\n",
       "      <td>0</td>\n",
       "      <td>0</td>\n",
       "      <td>23</td>\n",
       "    </tr>\n",
       "    <tr>\n",
       "      <th>A5</th>\n",
       "      <td>1</td>\n",
       "      <td>3</td>\n",
       "      <td>37</td>\n",
       "    </tr>\n",
       "    <tr>\n",
       "      <th>A6</th>\n",
       "      <td>2</td>\n",
       "      <td>2</td>\n",
       "      <td>45</td>\n",
       "    </tr>\n",
       "    <tr>\n",
       "      <th>A7</th>\n",
       "      <td>1</td>\n",
       "      <td>2</td>\n",
       "      <td>49</td>\n",
       "    </tr>\n",
       "  </tbody>\n",
       "</table>\n",
       "</div>"
      ],
      "text/plain": [
       "    test1  test2  test3\n",
       "A0      0      3     25\n",
       "A1      2      1     32\n",
       "A2      2      2     60\n",
       "A3      1      1     53\n",
       "A4      0      0     23\n",
       "A5      1      3     37\n",
       "A6      2      2     45\n",
       "A7      1      2     49"
      ]
     },
     "execution_count": 15,
     "metadata": {},
     "output_type": "execute_result"
    }
   ],
   "source": [
    "df_num"
   ]
  },
  {
   "cell_type": "markdown",
   "id": "included-wiring",
   "metadata": {},
   "source": [
    "#### 10) [P] As you learned in lecture, you must rescale your data to fall on a similar scale. \n",
    "There are different approaches to doing so. A standardized z-score is among the most common, but not necessarily always the\n",
    "best approach, especially when you are dealing with numeric representations of true categorical data.\n",
    "Rescaling your data to all fall between 0 and 1 is also a common approach, particularly when you have\n",
    "categorical data.\n",
    "Let's first try to rescale our data to all fall between the values of 0 and 1. Use the MinMaxScaler in\n",
    "sklearn.preprocessing to rescale all variables to fall between 0 and 1. Store the transformed data as a\n",
    "pandas data frame called df_num_zeroone,."
   ]
  },
  {
   "cell_type": "code",
   "execution_count": 16,
   "id": "serious-techno",
   "metadata": {},
   "outputs": [
    {
     "data": {
      "text/plain": [
       "MinMaxScaler()"
      ]
     },
     "execution_count": 16,
     "metadata": {},
     "output_type": "execute_result"
    }
   ],
   "source": [
    "scaler = sklearn.preprocessing.MinMaxScaler()\n",
    "scaler.fit(df_num)"
   ]
  },
  {
   "cell_type": "code",
   "execution_count": 17,
   "id": "preceding-beijing",
   "metadata": {},
   "outputs": [],
   "source": [
    "df_num_zeroone = pd.DataFrame(scaler.transform(df_num), columns = ['test1', 'test2', 'test3'], index = new_index)"
   ]
  },
  {
   "cell_type": "code",
   "execution_count": 18,
   "id": "active-measure",
   "metadata": {},
   "outputs": [
    {
     "data": {
      "text/html": [
       "<div>\n",
       "<style scoped>\n",
       "    .dataframe tbody tr th:only-of-type {\n",
       "        vertical-align: middle;\n",
       "    }\n",
       "\n",
       "    .dataframe tbody tr th {\n",
       "        vertical-align: top;\n",
       "    }\n",
       "\n",
       "    .dataframe thead th {\n",
       "        text-align: right;\n",
       "    }\n",
       "</style>\n",
       "<table border=\"1\" class=\"dataframe\">\n",
       "  <thead>\n",
       "    <tr style=\"text-align: right;\">\n",
       "      <th></th>\n",
       "      <th>test1</th>\n",
       "      <th>test2</th>\n",
       "      <th>test3</th>\n",
       "    </tr>\n",
       "  </thead>\n",
       "  <tbody>\n",
       "    <tr>\n",
       "      <th>A0</th>\n",
       "      <td>0.0</td>\n",
       "      <td>1.000000</td>\n",
       "      <td>0.054054</td>\n",
       "    </tr>\n",
       "    <tr>\n",
       "      <th>A1</th>\n",
       "      <td>1.0</td>\n",
       "      <td>0.333333</td>\n",
       "      <td>0.243243</td>\n",
       "    </tr>\n",
       "    <tr>\n",
       "      <th>A2</th>\n",
       "      <td>1.0</td>\n",
       "      <td>0.666667</td>\n",
       "      <td>1.000000</td>\n",
       "    </tr>\n",
       "    <tr>\n",
       "      <th>A3</th>\n",
       "      <td>0.5</td>\n",
       "      <td>0.333333</td>\n",
       "      <td>0.810811</td>\n",
       "    </tr>\n",
       "    <tr>\n",
       "      <th>A4</th>\n",
       "      <td>0.0</td>\n",
       "      <td>0.000000</td>\n",
       "      <td>0.000000</td>\n",
       "    </tr>\n",
       "    <tr>\n",
       "      <th>A5</th>\n",
       "      <td>0.5</td>\n",
       "      <td>1.000000</td>\n",
       "      <td>0.378378</td>\n",
       "    </tr>\n",
       "    <tr>\n",
       "      <th>A6</th>\n",
       "      <td>1.0</td>\n",
       "      <td>0.666667</td>\n",
       "      <td>0.594595</td>\n",
       "    </tr>\n",
       "    <tr>\n",
       "      <th>A7</th>\n",
       "      <td>0.5</td>\n",
       "      <td>0.666667</td>\n",
       "      <td>0.702703</td>\n",
       "    </tr>\n",
       "  </tbody>\n",
       "</table>\n",
       "</div>"
      ],
      "text/plain": [
       "    test1     test2     test3\n",
       "A0    0.0  1.000000  0.054054\n",
       "A1    1.0  0.333333  0.243243\n",
       "A2    1.0  0.666667  1.000000\n",
       "A3    0.5  0.333333  0.810811\n",
       "A4    0.0  0.000000  0.000000\n",
       "A5    0.5  1.000000  0.378378\n",
       "A6    1.0  0.666667  0.594595\n",
       "A7    0.5  0.666667  0.702703"
      ]
     },
     "execution_count": 18,
     "metadata": {},
     "output_type": "execute_result"
    }
   ],
   "source": [
    "df_num_zeroone"
   ]
  },
  {
   "cell_type": "markdown",
   "id": "increased-border",
   "metadata": {},
   "source": [
    "#### 11) [P] Notice the value of test3. Quite often, when we have solid knowledge of what we expect our range to be, then we can rescale our data using that knowledge. \n",
    "In the case of test3, you learned that the data must\n",
    "fall between 0 and 100. Therefore, reassign test3 so that the min and max before rescaling are assuming to\n",
    "be between 0 and 100, respectively. (i.e. simply divide the original variable by 100)"
   ]
  },
  {
   "cell_type": "code",
   "execution_count": 19,
   "id": "listed-judgment",
   "metadata": {},
   "outputs": [],
   "source": [
    "df_num_zeroone['test3'] = df_num['test3']/100"
   ]
  },
  {
   "cell_type": "code",
   "execution_count": 20,
   "id": "swedish-questionnaire",
   "metadata": {},
   "outputs": [
    {
     "data": {
      "text/html": [
       "<div>\n",
       "<style scoped>\n",
       "    .dataframe tbody tr th:only-of-type {\n",
       "        vertical-align: middle;\n",
       "    }\n",
       "\n",
       "    .dataframe tbody tr th {\n",
       "        vertical-align: top;\n",
       "    }\n",
       "\n",
       "    .dataframe thead th {\n",
       "        text-align: right;\n",
       "    }\n",
       "</style>\n",
       "<table border=\"1\" class=\"dataframe\">\n",
       "  <thead>\n",
       "    <tr style=\"text-align: right;\">\n",
       "      <th></th>\n",
       "      <th>test1</th>\n",
       "      <th>test2</th>\n",
       "      <th>test3</th>\n",
       "    </tr>\n",
       "  </thead>\n",
       "  <tbody>\n",
       "    <tr>\n",
       "      <th>A0</th>\n",
       "      <td>0.0</td>\n",
       "      <td>1.000000</td>\n",
       "      <td>0.25</td>\n",
       "    </tr>\n",
       "    <tr>\n",
       "      <th>A1</th>\n",
       "      <td>1.0</td>\n",
       "      <td>0.333333</td>\n",
       "      <td>0.32</td>\n",
       "    </tr>\n",
       "    <tr>\n",
       "      <th>A2</th>\n",
       "      <td>1.0</td>\n",
       "      <td>0.666667</td>\n",
       "      <td>0.60</td>\n",
       "    </tr>\n",
       "    <tr>\n",
       "      <th>A3</th>\n",
       "      <td>0.5</td>\n",
       "      <td>0.333333</td>\n",
       "      <td>0.53</td>\n",
       "    </tr>\n",
       "    <tr>\n",
       "      <th>A4</th>\n",
       "      <td>0.0</td>\n",
       "      <td>0.000000</td>\n",
       "      <td>0.23</td>\n",
       "    </tr>\n",
       "    <tr>\n",
       "      <th>A5</th>\n",
       "      <td>0.5</td>\n",
       "      <td>1.000000</td>\n",
       "      <td>0.37</td>\n",
       "    </tr>\n",
       "    <tr>\n",
       "      <th>A6</th>\n",
       "      <td>1.0</td>\n",
       "      <td>0.666667</td>\n",
       "      <td>0.45</td>\n",
       "    </tr>\n",
       "    <tr>\n",
       "      <th>A7</th>\n",
       "      <td>0.5</td>\n",
       "      <td>0.666667</td>\n",
       "      <td>0.49</td>\n",
       "    </tr>\n",
       "  </tbody>\n",
       "</table>\n",
       "</div>"
      ],
      "text/plain": [
       "    test1     test2  test3\n",
       "A0    0.0  1.000000   0.25\n",
       "A1    1.0  0.333333   0.32\n",
       "A2    1.0  0.666667   0.60\n",
       "A3    0.5  0.333333   0.53\n",
       "A4    0.0  0.000000   0.23\n",
       "A5    0.5  1.000000   0.37\n",
       "A6    1.0  0.666667   0.45\n",
       "A7    0.5  0.666667   0.49"
      ]
     },
     "execution_count": 20,
     "metadata": {},
     "output_type": "execute_result"
    }
   ],
   "source": [
    "df_num_zeroone"
   ]
  },
  {
   "cell_type": "markdown",
   "id": "vulnerable-sport",
   "metadata": {},
   "source": [
    "#### 12) [P] Compute a single distance matrix called distmat_zeroone."
   ]
  },
  {
   "cell_type": "code",
   "execution_count": 21,
   "id": "cardiac-straight",
   "metadata": {},
   "outputs": [],
   "source": [
    "distmat_zeroone = pairwise_distances(df_num_zeroone, metric = 'euclidean')"
   ]
  },
  {
   "cell_type": "code",
   "execution_count": 22,
   "id": "written-ballet",
   "metadata": {},
   "outputs": [],
   "source": [
    "distmat_zeroone = pd.DataFrame(np.round(distmat_zeroone, 3), columns = new_index, index = new_index)"
   ]
  },
  {
   "cell_type": "code",
   "execution_count": 23,
   "id": "impressed-offense",
   "metadata": {},
   "outputs": [
    {
     "data": {
      "text/html": [
       "<div>\n",
       "<style scoped>\n",
       "    .dataframe tbody tr th:only-of-type {\n",
       "        vertical-align: middle;\n",
       "    }\n",
       "\n",
       "    .dataframe tbody tr th {\n",
       "        vertical-align: top;\n",
       "    }\n",
       "\n",
       "    .dataframe thead th {\n",
       "        text-align: right;\n",
       "    }\n",
       "</style>\n",
       "<table border=\"1\" class=\"dataframe\">\n",
       "  <thead>\n",
       "    <tr style=\"text-align: right;\">\n",
       "      <th></th>\n",
       "      <th>A0</th>\n",
       "      <th>A1</th>\n",
       "      <th>A2</th>\n",
       "      <th>A3</th>\n",
       "      <th>A4</th>\n",
       "      <th>A5</th>\n",
       "      <th>A6</th>\n",
       "      <th>A7</th>\n",
       "    </tr>\n",
       "  </thead>\n",
       "  <tbody>\n",
       "    <tr>\n",
       "      <th>A0</th>\n",
       "      <td>0.000</td>\n",
       "      <td>1.204</td>\n",
       "      <td>1.111</td>\n",
       "      <td>0.879</td>\n",
       "      <td>1.000</td>\n",
       "      <td>0.514</td>\n",
       "      <td>1.073</td>\n",
       "      <td>0.647</td>\n",
       "    </tr>\n",
       "    <tr>\n",
       "      <th>A1</th>\n",
       "      <td>1.204</td>\n",
       "      <td>0.000</td>\n",
       "      <td>0.435</td>\n",
       "      <td>0.542</td>\n",
       "      <td>1.058</td>\n",
       "      <td>0.835</td>\n",
       "      <td>0.358</td>\n",
       "      <td>0.625</td>\n",
       "    </tr>\n",
       "    <tr>\n",
       "      <th>A2</th>\n",
       "      <td>1.111</td>\n",
       "      <td>0.435</td>\n",
       "      <td>0.000</td>\n",
       "      <td>0.605</td>\n",
       "      <td>1.258</td>\n",
       "      <td>0.643</td>\n",
       "      <td>0.150</td>\n",
       "      <td>0.512</td>\n",
       "    </tr>\n",
       "    <tr>\n",
       "      <th>A3</th>\n",
       "      <td>0.879</td>\n",
       "      <td>0.542</td>\n",
       "      <td>0.605</td>\n",
       "      <td>0.000</td>\n",
       "      <td>0.672</td>\n",
       "      <td>0.686</td>\n",
       "      <td>0.606</td>\n",
       "      <td>0.336</td>\n",
       "    </tr>\n",
       "    <tr>\n",
       "      <th>A4</th>\n",
       "      <td>1.000</td>\n",
       "      <td>1.058</td>\n",
       "      <td>1.258</td>\n",
       "      <td>0.672</td>\n",
       "      <td>0.000</td>\n",
       "      <td>1.127</td>\n",
       "      <td>1.222</td>\n",
       "      <td>0.873</td>\n",
       "    </tr>\n",
       "    <tr>\n",
       "      <th>A5</th>\n",
       "      <td>0.514</td>\n",
       "      <td>0.835</td>\n",
       "      <td>0.643</td>\n",
       "      <td>0.686</td>\n",
       "      <td>1.127</td>\n",
       "      <td>0.000</td>\n",
       "      <td>0.606</td>\n",
       "      <td>0.354</td>\n",
       "    </tr>\n",
       "    <tr>\n",
       "      <th>A6</th>\n",
       "      <td>1.073</td>\n",
       "      <td>0.358</td>\n",
       "      <td>0.150</td>\n",
       "      <td>0.606</td>\n",
       "      <td>1.222</td>\n",
       "      <td>0.606</td>\n",
       "      <td>0.000</td>\n",
       "      <td>0.502</td>\n",
       "    </tr>\n",
       "    <tr>\n",
       "      <th>A7</th>\n",
       "      <td>0.647</td>\n",
       "      <td>0.625</td>\n",
       "      <td>0.512</td>\n",
       "      <td>0.336</td>\n",
       "      <td>0.873</td>\n",
       "      <td>0.354</td>\n",
       "      <td>0.502</td>\n",
       "      <td>0.000</td>\n",
       "    </tr>\n",
       "  </tbody>\n",
       "</table>\n",
       "</div>"
      ],
      "text/plain": [
       "       A0     A1     A2     A3     A4     A5     A6     A7\n",
       "A0  0.000  1.204  1.111  0.879  1.000  0.514  1.073  0.647\n",
       "A1  1.204  0.000  0.435  0.542  1.058  0.835  0.358  0.625\n",
       "A2  1.111  0.435  0.000  0.605  1.258  0.643  0.150  0.512\n",
       "A3  0.879  0.542  0.605  0.000  0.672  0.686  0.606  0.336\n",
       "A4  1.000  1.058  1.258  0.672  0.000  1.127  1.222  0.873\n",
       "A5  0.514  0.835  0.643  0.686  1.127  0.000  0.606  0.354\n",
       "A6  1.073  0.358  0.150  0.606  1.222  0.606  0.000  0.502\n",
       "A7  0.647  0.625  0.512  0.336  0.873  0.354  0.502  0.000"
      ]
     },
     "execution_count": 23,
     "metadata": {},
     "output_type": "execute_result"
    }
   ],
   "source": [
    "distmat_zeroone"
   ]
  },
  {
   "cell_type": "markdown",
   "id": "municipal-teaching",
   "metadata": {},
   "source": [
    "#### 13) [P] Output the top three closest pairs of observations."
   ]
  },
  {
   "cell_type": "code",
   "execution_count": 24,
   "id": "valuable-volunteer",
   "metadata": {},
   "outputs": [],
   "source": [
    "def print_obs(i, ind, dist, t):\n",
    "    '''\n",
    "    i: index in for loop\n",
    "    ind: tuple of ind lower triangle matrix, ind[0] > ind[1]\n",
    "    t : type, either closest or farthest\n",
    "    '''\n",
    "    p1 = new_index[ind[0]]\n",
    "    p2 = new_index[ind[1]]\n",
    "    print(f\"{t}: #{i}: [{p1}, {p2}], dist = {dist: .3f}\")\n",
    "    print(df.loc[[p1, p2]])"
   ]
  },
  {
   "cell_type": "code",
   "execution_count": 25,
   "id": "alive-intensity",
   "metadata": {},
   "outputs": [
    {
     "name": "stdout",
     "output_type": "stream",
     "text": [
      "16\n",
      "Closest: #0: [A2, A6], dist =  0.150\n",
      "   test1 test2  test3\n",
      "A2     C  good     60\n",
      "A6     C  good     45\n",
      "\n",
      "21\n",
      "Closest: #1: [A3, A7], dist =  0.336\n",
      "   test1 test2  test3\n",
      "A3     B  fair     53\n",
      "A7     B  good     49\n",
      "\n",
      "26\n",
      "Closest: #2: [A5, A7], dist =  0.354\n",
      "   test1      test2  test3\n",
      "A5     B  excellent     37\n",
      "A7     B       good     49\n",
      "\n"
     ]
    }
   ],
   "source": [
    "from scipy.spatial.distance import pdist\n",
    "dist_arr = pdist(df_num_zeroone)\n",
    "tup_index = np.triu_indices(df.shape[0], k = 1)\n",
    "for i in range(3):\n",
    "    min_ind = dist_arr.argmin()\n",
    "    print(min_ind)\n",
    "    print_obs(i, (tup_index[0][min_ind], tup_index[1][min_ind]), dist_arr[min_ind], 'Closest')\n",
    "    dist_arr[min_ind] = float(\"inf\")\n",
    "    print()"
   ]
  },
  {
   "cell_type": "markdown",
   "id": "following-medline",
   "metadata": {},
   "source": [
    "#### 14) [P] Now, output the three most distant (least similar) pairs of observations."
   ]
  },
  {
   "cell_type": "code",
   "execution_count": 26,
   "id": "uniform-property",
   "metadata": {},
   "outputs": [
    {
     "name": "stdout",
     "output_type": "stream",
     "text": [
      "Most distant: #0: [A2, A4], dist =  1.258\n",
      "   test1 test2  test3\n",
      "A2     C  good     60\n",
      "A4     A  poor     23\n",
      "\n",
      "Most distant: #1: [A4, A6], dist =  1.222\n",
      "   test1 test2  test3\n",
      "A4     A  poor     23\n",
      "A6     C  good     45\n",
      "\n",
      "Most distant: #2: [A0, A1], dist =  1.204\n",
      "   test1      test2  test3\n",
      "A0     A  excellent     25\n",
      "A1     C       fair     32\n",
      "\n"
     ]
    }
   ],
   "source": [
    "dist_arr = pdist(df_num_zeroone)\n",
    "for i in range(3):\n",
    "    max_ind = dist_arr.argmax()\n",
    "    print_obs(i, (tup_index[0][max_ind], tup_index[1][max_ind]), dist_arr[max_ind], 'Most distant')\n",
    "    dist_arr[max_ind] = -float(\"inf\")\n",
    "    print()"
   ]
  },
  {
   "cell_type": "markdown",
   "id": "verified-marine",
   "metadata": {},
   "source": [
    "#### 15) [P] Create a new data frame, df_num_binarized, that stores the a binarized version for test1 and test2."
   ]
  },
  {
   "cell_type": "code",
   "execution_count": 27,
   "id": "improving-brooklyn",
   "metadata": {},
   "outputs": [],
   "source": [
    "encoder = sklearn.preprocessing.OneHotEncoder(sparse = False, dtype = int)\n",
    "encoder.fit(df.loc[:, ['test1', 'test2']])\n",
    "df_num_binarized = pd.DataFrame(encoder.transform(df[['test1', 'test2']]), index = new_index, columns = encoder.get_feature_names(['test1', 'test2']))\n",
    "df_num_binarized['test3'] = df_num_zeroone['test3']"
   ]
  },
  {
   "cell_type": "code",
   "execution_count": 28,
   "id": "integral-church",
   "metadata": {},
   "outputs": [
    {
     "data": {
      "text/html": [
       "<div>\n",
       "<style scoped>\n",
       "    .dataframe tbody tr th:only-of-type {\n",
       "        vertical-align: middle;\n",
       "    }\n",
       "\n",
       "    .dataframe tbody tr th {\n",
       "        vertical-align: top;\n",
       "    }\n",
       "\n",
       "    .dataframe thead th {\n",
       "        text-align: right;\n",
       "    }\n",
       "</style>\n",
       "<table border=\"1\" class=\"dataframe\">\n",
       "  <thead>\n",
       "    <tr style=\"text-align: right;\">\n",
       "      <th></th>\n",
       "      <th>test1_A</th>\n",
       "      <th>test1_B</th>\n",
       "      <th>test1_C</th>\n",
       "      <th>test2_excellent</th>\n",
       "      <th>test2_fair</th>\n",
       "      <th>test2_good</th>\n",
       "      <th>test2_poor</th>\n",
       "      <th>test3</th>\n",
       "    </tr>\n",
       "  </thead>\n",
       "  <tbody>\n",
       "    <tr>\n",
       "      <th>A0</th>\n",
       "      <td>1</td>\n",
       "      <td>0</td>\n",
       "      <td>0</td>\n",
       "      <td>1</td>\n",
       "      <td>0</td>\n",
       "      <td>0</td>\n",
       "      <td>0</td>\n",
       "      <td>0.25</td>\n",
       "    </tr>\n",
       "    <tr>\n",
       "      <th>A1</th>\n",
       "      <td>0</td>\n",
       "      <td>0</td>\n",
       "      <td>1</td>\n",
       "      <td>0</td>\n",
       "      <td>1</td>\n",
       "      <td>0</td>\n",
       "      <td>0</td>\n",
       "      <td>0.32</td>\n",
       "    </tr>\n",
       "    <tr>\n",
       "      <th>A2</th>\n",
       "      <td>0</td>\n",
       "      <td>0</td>\n",
       "      <td>1</td>\n",
       "      <td>0</td>\n",
       "      <td>0</td>\n",
       "      <td>1</td>\n",
       "      <td>0</td>\n",
       "      <td>0.60</td>\n",
       "    </tr>\n",
       "    <tr>\n",
       "      <th>A3</th>\n",
       "      <td>0</td>\n",
       "      <td>1</td>\n",
       "      <td>0</td>\n",
       "      <td>0</td>\n",
       "      <td>1</td>\n",
       "      <td>0</td>\n",
       "      <td>0</td>\n",
       "      <td>0.53</td>\n",
       "    </tr>\n",
       "    <tr>\n",
       "      <th>A4</th>\n",
       "      <td>1</td>\n",
       "      <td>0</td>\n",
       "      <td>0</td>\n",
       "      <td>0</td>\n",
       "      <td>0</td>\n",
       "      <td>0</td>\n",
       "      <td>1</td>\n",
       "      <td>0.23</td>\n",
       "    </tr>\n",
       "    <tr>\n",
       "      <th>A5</th>\n",
       "      <td>0</td>\n",
       "      <td>1</td>\n",
       "      <td>0</td>\n",
       "      <td>1</td>\n",
       "      <td>0</td>\n",
       "      <td>0</td>\n",
       "      <td>0</td>\n",
       "      <td>0.37</td>\n",
       "    </tr>\n",
       "    <tr>\n",
       "      <th>A6</th>\n",
       "      <td>0</td>\n",
       "      <td>0</td>\n",
       "      <td>1</td>\n",
       "      <td>0</td>\n",
       "      <td>0</td>\n",
       "      <td>1</td>\n",
       "      <td>0</td>\n",
       "      <td>0.45</td>\n",
       "    </tr>\n",
       "    <tr>\n",
       "      <th>A7</th>\n",
       "      <td>0</td>\n",
       "      <td>1</td>\n",
       "      <td>0</td>\n",
       "      <td>0</td>\n",
       "      <td>0</td>\n",
       "      <td>1</td>\n",
       "      <td>0</td>\n",
       "      <td>0.49</td>\n",
       "    </tr>\n",
       "  </tbody>\n",
       "</table>\n",
       "</div>"
      ],
      "text/plain": [
       "    test1_A  test1_B  test1_C  test2_excellent  test2_fair  test2_good  \\\n",
       "A0        1        0        0                1           0           0   \n",
       "A1        0        0        1                0           1           0   \n",
       "A2        0        0        1                0           0           1   \n",
       "A3        0        1        0                0           1           0   \n",
       "A4        1        0        0                0           0           0   \n",
       "A5        0        1        0                1           0           0   \n",
       "A6        0        0        1                0           0           1   \n",
       "A7        0        1        0                0           0           1   \n",
       "\n",
       "    test2_poor  test3  \n",
       "A0           0   0.25  \n",
       "A1           0   0.32  \n",
       "A2           0   0.60  \n",
       "A3           0   0.53  \n",
       "A4           1   0.23  \n",
       "A5           0   0.37  \n",
       "A6           0   0.45  \n",
       "A7           0   0.49  "
      ]
     },
     "execution_count": 28,
     "metadata": {},
     "output_type": "execute_result"
    }
   ],
   "source": [
    "df_num_binarized"
   ]
  },
  {
   "cell_type": "markdown",
   "id": "broad-closure",
   "metadata": {},
   "source": [
    "#### 16) [P] Now, compute distmat_binarized by computing the distance matrix for the df_binarized."
   ]
  },
  {
   "cell_type": "code",
   "execution_count": 29,
   "id": "breathing-california",
   "metadata": {},
   "outputs": [
    {
     "data": {
      "text/html": [
       "<div>\n",
       "<style scoped>\n",
       "    .dataframe tbody tr th:only-of-type {\n",
       "        vertical-align: middle;\n",
       "    }\n",
       "\n",
       "    .dataframe tbody tr th {\n",
       "        vertical-align: top;\n",
       "    }\n",
       "\n",
       "    .dataframe thead th {\n",
       "        text-align: right;\n",
       "    }\n",
       "</style>\n",
       "<table border=\"1\" class=\"dataframe\">\n",
       "  <thead>\n",
       "    <tr style=\"text-align: right;\">\n",
       "      <th></th>\n",
       "      <th>A0</th>\n",
       "      <th>A1</th>\n",
       "      <th>A2</th>\n",
       "      <th>A3</th>\n",
       "      <th>A4</th>\n",
       "      <th>A5</th>\n",
       "      <th>A6</th>\n",
       "      <th>A7</th>\n",
       "    </tr>\n",
       "  </thead>\n",
       "  <tbody>\n",
       "    <tr>\n",
       "      <th>A0</th>\n",
       "      <td>0.000</td>\n",
       "      <td>2.001</td>\n",
       "      <td>2.030</td>\n",
       "      <td>2.020</td>\n",
       "      <td>1.414</td>\n",
       "      <td>1.419</td>\n",
       "      <td>2.010</td>\n",
       "      <td>2.014</td>\n",
       "    </tr>\n",
       "    <tr>\n",
       "      <th>A1</th>\n",
       "      <td>2.001</td>\n",
       "      <td>0.000</td>\n",
       "      <td>1.442</td>\n",
       "      <td>1.430</td>\n",
       "      <td>2.002</td>\n",
       "      <td>2.001</td>\n",
       "      <td>1.420</td>\n",
       "      <td>2.007</td>\n",
       "    </tr>\n",
       "    <tr>\n",
       "      <th>A2</th>\n",
       "      <td>2.030</td>\n",
       "      <td>1.442</td>\n",
       "      <td>0.000</td>\n",
       "      <td>2.001</td>\n",
       "      <td>2.034</td>\n",
       "      <td>2.013</td>\n",
       "      <td>0.150</td>\n",
       "      <td>1.418</td>\n",
       "    </tr>\n",
       "    <tr>\n",
       "      <th>A3</th>\n",
       "      <td>2.020</td>\n",
       "      <td>1.430</td>\n",
       "      <td>2.001</td>\n",
       "      <td>0.000</td>\n",
       "      <td>2.022</td>\n",
       "      <td>1.423</td>\n",
       "      <td>2.002</td>\n",
       "      <td>1.415</td>\n",
       "    </tr>\n",
       "    <tr>\n",
       "      <th>A4</th>\n",
       "      <td>1.414</td>\n",
       "      <td>2.002</td>\n",
       "      <td>2.034</td>\n",
       "      <td>2.022</td>\n",
       "      <td>0.000</td>\n",
       "      <td>2.005</td>\n",
       "      <td>2.012</td>\n",
       "      <td>2.017</td>\n",
       "    </tr>\n",
       "    <tr>\n",
       "      <th>A5</th>\n",
       "      <td>1.419</td>\n",
       "      <td>2.001</td>\n",
       "      <td>2.013</td>\n",
       "      <td>1.423</td>\n",
       "      <td>2.005</td>\n",
       "      <td>0.000</td>\n",
       "      <td>2.002</td>\n",
       "      <td>1.419</td>\n",
       "    </tr>\n",
       "    <tr>\n",
       "      <th>A6</th>\n",
       "      <td>2.010</td>\n",
       "      <td>1.420</td>\n",
       "      <td>0.150</td>\n",
       "      <td>2.002</td>\n",
       "      <td>2.012</td>\n",
       "      <td>2.002</td>\n",
       "      <td>0.000</td>\n",
       "      <td>1.415</td>\n",
       "    </tr>\n",
       "    <tr>\n",
       "      <th>A7</th>\n",
       "      <td>2.014</td>\n",
       "      <td>2.007</td>\n",
       "      <td>1.418</td>\n",
       "      <td>1.415</td>\n",
       "      <td>2.017</td>\n",
       "      <td>1.419</td>\n",
       "      <td>1.415</td>\n",
       "      <td>0.000</td>\n",
       "    </tr>\n",
       "  </tbody>\n",
       "</table>\n",
       "</div>"
      ],
      "text/plain": [
       "       A0     A1     A2     A3     A4     A5     A6     A7\n",
       "A0  0.000  2.001  2.030  2.020  1.414  1.419  2.010  2.014\n",
       "A1  2.001  0.000  1.442  1.430  2.002  2.001  1.420  2.007\n",
       "A2  2.030  1.442  0.000  2.001  2.034  2.013  0.150  1.418\n",
       "A3  2.020  1.430  2.001  0.000  2.022  1.423  2.002  1.415\n",
       "A4  1.414  2.002  2.034  2.022  0.000  2.005  2.012  2.017\n",
       "A5  1.419  2.001  2.013  1.423  2.005  0.000  2.002  1.419\n",
       "A6  2.010  1.420  0.150  2.002  2.012  2.002  0.000  1.415\n",
       "A7  2.014  2.007  1.418  1.415  2.017  1.419  1.415  0.000"
      ]
     },
     "execution_count": 29,
     "metadata": {},
     "output_type": "execute_result"
    }
   ],
   "source": [
    "distmat_binarized = pairwise_distances(df_num_binarized, metric = 'euclidean')\n",
    "pd.DataFrame(np.round(distmat_binarized, 3), columns = new_index, index = new_index)"
   ]
  },
  {
   "cell_type": "markdown",
   "id": "above-florida",
   "metadata": {},
   "source": [
    "#### 17) [P] Report the three closest pairs, and the three most distant pairs from distmat_binarized"
   ]
  },
  {
   "cell_type": "code",
   "execution_count": 30,
   "id": "hairy-arthur",
   "metadata": {},
   "outputs": [
    {
     "name": "stdout",
     "output_type": "stream",
     "text": [
      "Closest: #0: [A2, A6], dist =  0.150\n",
      "   test1 test2  test3\n",
      "A2     C  good     60\n",
      "A6     C  good     45\n",
      "\n",
      "Closest: #1: [A0, A4], dist =  1.414\n",
      "   test1      test2  test3\n",
      "A0     A  excellent     25\n",
      "A4     A       poor     23\n",
      "\n",
      "Closest: #2: [A3, A7], dist =  1.415\n",
      "   test1 test2  test3\n",
      "A3     B  fair     53\n",
      "A7     B  good     49\n",
      "\n"
     ]
    }
   ],
   "source": [
    "dist_arr_bin = pdist(df_num_binarized)\n",
    "tup_index = np.triu_indices(df.shape[0], k = 1)\n",
    "for i in range(3):\n",
    "    min_ind = dist_arr_bin.argmin()\n",
    "    print_obs(i, (tup_index[0][min_ind], tup_index[1][min_ind]), dist_arr_bin[min_ind], 'Closest')\n",
    "    dist_arr_bin[min_ind] = float(\"inf\")\n",
    "    print()"
   ]
  },
  {
   "cell_type": "code",
   "execution_count": 31,
   "id": "graduate-barrel",
   "metadata": {},
   "outputs": [
    {
     "name": "stdout",
     "output_type": "stream",
     "text": [
      "Most distant: #0: [A2, A4], dist =  2.034\n",
      "   test1 test2  test3\n",
      "A2     C  good     60\n",
      "A4     A  poor     23\n",
      "\n",
      "Most distant: #1: [A0, A2], dist =  2.030\n",
      "   test1      test2  test3\n",
      "A0     A  excellent     25\n",
      "A2     C       good     60\n",
      "\n",
      "Most distant: #2: [A3, A4], dist =  2.022\n",
      "   test1 test2  test3\n",
      "A3     B  fair     53\n",
      "A4     A  poor     23\n",
      "\n"
     ]
    }
   ],
   "source": [
    "dist_arr_bin = pdist(df_num_binarized)\n",
    "for i in range(3):\n",
    "    max_ind = dist_arr_bin.argmax()\n",
    "    print_obs(i, (tup_index[0][max_ind], tup_index[1][max_ind]), dist_arr_bin[max_ind], 'Most distant')\n",
    "    dist_arr_bin[max_ind] = -float(\"inf\")\n",
    "    print()"
   ]
  },
  {
   "cell_type": "markdown",
   "id": "decimal-walter",
   "metadata": {},
   "source": [
    "#### 18) [M] Take a moment and compare and contrast your results. \n",
    "Which method do you think have the better\n",
    "results? Why? Which variable do you think was the distinguishing player in affecting the different outcomes\n",
    "between both of the above approaches to transforming your data to numeric results? Why? Summarize what\n",
    "would have been the best transformation to make for all three variables that would have given the most\n",
    "accurate results."
   ]
  },
  {
   "cell_type": "markdown",
   "id": "mineral-reducing",
   "metadata": {},
   "source": [
    "I personally think the first method is better as the 'test2' variable is ordinal and has more categories and thus should be given more attention between the two (test1 and test2).  \n",
    "However, I think both methods kind of hand-wavy in the sense that we should use binarization for test1 and minmax for test2 as test1 is categorical nominal (no level, thus, there should not be different distances among categories), and test2 is categorical ordinal and thus should have distances among the categories. That would be the best transformation that gives the most accurate results."
   ]
  },
  {
   "cell_type": "markdown",
   "id": "blessed-liberal",
   "metadata": {},
   "source": [
    "#### 19) [P] Load in your next dataset using the following:"
   ]
  },
  {
   "cell_type": "code",
   "execution_count": 32,
   "id": "attended-separate",
   "metadata": {},
   "outputs": [],
   "source": [
    "df_car_crashes = sns.load_dataset('car_crashes')"
   ]
  },
  {
   "cell_type": "markdown",
   "id": "demographic-version",
   "metadata": {},
   "source": [
    "#### 20) [P] Preprocess your data."
   ]
  },
  {
   "cell_type": "code",
   "execution_count": 33,
   "id": "liable-dividend",
   "metadata": {},
   "outputs": [],
   "source": [
    "df_car_crashes.set_index(df_car_crashes['abbrev'], drop = True, inplace = True)\n",
    "df_car_crashes = df_car_crashes.rename_axis('state')"
   ]
  },
  {
   "cell_type": "code",
   "execution_count": 34,
   "id": "supported-telescope",
   "metadata": {},
   "outputs": [
    {
     "data": {
      "text/html": [
       "<div>\n",
       "<style scoped>\n",
       "    .dataframe tbody tr th:only-of-type {\n",
       "        vertical-align: middle;\n",
       "    }\n",
       "\n",
       "    .dataframe tbody tr th {\n",
       "        vertical-align: top;\n",
       "    }\n",
       "\n",
       "    .dataframe thead th {\n",
       "        text-align: right;\n",
       "    }\n",
       "</style>\n",
       "<table border=\"1\" class=\"dataframe\">\n",
       "  <thead>\n",
       "    <tr style=\"text-align: right;\">\n",
       "      <th></th>\n",
       "      <th>total</th>\n",
       "      <th>speeding</th>\n",
       "      <th>alcohol</th>\n",
       "      <th>not_distracted</th>\n",
       "      <th>no_previous</th>\n",
       "      <th>ins_premium</th>\n",
       "      <th>ins_losses</th>\n",
       "    </tr>\n",
       "    <tr>\n",
       "      <th>state</th>\n",
       "      <th></th>\n",
       "      <th></th>\n",
       "      <th></th>\n",
       "      <th></th>\n",
       "      <th></th>\n",
       "      <th></th>\n",
       "      <th></th>\n",
       "    </tr>\n",
       "  </thead>\n",
       "  <tbody>\n",
       "    <tr>\n",
       "      <th>AL</th>\n",
       "      <td>18.8</td>\n",
       "      <td>7.332</td>\n",
       "      <td>5.640</td>\n",
       "      <td>18.048</td>\n",
       "      <td>15.040</td>\n",
       "      <td>784.55</td>\n",
       "      <td>145.08</td>\n",
       "    </tr>\n",
       "    <tr>\n",
       "      <th>AK</th>\n",
       "      <td>18.1</td>\n",
       "      <td>7.421</td>\n",
       "      <td>4.525</td>\n",
       "      <td>16.290</td>\n",
       "      <td>17.014</td>\n",
       "      <td>1053.48</td>\n",
       "      <td>133.93</td>\n",
       "    </tr>\n",
       "    <tr>\n",
       "      <th>AZ</th>\n",
       "      <td>18.6</td>\n",
       "      <td>6.510</td>\n",
       "      <td>5.208</td>\n",
       "      <td>15.624</td>\n",
       "      <td>17.856</td>\n",
       "      <td>899.47</td>\n",
       "      <td>110.35</td>\n",
       "    </tr>\n",
       "    <tr>\n",
       "      <th>AR</th>\n",
       "      <td>22.4</td>\n",
       "      <td>4.032</td>\n",
       "      <td>5.824</td>\n",
       "      <td>21.056</td>\n",
       "      <td>21.280</td>\n",
       "      <td>827.34</td>\n",
       "      <td>142.39</td>\n",
       "    </tr>\n",
       "    <tr>\n",
       "      <th>CA</th>\n",
       "      <td>12.0</td>\n",
       "      <td>4.200</td>\n",
       "      <td>3.360</td>\n",
       "      <td>10.920</td>\n",
       "      <td>10.680</td>\n",
       "      <td>878.41</td>\n",
       "      <td>165.63</td>\n",
       "    </tr>\n",
       "  </tbody>\n",
       "</table>\n",
       "</div>"
      ],
      "text/plain": [
       "       total  speeding  alcohol  not_distracted  no_previous  ins_premium  \\\n",
       "state                                                                       \n",
       "AL      18.8     7.332    5.640          18.048       15.040       784.55   \n",
       "AK      18.1     7.421    4.525          16.290       17.014      1053.48   \n",
       "AZ      18.6     6.510    5.208          15.624       17.856       899.47   \n",
       "AR      22.4     4.032    5.824          21.056       21.280       827.34   \n",
       "CA      12.0     4.200    3.360          10.920       10.680       878.41   \n",
       "\n",
       "       ins_losses  \n",
       "state              \n",
       "AL         145.08  \n",
       "AK         133.93  \n",
       "AZ         110.35  \n",
       "AR         142.39  \n",
       "CA         165.63  "
      ]
     },
     "execution_count": 34,
     "metadata": {},
     "output_type": "execute_result"
    }
   ],
   "source": [
    "df_car_crashes = df_car_crashes.drop('abbrev', axis = 1)\n",
    "df_car_crashes.head(5)"
   ]
  },
  {
   "cell_type": "markdown",
   "id": "meaningful-sperm",
   "metadata": {},
   "source": [
    "#### 21) [P] Create a new dataframe called df_car_crashes_zscore that represents the zscore transformation for df_car_crashes. Again, show the first five rows."
   ]
  },
  {
   "cell_type": "code",
   "execution_count": 35,
   "id": "broken-folks",
   "metadata": {},
   "outputs": [
    {
     "data": {
      "text/html": [
       "<div>\n",
       "<style scoped>\n",
       "    .dataframe tbody tr th:only-of-type {\n",
       "        vertical-align: middle;\n",
       "    }\n",
       "\n",
       "    .dataframe tbody tr th {\n",
       "        vertical-align: top;\n",
       "    }\n",
       "\n",
       "    .dataframe thead th {\n",
       "        text-align: right;\n",
       "    }\n",
       "</style>\n",
       "<table border=\"1\" class=\"dataframe\">\n",
       "  <thead>\n",
       "    <tr style=\"text-align: right;\">\n",
       "      <th></th>\n",
       "      <th>total</th>\n",
       "      <th>speeding</th>\n",
       "      <th>alcohol</th>\n",
       "      <th>not_distracted</th>\n",
       "      <th>no_previous</th>\n",
       "      <th>ins_premium</th>\n",
       "      <th>ins_losses</th>\n",
       "    </tr>\n",
       "    <tr>\n",
       "      <th>state</th>\n",
       "      <th></th>\n",
       "      <th></th>\n",
       "      <th></th>\n",
       "      <th></th>\n",
       "      <th></th>\n",
       "      <th></th>\n",
       "      <th></th>\n",
       "    </tr>\n",
       "  </thead>\n",
       "  <tbody>\n",
       "    <tr>\n",
       "      <th>AL</th>\n",
       "      <td>0.737446</td>\n",
       "      <td>1.168148</td>\n",
       "      <td>0.439938</td>\n",
       "      <td>1.002301</td>\n",
       "      <td>0.277692</td>\n",
       "      <td>-0.580083</td>\n",
       "      <td>0.430514</td>\n",
       "    </tr>\n",
       "    <tr>\n",
       "      <th>AK</th>\n",
       "      <td>0.565936</td>\n",
       "      <td>1.212695</td>\n",
       "      <td>-0.211311</td>\n",
       "      <td>0.608532</td>\n",
       "      <td>0.807258</td>\n",
       "      <td>0.943258</td>\n",
       "      <td>-0.022900</td>\n",
       "    </tr>\n",
       "    <tr>\n",
       "      <th>AZ</th>\n",
       "      <td>0.688443</td>\n",
       "      <td>0.756709</td>\n",
       "      <td>0.187615</td>\n",
       "      <td>0.459357</td>\n",
       "      <td>1.033141</td>\n",
       "      <td>0.070876</td>\n",
       "      <td>-0.981778</td>\n",
       "    </tr>\n",
       "    <tr>\n",
       "      <th>AR</th>\n",
       "      <td>1.619498</td>\n",
       "      <td>-0.483614</td>\n",
       "      <td>0.547408</td>\n",
       "      <td>1.676052</td>\n",
       "      <td>1.951700</td>\n",
       "      <td>-0.337701</td>\n",
       "      <td>0.321125</td>\n",
       "    </tr>\n",
       "    <tr>\n",
       "      <th>CA</th>\n",
       "      <td>-0.928653</td>\n",
       "      <td>-0.399524</td>\n",
       "      <td>-0.891763</td>\n",
       "      <td>-0.594276</td>\n",
       "      <td>-0.891968</td>\n",
       "      <td>-0.048418</td>\n",
       "      <td>1.266178</td>\n",
       "    </tr>\n",
       "  </tbody>\n",
       "</table>\n",
       "</div>"
      ],
      "text/plain": [
       "          total  speeding   alcohol  not_distracted  no_previous  ins_premium  \\\n",
       "state                                                                           \n",
       "AL     0.737446  1.168148  0.439938        1.002301     0.277692    -0.580083   \n",
       "AK     0.565936  1.212695 -0.211311        0.608532     0.807258     0.943258   \n",
       "AZ     0.688443  0.756709  0.187615        0.459357     1.033141     0.070876   \n",
       "AR     1.619498 -0.483614  0.547408        1.676052     1.951700    -0.337701   \n",
       "CA    -0.928653 -0.399524 -0.891763       -0.594276    -0.891968    -0.048418   \n",
       "\n",
       "       ins_losses  \n",
       "state              \n",
       "AL       0.430514  \n",
       "AK      -0.022900  \n",
       "AZ      -0.981778  \n",
       "AR       0.321125  \n",
       "CA       1.266178  "
      ]
     },
     "execution_count": 35,
     "metadata": {},
     "output_type": "execute_result"
    }
   ],
   "source": [
    "df_car_crashes_zscore = df_car_crashes.apply(zscore)\n",
    "df_car_crashes_zscore.head(5)"
   ]
  },
  {
   "cell_type": "markdown",
   "id": "basic-medicine",
   "metadata": {},
   "source": [
    "#### 22) [P] Create a distance matrix called distmat_cars based on the df_car_crashes_zscore."
   ]
  },
  {
   "cell_type": "code",
   "execution_count": 36,
   "id": "sized-steal",
   "metadata": {},
   "outputs": [
    {
     "data": {
      "text/html": [
       "<div>\n",
       "<style scoped>\n",
       "    .dataframe tbody tr th:only-of-type {\n",
       "        vertical-align: middle;\n",
       "    }\n",
       "\n",
       "    .dataframe tbody tr th {\n",
       "        vertical-align: top;\n",
       "    }\n",
       "\n",
       "    .dataframe thead th {\n",
       "        text-align: right;\n",
       "    }\n",
       "</style>\n",
       "<table border=\"1\" class=\"dataframe\">\n",
       "  <thead>\n",
       "    <tr style=\"text-align: right;\">\n",
       "      <th>state</th>\n",
       "      <th>AL</th>\n",
       "      <th>AK</th>\n",
       "      <th>AZ</th>\n",
       "      <th>AR</th>\n",
       "      <th>CA</th>\n",
       "      <th>CO</th>\n",
       "      <th>CT</th>\n",
       "      <th>DE</th>\n",
       "      <th>DC</th>\n",
       "      <th>FL</th>\n",
       "      <th>...</th>\n",
       "      <th>SD</th>\n",
       "      <th>TN</th>\n",
       "      <th>TX</th>\n",
       "      <th>UT</th>\n",
       "      <th>VT</th>\n",
       "      <th>VA</th>\n",
       "      <th>WA</th>\n",
       "      <th>WV</th>\n",
       "      <th>WI</th>\n",
       "      <th>WY</th>\n",
       "    </tr>\n",
       "    <tr>\n",
       "      <th>state</th>\n",
       "      <th></th>\n",
       "      <th></th>\n",
       "      <th></th>\n",
       "      <th></th>\n",
       "      <th></th>\n",
       "      <th></th>\n",
       "      <th></th>\n",
       "      <th></th>\n",
       "      <th></th>\n",
       "      <th></th>\n",
       "      <th></th>\n",
       "      <th></th>\n",
       "      <th></th>\n",
       "      <th></th>\n",
       "      <th></th>\n",
       "      <th></th>\n",
       "      <th></th>\n",
       "      <th></th>\n",
       "      <th></th>\n",
       "      <th></th>\n",
       "      <th></th>\n",
       "    </tr>\n",
       "  </thead>\n",
       "  <tbody>\n",
       "    <tr>\n",
       "      <th>AL</th>\n",
       "      <td>0.000</td>\n",
       "      <td>1.849</td>\n",
       "      <td>1.876</td>\n",
       "      <td>2.616</td>\n",
       "      <td>3.450</td>\n",
       "      <td>2.687</td>\n",
       "      <td>4.023</td>\n",
       "      <td>2.427</td>\n",
       "      <td>6.627</td>\n",
       "      <td>2.863</td>\n",
       "      <td>...</td>\n",
       "      <td>2.273</td>\n",
       "      <td>1.760</td>\n",
       "      <td>1.768</td>\n",
       "      <td>4.074</td>\n",
       "      <td>2.984</td>\n",
       "      <td>3.691</td>\n",
       "      <td>4.099</td>\n",
       "      <td>2.659</td>\n",
       "      <td>3.882</td>\n",
       "      <td>1.346</td>\n",
       "    </tr>\n",
       "    <tr>\n",
       "      <th>AK</th>\n",
       "      <td>1.849</td>\n",
       "      <td>0.000</td>\n",
       "      <td>1.461</td>\n",
       "      <td>2.962</td>\n",
       "      <td>3.504</td>\n",
       "      <td>2.675</td>\n",
       "      <td>3.720</td>\n",
       "      <td>1.305</td>\n",
       "      <td>5.923</td>\n",
       "      <td>2.014</td>\n",
       "      <td>...</td>\n",
       "      <td>3.031</td>\n",
       "      <td>2.613</td>\n",
       "      <td>1.983</td>\n",
       "      <td>3.820</td>\n",
       "      <td>3.231</td>\n",
       "      <td>3.940</td>\n",
       "      <td>3.874</td>\n",
       "      <td>2.760</td>\n",
       "      <td>4.080</td>\n",
       "      <td>1.794</td>\n",
       "    </tr>\n",
       "    <tr>\n",
       "      <th>AZ</th>\n",
       "      <td>1.876</td>\n",
       "      <td>1.461</td>\n",
       "      <td>0.000</td>\n",
       "      <td>2.593</td>\n",
       "      <td>3.873</td>\n",
       "      <td>2.691</td>\n",
       "      <td>4.341</td>\n",
       "      <td>2.323</td>\n",
       "      <td>6.312</td>\n",
       "      <td>2.472</td>\n",
       "      <td>...</td>\n",
       "      <td>1.806</td>\n",
       "      <td>2.414</td>\n",
       "      <td>2.496</td>\n",
       "      <td>3.639</td>\n",
       "      <td>2.565</td>\n",
       "      <td>3.911</td>\n",
       "      <td>3.717</td>\n",
       "      <td>3.095</td>\n",
       "      <td>3.452</td>\n",
       "      <td>1.165</td>\n",
       "    </tr>\n",
       "    <tr>\n",
       "      <th>AR</th>\n",
       "      <td>2.616</td>\n",
       "      <td>2.962</td>\n",
       "      <td>2.593</td>\n",
       "      <td>0.000</td>\n",
       "      <td>4.774</td>\n",
       "      <td>4.082</td>\n",
       "      <td>5.512</td>\n",
       "      <td>3.376</td>\n",
       "      <td>7.648</td>\n",
       "      <td>2.723</td>\n",
       "      <td>...</td>\n",
       "      <td>2.756</td>\n",
       "      <td>2.090</td>\n",
       "      <td>2.858</td>\n",
       "      <td>5.376</td>\n",
       "      <td>4.013</td>\n",
       "      <td>4.578</td>\n",
       "      <td>5.501</td>\n",
       "      <td>2.401</td>\n",
       "      <td>5.215</td>\n",
       "      <td>3.105</td>\n",
       "    </tr>\n",
       "    <tr>\n",
       "      <th>CA</th>\n",
       "      <td>3.450</td>\n",
       "      <td>3.504</td>\n",
       "      <td>3.873</td>\n",
       "      <td>4.774</td>\n",
       "      <td>0.000</td>\n",
       "      <td>1.382</td>\n",
       "      <td>1.360</td>\n",
       "      <td>2.801</td>\n",
       "      <td>3.725</td>\n",
       "      <td>3.294</td>\n",
       "      <td>...</td>\n",
       "      <td>4.730</td>\n",
       "      <td>2.985</td>\n",
       "      <td>4.199</td>\n",
       "      <td>2.525</td>\n",
       "      <td>2.638</td>\n",
       "      <td>1.212</td>\n",
       "      <td>2.322</td>\n",
       "      <td>5.589</td>\n",
       "      <td>3.094</td>\n",
       "      <td>3.393</td>\n",
       "    </tr>\n",
       "    <tr>\n",
       "      <th>CO</th>\n",
       "      <td>2.687</td>\n",
       "      <td>2.675</td>\n",
       "      <td>2.691</td>\n",
       "      <td>4.082</td>\n",
       "      <td>1.382</td>\n",
       "      <td>0.000</td>\n",
       "      <td>2.171</td>\n",
       "      <td>2.349</td>\n",
       "      <td>4.294</td>\n",
       "      <td>2.885</td>\n",
       "      <td>...</td>\n",
       "      <td>3.599</td>\n",
       "      <td>2.450</td>\n",
       "      <td>3.624</td>\n",
       "      <td>1.893</td>\n",
       "      <td>1.580</td>\n",
       "      <td>1.580</td>\n",
       "      <td>1.825</td>\n",
       "      <td>4.943</td>\n",
       "      <td>2.114</td>\n",
       "      <td>2.217</td>\n",
       "    </tr>\n",
       "    <tr>\n",
       "      <th>CT</th>\n",
       "      <td>4.023</td>\n",
       "      <td>3.720</td>\n",
       "      <td>4.341</td>\n",
       "      <td>5.512</td>\n",
       "      <td>1.360</td>\n",
       "      <td>2.171</td>\n",
       "      <td>0.000</td>\n",
       "      <td>2.793</td>\n",
       "      <td>3.101</td>\n",
       "      <td>3.490</td>\n",
       "      <td>...</td>\n",
       "      <td>5.401</td>\n",
       "      <td>3.817</td>\n",
       "      <td>4.346</td>\n",
       "      <td>3.070</td>\n",
       "      <td>3.461</td>\n",
       "      <td>2.372</td>\n",
       "      <td>2.500</td>\n",
       "      <td>5.938</td>\n",
       "      <td>3.628</td>\n",
       "      <td>3.900</td>\n",
       "    </tr>\n",
       "    <tr>\n",
       "      <th>DE</th>\n",
       "      <td>2.427</td>\n",
       "      <td>1.305</td>\n",
       "      <td>2.323</td>\n",
       "      <td>3.376</td>\n",
       "      <td>2.801</td>\n",
       "      <td>2.349</td>\n",
       "      <td>2.793</td>\n",
       "      <td>0.000</td>\n",
       "      <td>5.107</td>\n",
       "      <td>1.443</td>\n",
       "      <td>...</td>\n",
       "      <td>3.828</td>\n",
       "      <td>2.557</td>\n",
       "      <td>2.171</td>\n",
       "      <td>3.771</td>\n",
       "      <td>3.324</td>\n",
       "      <td>3.389</td>\n",
       "      <td>3.571</td>\n",
       "      <td>3.438</td>\n",
       "      <td>4.038</td>\n",
       "      <td>2.427</td>\n",
       "    </tr>\n",
       "    <tr>\n",
       "      <th>DC</th>\n",
       "      <td>6.627</td>\n",
       "      <td>5.923</td>\n",
       "      <td>6.312</td>\n",
       "      <td>7.648</td>\n",
       "      <td>3.725</td>\n",
       "      <td>4.294</td>\n",
       "      <td>3.101</td>\n",
       "      <td>5.107</td>\n",
       "      <td>0.000</td>\n",
       "      <td>5.343</td>\n",
       "      <td>...</td>\n",
       "      <td>7.356</td>\n",
       "      <td>6.231</td>\n",
       "      <td>7.019</td>\n",
       "      <td>3.805</td>\n",
       "      <td>4.899</td>\n",
       "      <td>4.000</td>\n",
       "      <td>3.304</td>\n",
       "      <td>8.419</td>\n",
       "      <td>4.940</td>\n",
       "      <td>6.197</td>\n",
       "    </tr>\n",
       "    <tr>\n",
       "      <th>FL</th>\n",
       "      <td>2.863</td>\n",
       "      <td>2.014</td>\n",
       "      <td>2.472</td>\n",
       "      <td>2.723</td>\n",
       "      <td>3.294</td>\n",
       "      <td>2.885</td>\n",
       "      <td>3.490</td>\n",
       "      <td>1.443</td>\n",
       "      <td>5.343</td>\n",
       "      <td>0.000</td>\n",
       "      <td>...</td>\n",
       "      <td>3.697</td>\n",
       "      <td>2.344</td>\n",
       "      <td>2.623</td>\n",
       "      <td>4.180</td>\n",
       "      <td>3.397</td>\n",
       "      <td>3.459</td>\n",
       "      <td>3.963</td>\n",
       "      <td>3.440</td>\n",
       "      <td>4.436</td>\n",
       "      <td>2.963</td>\n",
       "    </tr>\n",
       "    <tr>\n",
       "      <th>GA</th>\n",
       "      <td>2.740</td>\n",
       "      <td>2.609</td>\n",
       "      <td>2.619</td>\n",
       "      <td>3.132</td>\n",
       "      <td>1.995</td>\n",
       "      <td>1.593</td>\n",
       "      <td>2.813</td>\n",
       "      <td>2.197</td>\n",
       "      <td>4.612</td>\n",
       "      <td>1.878</td>\n",
       "      <td>...</td>\n",
       "      <td>3.457</td>\n",
       "      <td>1.849</td>\n",
       "      <td>3.485</td>\n",
       "      <td>2.800</td>\n",
       "      <td>1.992</td>\n",
       "      <td>1.742</td>\n",
       "      <td>2.777</td>\n",
       "      <td>4.448</td>\n",
       "      <td>3.238</td>\n",
       "      <td>2.680</td>\n",
       "    </tr>\n",
       "    <tr>\n",
       "      <th>HI</th>\n",
       "      <td>1.968</td>\n",
       "      <td>2.310</td>\n",
       "      <td>2.090</td>\n",
       "      <td>3.887</td>\n",
       "      <td>4.368</td>\n",
       "      <td>3.365</td>\n",
       "      <td>4.523</td>\n",
       "      <td>2.950</td>\n",
       "      <td>6.948</td>\n",
       "      <td>3.693</td>\n",
       "      <td>...</td>\n",
       "      <td>2.600</td>\n",
       "      <td>3.261</td>\n",
       "      <td>2.117</td>\n",
       "      <td>4.480</td>\n",
       "      <td>3.572</td>\n",
       "      <td>4.728</td>\n",
       "      <td>4.265</td>\n",
       "      <td>3.337</td>\n",
       "      <td>3.833</td>\n",
       "      <td>1.486</td>\n",
       "    </tr>\n",
       "    <tr>\n",
       "      <th>ID</th>\n",
       "      <td>3.227</td>\n",
       "      <td>3.463</td>\n",
       "      <td>2.330</td>\n",
       "      <td>4.160</td>\n",
       "      <td>4.023</td>\n",
       "      <td>2.745</td>\n",
       "      <td>4.727</td>\n",
       "      <td>4.007</td>\n",
       "      <td>6.094</td>\n",
       "      <td>4.131</td>\n",
       "      <td>...</td>\n",
       "      <td>2.182</td>\n",
       "      <td>3.440</td>\n",
       "      <td>4.456</td>\n",
       "      <td>2.686</td>\n",
       "      <td>1.552</td>\n",
       "      <td>3.639</td>\n",
       "      <td>2.946</td>\n",
       "      <td>5.211</td>\n",
       "      <td>2.220</td>\n",
       "      <td>2.207</td>\n",
       "    </tr>\n",
       "    <tr>\n",
       "      <th>IL</th>\n",
       "      <td>2.649</td>\n",
       "      <td>2.873</td>\n",
       "      <td>2.779</td>\n",
       "      <td>4.037</td>\n",
       "      <td>1.416</td>\n",
       "      <td>0.575</td>\n",
       "      <td>2.256</td>\n",
       "      <td>2.541</td>\n",
       "      <td>4.371</td>\n",
       "      <td>2.930</td>\n",
       "      <td>...</td>\n",
       "      <td>3.451</td>\n",
       "      <td>2.345</td>\n",
       "      <td>3.625</td>\n",
       "      <td>2.045</td>\n",
       "      <td>1.378</td>\n",
       "      <td>1.423</td>\n",
       "      <td>1.823</td>\n",
       "      <td>4.981</td>\n",
       "      <td>2.162</td>\n",
       "      <td>2.263</td>\n",
       "    </tr>\n",
       "    <tr>\n",
       "      <th>IN</th>\n",
       "      <td>2.937</td>\n",
       "      <td>3.210</td>\n",
       "      <td>2.441</td>\n",
       "      <td>3.700</td>\n",
       "      <td>2.833</td>\n",
       "      <td>1.789</td>\n",
       "      <td>3.703</td>\n",
       "      <td>3.340</td>\n",
       "      <td>5.138</td>\n",
       "      <td>3.257</td>\n",
       "      <td>...</td>\n",
       "      <td>2.607</td>\n",
       "      <td>2.553</td>\n",
       "      <td>4.144</td>\n",
       "      <td>2.150</td>\n",
       "      <td>0.432</td>\n",
       "      <td>2.248</td>\n",
       "      <td>2.272</td>\n",
       "      <td>5.076</td>\n",
       "      <td>2.112</td>\n",
       "      <td>2.300</td>\n",
       "    </tr>\n",
       "    <tr>\n",
       "      <th>IA</th>\n",
       "      <td>3.115</td>\n",
       "      <td>3.587</td>\n",
       "      <td>2.842</td>\n",
       "      <td>3.547</td>\n",
       "      <td>3.017</td>\n",
       "      <td>2.214</td>\n",
       "      <td>4.044</td>\n",
       "      <td>3.710</td>\n",
       "      <td>5.452</td>\n",
       "      <td>3.431</td>\n",
       "      <td>...</td>\n",
       "      <td>2.760</td>\n",
       "      <td>2.450</td>\n",
       "      <td>4.409</td>\n",
       "      <td>2.594</td>\n",
       "      <td>1.110</td>\n",
       "      <td>2.229</td>\n",
       "      <td>2.815</td>\n",
       "      <td>5.169</td>\n",
       "      <td>2.639</td>\n",
       "      <td>2.753</td>\n",
       "    </tr>\n",
       "    <tr>\n",
       "      <th>KS</th>\n",
       "      <td>1.859</td>\n",
       "      <td>2.173</td>\n",
       "      <td>1.774</td>\n",
       "      <td>2.805</td>\n",
       "      <td>2.489</td>\n",
       "      <td>1.448</td>\n",
       "      <td>3.355</td>\n",
       "      <td>2.326</td>\n",
       "      <td>5.470</td>\n",
       "      <td>2.441</td>\n",
       "      <td>...</td>\n",
       "      <td>2.511</td>\n",
       "      <td>1.427</td>\n",
       "      <td>3.019</td>\n",
       "      <td>2.765</td>\n",
       "      <td>1.636</td>\n",
       "      <td>2.319</td>\n",
       "      <td>2.900</td>\n",
       "      <td>3.937</td>\n",
       "      <td>2.642</td>\n",
       "      <td>1.553</td>\n",
       "    </tr>\n",
       "    <tr>\n",
       "      <th>KY</th>\n",
       "      <td>1.951</td>\n",
       "      <td>2.155</td>\n",
       "      <td>1.856</td>\n",
       "      <td>1.793</td>\n",
       "      <td>3.377</td>\n",
       "      <td>2.636</td>\n",
       "      <td>4.080</td>\n",
       "      <td>2.379</td>\n",
       "      <td>6.165</td>\n",
       "      <td>1.883</td>\n",
       "      <td>...</td>\n",
       "      <td>2.495</td>\n",
       "      <td>1.164</td>\n",
       "      <td>2.643</td>\n",
       "      <td>3.921</td>\n",
       "      <td>2.720</td>\n",
       "      <td>3.201</td>\n",
       "      <td>3.963</td>\n",
       "      <td>3.126</td>\n",
       "      <td>3.815</td>\n",
       "      <td>2.166</td>\n",
       "    </tr>\n",
       "    <tr>\n",
       "      <th>LA</th>\n",
       "      <td>3.864</td>\n",
       "      <td>3.261</td>\n",
       "      <td>4.244</td>\n",
       "      <td>4.014</td>\n",
       "      <td>4.932</td>\n",
       "      <td>4.790</td>\n",
       "      <td>4.802</td>\n",
       "      <td>2.755</td>\n",
       "      <td>7.276</td>\n",
       "      <td>3.124</td>\n",
       "      <td>...</td>\n",
       "      <td>5.476</td>\n",
       "      <td>3.904</td>\n",
       "      <td>2.496</td>\n",
       "      <td>6.435</td>\n",
       "      <td>5.818</td>\n",
       "      <td>5.553</td>\n",
       "      <td>6.195</td>\n",
       "      <td>3.135</td>\n",
       "      <td>6.343</td>\n",
       "      <td>4.357</td>\n",
       "    </tr>\n",
       "    <tr>\n",
       "      <th>ME</th>\n",
       "      <td>2.804</td>\n",
       "      <td>3.213</td>\n",
       "      <td>2.324</td>\n",
       "      <td>4.161</td>\n",
       "      <td>3.400</td>\n",
       "      <td>2.191</td>\n",
       "      <td>4.083</td>\n",
       "      <td>3.642</td>\n",
       "      <td>5.661</td>\n",
       "      <td>3.887</td>\n",
       "      <td>...</td>\n",
       "      <td>2.282</td>\n",
       "      <td>3.081</td>\n",
       "      <td>4.118</td>\n",
       "      <td>2.306</td>\n",
       "      <td>1.128</td>\n",
       "      <td>3.111</td>\n",
       "      <td>2.438</td>\n",
       "      <td>5.077</td>\n",
       "      <td>1.877</td>\n",
       "      <td>1.896</td>\n",
       "    </tr>\n",
       "    <tr>\n",
       "      <th>MD</th>\n",
       "      <td>4.050</td>\n",
       "      <td>3.810</td>\n",
       "      <td>4.515</td>\n",
       "      <td>5.093</td>\n",
       "      <td>1.648</td>\n",
       "      <td>2.550</td>\n",
       "      <td>1.522</td>\n",
       "      <td>2.717</td>\n",
       "      <td>4.031</td>\n",
       "      <td>3.302</td>\n",
       "      <td>...</td>\n",
       "      <td>5.648</td>\n",
       "      <td>3.475</td>\n",
       "      <td>4.164</td>\n",
       "      <td>3.916</td>\n",
       "      <td>3.993</td>\n",
       "      <td>2.515</td>\n",
       "      <td>3.572</td>\n",
       "      <td>5.628</td>\n",
       "      <td>4.224</td>\n",
       "      <td>4.142</td>\n",
       "    </tr>\n",
       "    <tr>\n",
       "      <th>MA</th>\n",
       "      <td>5.453</td>\n",
       "      <td>5.160</td>\n",
       "      <td>5.289</td>\n",
       "      <td>6.536</td>\n",
       "      <td>2.507</td>\n",
       "      <td>3.019</td>\n",
       "      <td>2.348</td>\n",
       "      <td>4.426</td>\n",
       "      <td>1.789</td>\n",
       "      <td>4.599</td>\n",
       "      <td>...</td>\n",
       "      <td>6.062</td>\n",
       "      <td>4.916</td>\n",
       "      <td>6.087</td>\n",
       "      <td>2.708</td>\n",
       "      <td>3.469</td>\n",
       "      <td>2.473</td>\n",
       "      <td>2.036</td>\n",
       "      <td>7.538</td>\n",
       "      <td>3.511</td>\n",
       "      <td>5.018</td>\n",
       "    </tr>\n",
       "    <tr>\n",
       "      <th>MI</th>\n",
       "      <td>3.471</td>\n",
       "      <td>2.994</td>\n",
       "      <td>3.509</td>\n",
       "      <td>4.352</td>\n",
       "      <td>1.698</td>\n",
       "      <td>2.010</td>\n",
       "      <td>1.671</td>\n",
       "      <td>2.111</td>\n",
       "      <td>3.504</td>\n",
       "      <td>2.157</td>\n",
       "      <td>...</td>\n",
       "      <td>4.563</td>\n",
       "      <td>2.958</td>\n",
       "      <td>3.794</td>\n",
       "      <td>3.019</td>\n",
       "      <td>2.908</td>\n",
       "      <td>2.116</td>\n",
       "      <td>2.590</td>\n",
       "      <td>5.085</td>\n",
       "      <td>3.699</td>\n",
       "      <td>3.446</td>\n",
       "    </tr>\n",
       "    <tr>\n",
       "      <th>MN</th>\n",
       "      <td>4.735</td>\n",
       "      <td>4.795</td>\n",
       "      <td>4.670</td>\n",
       "      <td>5.819</td>\n",
       "      <td>2.042</td>\n",
       "      <td>2.280</td>\n",
       "      <td>2.659</td>\n",
       "      <td>4.296</td>\n",
       "      <td>3.168</td>\n",
       "      <td>4.460</td>\n",
       "      <td>...</td>\n",
       "      <td>5.188</td>\n",
       "      <td>4.141</td>\n",
       "      <td>5.710</td>\n",
       "      <td>1.939</td>\n",
       "      <td>2.443</td>\n",
       "      <td>1.514</td>\n",
       "      <td>1.649</td>\n",
       "      <td>7.041</td>\n",
       "      <td>2.601</td>\n",
       "      <td>4.286</td>\n",
       "    </tr>\n",
       "    <tr>\n",
       "      <th>MS</th>\n",
       "      <td>4.470</td>\n",
       "      <td>4.271</td>\n",
       "      <td>4.110</td>\n",
       "      <td>4.692</td>\n",
       "      <td>3.438</td>\n",
       "      <td>3.079</td>\n",
       "      <td>3.817</td>\n",
       "      <td>3.613</td>\n",
       "      <td>5.417</td>\n",
       "      <td>3.701</td>\n",
       "      <td>...</td>\n",
       "      <td>5.073</td>\n",
       "      <td>3.418</td>\n",
       "      <td>4.594</td>\n",
       "      <td>4.311</td>\n",
       "      <td>3.830</td>\n",
       "      <td>3.268</td>\n",
       "      <td>3.986</td>\n",
       "      <td>5.838</td>\n",
       "      <td>3.375</td>\n",
       "      <td>3.950</td>\n",
       "    </tr>\n",
       "    <tr>\n",
       "      <th>MO</th>\n",
       "      <td>1.087</td>\n",
       "      <td>2.000</td>\n",
       "      <td>2.032</td>\n",
       "      <td>3.295</td>\n",
       "      <td>2.593</td>\n",
       "      <td>1.782</td>\n",
       "      <td>3.142</td>\n",
       "      <td>2.171</td>\n",
       "      <td>5.764</td>\n",
       "      <td>2.836</td>\n",
       "      <td>...</td>\n",
       "      <td>2.640</td>\n",
       "      <td>1.836</td>\n",
       "      <td>2.236</td>\n",
       "      <td>3.282</td>\n",
       "      <td>2.330</td>\n",
       "      <td>2.912</td>\n",
       "      <td>3.171</td>\n",
       "      <td>3.599</td>\n",
       "      <td>3.020</td>\n",
       "      <td>1.152</td>\n",
       "    </tr>\n",
       "    <tr>\n",
       "      <th>MT</th>\n",
       "      <td>3.495</td>\n",
       "      <td>3.875</td>\n",
       "      <td>2.986</td>\n",
       "      <td>3.964</td>\n",
       "      <td>6.286</td>\n",
       "      <td>5.170</td>\n",
       "      <td>6.567</td>\n",
       "      <td>4.647</td>\n",
       "      <td>8.635</td>\n",
       "      <td>4.680</td>\n",
       "      <td>...</td>\n",
       "      <td>2.416</td>\n",
       "      <td>4.296</td>\n",
       "      <td>3.394</td>\n",
       "      <td>6.084</td>\n",
       "      <td>4.738</td>\n",
       "      <td>6.276</td>\n",
       "      <td>5.859</td>\n",
       "      <td>3.636</td>\n",
       "      <td>5.189</td>\n",
       "      <td>3.126</td>\n",
       "    </tr>\n",
       "    <tr>\n",
       "      <th>NE</th>\n",
       "      <td>3.308</td>\n",
       "      <td>3.668</td>\n",
       "      <td>2.928</td>\n",
       "      <td>3.634</td>\n",
       "      <td>2.981</td>\n",
       "      <td>2.250</td>\n",
       "      <td>3.813</td>\n",
       "      <td>3.550</td>\n",
       "      <td>5.170</td>\n",
       "      <td>3.139</td>\n",
       "      <td>...</td>\n",
       "      <td>2.937</td>\n",
       "      <td>2.435</td>\n",
       "      <td>4.265</td>\n",
       "      <td>2.891</td>\n",
       "      <td>1.339</td>\n",
       "      <td>2.176</td>\n",
       "      <td>2.680</td>\n",
       "      <td>5.253</td>\n",
       "      <td>2.569</td>\n",
       "      <td>2.865</td>\n",
       "    </tr>\n",
       "    <tr>\n",
       "      <th>NV</th>\n",
       "      <td>2.249</td>\n",
       "      <td>1.566</td>\n",
       "      <td>2.021</td>\n",
       "      <td>3.406</td>\n",
       "      <td>2.218</td>\n",
       "      <td>1.522</td>\n",
       "      <td>2.440</td>\n",
       "      <td>1.037</td>\n",
       "      <td>4.634</td>\n",
       "      <td>1.638</td>\n",
       "      <td>...</td>\n",
       "      <td>3.326</td>\n",
       "      <td>2.266</td>\n",
       "      <td>2.596</td>\n",
       "      <td>2.900</td>\n",
       "      <td>2.336</td>\n",
       "      <td>2.625</td>\n",
       "      <td>2.667</td>\n",
       "      <td>3.912</td>\n",
       "      <td>3.208</td>\n",
       "      <td>1.986</td>\n",
       "    </tr>\n",
       "    <tr>\n",
       "      <th>NH</th>\n",
       "      <td>3.707</td>\n",
       "      <td>3.863</td>\n",
       "      <td>3.575</td>\n",
       "      <td>5.070</td>\n",
       "      <td>2.026</td>\n",
       "      <td>1.487</td>\n",
       "      <td>2.706</td>\n",
       "      <td>3.649</td>\n",
       "      <td>3.930</td>\n",
       "      <td>3.951</td>\n",
       "      <td>...</td>\n",
       "      <td>4.024</td>\n",
       "      <td>3.453</td>\n",
       "      <td>4.823</td>\n",
       "      <td>1.243</td>\n",
       "      <td>1.341</td>\n",
       "      <td>1.687</td>\n",
       "      <td>0.999</td>\n",
       "      <td>6.119</td>\n",
       "      <td>1.665</td>\n",
       "      <td>3.105</td>\n",
       "    </tr>\n",
       "    <tr>\n",
       "      <th>NJ</th>\n",
       "      <td>5.352</td>\n",
       "      <td>4.658</td>\n",
       "      <td>5.230</td>\n",
       "      <td>6.070</td>\n",
       "      <td>2.768</td>\n",
       "      <td>3.475</td>\n",
       "      <td>2.135</td>\n",
       "      <td>3.619</td>\n",
       "      <td>2.179</td>\n",
       "      <td>3.634</td>\n",
       "      <td>...</td>\n",
       "      <td>6.363</td>\n",
       "      <td>4.734</td>\n",
       "      <td>5.470</td>\n",
       "      <td>3.905</td>\n",
       "      <td>4.356</td>\n",
       "      <td>3.155</td>\n",
       "      <td>3.343</td>\n",
       "      <td>6.802</td>\n",
       "      <td>4.752</td>\n",
       "      <td>5.208</td>\n",
       "    </tr>\n",
       "    <tr>\n",
       "      <th>NM</th>\n",
       "      <td>2.711</td>\n",
       "      <td>2.483</td>\n",
       "      <td>1.747</td>\n",
       "      <td>2.588</td>\n",
       "      <td>3.284</td>\n",
       "      <td>2.255</td>\n",
       "      <td>3.963</td>\n",
       "      <td>2.525</td>\n",
       "      <td>5.667</td>\n",
       "      <td>2.151</td>\n",
       "      <td>...</td>\n",
       "      <td>2.637</td>\n",
       "      <td>1.922</td>\n",
       "      <td>3.293</td>\n",
       "      <td>3.350</td>\n",
       "      <td>2.147</td>\n",
       "      <td>2.940</td>\n",
       "      <td>3.340</td>\n",
       "      <td>4.062</td>\n",
       "      <td>2.981</td>\n",
       "      <td>2.142</td>\n",
       "    </tr>\n",
       "    <tr>\n",
       "      <th>NY</th>\n",
       "      <td>4.241</td>\n",
       "      <td>3.472</td>\n",
       "      <td>4.116</td>\n",
       "      <td>5.286</td>\n",
       "      <td>2.135</td>\n",
       "      <td>2.525</td>\n",
       "      <td>1.403</td>\n",
       "      <td>2.514</td>\n",
       "      <td>2.725</td>\n",
       "      <td>2.852</td>\n",
       "      <td>...</td>\n",
       "      <td>5.338</td>\n",
       "      <td>3.941</td>\n",
       "      <td>4.393</td>\n",
       "      <td>3.155</td>\n",
       "      <td>3.527</td>\n",
       "      <td>2.775</td>\n",
       "      <td>2.598</td>\n",
       "      <td>5.785</td>\n",
       "      <td>3.970</td>\n",
       "      <td>4.043</td>\n",
       "    </tr>\n",
       "    <tr>\n",
       "      <th>NC</th>\n",
       "      <td>1.240</td>\n",
       "      <td>2.277</td>\n",
       "      <td>1.781</td>\n",
       "      <td>3.168</td>\n",
       "      <td>3.006</td>\n",
       "      <td>1.984</td>\n",
       "      <td>3.711</td>\n",
       "      <td>2.742</td>\n",
       "      <td>6.028</td>\n",
       "      <td>3.129</td>\n",
       "      <td>...</td>\n",
       "      <td>1.949</td>\n",
       "      <td>1.937</td>\n",
       "      <td>2.743</td>\n",
       "      <td>3.103</td>\n",
       "      <td>1.881</td>\n",
       "      <td>3.027</td>\n",
       "      <td>3.144</td>\n",
       "      <td>3.763</td>\n",
       "      <td>2.799</td>\n",
       "      <td>0.966</td>\n",
       "    </tr>\n",
       "    <tr>\n",
       "      <th>ND</th>\n",
       "      <td>3.890</td>\n",
       "      <td>4.710</td>\n",
       "      <td>3.885</td>\n",
       "      <td>3.081</td>\n",
       "      <td>6.754</td>\n",
       "      <td>5.867</td>\n",
       "      <td>7.307</td>\n",
       "      <td>5.313</td>\n",
       "      <td>9.500</td>\n",
       "      <td>4.860</td>\n",
       "      <td>...</td>\n",
       "      <td>2.871</td>\n",
       "      <td>4.058</td>\n",
       "      <td>3.818</td>\n",
       "      <td>7.030</td>\n",
       "      <td>5.371</td>\n",
       "      <td>6.522</td>\n",
       "      <td>6.888</td>\n",
       "      <td>3.404</td>\n",
       "      <td>6.247</td>\n",
       "      <td>4.132</td>\n",
       "    </tr>\n",
       "    <tr>\n",
       "      <th>OH</th>\n",
       "      <td>2.571</td>\n",
       "      <td>3.237</td>\n",
       "      <td>2.846</td>\n",
       "      <td>3.807</td>\n",
       "      <td>2.063</td>\n",
       "      <td>1.403</td>\n",
       "      <td>3.006</td>\n",
       "      <td>3.111</td>\n",
       "      <td>4.970</td>\n",
       "      <td>3.207</td>\n",
       "      <td>...</td>\n",
       "      <td>3.009</td>\n",
       "      <td>2.114</td>\n",
       "      <td>3.773</td>\n",
       "      <td>2.433</td>\n",
       "      <td>1.150</td>\n",
       "      <td>1.618</td>\n",
       "      <td>2.275</td>\n",
       "      <td>4.973</td>\n",
       "      <td>2.280</td>\n",
       "      <td>2.322</td>\n",
       "    </tr>\n",
       "    <tr>\n",
       "      <th>OK</th>\n",
       "      <td>1.863</td>\n",
       "      <td>2.387</td>\n",
       "      <td>2.898</td>\n",
       "      <td>2.212</td>\n",
       "      <td>3.817</td>\n",
       "      <td>3.464</td>\n",
       "      <td>4.358</td>\n",
       "      <td>2.422</td>\n",
       "      <td>7.070</td>\n",
       "      <td>2.639</td>\n",
       "      <td>...</td>\n",
       "      <td>3.614</td>\n",
       "      <td>1.871</td>\n",
       "      <td>1.711</td>\n",
       "      <td>5.143</td>\n",
       "      <td>4.156</td>\n",
       "      <td>4.133</td>\n",
       "      <td>5.159</td>\n",
       "      <td>2.214</td>\n",
       "      <td>5.031</td>\n",
       "      <td>2.787</td>\n",
       "    </tr>\n",
       "    <tr>\n",
       "      <th>OR</th>\n",
       "      <td>3.810</td>\n",
       "      <td>3.647</td>\n",
       "      <td>3.203</td>\n",
       "      <td>4.971</td>\n",
       "      <td>2.588</td>\n",
       "      <td>1.658</td>\n",
       "      <td>3.116</td>\n",
       "      <td>3.553</td>\n",
       "      <td>4.056</td>\n",
       "      <td>3.820</td>\n",
       "      <td>...</td>\n",
       "      <td>3.836</td>\n",
       "      <td>3.600</td>\n",
       "      <td>4.829</td>\n",
       "      <td>1.091</td>\n",
       "      <td>1.295</td>\n",
       "      <td>2.274</td>\n",
       "      <td>1.022</td>\n",
       "      <td>6.032</td>\n",
       "      <td>1.345</td>\n",
       "      <td>2.938</td>\n",
       "    </tr>\n",
       "    <tr>\n",
       "      <th>PA</th>\n",
       "      <td>1.221</td>\n",
       "      <td>1.621</td>\n",
       "      <td>2.302</td>\n",
       "      <td>3.250</td>\n",
       "      <td>3.815</td>\n",
       "      <td>3.163</td>\n",
       "      <td>4.088</td>\n",
       "      <td>2.220</td>\n",
       "      <td>6.800</td>\n",
       "      <td>3.090</td>\n",
       "      <td>...</td>\n",
       "      <td>3.160</td>\n",
       "      <td>2.666</td>\n",
       "      <td>1.393</td>\n",
       "      <td>4.550</td>\n",
       "      <td>3.805</td>\n",
       "      <td>4.364</td>\n",
       "      <td>4.550</td>\n",
       "      <td>2.429</td>\n",
       "      <td>4.479</td>\n",
       "      <td>1.877</td>\n",
       "    </tr>\n",
       "    <tr>\n",
       "      <th>RI</th>\n",
       "      <td>4.197</td>\n",
       "      <td>3.701</td>\n",
       "      <td>4.173</td>\n",
       "      <td>5.395</td>\n",
       "      <td>1.861</td>\n",
       "      <td>2.315</td>\n",
       "      <td>1.097</td>\n",
       "      <td>2.775</td>\n",
       "      <td>2.654</td>\n",
       "      <td>3.126</td>\n",
       "      <td>...</td>\n",
       "      <td>5.217</td>\n",
       "      <td>3.864</td>\n",
       "      <td>4.450</td>\n",
       "      <td>2.970</td>\n",
       "      <td>3.252</td>\n",
       "      <td>2.441</td>\n",
       "      <td>2.201</td>\n",
       "      <td>5.981</td>\n",
       "      <td>3.583</td>\n",
       "      <td>3.947</td>\n",
       "    </tr>\n",
       "    <tr>\n",
       "      <th>SC</th>\n",
       "      <td>3.510</td>\n",
       "      <td>4.068</td>\n",
       "      <td>3.674</td>\n",
       "      <td>3.677</td>\n",
       "      <td>6.733</td>\n",
       "      <td>5.841</td>\n",
       "      <td>7.020</td>\n",
       "      <td>4.826</td>\n",
       "      <td>9.421</td>\n",
       "      <td>4.823</td>\n",
       "      <td>...</td>\n",
       "      <td>3.253</td>\n",
       "      <td>4.406</td>\n",
       "      <td>2.985</td>\n",
       "      <td>7.045</td>\n",
       "      <td>5.693</td>\n",
       "      <td>6.856</td>\n",
       "      <td>6.881</td>\n",
       "      <td>2.545</td>\n",
       "      <td>6.392</td>\n",
       "      <td>3.814</td>\n",
       "    </tr>\n",
       "    <tr>\n",
       "      <th>SD</th>\n",
       "      <td>2.273</td>\n",
       "      <td>3.031</td>\n",
       "      <td>1.806</td>\n",
       "      <td>2.756</td>\n",
       "      <td>4.730</td>\n",
       "      <td>3.599</td>\n",
       "      <td>5.401</td>\n",
       "      <td>3.828</td>\n",
       "      <td>7.356</td>\n",
       "      <td>3.697</td>\n",
       "      <td>...</td>\n",
       "      <td>0.000</td>\n",
       "      <td>2.764</td>\n",
       "      <td>3.276</td>\n",
       "      <td>4.352</td>\n",
       "      <td>2.817</td>\n",
       "      <td>4.471</td>\n",
       "      <td>4.419</td>\n",
       "      <td>3.570</td>\n",
       "      <td>3.830</td>\n",
       "      <td>1.926</td>\n",
       "    </tr>\n",
       "    <tr>\n",
       "      <th>TN</th>\n",
       "      <td>1.760</td>\n",
       "      <td>2.613</td>\n",
       "      <td>2.414</td>\n",
       "      <td>2.090</td>\n",
       "      <td>2.985</td>\n",
       "      <td>2.450</td>\n",
       "      <td>3.817</td>\n",
       "      <td>2.557</td>\n",
       "      <td>6.231</td>\n",
       "      <td>2.344</td>\n",
       "      <td>...</td>\n",
       "      <td>2.764</td>\n",
       "      <td>0.000</td>\n",
       "      <td>2.529</td>\n",
       "      <td>4.049</td>\n",
       "      <td>2.746</td>\n",
       "      <td>2.818</td>\n",
       "      <td>3.991</td>\n",
       "      <td>3.370</td>\n",
       "      <td>3.707</td>\n",
       "      <td>2.216</td>\n",
       "    </tr>\n",
       "    <tr>\n",
       "      <th>TX</th>\n",
       "      <td>1.768</td>\n",
       "      <td>1.983</td>\n",
       "      <td>2.496</td>\n",
       "      <td>2.858</td>\n",
       "      <td>4.199</td>\n",
       "      <td>3.624</td>\n",
       "      <td>4.346</td>\n",
       "      <td>2.171</td>\n",
       "      <td>7.019</td>\n",
       "      <td>2.623</td>\n",
       "      <td>...</td>\n",
       "      <td>3.276</td>\n",
       "      <td>2.529</td>\n",
       "      <td>0.000</td>\n",
       "      <td>5.210</td>\n",
       "      <td>4.202</td>\n",
       "      <td>4.636</td>\n",
       "      <td>4.968</td>\n",
       "      <td>1.983</td>\n",
       "      <td>4.886</td>\n",
       "      <td>2.368</td>\n",
       "    </tr>\n",
       "    <tr>\n",
       "      <th>UT</th>\n",
       "      <td>4.074</td>\n",
       "      <td>3.820</td>\n",
       "      <td>3.639</td>\n",
       "      <td>5.376</td>\n",
       "      <td>2.525</td>\n",
       "      <td>1.893</td>\n",
       "      <td>3.070</td>\n",
       "      <td>3.771</td>\n",
       "      <td>3.805</td>\n",
       "      <td>4.180</td>\n",
       "      <td>...</td>\n",
       "      <td>4.352</td>\n",
       "      <td>4.049</td>\n",
       "      <td>5.210</td>\n",
       "      <td>0.000</td>\n",
       "      <td>1.818</td>\n",
       "      <td>2.423</td>\n",
       "      <td>1.247</td>\n",
       "      <td>6.313</td>\n",
       "      <td>2.161</td>\n",
       "      <td>3.371</td>\n",
       "    </tr>\n",
       "    <tr>\n",
       "      <th>VT</th>\n",
       "      <td>2.984</td>\n",
       "      <td>3.231</td>\n",
       "      <td>2.565</td>\n",
       "      <td>4.013</td>\n",
       "      <td>2.638</td>\n",
       "      <td>1.580</td>\n",
       "      <td>3.461</td>\n",
       "      <td>3.324</td>\n",
       "      <td>4.899</td>\n",
       "      <td>3.397</td>\n",
       "      <td>...</td>\n",
       "      <td>2.817</td>\n",
       "      <td>2.746</td>\n",
       "      <td>4.202</td>\n",
       "      <td>1.818</td>\n",
       "      <td>0.000</td>\n",
       "      <td>2.149</td>\n",
       "      <td>1.914</td>\n",
       "      <td>5.241</td>\n",
       "      <td>1.855</td>\n",
       "      <td>2.294</td>\n",
       "    </tr>\n",
       "    <tr>\n",
       "      <th>VA</th>\n",
       "      <td>3.691</td>\n",
       "      <td>3.940</td>\n",
       "      <td>3.911</td>\n",
       "      <td>4.578</td>\n",
       "      <td>1.212</td>\n",
       "      <td>1.580</td>\n",
       "      <td>2.372</td>\n",
       "      <td>3.389</td>\n",
       "      <td>4.000</td>\n",
       "      <td>3.459</td>\n",
       "      <td>...</td>\n",
       "      <td>4.471</td>\n",
       "      <td>2.818</td>\n",
       "      <td>4.636</td>\n",
       "      <td>2.423</td>\n",
       "      <td>2.149</td>\n",
       "      <td>0.000</td>\n",
       "      <td>2.301</td>\n",
       "      <td>5.870</td>\n",
       "      <td>2.783</td>\n",
       "      <td>3.532</td>\n",
       "    </tr>\n",
       "    <tr>\n",
       "      <th>WA</th>\n",
       "      <td>4.099</td>\n",
       "      <td>3.874</td>\n",
       "      <td>3.717</td>\n",
       "      <td>5.501</td>\n",
       "      <td>2.322</td>\n",
       "      <td>1.825</td>\n",
       "      <td>2.500</td>\n",
       "      <td>3.571</td>\n",
       "      <td>3.304</td>\n",
       "      <td>3.963</td>\n",
       "      <td>...</td>\n",
       "      <td>4.419</td>\n",
       "      <td>3.991</td>\n",
       "      <td>4.968</td>\n",
       "      <td>1.247</td>\n",
       "      <td>1.914</td>\n",
       "      <td>2.301</td>\n",
       "      <td>0.000</td>\n",
       "      <td>6.354</td>\n",
       "      <td>1.909</td>\n",
       "      <td>3.365</td>\n",
       "    </tr>\n",
       "    <tr>\n",
       "      <th>WV</th>\n",
       "      <td>2.659</td>\n",
       "      <td>2.760</td>\n",
       "      <td>3.095</td>\n",
       "      <td>2.401</td>\n",
       "      <td>5.589</td>\n",
       "      <td>4.943</td>\n",
       "      <td>5.938</td>\n",
       "      <td>3.438</td>\n",
       "      <td>8.419</td>\n",
       "      <td>3.440</td>\n",
       "      <td>...</td>\n",
       "      <td>3.570</td>\n",
       "      <td>3.370</td>\n",
       "      <td>1.983</td>\n",
       "      <td>6.313</td>\n",
       "      <td>5.241</td>\n",
       "      <td>5.870</td>\n",
       "      <td>6.354</td>\n",
       "      <td>0.000</td>\n",
       "      <td>6.204</td>\n",
       "      <td>3.428</td>\n",
       "    </tr>\n",
       "    <tr>\n",
       "      <th>WI</th>\n",
       "      <td>3.882</td>\n",
       "      <td>4.080</td>\n",
       "      <td>3.452</td>\n",
       "      <td>5.215</td>\n",
       "      <td>3.094</td>\n",
       "      <td>2.114</td>\n",
       "      <td>3.628</td>\n",
       "      <td>4.038</td>\n",
       "      <td>4.940</td>\n",
       "      <td>4.436</td>\n",
       "      <td>...</td>\n",
       "      <td>3.830</td>\n",
       "      <td>3.707</td>\n",
       "      <td>4.886</td>\n",
       "      <td>2.161</td>\n",
       "      <td>1.855</td>\n",
       "      <td>2.783</td>\n",
       "      <td>1.909</td>\n",
       "      <td>6.204</td>\n",
       "      <td>0.000</td>\n",
       "      <td>2.892</td>\n",
       "    </tr>\n",
       "    <tr>\n",
       "      <th>WY</th>\n",
       "      <td>1.346</td>\n",
       "      <td>1.794</td>\n",
       "      <td>1.165</td>\n",
       "      <td>3.105</td>\n",
       "      <td>3.393</td>\n",
       "      <td>2.217</td>\n",
       "      <td>3.900</td>\n",
       "      <td>2.427</td>\n",
       "      <td>6.197</td>\n",
       "      <td>2.963</td>\n",
       "      <td>...</td>\n",
       "      <td>1.926</td>\n",
       "      <td>2.216</td>\n",
       "      <td>2.368</td>\n",
       "      <td>3.371</td>\n",
       "      <td>2.294</td>\n",
       "      <td>3.532</td>\n",
       "      <td>3.365</td>\n",
       "      <td>3.428</td>\n",
       "      <td>2.892</td>\n",
       "      <td>0.000</td>\n",
       "    </tr>\n",
       "  </tbody>\n",
       "</table>\n",
       "<p>51 rows × 51 columns</p>\n",
       "</div>"
      ],
      "text/plain": [
       "state     AL     AK     AZ     AR     CA     CO     CT     DE     DC     FL  \\\n",
       "state                                                                         \n",
       "AL     0.000  1.849  1.876  2.616  3.450  2.687  4.023  2.427  6.627  2.863   \n",
       "AK     1.849  0.000  1.461  2.962  3.504  2.675  3.720  1.305  5.923  2.014   \n",
       "AZ     1.876  1.461  0.000  2.593  3.873  2.691  4.341  2.323  6.312  2.472   \n",
       "AR     2.616  2.962  2.593  0.000  4.774  4.082  5.512  3.376  7.648  2.723   \n",
       "CA     3.450  3.504  3.873  4.774  0.000  1.382  1.360  2.801  3.725  3.294   \n",
       "CO     2.687  2.675  2.691  4.082  1.382  0.000  2.171  2.349  4.294  2.885   \n",
       "CT     4.023  3.720  4.341  5.512  1.360  2.171  0.000  2.793  3.101  3.490   \n",
       "DE     2.427  1.305  2.323  3.376  2.801  2.349  2.793  0.000  5.107  1.443   \n",
       "DC     6.627  5.923  6.312  7.648  3.725  4.294  3.101  5.107  0.000  5.343   \n",
       "FL     2.863  2.014  2.472  2.723  3.294  2.885  3.490  1.443  5.343  0.000   \n",
       "GA     2.740  2.609  2.619  3.132  1.995  1.593  2.813  2.197  4.612  1.878   \n",
       "HI     1.968  2.310  2.090  3.887  4.368  3.365  4.523  2.950  6.948  3.693   \n",
       "ID     3.227  3.463  2.330  4.160  4.023  2.745  4.727  4.007  6.094  4.131   \n",
       "IL     2.649  2.873  2.779  4.037  1.416  0.575  2.256  2.541  4.371  2.930   \n",
       "IN     2.937  3.210  2.441  3.700  2.833  1.789  3.703  3.340  5.138  3.257   \n",
       "IA     3.115  3.587  2.842  3.547  3.017  2.214  4.044  3.710  5.452  3.431   \n",
       "KS     1.859  2.173  1.774  2.805  2.489  1.448  3.355  2.326  5.470  2.441   \n",
       "KY     1.951  2.155  1.856  1.793  3.377  2.636  4.080  2.379  6.165  1.883   \n",
       "LA     3.864  3.261  4.244  4.014  4.932  4.790  4.802  2.755  7.276  3.124   \n",
       "ME     2.804  3.213  2.324  4.161  3.400  2.191  4.083  3.642  5.661  3.887   \n",
       "MD     4.050  3.810  4.515  5.093  1.648  2.550  1.522  2.717  4.031  3.302   \n",
       "MA     5.453  5.160  5.289  6.536  2.507  3.019  2.348  4.426  1.789  4.599   \n",
       "MI     3.471  2.994  3.509  4.352  1.698  2.010  1.671  2.111  3.504  2.157   \n",
       "MN     4.735  4.795  4.670  5.819  2.042  2.280  2.659  4.296  3.168  4.460   \n",
       "MS     4.470  4.271  4.110  4.692  3.438  3.079  3.817  3.613  5.417  3.701   \n",
       "MO     1.087  2.000  2.032  3.295  2.593  1.782  3.142  2.171  5.764  2.836   \n",
       "MT     3.495  3.875  2.986  3.964  6.286  5.170  6.567  4.647  8.635  4.680   \n",
       "NE     3.308  3.668  2.928  3.634  2.981  2.250  3.813  3.550  5.170  3.139   \n",
       "NV     2.249  1.566  2.021  3.406  2.218  1.522  2.440  1.037  4.634  1.638   \n",
       "NH     3.707  3.863  3.575  5.070  2.026  1.487  2.706  3.649  3.930  3.951   \n",
       "NJ     5.352  4.658  5.230  6.070  2.768  3.475  2.135  3.619  2.179  3.634   \n",
       "NM     2.711  2.483  1.747  2.588  3.284  2.255  3.963  2.525  5.667  2.151   \n",
       "NY     4.241  3.472  4.116  5.286  2.135  2.525  1.403  2.514  2.725  2.852   \n",
       "NC     1.240  2.277  1.781  3.168  3.006  1.984  3.711  2.742  6.028  3.129   \n",
       "ND     3.890  4.710  3.885  3.081  6.754  5.867  7.307  5.313  9.500  4.860   \n",
       "OH     2.571  3.237  2.846  3.807  2.063  1.403  3.006  3.111  4.970  3.207   \n",
       "OK     1.863  2.387  2.898  2.212  3.817  3.464  4.358  2.422  7.070  2.639   \n",
       "OR     3.810  3.647  3.203  4.971  2.588  1.658  3.116  3.553  4.056  3.820   \n",
       "PA     1.221  1.621  2.302  3.250  3.815  3.163  4.088  2.220  6.800  3.090   \n",
       "RI     4.197  3.701  4.173  5.395  1.861  2.315  1.097  2.775  2.654  3.126   \n",
       "SC     3.510  4.068  3.674  3.677  6.733  5.841  7.020  4.826  9.421  4.823   \n",
       "SD     2.273  3.031  1.806  2.756  4.730  3.599  5.401  3.828  7.356  3.697   \n",
       "TN     1.760  2.613  2.414  2.090  2.985  2.450  3.817  2.557  6.231  2.344   \n",
       "TX     1.768  1.983  2.496  2.858  4.199  3.624  4.346  2.171  7.019  2.623   \n",
       "UT     4.074  3.820  3.639  5.376  2.525  1.893  3.070  3.771  3.805  4.180   \n",
       "VT     2.984  3.231  2.565  4.013  2.638  1.580  3.461  3.324  4.899  3.397   \n",
       "VA     3.691  3.940  3.911  4.578  1.212  1.580  2.372  3.389  4.000  3.459   \n",
       "WA     4.099  3.874  3.717  5.501  2.322  1.825  2.500  3.571  3.304  3.963   \n",
       "WV     2.659  2.760  3.095  2.401  5.589  4.943  5.938  3.438  8.419  3.440   \n",
       "WI     3.882  4.080  3.452  5.215  3.094  2.114  3.628  4.038  4.940  4.436   \n",
       "WY     1.346  1.794  1.165  3.105  3.393  2.217  3.900  2.427  6.197  2.963   \n",
       "\n",
       "state  ...     SD     TN     TX     UT     VT     VA     WA     WV     WI  \\\n",
       "state  ...                                                                  \n",
       "AL     ...  2.273  1.760  1.768  4.074  2.984  3.691  4.099  2.659  3.882   \n",
       "AK     ...  3.031  2.613  1.983  3.820  3.231  3.940  3.874  2.760  4.080   \n",
       "AZ     ...  1.806  2.414  2.496  3.639  2.565  3.911  3.717  3.095  3.452   \n",
       "AR     ...  2.756  2.090  2.858  5.376  4.013  4.578  5.501  2.401  5.215   \n",
       "CA     ...  4.730  2.985  4.199  2.525  2.638  1.212  2.322  5.589  3.094   \n",
       "CO     ...  3.599  2.450  3.624  1.893  1.580  1.580  1.825  4.943  2.114   \n",
       "CT     ...  5.401  3.817  4.346  3.070  3.461  2.372  2.500  5.938  3.628   \n",
       "DE     ...  3.828  2.557  2.171  3.771  3.324  3.389  3.571  3.438  4.038   \n",
       "DC     ...  7.356  6.231  7.019  3.805  4.899  4.000  3.304  8.419  4.940   \n",
       "FL     ...  3.697  2.344  2.623  4.180  3.397  3.459  3.963  3.440  4.436   \n",
       "GA     ...  3.457  1.849  3.485  2.800  1.992  1.742  2.777  4.448  3.238   \n",
       "HI     ...  2.600  3.261  2.117  4.480  3.572  4.728  4.265  3.337  3.833   \n",
       "ID     ...  2.182  3.440  4.456  2.686  1.552  3.639  2.946  5.211  2.220   \n",
       "IL     ...  3.451  2.345  3.625  2.045  1.378  1.423  1.823  4.981  2.162   \n",
       "IN     ...  2.607  2.553  4.144  2.150  0.432  2.248  2.272  5.076  2.112   \n",
       "IA     ...  2.760  2.450  4.409  2.594  1.110  2.229  2.815  5.169  2.639   \n",
       "KS     ...  2.511  1.427  3.019  2.765  1.636  2.319  2.900  3.937  2.642   \n",
       "KY     ...  2.495  1.164  2.643  3.921  2.720  3.201  3.963  3.126  3.815   \n",
       "LA     ...  5.476  3.904  2.496  6.435  5.818  5.553  6.195  3.135  6.343   \n",
       "ME     ...  2.282  3.081  4.118  2.306  1.128  3.111  2.438  5.077  1.877   \n",
       "MD     ...  5.648  3.475  4.164  3.916  3.993  2.515  3.572  5.628  4.224   \n",
       "MA     ...  6.062  4.916  6.087  2.708  3.469  2.473  2.036  7.538  3.511   \n",
       "MI     ...  4.563  2.958  3.794  3.019  2.908  2.116  2.590  5.085  3.699   \n",
       "MN     ...  5.188  4.141  5.710  1.939  2.443  1.514  1.649  7.041  2.601   \n",
       "MS     ...  5.073  3.418  4.594  4.311  3.830  3.268  3.986  5.838  3.375   \n",
       "MO     ...  2.640  1.836  2.236  3.282  2.330  2.912  3.171  3.599  3.020   \n",
       "MT     ...  2.416  4.296  3.394  6.084  4.738  6.276  5.859  3.636  5.189   \n",
       "NE     ...  2.937  2.435  4.265  2.891  1.339  2.176  2.680  5.253  2.569   \n",
       "NV     ...  3.326  2.266  2.596  2.900  2.336  2.625  2.667  3.912  3.208   \n",
       "NH     ...  4.024  3.453  4.823  1.243  1.341  1.687  0.999  6.119  1.665   \n",
       "NJ     ...  6.363  4.734  5.470  3.905  4.356  3.155  3.343  6.802  4.752   \n",
       "NM     ...  2.637  1.922  3.293  3.350  2.147  2.940  3.340  4.062  2.981   \n",
       "NY     ...  5.338  3.941  4.393  3.155  3.527  2.775  2.598  5.785  3.970   \n",
       "NC     ...  1.949  1.937  2.743  3.103  1.881  3.027  3.144  3.763  2.799   \n",
       "ND     ...  2.871  4.058  3.818  7.030  5.371  6.522  6.888  3.404  6.247   \n",
       "OH     ...  3.009  2.114  3.773  2.433  1.150  1.618  2.275  4.973  2.280   \n",
       "OK     ...  3.614  1.871  1.711  5.143  4.156  4.133  5.159  2.214  5.031   \n",
       "OR     ...  3.836  3.600  4.829  1.091  1.295  2.274  1.022  6.032  1.345   \n",
       "PA     ...  3.160  2.666  1.393  4.550  3.805  4.364  4.550  2.429  4.479   \n",
       "RI     ...  5.217  3.864  4.450  2.970  3.252  2.441  2.201  5.981  3.583   \n",
       "SC     ...  3.253  4.406  2.985  7.045  5.693  6.856  6.881  2.545  6.392   \n",
       "SD     ...  0.000  2.764  3.276  4.352  2.817  4.471  4.419  3.570  3.830   \n",
       "TN     ...  2.764  0.000  2.529  4.049  2.746  2.818  3.991  3.370  3.707   \n",
       "TX     ...  3.276  2.529  0.000  5.210  4.202  4.636  4.968  1.983  4.886   \n",
       "UT     ...  4.352  4.049  5.210  0.000  1.818  2.423  1.247  6.313  2.161   \n",
       "VT     ...  2.817  2.746  4.202  1.818  0.000  2.149  1.914  5.241  1.855   \n",
       "VA     ...  4.471  2.818  4.636  2.423  2.149  0.000  2.301  5.870  2.783   \n",
       "WA     ...  4.419  3.991  4.968  1.247  1.914  2.301  0.000  6.354  1.909   \n",
       "WV     ...  3.570  3.370  1.983  6.313  5.241  5.870  6.354  0.000  6.204   \n",
       "WI     ...  3.830  3.707  4.886  2.161  1.855  2.783  1.909  6.204  0.000   \n",
       "WY     ...  1.926  2.216  2.368  3.371  2.294  3.532  3.365  3.428  2.892   \n",
       "\n",
       "state     WY  \n",
       "state         \n",
       "AL     1.346  \n",
       "AK     1.794  \n",
       "AZ     1.165  \n",
       "AR     3.105  \n",
       "CA     3.393  \n",
       "CO     2.217  \n",
       "CT     3.900  \n",
       "DE     2.427  \n",
       "DC     6.197  \n",
       "FL     2.963  \n",
       "GA     2.680  \n",
       "HI     1.486  \n",
       "ID     2.207  \n",
       "IL     2.263  \n",
       "IN     2.300  \n",
       "IA     2.753  \n",
       "KS     1.553  \n",
       "KY     2.166  \n",
       "LA     4.357  \n",
       "ME     1.896  \n",
       "MD     4.142  \n",
       "MA     5.018  \n",
       "MI     3.446  \n",
       "MN     4.286  \n",
       "MS     3.950  \n",
       "MO     1.152  \n",
       "MT     3.126  \n",
       "NE     2.865  \n",
       "NV     1.986  \n",
       "NH     3.105  \n",
       "NJ     5.208  \n",
       "NM     2.142  \n",
       "NY     4.043  \n",
       "NC     0.966  \n",
       "ND     4.132  \n",
       "OH     2.322  \n",
       "OK     2.787  \n",
       "OR     2.938  \n",
       "PA     1.877  \n",
       "RI     3.947  \n",
       "SC     3.814  \n",
       "SD     1.926  \n",
       "TN     2.216  \n",
       "TX     2.368  \n",
       "UT     3.371  \n",
       "VT     2.294  \n",
       "VA     3.532  \n",
       "WA     3.365  \n",
       "WV     3.428  \n",
       "WI     2.892  \n",
       "WY     0.000  \n",
       "\n",
       "[51 rows x 51 columns]"
      ]
     },
     "execution_count": 36,
     "metadata": {},
     "output_type": "execute_result"
    }
   ],
   "source": [
    "distmat_cars = pairwise_distances(df_car_crashes_zscore, metric = 'euclidean')\n",
    "distmat_cars = pd.DataFrame(np.round(distmat_cars, 3), columns = df_car_crashes.index, index = df_car_crashes.index)\n",
    "distmat_cars"
   ]
  },
  {
   "cell_type": "markdown",
   "id": "derived-vatican",
   "metadata": {},
   "source": [
    "#### 23) [P] An interesting way to suggest outliers is to take a distance matrix, aggregate the mean over each row or column, then sort the output in order."
   ]
  },
  {
   "cell_type": "code",
   "execution_count": 37,
   "id": "brutal-transformation",
   "metadata": {},
   "outputs": [
    {
     "data": {
      "text/plain": [
       "state\n",
       "DC    5.265667\n",
       "ND    5.257275\n",
       "SC    5.214314\n",
       "LA    4.767431\n",
       "MT    4.759843\n",
       "WV    4.512765\n",
       "NJ    4.310804\n",
       "MA    4.197490\n",
       "MS    4.048392\n",
       "AR    3.897667\n",
       "dtype: float64"
      ]
     },
     "execution_count": 37,
     "metadata": {},
     "output_type": "execute_result"
    }
   ],
   "source": [
    "distmat_cars.mean().sort_values(ascending = False).head(10)"
   ]
  },
  {
   "cell_type": "markdown",
   "id": "driven-return",
   "metadata": {},
   "source": [
    "#### 24) [M] From this analysis, which 4 states seem to be strongest outliers?"
   ]
  },
  {
   "cell_type": "markdown",
   "id": "corresponding-audit",
   "metadata": {},
   "source": [
    "Strongest outliers: DC, ND, SC, LA"
   ]
  },
  {
   "cell_type": "markdown",
   "id": "distant-facing",
   "metadata": {},
   "source": [
    "#### 25) [P] OK. Let's explore the data visually. \n",
    "First, using the original, unscaled data frame df_car_crashes,\n",
    "create a scatter plot of insurance premiums vs. insurance losses, with total number of accidents as the size of\n",
    "the point."
   ]
  },
  {
   "cell_type": "code",
   "execution_count": 38,
   "id": "ethical-bailey",
   "metadata": {},
   "outputs": [
    {
     "data": {
      "image/png": "[encoded data removed]",
      "text/plain": [
       "<Figure size 720x432 with 1 Axes>"
      ]
     },
     "metadata": {
      "needs_background": "light"
     },
     "output_type": "display_data"
    }
   ],
   "source": [
    "plt.figure(figsize = (10,6))\n",
    "sns.set_theme()\n",
    "sns.scatterplot(data = df_car_crashes, x = 'ins_premium', y = 'ins_losses', size = 'total', sizes = (50, 200), legend = False)\n",
    "# ref: https://towardsdatascience.com/how-to-add-text-labels-to-scatterplot-in-matplotlib-seaborn-ec5df6afed7a\n",
    "for i in range(df_car_crashes.shape[0]):\n",
    "    plt.text(x = df_car_crashes.ins_premium[i] + 0.5, y = df_car_crashes.ins_losses[i] + 0.5, s = df_car_crashes.index[i])"
   ]
  },
  {
   "cell_type": "markdown",
   "id": "simplified-classic",
   "metadata": {},
   "source": [
    "#### 26) [P] Next, generate two interesting plots that show some relationships between variables in the data."
   ]
  },
  {
   "cell_type": "code",
   "execution_count": 39,
   "id": "rapid-dodge",
   "metadata": {},
   "outputs": [
    {
     "data": {
      "image/png": "[encoded data removed]",
      "text/plain": [
       "<Figure size 720x432 with 1 Axes>"
      ]
     },
     "metadata": {},
     "output_type": "display_data"
    }
   ],
   "source": [
    "plt.figure(figsize = (10,6))\n",
    "sns.set_theme()\n",
    "ax = sns.scatterplot(data = df_car_crashes, x = 'alcohol', y = 'speeding', hue = 'total', size = 'total', sizes = (50, 200), legend = False)\n",
    "# ref: https://towardsdatascience.com/how-to-add-text-labels-to-scatterplot-in-matplotlib-seaborn-ec5df6afed7a\n",
    "for i in range(df_car_crashes.shape[0]):\n",
    "    plt.text(x = df_car_crashes.alcohol[i] + 0.1, y = df_car_crashes.speeding[i] + 0.1, s = df_car_crashes.index[i])\n",
    "ax.set_title(\"Alcohol vs. Speeding with total accidents\")\n",
    "plt.show()"
   ]
  },
  {
   "cell_type": "markdown",
   "id": "blond-tutorial",
   "metadata": {},
   "source": [
    "- I use both color and size for total number of accident as it makes it clearer (extra but I think it is more obvious this way)  \n",
    "Analysis: There is a linear correlation between the alcohol rate and the speeding rate, as evident in the graph: the more the alcohol rate, the more the speeding. There is also positive correlation between alcohol and the number of total accident."
   ]
  },
  {
   "cell_type": "code",
   "execution_count": 40,
   "id": "colonial-oxide",
   "metadata": {},
   "outputs": [
    {
     "data": {
      "image/png": "[encoded data removed]",
      "text/plain": [
       "<Figure size 720x432 with 1 Axes>"
      ]
     },
     "metadata": {},
     "output_type": "display_data"
    }
   ],
   "source": [
    "plt.figure(figsize = (10,6))\n",
    "sns.set_theme()\n",
    "ax = sns.scatterplot(data = df_car_crashes, x = 'alcohol', y = 'total', hue = 'not_distracted', size = 'not_distracted', sizes = (50, 200), legend = False)\n",
    "# ref: https://towardsdatascience.com/how-to-add-text-labels-to-scatterplot-in-matplotlib-seaborn-ec5df6afed7a\n",
    "for i in range(df_car_crashes.shape[0]):\n",
    "    plt.text(x = df_car_crashes.alcohol[i] + 0.1, y = df_car_crashes.total[i] + 0.1, s = df_car_crashes.index[i])\n",
    "ax.set_title(\"Alcohol vs. Speeding with total accidents\")\n",
    "plt.show()"
   ]
  },
  {
   "cell_type": "markdown",
   "id": "indirect-arizona",
   "metadata": {},
   "source": [
    "- I use both color and size for not_distracted factor as it makes it clearer (extra but I think it is more obvious this way). I assume the higher the not_distracted, the more distracted the driver was in the accident (I can't find data online for this)  \n",
    "Analysis: There is a linear correlation between the alcohol rate and the total number of accident, as evident in the graph: the more the alcohol rate, the more the total accident. There is also positive correlation between alcohol and distraction factor."
   ]
  },
  {
   "cell_type": "markdown",
   "id": "activated-cricket",
   "metadata": {},
   "source": [
    "#### 27) [P] Run a full PCA on the z_score transformed data.\n",
    "output the components, explained variance,\n",
    "and the explained variance ratio."
   ]
  },
  {
   "cell_type": "code",
   "execution_count": 41,
   "id": "focal-discount",
   "metadata": {},
   "outputs": [
    {
     "name": "stdout",
     "output_type": "stream",
     "text": [
      "Components:\n",
      " [[ 0.47947078  0.37534719  0.45437635  0.4380328   0.45703414 -0.1308319\n",
      "  -0.06996048]\n",
      " [ 0.06893769  0.0765846   0.03345835  0.04237473  0.0961294   0.6852266\n",
      "   0.71252436]\n",
      " [-0.26908802  0.81826935  0.08293253 -0.12616845 -0.31798812  0.25614247\n",
      "  -0.26173503]\n",
      " [ 0.0389558  -0.36374887  0.14834351  0.1712655   0.03948141  0.65639617\n",
      "  -0.61839859]\n",
      " [ 0.14597659 -0.02282818  0.35479821 -0.85646854  0.33611019  0.04214531\n",
      "  -0.06327152]\n",
      " [-0.16970508 -0.22479246  0.7837677   0.08510479 -0.50401185 -0.11577348\n",
      "   0.17805184]\n",
      " [ 0.80082487  0.01784783 -0.15285774 -0.14247844 -0.55875371  0.04126619\n",
      "  -0.02804966]]\n",
      "Exp. Var:\n",
      " [4.0942308  1.6095732  0.56161403 0.35753958 0.2863854  0.20263316\n",
      " 0.02802383]\n",
      "Exp. Var. Ratio:\n",
      " [0.57342168 0.22543042 0.07865743 0.05007557 0.04011    0.02837999\n",
      " 0.00392491]\n"
     ]
    }
   ],
   "source": [
    "pca = PCA(n_components = df_car_crashes.shape[1])\n",
    "pca.fit(df_car_crashes_zscore)\n",
    "print(\"Components:\\n\", pca.components_)\n",
    "print(\"Exp. Var:\\n\", pca.explained_variance_)\n",
    "print(\"Exp. Var. Ratio:\\n\", pca.explained_variance_ratio_)"
   ]
  },
  {
   "cell_type": "markdown",
   "id": "humanitarian-connection",
   "metadata": {},
   "source": [
    "#### 28) [M] Use your intuition – what do the weights of the first couple of components suggest where most of the variance in the data is coming from?"
   ]
  },
  {
   "cell_type": "markdown",
   "id": "criminal-contact",
   "metadata": {},
   "source": [
    "Most variance of the data is coming from the first 5 components of this PCA basis"
   ]
  },
  {
   "cell_type": "markdown",
   "id": "excessive-expense",
   "metadata": {},
   "source": [
    "#### 29) [P] Create a plot of the cumulative sum of the explained variance. How many components will get you to 90% of the explained variance?"
   ]
  },
  {
   "cell_type": "code",
   "execution_count": 42,
   "id": "amended-wrist",
   "metadata": {},
   "outputs": [
    {
     "data": {
      "image/png": "[encoded data removed]",
      "text/plain": [
       "<Figure size 432x288 with 1 Axes>"
      ]
     },
     "metadata": {},
     "output_type": "display_data"
    }
   ],
   "source": [
    "cum_sum = np.cumsum(pca.explained_variance_ratio_)\n",
    "plt.figure()\n",
    "plt.plot(cum_sum)\n",
    "plt.show()"
   ]
  },
  {
   "cell_type": "markdown",
   "id": "classified-rover",
   "metadata": {},
   "source": [
    "Thus, with only 3 components, we already obtain 90% of the variance"
   ]
  },
  {
   "cell_type": "markdown",
   "id": "congressional-creator",
   "metadata": {},
   "source": [
    "#### 30) [P] Transform the z_score transformed data using your PCA model (i.e. using the transform function of the pca object.)"
   ]
  },
  {
   "cell_type": "code",
   "execution_count": 43,
   "id": "bridal-burns",
   "metadata": {},
   "outputs": [],
   "source": [
    "X = pca.transform(df_car_crashes_zscore)"
   ]
  },
  {
   "cell_type": "markdown",
   "id": "structured-auckland",
   "metadata": {},
   "source": [
    "#### 31) [P] Generate a 2D plot using the first two principal components as your x and y coordinates. Be sure to label each point, and label your axes as component 1 and component 2, respectively."
   ]
  },
  {
   "cell_type": "code",
   "execution_count": 44,
   "id": "infrared-farmer",
   "metadata": {},
   "outputs": [
    {
     "data": {
      "image/png": "[encoded data removed]",
      "text/plain": [
       "<Figure size 720x432 with 1 Axes>"
      ]
     },
     "metadata": {},
     "output_type": "display_data"
    }
   ],
   "source": [
    "plt.figure(figsize = (10, 6))\n",
    "ax = plt.scatter(X[:, 0], X[:, 1])\n",
    "for i in range(df_car_crashes.shape[0]):\n",
    "    plt.text(x = X[i, 0] + 0.1, y = X[i, 1] + 0.1, s = df_car_crashes.index[i])\n",
    "plt.title(\"2 PCA Components\")\n",
    "plt.xlabel(\"Component 1\")\n",
    "plt.ylabel(\"Component 2\")\n",
    "plt.show()"
   ]
  },
  {
   "cell_type": "markdown",
   "id": "steady-generator",
   "metadata": {},
   "source": [
    "#### 32) [M] Compare the states you reported as potential outliers above to those that appear to be outliers from your plot. Do the same results seem to hold?"
   ]
  },
  {
   "cell_type": "markdown",
   "id": "bibliographic-steps",
   "metadata": {},
   "source": [
    "From this graph, the potential outliers seem to be LA, DC, SC, ND, WV, MT. The results seem to hold."
   ]
  },
  {
   "cell_type": "markdown",
   "id": "warming-bennett",
   "metadata": {},
   "source": [
    "#### 33) [P] Read how to generate a 3D scatterplot in seaborn or plotly, and use it to generate a scatterplot of the first 3 components."
   ]
  },
  {
   "cell_type": "code",
   "execution_count": 46,
   "id": "blond-status",
   "metadata": {},
   "outputs": [],
   "source": [
    "X_df = pd.DataFrame({'component1': X[:, 0], 'component2': X[:, 1], 'component3': X[:, 2]}, index = df_car_crashes.index)"
   ]
  },
  {
   "cell_type": "code",
   "execution_count": 56,
   "id": "patent-dakota",
   "metadata": {},
   "outputs": [],
   "source": [
    "import plotly.express as px\n",
    "import plotly"
   ]
  },
  {
   "cell_type": "code",
   "execution_count": 58,
   "id": "white-bubble",
   "metadata": {},
   "outputs": [
    {
     "data": {
      "application/vnd.plotly.v1+json": {
       "config": {
        "plotlyServerURL": "https://plot.ly"
       },
       "data": [
        {
         "hovertemplate": "component1=%{x}<br>component2=%{y}<br>component3=%{z}<br>state=%{text}<extra></extra>",
         "legendgroup": "",
         "marker": {
          "color": "#636efa",
          "symbol": "circle"
         },
         "mode": "markers+text",
         "name": "",
         "scene": "scene",
         "showlegend": false,
         "text": [
          "AL",
          "AK",
          "AZ",
          "AR",
          "CA",
          "CO",
          "CT",
          "DE",
          "DC",
          "FL",
          "GA",
          "HI",
          "ID",
          "IL",
          "IN",
          "IA",
          "KS",
          "KY",
          "LA",
          "ME",
          "MD",
          "MA",
          "MI",
          "MN",
          "MS",
          "MO",
          "MT",
          "NE",
          "NV",
          "NH",
          "NJ",
          "NM",
          "NY",
          "NC",
          "ND",
          "OH",
          "OK",
          "OR",
          "PA",
          "RI",
          "SC",
          "SD",
          "TN",
          "TX",
          "UT",
          "VT",
          "VA",
          "WA",
          "WV",
          "WI",
          "WY"
         ],
         "type": "scatter3d",
         "x": [
          1.6036712920638672,
          1.1442118763157039,
          1.4321719675062357,
          2.4915835190732842,
          -1.7506382539760206,
          -0.9251202488860342,
          -2.1253592451717935,
          0.32465801625134494,
          -4.635925570333746,
          0.49568879401434646,
          -0.5254271281060762,
          1.9280469577362793,
          0.3131230890359158,
          -0.8793400373779718,
          -0.39532570367795183,
          -0.35012213312125506,
          0.2687239062094826,
          1.0794269363998854,
          1.8794272670384382,
          0.03316519504817376,
          -1.7087474308482185,
          -3.6514570255071024,
          -1.3707025287055496,
          -2.9090385017494254,
          -0.8648908005003847,
          0.6597331360588236,
          3.6279233622540157,
          -0.4670829323269445,
          -0.10602771952958712,
          -1.775362264303605,
          -3.0183091362105583,
          0.46929132612342367,
          -2.041784270695779,
          0.8162622009397005,
          4.4236191540295104,
          -0.5391493221420199,
          1.893587382371987,
          -1.5594101671724687,
          1.8140529975938473,
          -2.164483928167344,
          4.672013995002564,
          2.1474762931769718,
          0.95487882111058,
          2.2043082790237185,
          -1.9852112540426603,
          -0.6303375914131888,
          -1.797349228160101,
          -2.0964516369964383,
          3.6191288449153323,
          -1.187446704960038,
          1.1643261547888315
         ],
         "y": [
          0.13344926968043047,
          0.8582339894293289,
          -0.4205056168878649,
          0.3489681166159155,
          0.6336251692149383,
          -0.15438781557476322,
          1.37060015821328,
          1.5742446940343622,
          0.9189968817049315,
          1.4352819371517147,
          0.26668801394331637,
          -0.21024525016261197,
          -2.4275974951793944,
          -0.3253365977441939,
          -1.517806341220062,
          -1.60635699958614,
          -0.3886444292577362,
          0.16789431438424768,
          3.6482175303581457,
          -2.000911578971501,
          2.1264219888559825,
          -0.02508167354041232,
          1.1912387964051954,
          -0.903773578216851,
          0.5837461625713328,
          0.0032540382009016433,
          -1.2429920461888102,
          -1.309009475824436,
          0.6896524437862012,
          -1.2390182746107858,
          1.9358695221967666,
          -0.38448561899398725,
          1.538860350958054,
          -0.7933123527821455,
          -0.9657162440262443,
          -0.8926266350305354,
          1.5697553106029372,
          -1.4072529017769795,
          0.9365890102701382,
          1.1190774735244104,
          -0.01952380812622258,
          -1.6846702110775797,
          0.26077660911209494,
          1.4326421493384114,
          -1.283064311815796,
          -1.5046108331408614,
          -0.17763939227071374,
          -0.9589686595869715,
          1.485285546427215,
          -1.829767319915332,
          -0.5560640154713206
         ],
         "z": [
          0.3178809326581774,
          0.7366264188067719,
          0.33813640206508316,
          -1.7887474187583239,
          -0.13617580407268212,
          0.14617668558341293,
          0.743077607721783,
          0.4409819184801542,
          0.7200776655945564,
          -0.6611261235654229,
          -0.9969733812964966,
          1.8024690411378512,
          0.34626683364799393,
          0.03022282984087747,
          -0.4803723330188664,
          -1.143953346886447,
          -0.48789408692817904,
          -1.0798358251170497,
          0.04443861639927406,
          0.533297511054174,
          -0.24539145747219748,
          0.11321498898502597,
          -0.18619764157411367,
          -0.3647514961293999,
          -1.243683500423184,
          0.5561893712843443,
          1.1617880617485639,
          -1.1514953084848478,
          0.34820334222989946,
          0.24390479227924577,
          -0.2028823027866623,
          -0.9702875741771104,
          0.5029437826741854,
          0.36825146279530074,
          -0.9485432625542513,
          -0.3898921543129352,
          -0.6820615903743442,
          0.3564736064152538,
          1.0974254208092664,
          0.5473312262129019,
          0.8074433671326455,
          -0.0461516205113432,
          -1.1953666492078479,
          0.5862856070306244,
          0.6154283265984063,
          -0.14649425111460065,
          -0.9888996464563676,
          0.8541179578087067,
          -0.05435540032950196,
          0.5223760452140317,
          0.7105023533436633
         ]
        }
       ],
       "layout": {
        "autosize": true,
        "legend": {
         "tracegroupgap": 0
        },
        "margin": {
         "t": 60
        },
        "scene": {
         "aspectmode": "auto",
         "aspectratio": {
          "x": 1.5835082403623713,
          "y": 1.0336447816750067,
          "z": 0.6109537795398339
         },
         "domain": {
          "x": [
           0,
           1
          ],
          "y": [
           0,
           1
          ]
         },
         "xaxis": {
          "title": {
           "text": "component1"
          },
          "type": "linear"
         },
         "yaxis": {
          "title": {
           "text": "component2"
          },
          "type": "linear"
         },
         "zaxis": {
          "title": {
           "text": "component3"
          },
          "type": "linear"
         }
        },
        "template": {
         "data": {
          "bar": [
           {
            "error_x": {
             "color": "#2a3f5f"
            },
            "error_y": {
             "color": "#2a3f5f"
            },
            "marker": {
             "line": {
              "color": "#E5ECF6",
              "width": 0.5
             }
            },
            "type": "bar"
           }
          ],
          "barpolar": [
           {
            "marker": {
             "line": {
              "color": "#E5ECF6",
              "width": 0.5
             }
            },
            "type": "barpolar"
           }
          ],
          "carpet": [
           {
            "aaxis": {
             "endlinecolor": "#2a3f5f",
             "gridcolor": "white",
             "linecolor": "white",
             "minorgridcolor": "white",
             "startlinecolor": "#2a3f5f"
            },
            "baxis": {
             "endlinecolor": "#2a3f5f",
             "gridcolor": "white",
             "linecolor": "white",
             "minorgridcolor": "white",
             "startlinecolor": "#2a3f5f"
            },
            "type": "carpet"
           }
          ],
          "choropleth": [
           {
            "colorbar": {
             "outlinewidth": 0,
             "ticks": ""
            },
            "type": "choropleth"
           }
          ],
          "contour": [
           {
            "colorbar": {
             "outlinewidth": 0,
             "ticks": ""
            },
            "colorscale": [
             [
              0,
              "#0d0887"
             ],
             [
              0.1111111111111111,
              "#46039f"
             ],
             [
              0.2222222222222222,
              "#7201a8"
             ],
             [
              0.3333333333333333,
              "#9c179e"
             ],
             [
              0.4444444444444444,
              "#bd3786"
             ],
             [
              0.5555555555555556,
              "#d8576b"
             ],
             [
              0.6666666666666666,
              "#ed7953"
             ],
             [
              0.7777777777777778,
              "#fb9f3a"
             ],
             [
              0.8888888888888888,
              "#fdca26"
             ],
             [
              1,
              "#f0f921"
             ]
            ],
            "type": "contour"
           }
          ],
          "contourcarpet": [
           {
            "colorbar": {
             "outlinewidth": 0,
             "ticks": ""
            },
            "type": "contourcarpet"
           }
          ],
          "heatmap": [
           {
            "colorbar": {
             "outlinewidth": 0,
             "ticks": ""
            },
            "colorscale": [
             [
              0,
              "#0d0887"
             ],
             [
              0.1111111111111111,
              "#46039f"
             ],
             [
              0.2222222222222222,
              "#7201a8"
             ],
             [
              0.3333333333333333,
              "#9c179e"
             ],
             [
              0.4444444444444444,
              "#bd3786"
             ],
             [
              0.5555555555555556,
              "#d8576b"
             ],
             [
              0.6666666666666666,
              "#ed7953"
             ],
             [
              0.7777777777777778,
              "#fb9f3a"
             ],
             [
              0.8888888888888888,
              "#fdca26"
             ],
             [
              1,
              "#f0f921"
             ]
            ],
            "type": "heatmap"
           }
          ],
          "heatmapgl": [
           {
            "colorbar": {
             "outlinewidth": 0,
             "ticks": ""
            },
            "colorscale": [
             [
              0,
              "#0d0887"
             ],
             [
              0.1111111111111111,
              "#46039f"
             ],
             [
              0.2222222222222222,
              "#7201a8"
             ],
             [
              0.3333333333333333,
              "#9c179e"
             ],
             [
              0.4444444444444444,
              "#bd3786"
             ],
             [
              0.5555555555555556,
              "#d8576b"
             ],
             [
              0.6666666666666666,
              "#ed7953"
             ],
             [
              0.7777777777777778,
              "#fb9f3a"
             ],
             [
              0.8888888888888888,
              "#fdca26"
             ],
             [
              1,
              "#f0f921"
             ]
            ],
            "type": "heatmapgl"
           }
          ],
          "histogram": [
           {
            "marker": {
             "colorbar": {
              "outlinewidth": 0,
              "ticks": ""
             }
            },
            "type": "histogram"
           }
          ],
          "histogram2d": [
           {
            "colorbar": {
             "outlinewidth": 0,
             "ticks": ""
            },
            "colorscale": [
             [
              0,
              "#0d0887"
             ],
             [
              0.1111111111111111,
              "#46039f"
             ],
             [
              0.2222222222222222,
              "#7201a8"
             ],
             [
              0.3333333333333333,
              "#9c179e"
             ],
             [
              0.4444444444444444,
              "#bd3786"
             ],
             [
              0.5555555555555556,
              "#d8576b"
             ],
             [
              0.6666666666666666,
              "#ed7953"
             ],
             [
              0.7777777777777778,
              "#fb9f3a"
             ],
             [
              0.8888888888888888,
              "#fdca26"
             ],
             [
              1,
              "#f0f921"
             ]
            ],
            "type": "histogram2d"
           }
          ],
          "histogram2dcontour": [
           {
            "colorbar": {
             "outlinewidth": 0,
             "ticks": ""
            },
            "colorscale": [
             [
              0,
              "#0d0887"
             ],
             [
              0.1111111111111111,
              "#46039f"
             ],
             [
              0.2222222222222222,
              "#7201a8"
             ],
             [
              0.3333333333333333,
              "#9c179e"
             ],
             [
              0.4444444444444444,
              "#bd3786"
             ],
             [
              0.5555555555555556,
              "#d8576b"
             ],
             [
              0.6666666666666666,
              "#ed7953"
             ],
             [
              0.7777777777777778,
              "#fb9f3a"
             ],
             [
              0.8888888888888888,
              "#fdca26"
             ],
             [
              1,
              "#f0f921"
             ]
            ],
            "type": "histogram2dcontour"
           }
          ],
          "mesh3d": [
           {
            "colorbar": {
             "outlinewidth": 0,
             "ticks": ""
            },
            "type": "mesh3d"
           }
          ],
          "parcoords": [
           {
            "line": {
             "colorbar": {
              "outlinewidth": 0,
              "ticks": ""
             }
            },
            "type": "parcoords"
           }
          ],
          "pie": [
           {
            "automargin": true,
            "type": "pie"
           }
          ],
          "scatter": [
           {
            "marker": {
             "colorbar": {
              "outlinewidth": 0,
              "ticks": ""
             }
            },
            "type": "scatter"
           }
          ],
          "scatter3d": [
           {
            "line": {
             "colorbar": {
              "outlinewidth": 0,
              "ticks": ""
             }
            },
            "marker": {
             "colorbar": {
              "outlinewidth": 0,
              "ticks": ""
             }
            },
            "type": "scatter3d"
           }
          ],
          "scattercarpet": [
           {
            "marker": {
             "colorbar": {
              "outlinewidth": 0,
              "ticks": ""
             }
            },
            "type": "scattercarpet"
           }
          ],
          "scattergeo": [
           {
            "marker": {
             "colorbar": {
              "outlinewidth": 0,
              "ticks": ""
             }
            },
            "type": "scattergeo"
           }
          ],
          "scattergl": [
           {
            "marker": {
             "colorbar": {
              "outlinewidth": 0,
              "ticks": ""
             }
            },
            "type": "scattergl"
           }
          ],
          "scattermapbox": [
           {
            "marker": {
             "colorbar": {
              "outlinewidth": 0,
              "ticks": ""
             }
            },
            "type": "scattermapbox"
           }
          ],
          "scatterpolar": [
           {
            "marker": {
             "colorbar": {
              "outlinewidth": 0,
              "ticks": ""
             }
            },
            "type": "scatterpolar"
           }
          ],
          "scatterpolargl": [
           {
            "marker": {
             "colorbar": {
              "outlinewidth": 0,
              "ticks": ""
             }
            },
            "type": "scatterpolargl"
           }
          ],
          "scatterternary": [
           {
            "marker": {
             "colorbar": {
              "outlinewidth": 0,
              "ticks": ""
             }
            },
            "type": "scatterternary"
           }
          ],
          "surface": [
           {
            "colorbar": {
             "outlinewidth": 0,
             "ticks": ""
            },
            "colorscale": [
             [
              0,
              "#0d0887"
             ],
             [
              0.1111111111111111,
              "#46039f"
             ],
             [
              0.2222222222222222,
              "#7201a8"
             ],
             [
              0.3333333333333333,
              "#9c179e"
             ],
             [
              0.4444444444444444,
              "#bd3786"
             ],
             [
              0.5555555555555556,
              "#d8576b"
             ],
             [
              0.6666666666666666,
              "#ed7953"
             ],
             [
              0.7777777777777778,
              "#fb9f3a"
             ],
             [
              0.8888888888888888,
              "#fdca26"
             ],
             [
              1,
              "#f0f921"
             ]
            ],
            "type": "surface"
           }
          ],
          "table": [
           {
            "cells": {
             "fill": {
              "color": "#EBF0F8"
             },
             "line": {
              "color": "white"
             }
            },
            "header": {
             "fill": {
              "color": "#C8D4E3"
             },
             "line": {
              "color": "white"
             }
            },
            "type": "table"
           }
          ]
         },
         "layout": {
          "annotationdefaults": {
           "arrowcolor": "#2a3f5f",
           "arrowhead": 0,
           "arrowwidth": 1
          },
          "autotypenumbers": "strict",
          "coloraxis": {
           "colorbar": {
            "outlinewidth": 0,
            "ticks": ""
           }
          },
          "colorscale": {
           "diverging": [
            [
             0,
             "#8e0152"
            ],
            [
             0.1,
             "#c51b7d"
            ],
            [
             0.2,
             "#de77ae"
            ],
            [
             0.3,
             "#f1b6da"
            ],
            [
             0.4,
             "#fde0ef"
            ],
            [
             0.5,
             "#f7f7f7"
            ],
            [
             0.6,
             "#e6f5d0"
            ],
            [
             0.7,
             "#b8e186"
            ],
            [
             0.8,
             "#7fbc41"
            ],
            [
             0.9,
             "#4d9221"
            ],
            [
             1,
             "#276419"
            ]
           ],
           "sequential": [
            [
             0,
             "#0d0887"
            ],
            [
             0.1111111111111111,
             "#46039f"
            ],
            [
             0.2222222222222222,
             "#7201a8"
            ],
            [
             0.3333333333333333,
             "#9c179e"
            ],
            [
             0.4444444444444444,
             "#bd3786"
            ],
            [
             0.5555555555555556,
             "#d8576b"
            ],
            [
             0.6666666666666666,
             "#ed7953"
            ],
            [
             0.7777777777777778,
             "#fb9f3a"
            ],
            [
             0.8888888888888888,
             "#fdca26"
            ],
            [
             1,
             "#f0f921"
            ]
           ],
           "sequentialminus": [
            [
             0,
             "#0d0887"
            ],
            [
             0.1111111111111111,
             "#46039f"
            ],
            [
             0.2222222222222222,
             "#7201a8"
            ],
            [
             0.3333333333333333,
             "#9c179e"
            ],
            [
             0.4444444444444444,
             "#bd3786"
            ],
            [
             0.5555555555555556,
             "#d8576b"
            ],
            [
             0.6666666666666666,
             "#ed7953"
            ],
            [
             0.7777777777777778,
             "#fb9f3a"
            ],
            [
             0.8888888888888888,
             "#fdca26"
            ],
            [
             1,
             "#f0f921"
            ]
           ]
          },
          "colorway": [
           "#636efa",
           "#EF553B",
           "#00cc96",
           "#ab63fa",
           "#FFA15A",
           "#19d3f3",
           "#FF6692",
           "#B6E880",
           "#FF97FF",
           "#FECB52"
          ],
          "font": {
           "color": "#2a3f5f"
          },
          "geo": {
           "bgcolor": "white",
           "lakecolor": "white",
           "landcolor": "#E5ECF6",
           "showlakes": true,
           "showland": true,
           "subunitcolor": "white"
          },
          "hoverlabel": {
           "align": "left"
          },
          "hovermode": "closest",
          "mapbox": {
           "style": "light"
          },
          "paper_bgcolor": "white",
          "plot_bgcolor": "#E5ECF6",
          "polar": {
           "angularaxis": {
            "gridcolor": "white",
            "linecolor": "white",
            "ticks": ""
           },
           "bgcolor": "#E5ECF6",
           "radialaxis": {
            "gridcolor": "white",
            "linecolor": "white",
            "ticks": ""
           }
          },
          "scene": {
           "xaxis": {
            "backgroundcolor": "#E5ECF6",
            "gridcolor": "white",
            "gridwidth": 2,
            "linecolor": "white",
            "showbackground": true,
            "ticks": "",
            "zerolinecolor": "white"
           },
           "yaxis": {
            "backgroundcolor": "#E5ECF6",
            "gridcolor": "white",
            "gridwidth": 2,
            "linecolor": "white",
            "showbackground": true,
            "ticks": "",
            "zerolinecolor": "white"
           },
           "zaxis": {
            "backgroundcolor": "#E5ECF6",
            "gridcolor": "white",
            "gridwidth": 2,
            "linecolor": "white",
            "showbackground": true,
            "ticks": "",
            "zerolinecolor": "white"
           }
          },
          "shapedefaults": {
           "line": {
            "color": "#2a3f5f"
           }
          },
          "ternary": {
           "aaxis": {
            "gridcolor": "white",
            "linecolor": "white",
            "ticks": ""
           },
           "baxis": {
            "gridcolor": "white",
            "linecolor": "white",
            "ticks": ""
           },
           "bgcolor": "#E5ECF6",
           "caxis": {
            "gridcolor": "white",
            "linecolor": "white",
            "ticks": ""
           }
          },
          "title": {
           "x": 0.05
          },
          "xaxis": {
           "automargin": true,
           "gridcolor": "white",
           "linecolor": "white",
           "ticks": "",
           "title": {
            "standoff": 15
           },
           "zerolinecolor": "white",
           "zerolinewidth": 2
          },
          "yaxis": {
           "automargin": true,
           "gridcolor": "white",
           "linecolor": "white",
           "ticks": "",
           "title": {
            "standoff": 15
           },
           "zerolinecolor": "white",
           "zerolinewidth": 2
          }
         }
        }
       }
      },
      "image/png": "[encoded data removed]",
      "text/html": [
       "<div>                            <div id=\"a2f47048-9c42-4051-a3c1-86da39265446\" class=\"plotly-graph-div\" style=\"height:525px; width:100%;\"></div>            <script type=\"text/javascript\">                require([\"plotly\"], function(Plotly) {                    window.PLOTLYENV=window.PLOTLYENV || {};                                    if (document.getElementById(\"a2f47048-9c42-4051-a3c1-86da39265446\")) {                    Plotly.newPlot(                        \"a2f47048-9c42-4051-a3c1-86da39265446\",                        [{\"hovertemplate\": \"component1=%{x}<br>component2=%{y}<br>component3=%{z}<br>state=%{text}<extra></extra>\", \"legendgroup\": \"\", \"marker\": {\"color\": \"#636efa\", \"symbol\": \"circle\"}, \"mode\": \"markers+text\", \"name\": \"\", \"scene\": \"scene\", \"showlegend\": false, \"text\": [\"AL\", \"AK\", \"AZ\", \"AR\", \"CA\", \"CO\", \"CT\", \"DE\", \"DC\", \"FL\", \"GA\", \"HI\", \"ID\", \"IL\", \"IN\", \"IA\", \"KS\", \"KY\", \"LA\", \"ME\", \"MD\", \"MA\", \"MI\", \"MN\", \"MS\", \"MO\", \"MT\", \"NE\", \"NV\", \"NH\", \"NJ\", \"NM\", \"NY\", \"NC\", \"ND\", \"OH\", \"OK\", \"OR\", \"PA\", \"RI\", \"SC\", \"SD\", \"TN\", \"TX\", \"UT\", \"VT\", \"VA\", \"WA\", \"WV\", \"WI\", \"WY\"], \"type\": \"scatter3d\", \"x\": [1.6036712920638672, 1.1442118763157039, 1.4321719675062357, 2.4915835190732842, -1.7506382539760206, -0.9251202488860342, -2.1253592451717935, 0.32465801625134494, -4.635925570333746, 0.49568879401434646, -0.5254271281060762, 1.9280469577362793, 0.3131230890359158, -0.8793400373779718, -0.39532570367795183, -0.35012213312125506, 0.2687239062094826, 1.0794269363998854, 1.8794272670384382, 0.03316519504817376, -1.7087474308482185, -3.6514570255071024, -1.3707025287055496, -2.9090385017494254, -0.8648908005003847, 0.6597331360588236, 3.6279233622540157, -0.4670829323269445, -0.10602771952958712, -1.775362264303605, -3.0183091362105583, 0.46929132612342367, -2.041784270695779, 0.8162622009397005, 4.4236191540295104, -0.5391493221420199, 1.893587382371987, -1.5594101671724687, 1.8140529975938473, -2.164483928167344, 4.672013995002564, 2.1474762931769718, 0.95487882111058, 2.2043082790237185, -1.9852112540426603, -0.6303375914131888, -1.797349228160101, -2.0964516369964383, 3.6191288449153323, -1.187446704960038, 1.1643261547888315], \"y\": [0.13344926968043047, 0.8582339894293289, -0.4205056168878649, 0.3489681166159155, 0.6336251692149383, -0.15438781557476322, 1.37060015821328, 1.5742446940343622, 0.9189968817049315, 1.4352819371517147, 0.26668801394331637, -0.21024525016261197, -2.4275974951793944, -0.3253365977441939, -1.517806341220062, -1.60635699958614, -0.3886444292577362, 0.16789431438424768, 3.6482175303581457, -2.000911578971501, 2.1264219888559825, -0.02508167354041232, 1.1912387964051954, -0.903773578216851, 0.5837461625713328, 0.0032540382009016433, -1.2429920461888102, -1.309009475824436, 0.6896524437862012, -1.2390182746107858, 1.9358695221967666, -0.38448561899398725, 1.538860350958054, -0.7933123527821455, -0.9657162440262443, -0.8926266350305354, 1.5697553106029372, -1.4072529017769795, 0.9365890102701382, 1.1190774735244104, -0.01952380812622258, -1.6846702110775797, 0.26077660911209494, 1.4326421493384114, -1.283064311815796, -1.5046108331408614, -0.17763939227071374, -0.9589686595869715, 1.485285546427215, -1.829767319915332, -0.5560640154713206], \"z\": [0.3178809326581774, 0.7366264188067719, 0.33813640206508316, -1.7887474187583239, -0.13617580407268212, 0.14617668558341293, 0.743077607721783, 0.4409819184801542, 0.7200776655945564, -0.6611261235654229, -0.9969733812964966, 1.8024690411378512, 0.34626683364799393, 0.03022282984087747, -0.4803723330188664, -1.143953346886447, -0.48789408692817904, -1.0798358251170497, 0.04443861639927406, 0.533297511054174, -0.24539145747219748, 0.11321498898502597, -0.18619764157411367, -0.3647514961293999, -1.243683500423184, 0.5561893712843443, 1.1617880617485639, -1.1514953084848478, 0.34820334222989946, 0.24390479227924577, -0.2028823027866623, -0.9702875741771104, 0.5029437826741854, 0.36825146279530074, -0.9485432625542513, -0.3898921543129352, -0.6820615903743442, 0.3564736064152538, 1.0974254208092664, 0.5473312262129019, 0.8074433671326455, -0.0461516205113432, -1.1953666492078479, 0.5862856070306244, 0.6154283265984063, -0.14649425111460065, -0.9888996464563676, 0.8541179578087067, -0.05435540032950196, 0.5223760452140317, 0.7105023533436633]}],                        {\"legend\": {\"tracegroupgap\": 0}, \"margin\": {\"t\": 60}, \"scene\": {\"domain\": {\"x\": [0.0, 1.0], \"y\": [0.0, 1.0]}, \"xaxis\": {\"title\": {\"text\": \"component1\"}}, \"yaxis\": {\"title\": {\"text\": \"component2\"}}, \"zaxis\": {\"title\": {\"text\": \"component3\"}}}, \"template\": {\"data\": {\"bar\": [{\"error_x\": {\"color\": \"#2a3f5f\"}, \"error_y\": {\"color\": \"#2a3f5f\"}, \"marker\": {\"line\": {\"color\": \"#E5ECF6\", \"width\": 0.5}}, \"type\": \"bar\"}], \"barpolar\": [{\"marker\": {\"line\": {\"color\": \"#E5ECF6\", \"width\": 0.5}}, \"type\": \"barpolar\"}], \"carpet\": [{\"aaxis\": {\"endlinecolor\": \"#2a3f5f\", \"gridcolor\": \"white\", \"linecolor\": \"white\", \"minorgridcolor\": \"white\", \"startlinecolor\": \"#2a3f5f\"}, \"baxis\": {\"endlinecolor\": \"#2a3f5f\", \"gridcolor\": \"white\", \"linecolor\": \"white\", \"minorgridcolor\": \"white\", \"startlinecolor\": \"#2a3f5f\"}, \"type\": \"carpet\"}], \"choropleth\": [{\"colorbar\": {\"outlinewidth\": 0, \"ticks\": \"\"}, \"type\": \"choropleth\"}], \"contour\": [{\"colorbar\": {\"outlinewidth\": 0, \"ticks\": \"\"}, \"colorscale\": [[0.0, \"#0d0887\"], [0.1111111111111111, \"#46039f\"], [0.2222222222222222, \"#7201a8\"], [0.3333333333333333, \"#9c179e\"], [0.4444444444444444, \"#bd3786\"], [0.5555555555555556, \"#d8576b\"], [0.6666666666666666, \"#ed7953\"], [0.7777777777777778, \"#fb9f3a\"], [0.8888888888888888, \"#fdca26\"], [1.0, \"#f0f921\"]], \"type\": \"contour\"}], \"contourcarpet\": [{\"colorbar\": {\"outlinewidth\": 0, \"ticks\": \"\"}, \"type\": \"contourcarpet\"}], \"heatmap\": [{\"colorbar\": {\"outlinewidth\": 0, \"ticks\": \"\"}, \"colorscale\": [[0.0, \"#0d0887\"], [0.1111111111111111, \"#46039f\"], [0.2222222222222222, \"#7201a8\"], [0.3333333333333333, \"#9c179e\"], [0.4444444444444444, \"#bd3786\"], [0.5555555555555556, \"#d8576b\"], [0.6666666666666666, \"#ed7953\"], [0.7777777777777778, \"#fb9f3a\"], [0.8888888888888888, \"#fdca26\"], [1.0, \"#f0f921\"]], \"type\": \"heatmap\"}], \"heatmapgl\": [{\"colorbar\": {\"outlinewidth\": 0, \"ticks\": \"\"}, \"colorscale\": [[0.0, \"#0d0887\"], [0.1111111111111111, \"#46039f\"], [0.2222222222222222, \"#7201a8\"], [0.3333333333333333, \"#9c179e\"], [0.4444444444444444, \"#bd3786\"], [0.5555555555555556, \"#d8576b\"], [0.6666666666666666, \"#ed7953\"], [0.7777777777777778, \"#fb9f3a\"], [0.8888888888888888, \"#fdca26\"], [1.0, \"#f0f921\"]], \"type\": \"heatmapgl\"}], \"histogram\": [{\"marker\": {\"colorbar\": {\"outlinewidth\": 0, \"ticks\": \"\"}}, \"type\": \"histogram\"}], \"histogram2d\": [{\"colorbar\": {\"outlinewidth\": 0, \"ticks\": \"\"}, \"colorscale\": [[0.0, \"#0d0887\"], [0.1111111111111111, \"#46039f\"], [0.2222222222222222, \"#7201a8\"], [0.3333333333333333, \"#9c179e\"], [0.4444444444444444, \"#bd3786\"], [0.5555555555555556, \"#d8576b\"], [0.6666666666666666, \"#ed7953\"], [0.7777777777777778, \"#fb9f3a\"], [0.8888888888888888, \"#fdca26\"], [1.0, \"#f0f921\"]], \"type\": \"histogram2d\"}], \"histogram2dcontour\": [{\"colorbar\": {\"outlinewidth\": 0, \"ticks\": \"\"}, \"colorscale\": [[0.0, \"#0d0887\"], [0.1111111111111111, \"#46039f\"], [0.2222222222222222, \"#7201a8\"], [0.3333333333333333, \"#9c179e\"], [0.4444444444444444, \"#bd3786\"], [0.5555555555555556, \"#d8576b\"], [0.6666666666666666, \"#ed7953\"], [0.7777777777777778, \"#fb9f3a\"], [0.8888888888888888, \"#fdca26\"], [1.0, \"#f0f921\"]], \"type\": \"histogram2dcontour\"}], \"mesh3d\": [{\"colorbar\": {\"outlinewidth\": 0, \"ticks\": \"\"}, \"type\": \"mesh3d\"}], \"parcoords\": [{\"line\": {\"colorbar\": {\"outlinewidth\": 0, \"ticks\": \"\"}}, \"type\": \"parcoords\"}], \"pie\": [{\"automargin\": true, \"type\": \"pie\"}], \"scatter\": [{\"marker\": {\"colorbar\": {\"outlinewidth\": 0, \"ticks\": \"\"}}, \"type\": \"scatter\"}], \"scatter3d\": [{\"line\": {\"colorbar\": {\"outlinewidth\": 0, \"ticks\": \"\"}}, \"marker\": {\"colorbar\": {\"outlinewidth\": 0, \"ticks\": \"\"}}, \"type\": \"scatter3d\"}], \"scattercarpet\": [{\"marker\": {\"colorbar\": {\"outlinewidth\": 0, \"ticks\": \"\"}}, \"type\": \"scattercarpet\"}], \"scattergeo\": [{\"marker\": {\"colorbar\": {\"outlinewidth\": 0, \"ticks\": \"\"}}, \"type\": \"scattergeo\"}], \"scattergl\": [{\"marker\": {\"colorbar\": {\"outlinewidth\": 0, \"ticks\": \"\"}}, \"type\": \"scattergl\"}], \"scattermapbox\": [{\"marker\": {\"colorbar\": {\"outlinewidth\": 0, \"ticks\": \"\"}}, \"type\": \"scattermapbox\"}], \"scatterpolar\": [{\"marker\": {\"colorbar\": {\"outlinewidth\": 0, \"ticks\": \"\"}}, \"type\": \"scatterpolar\"}], \"scatterpolargl\": [{\"marker\": {\"colorbar\": {\"outlinewidth\": 0, \"ticks\": \"\"}}, \"type\": \"scatterpolargl\"}], \"scatterternary\": [{\"marker\": {\"colorbar\": {\"outlinewidth\": 0, \"ticks\": \"\"}}, \"type\": \"scatterternary\"}], \"surface\": [{\"colorbar\": {\"outlinewidth\": 0, \"ticks\": \"\"}, \"colorscale\": [[0.0, \"#0d0887\"], [0.1111111111111111, \"#46039f\"], [0.2222222222222222, \"#7201a8\"], [0.3333333333333333, \"#9c179e\"], [0.4444444444444444, \"#bd3786\"], [0.5555555555555556, \"#d8576b\"], [0.6666666666666666, \"#ed7953\"], [0.7777777777777778, \"#fb9f3a\"], [0.8888888888888888, \"#fdca26\"], [1.0, \"#f0f921\"]], \"type\": \"surface\"}], \"table\": [{\"cells\": {\"fill\": {\"color\": \"#EBF0F8\"}, \"line\": {\"color\": \"white\"}}, \"header\": {\"fill\": {\"color\": \"#C8D4E3\"}, \"line\": {\"color\": \"white\"}}, \"type\": \"table\"}]}, \"layout\": {\"annotationdefaults\": {\"arrowcolor\": \"#2a3f5f\", \"arrowhead\": 0, \"arrowwidth\": 1}, \"autotypenumbers\": \"strict\", \"coloraxis\": {\"colorbar\": {\"outlinewidth\": 0, \"ticks\": \"\"}}, \"colorscale\": {\"diverging\": [[0, \"#8e0152\"], [0.1, \"#c51b7d\"], [0.2, \"#de77ae\"], [0.3, \"#f1b6da\"], [0.4, \"#fde0ef\"], [0.5, \"#f7f7f7\"], [0.6, \"#e6f5d0\"], [0.7, \"#b8e186\"], [0.8, \"#7fbc41\"], [0.9, \"#4d9221\"], [1, \"#276419\"]], \"sequential\": [[0.0, \"#0d0887\"], [0.1111111111111111, \"#46039f\"], [0.2222222222222222, \"#7201a8\"], [0.3333333333333333, \"#9c179e\"], [0.4444444444444444, \"#bd3786\"], [0.5555555555555556, \"#d8576b\"], [0.6666666666666666, \"#ed7953\"], [0.7777777777777778, \"#fb9f3a\"], [0.8888888888888888, \"#fdca26\"], [1.0, \"#f0f921\"]], \"sequentialminus\": [[0.0, \"#0d0887\"], [0.1111111111111111, \"#46039f\"], [0.2222222222222222, \"#7201a8\"], [0.3333333333333333, \"#9c179e\"], [0.4444444444444444, \"#bd3786\"], [0.5555555555555556, \"#d8576b\"], [0.6666666666666666, \"#ed7953\"], [0.7777777777777778, \"#fb9f3a\"], [0.8888888888888888, \"#fdca26\"], [1.0, \"#f0f921\"]]}, \"colorway\": [\"#636efa\", \"#EF553B\", \"#00cc96\", \"#ab63fa\", \"#FFA15A\", \"#19d3f3\", \"#FF6692\", \"#B6E880\", \"#FF97FF\", \"#FECB52\"], \"font\": {\"color\": \"#2a3f5f\"}, \"geo\": {\"bgcolor\": \"white\", \"lakecolor\": \"white\", \"landcolor\": \"#E5ECF6\", \"showlakes\": true, \"showland\": true, \"subunitcolor\": \"white\"}, \"hoverlabel\": {\"align\": \"left\"}, \"hovermode\": \"closest\", \"mapbox\": {\"style\": \"light\"}, \"paper_bgcolor\": \"white\", \"plot_bgcolor\": \"#E5ECF6\", \"polar\": {\"angularaxis\": {\"gridcolor\": \"white\", \"linecolor\": \"white\", \"ticks\": \"\"}, \"bgcolor\": \"#E5ECF6\", \"radialaxis\": {\"gridcolor\": \"white\", \"linecolor\": \"white\", \"ticks\": \"\"}}, \"scene\": {\"xaxis\": {\"backgroundcolor\": \"#E5ECF6\", \"gridcolor\": \"white\", \"gridwidth\": 2, \"linecolor\": \"white\", \"showbackground\": true, \"ticks\": \"\", \"zerolinecolor\": \"white\"}, \"yaxis\": {\"backgroundcolor\": \"#E5ECF6\", \"gridcolor\": \"white\", \"gridwidth\": 2, \"linecolor\": \"white\", \"showbackground\": true, \"ticks\": \"\", \"zerolinecolor\": \"white\"}, \"zaxis\": {\"backgroundcolor\": \"#E5ECF6\", \"gridcolor\": \"white\", \"gridwidth\": 2, \"linecolor\": \"white\", \"showbackground\": true, \"ticks\": \"\", \"zerolinecolor\": \"white\"}}, \"shapedefaults\": {\"line\": {\"color\": \"#2a3f5f\"}}, \"ternary\": {\"aaxis\": {\"gridcolor\": \"white\", \"linecolor\": \"white\", \"ticks\": \"\"}, \"baxis\": {\"gridcolor\": \"white\", \"linecolor\": \"white\", \"ticks\": \"\"}, \"bgcolor\": \"#E5ECF6\", \"caxis\": {\"gridcolor\": \"white\", \"linecolor\": \"white\", \"ticks\": \"\"}}, \"title\": {\"x\": 0.05}, \"xaxis\": {\"automargin\": true, \"gridcolor\": \"white\", \"linecolor\": \"white\", \"ticks\": \"\", \"title\": {\"standoff\": 15}, \"zerolinecolor\": \"white\", \"zerolinewidth\": 2}, \"yaxis\": {\"automargin\": true, \"gridcolor\": \"white\", \"linecolor\": \"white\", \"ticks\": \"\", \"title\": {\"standoff\": 15}, \"zerolinecolor\": \"white\", \"zerolinewidth\": 2}}}},                        {\"responsive\": true}                    ).then(function(){\n",
       "                            \n",
       "var gd = document.getElementById('a2f47048-9c42-4051-a3c1-86da39265446');\n",
       "var x = new MutationObserver(function (mutations, observer) {{\n",
       "        var display = window.getComputedStyle(gd).display;\n",
       "        if (!display || display === 'none') {{\n",
       "            console.log([gd, 'removed!']);\n",
       "            Plotly.purge(gd);\n",
       "            observer.disconnect();\n",
       "        }}\n",
       "}});\n",
       "\n",
       "// Listen for the removal of the full notebook cells\n",
       "var notebookContainer = gd.closest('#notebook-container');\n",
       "if (notebookContainer) {{\n",
       "    x.observe(notebookContainer, {childList: true});\n",
       "}}\n",
       "\n",
       "// Listen for the clearing of the current output cell\n",
       "var outputEl = gd.closest('.output');\n",
       "if (outputEl) {{\n",
       "    x.observe(outputEl, {childList: true});\n",
       "}}\n",
       "\n",
       "                        })                };                });            </script>        </div>"
      ]
     },
     "metadata": {},
     "output_type": "display_data"
    },
    {
     "data": {
      "text/plain": [
       "<Figure size 720x576 with 0 Axes>"
      ]
     },
     "metadata": {},
     "output_type": "display_data"
    }
   ],
   "source": [
    "plt.figure(figsize = (10,8))\n",
    "fig = px.scatter_3d(X_df, x='component1', y = 'component2', z='component3', text = X_df.index)\n",
    "fig.show()"
   ]
  },
  {
   "cell_type": "markdown",
   "id": "understood-thursday",
   "metadata": {},
   "source": [
    "#### 34) [M] Do the same outliers still stand out?"
   ]
  },
  {
   "cell_type": "markdown",
   "id": "public-lightning",
   "metadata": {},
   "source": [
    "We can still see LA standing out, along with SC and ND, but DC does not stand out that much. But when we project it to just comp3 and comp1, DC does stand out."
   ]
  },
  {
   "cell_type": "code",
   "execution_count": null,
   "id": "published-forwarding",
   "metadata": {},
   "outputs": [],
   "source": []
  }
 ],
 "metadata": {
  "kernelspec": {
   "display_name": "Python 3",
   "language": "python",
   "name": "python3"
  },
  "language_info": {
   "codemirror_mode": {
    "name": "ipython",
    "version": 3
   },
   "file_extension": ".py",
   "mimetype": "text/x-python",
   "name": "python",
   "nbconvert_exporter": "python",
   "pygments_lexer": "ipython3",
   "version": "3.8.5"
  }
 },
 "nbformat": 4,
 "nbformat_minor": 5
}
